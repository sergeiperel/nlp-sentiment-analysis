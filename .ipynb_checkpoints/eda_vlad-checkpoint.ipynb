{
 "cells": [
  {
   "cell_type": "markdown",
   "id": "c5d53c1a-6fe4-45f8-9d50-fba497675f9d",
   "metadata": {},
   "source": [
    "### Предобработка датасета\n",
    "\n",
    "Копчев Владислав"
   ]
  },
  {
   "cell_type": "markdown",
   "id": "33eacd2d-2e7c-45c1-bf0c-266fc65e91e5",
   "metadata": {},
   "source": [
    "**Загрузка данных**"
   ]
  },
  {
   "cell_type": "markdown",
   "id": "7b67489f-6222-4c47-b66c-a930bb9fe2c9",
   "metadata": {},
   "source": [
    "data: https://huggingface.co/datasets/carblacac/twitter-sentiment-analysis -> github link in description"
   ]
  },
  {
   "cell_type": "code",
   "execution_count": 1,
   "id": "2e0a22d9-6ec5-45ba-8900-51a93d3a8eff",
   "metadata": {},
   "outputs": [],
   "source": [
    "import matplotlib.pyplot as plt\n",
    "from collections import Counter\n",
    "import pandas as pd"
   ]
  },
  {
   "cell_type": "code",
   "execution_count": 2,
   "id": "a961f56f-5f8a-4b85-abe9-03321f69418b",
   "metadata": {},
   "outputs": [],
   "source": [
    "df = pd.DataFrame(pd.read_csv('train_150k.txt', sep='\\t', header=None).values, columns=['target', 'text']).iloc[:, [1, 0]]"
   ]
  },
  {
   "cell_type": "markdown",
   "id": "4d3b20a0-28c3-4a12-81bf-c4b5998efd09",
   "metadata": {},
   "source": [
    "**Первичный осмотр данных**"
   ]
  },
  {
   "cell_type": "markdown",
   "id": "cfe5d78c-ea37-49e7-a1e3-e06e66b79efb",
   "metadata": {},
   "source": [
    "Проверка размера датасета"
   ]
  },
  {
   "cell_type": "code",
   "execution_count": 3,
   "id": "25a17e66-05e1-4e14-8406-7e120649da92",
   "metadata": {},
   "outputs": [
    {
     "data": {
      "text/plain": [
       "(149985, 2)"
      ]
     },
     "execution_count": 3,
     "metadata": {},
     "output_type": "execute_result"
    }
   ],
   "source": [
    "df.shape"
   ]
  },
  {
   "cell_type": "markdown",
   "id": "43057033-b4d4-48f9-b99c-fca9b7cd1ae0",
   "metadata": {},
   "source": [
    "Просмотр первых нескольких записей"
   ]
  },
  {
   "cell_type": "code",
   "execution_count": 4,
   "id": "393f5045-b221-44c3-b0e0-a42c90678f05",
   "metadata": {},
   "outputs": [
    {
     "data": {
      "text/html": [
       "<div>\n",
       "<style scoped>\n",
       "    .dataframe tbody tr th:only-of-type {\n",
       "        vertical-align: middle;\n",
       "    }\n",
       "\n",
       "    .dataframe tbody tr th {\n",
       "        vertical-align: top;\n",
       "    }\n",
       "\n",
       "    .dataframe thead th {\n",
       "        text-align: right;\n",
       "    }\n",
       "</style>\n",
       "<table border=\"1\" class=\"dataframe\">\n",
       "  <thead>\n",
       "    <tr style=\"text-align: right;\">\n",
       "      <th></th>\n",
       "      <th>text</th>\n",
       "      <th>target</th>\n",
       "    </tr>\n",
       "  </thead>\n",
       "  <tbody>\n",
       "    <tr>\n",
       "      <th>0</th>\n",
       "      <td>Starting  back at work today   Looks like it'l...</td>\n",
       "      <td>0</td>\n",
       "    </tr>\n",
       "    <tr>\n",
       "      <th>1</th>\n",
       "      <td>Sugar levels dropping... munchies setting in. ...</td>\n",
       "      <td>1</td>\n",
       "    </tr>\n",
       "    <tr>\n",
       "      <th>2</th>\n",
       "      <td>@karineb22 yeah!!! have a great summer break!</td>\n",
       "      <td>1</td>\n",
       "    </tr>\n",
       "    <tr>\n",
       "      <th>3</th>\n",
       "      <td>hannah montana was very good.  now going to re...</td>\n",
       "      <td>1</td>\n",
       "    </tr>\n",
       "    <tr>\n",
       "      <th>4</th>\n",
       "      <td>@Mayra326 aww, have fun!  I just had my 3D las...</td>\n",
       "      <td>1</td>\n",
       "    </tr>\n",
       "  </tbody>\n",
       "</table>\n",
       "</div>"
      ],
      "text/plain": [
       "                                                text target\n",
       "0  Starting  back at work today   Looks like it'l...      0\n",
       "1  Sugar levels dropping... munchies setting in. ...      1\n",
       "2     @karineb22 yeah!!! have a great summer break!       1\n",
       "3  hannah montana was very good.  now going to re...      1\n",
       "4  @Mayra326 aww, have fun!  I just had my 3D las...      1"
      ]
     },
     "execution_count": 4,
     "metadata": {},
     "output_type": "execute_result"
    }
   ],
   "source": [
    "df.head(5)"
   ]
  },
  {
   "cell_type": "markdown",
   "id": "0ddc3ead-4191-4cf0-9449-d70ac7491f53",
   "metadata": {},
   "source": [
    "Проверка типов данных и отсутствующих значений"
   ]
  },
  {
   "cell_type": "code",
   "execution_count": 5,
   "id": "180af620-efd5-4f59-a3bb-8052bbe02e53",
   "metadata": {},
   "outputs": [
    {
     "data": {
      "text/plain": [
       "text      object\n",
       "target    object\n",
       "dtype: object"
      ]
     },
     "execution_count": 5,
     "metadata": {},
     "output_type": "execute_result"
    }
   ],
   "source": [
    "df.dtypes"
   ]
  },
  {
   "cell_type": "code",
   "execution_count": 6,
   "id": "70386f65-285b-474d-a610-c09fe0a4addd",
   "metadata": {},
   "outputs": [
    {
     "data": {
      "text/plain": [
       "text      False\n",
       "target    False\n",
       "dtype: bool"
      ]
     },
     "execution_count": 6,
     "metadata": {},
     "output_type": "execute_result"
    }
   ],
   "source": [
    "df.isna().any()"
   ]
  },
  {
   "cell_type": "markdown",
   "id": "fafc3212-893c-4ab1-8cd2-2efa4e586bdd",
   "metadata": {},
   "source": [
    "**Анализ целевой переменной**"
   ]
  },
  {
   "cell_type": "markdown",
   "id": "f48e6c80-c8c9-42c2-9ff6-a6ded2a92e5d",
   "metadata": {},
   "source": [
    "Подсчет и визуализация распределения положительных и отрицательных твитов"
   ]
  },
  {
   "cell_type": "code",
   "execution_count": 46,
   "id": "9ce55ada-4443-480c-b232-e3b6ae6055df",
   "metadata": {},
   "outputs": [
    {
     "data": {
      "text/plain": [
       "([<matplotlib.patches.Wedge at 0x7fd642aa62b0>,\n",
       "  <matplotlib.patches.Wedge at 0x7fd642aa6910>],\n",
       " [Text(-0.0006105213261774311, 1.0999998305744008, 'Негативный класс'),\n",
       "  Text(0.0006104183367606855, -1.099999830631557, 'Позитивный класс')],\n",
       " [Text(-0.0003330116324604169, 0.5999999075860367, '50.0%'),\n",
       "  Text(0.00033295545641491927, -0.5999999076172129, '50.0%')])"
      ]
     },
     "execution_count": 46,
     "metadata": {},
     "output_type": "execute_result"
    },
    {
     "data": {
      "image/png": "[encoded data removed]",
      "text/plain": [
       "<Figure size 640x480 with 1 Axes>"
      ]
     },
     "metadata": {},
     "output_type": "display_data"
    }
   ],
   "source": [
    "plt.pie([(1 - df.target).sum(), df.target.sum()], labels=['Негативный класс', 'Позитивный класс'], autopct='%1.1f%%')"
   ]
  },
  {
   "cell_type": "markdown",
   "id": "14d4e4a9-3de3-474a-b64c-28d8865426ca",
   "metadata": {},
   "source": [
    "**Анализ текстовых данных**"
   ]
  },
  {
   "cell_type": "markdown",
   "id": "2da4ed53-da32-4add-beaf-7645d1dd7add",
   "metadata": {},
   "source": [
    "Распределение длины твитов (количество символов и слов)"
   ]
  },
  {
   "cell_type": "code",
   "execution_count": 74,
   "id": "12a6c1c2-9ffe-4258-8cc8-71af69da6b50",
   "metadata": {},
   "outputs": [],
   "source": [
    "symbols_cnt = df.text.str.len() \n",
    "words_cnt = df.text.str.count(' ') + 1"
   ]
  },
  {
   "cell_type": "code",
   "execution_count": 90,
   "id": "8efc45a5-24ba-41d1-8fb9-5eb4e594c570",
   "metadata": {},
   "outputs": [
    {
     "data": {
      "text/plain": [
       "Text(0.5, 1.0, 'words hist')"
      ]
     },
     "execution_count": 90,
     "metadata": {},
     "output_type": "execute_result"
    },
    {
     "data": {
      "image/png": "[encoded data removed]",
      "text/plain": [
       "<Figure size 1000x500 with 2 Axes>"
      ]
     },
     "metadata": {},
     "output_type": "display_data"
    }
   ],
   "source": [
    "fig, axs = plt.subplots(1, 2, figsize=(10, 5))\n",
    "\n",
    "symbols_cnt.hist(ax=axs[0])\n",
    "words_cnt.hist(ax=axs[1])\n",
    "\n",
    "axs[0].set_title('symbols hist')\n",
    "axs[1].set_title('words hist')"
   ]
  },
  {
   "cell_type": "markdown",
   "id": "07d090d6-cb2c-422e-9faa-c1e757e7c3e4",
   "metadata": {},
   "source": [
    "Частота слов: топ-20 самых частых слов для каждой тональности"
   ]
  },
  {
   "cell_type": "code",
   "execution_count": 42,
   "id": "9110bcfb-68df-42a2-ac46-49d04818f05e",
   "metadata": {},
   "outputs": [],
   "source": [
    "def find_top_words(df, target_val):\n",
    "    words_list = []\n",
    "    for w in df.loc[df.target == target_val, 'text'].str.split().values.tolist():\n",
    "        words_list += w\n",
    "\n",
    "    word_cnt = Counter(words_list)\n",
    "    top20_cnt = sorted(word_cnt.values())[-20:]\n",
    "\n",
    "    top_cnt_words = [w for w in word_cnt if word_cnt[w] in top20_cnt]\n",
    "    print(top_cnt_words)"
   ]
  },
  {
   "cell_type": "code",
   "execution_count": 43,
   "id": "c8b183e9-36f3-4dab-a27c-3457278edecf",
   "metadata": {},
   "outputs": [
    {
     "name": "stdout",
     "output_type": "stream",
     "text": [
      "['for', 'the', 'of', 'my', 'to', 'and', 'but', 'not', 'me', 'i', 'have', 'is', 'I', 'so', 'in', 'you', 'a', 'on', 'that', 'it']\n"
     ]
    }
   ],
   "source": [
    "find_top_words(df, 0)"
   ]
  },
  {
   "cell_type": "code",
   "execution_count": 44,
   "id": "39a439ff-555d-4ace-a633-9c58b4a6e322",
   "metadata": {},
   "outputs": [
    {
     "name": "stdout",
     "output_type": "stream",
     "text": [
      "['I', 'have', 'a', 'in', 'the', 'to', 'my', 'on', 'with', 'i', 'for', 'so', 'you', 'that', 'and', 'it', 'be', 'me', 'of', 'is']\n"
     ]
    }
   ],
   "source": [
    "find_top_words(df, 1)"
   ]
  },
  {
   "cell_type": "markdown",
   "id": "209ac62d-9f1e-4e72-b53b-268252254f85",
   "metadata": {},
   "source": [
    "Облака слов для положительных и отрицательных твитов"
   ]
  },
  {
   "cell_type": "markdown",
   "id": "d5e4c7d7-7288-41bf-90dd-bf0b4695b661",
   "metadata": {},
   "source": [
    "TODO"
   ]
  },
  {
   "cell_type": "markdown",
   "id": "3aea5e2a-fd67-4bf1-8df9-4f1abe8b7f80",
   "metadata": {},
   "source": [
    "**Предобработка текста**"
   ]
  },
  {
   "cell_type": "code",
   "execution_count": 47,
   "id": "a28e49ed-ff56-4f4b-b241-045c0df8c2f2",
   "metadata": {},
   "outputs": [],
   "source": [
    "import re\n",
    "from pymorphy2 import MorphAnalyzer\n",
    "from nltk.corpus import stopwords\n",
    "import nltk\n",
    "# nltk.download('stopwords')"
   ]
  },
  {
   "cell_type": "code",
   "execution_count": 62,
   "id": "a8a5a3e2-a97b-4016-82fd-75889e979b15",
   "metadata": {},
   "outputs": [],
   "source": [
    "patterns = \"[0-9!#$%&'()*+,./:;<=>?@[\\]^_`{|}~—\\\"\\-]+\"\n",
    "stopwords_en = stopwords.words(\"english\")\n",
    "morph = MorphAnalyzer()"
   ]
  },
  {
   "cell_type": "markdown",
   "id": "42187cd2-5d1b-4b01-890f-dd8ba91cb92e",
   "metadata": {},
   "source": [
    "Токенизация"
   ]
  },
  {
   "cell_type": "code",
   "execution_count": 68,
   "id": "d2931e09-df90-428b-98a2-e7cfbb796e79",
   "metadata": {},
   "outputs": [],
   "source": [
    "df = df.assign(tokens = df.text.str.split())"
   ]
  },
  {
   "cell_type": "markdown",
   "id": "7e7cd623-aec3-44ab-89ad-d5e496b6ec96",
   "metadata": {},
   "source": [
    "Удаление стоп-слов"
   ]
  },
  {
   "cell_type": "code",
   "execution_count": 69,
   "id": "020ccd49-c73b-4731-acc9-44343ea7fd27",
   "metadata": {},
   "outputs": [
    {
     "name": "stdout",
     "output_type": "stream",
     "text": [
      "CPU times: user 3.56 s, sys: 233 ms, total: 3.79 s\n",
      "Wall time: 3.83 s\n"
     ]
    }
   ],
   "source": [
    "%%time\n",
    "df.tokens = df.tokens.apply(lambda tokens_list : list(filter(lambda x : x not in stopwords_en, tokens_list)))"
   ]
  },
  {
   "cell_type": "markdown",
   "id": "ded2cbe1-d8da-49a8-b16c-c19242b256d3",
   "metadata": {},
   "source": [
    "Лемматизация"
   ]
  },
  {
   "cell_type": "code",
   "execution_count": 91,
   "id": "21aea41c-f58f-4bec-9052-72faf08d1082",
   "metadata": {},
   "outputs": [
    {
     "name": "stdout",
     "output_type": "stream",
     "text": [
      "CPU times: user 17.9 s, sys: 586 ms, total: 18.4 s\n",
      "Wall time: 18.5 s\n"
     ]
    }
   ],
   "source": [
    "%%time\n",
    "df.tokens = df.tokens.apply(lambda tokens_list : list(map(lambda token : morph.normal_forms(token)[0], tokens_list)))"
   ]
  },
  {
   "cell_type": "markdown",
   "id": "3119d6e3-afbc-4aea-bd16-bc54fe6fdd4a",
   "metadata": {},
   "source": [
    "**Анализ n-грамм**"
   ]
  },
  {
   "cell_type": "code",
   "execution_count": 92,
   "id": "b9dbce62-989f-4b98-a669-af17cf033297",
   "metadata": {},
   "outputs": [],
   "source": [
    "from nltk.util import ngrams\n",
    "from nltk import word_tokenize "
   ]
  },
  {
   "cell_type": "markdown",
   "id": "00103ad5-1fab-4dd5-93fa-9948fae51a55",
   "metadata": {},
   "source": [
    "Визуализация топ-20 биграмм и триграмм для каждой тональности"
   ]
  },
  {
   "cell_type": "code",
   "execution_count": 98,
   "id": "f3caac04-280b-441c-93db-a5c3ad092b6a",
   "metadata": {},
   "outputs": [],
   "source": [
    "df['bigrams'] = df.tokens.apply(lambda tokens_list : list(list(ngrams(tokens_list, 2))))"
   ]
  },
  {
   "cell_type": "code",
   "execution_count": 120,
   "id": "61c040cb-2158-4323-a191-f93ad4d3119e",
   "metadata": {},
   "outputs": [],
   "source": [
    "def find_top_bigrams(df):\n",
    "    words_list = []\n",
    "    for w in df.loc[:, 'bigrams'].values.tolist():\n",
    "        words_list += w\n",
    "\n",
    "    word_cnt = Counter(words_list)\n",
    "    top20_cnt = sorted(word_cnt.values())[-20:]\n",
    "\n",
    "    top_cnt_words = [w for w in word_cnt if word_cnt[w] in top20_cnt]\n",
    "    return {w: word_cnt[w] for w in top_cnt_words}"
   ]
  },
  {
   "cell_type": "code",
   "execution_count": 143,
   "id": "f169cff6-2586-410b-b9a5-0969ff745e71",
   "metadata": {},
   "outputs": [
    {
     "data": {
      "text/plain": [
       "([<matplotlib.axis.XTick at 0x7fd5a4cd5700>,\n",
       "  <matplotlib.axis.XTick at 0x7fd5a4cd56d0>,\n",
       "  <matplotlib.axis.XTick at 0x7fd5923ff4c0>,\n",
       "  <matplotlib.axis.XTick at 0x7fd6204ed9d0>,\n",
       "  <matplotlib.axis.XTick at 0x7fd6204f6160>,\n",
       "  <matplotlib.axis.XTick at 0x7fd6204f68b0>,\n",
       "  <matplotlib.axis.XTick at 0x7fd6204fa100>,\n",
       "  <matplotlib.axis.XTick at 0x7fd6204fa790>,\n",
       "  <matplotlib.axis.XTick at 0x7fd6204faee0>,\n",
       "  <matplotlib.axis.XTick at 0x7fd6204fad90>,\n",
       "  <matplotlib.axis.XTick at 0x7fd6204f6be0>,\n",
       "  <matplotlib.axis.XTick at 0x7fd6205030d0>,\n",
       "  <matplotlib.axis.XTick at 0x7fd620503d30>,\n",
       "  <matplotlib.axis.XTick at 0x7fd62050b4c0>,\n",
       "  <matplotlib.axis.XTick at 0x7fd62050bc10>,\n",
       "  <matplotlib.axis.XTick at 0x7fd6205103a0>,\n",
       "  <matplotlib.axis.XTick at 0x7fd62050bbe0>,\n",
       "  <matplotlib.axis.XTick at 0x7fd620503790>,\n",
       "  <matplotlib.axis.XTick at 0x7fd620510070>,\n",
       "  <matplotlib.axis.XTick at 0x7fd5a4d71100>],\n",
       " [Text(0, 0, \"i'm going\"),\n",
       "  Text(1, 0, 'i miss'),\n",
       "  Text(2, 0, 'i really'),\n",
       "  Text(3, 0, 'i think'),\n",
       "  Text(4, 0, 'i need'),\n",
       "  Text(5, 0, 'i got'),\n",
       "  Text(6, 0, 'i wish'),\n",
       "  Text(7, 0, 'i like'),\n",
       "  Text(8, 0, \"i can't\"),\n",
       "  Text(9, 0, \"can't wait\"),\n",
       "  Text(10, 0, 'wish i'),\n",
       "  Text(11, 0, 'i know'),\n",
       "  Text(12, 0, 'i love'),\n",
       "  Text(13, 0, 'i want'),\n",
       "  Text(14, 0, 'i hope'),\n",
       "  Text(15, 0, 'i could'),\n",
       "  Text(16, 0, 'last night'),\n",
       "  Text(17, 0, 'i feel'),\n",
       "  Text(18, 0, 'i hate'),\n",
       "  Text(19, 0, 'i get')])"
      ]
     },
     "execution_count": 143,
     "metadata": {},
     "output_type": "execute_result"
    },
    {
     "data": {
      "image/png": "[encoded data removed]",
      "text/plain": [
       "<Figure size 640x480 with 1 Axes>"
      ]
     },
     "metadata": {},
     "output_type": "display_data"
    }
   ],
   "source": [
    "plt.bar(\n",
    "    range(len(list(find_top_bigrams(df).values()))),\n",
    "    list(find_top_bigrams(df).values()), \n",
    "    label=list(map(lambda x : ' '.join(x), find_top_bigrams(df).keys()))\n",
    ")\n",
    "plt.xticks(\n",
    "    range(len(list(find_top_bigrams(df).values()))), \n",
    "    list(map(lambda x : ' '.join(x), find_top_bigrams(df).keys())),\n",
    "    rotation=75\n",
    ")"
   ]
  },
  {
   "cell_type": "markdown",
   "id": "bbfcb8dc-a490-4d48-a427-481ac77dcb67",
   "metadata": {},
   "source": [
    "**Анализ пунктуации и специальных символов**"
   ]
  },
  {
   "cell_type": "markdown",
   "id": "b35d4b0a-ca66-495a-aa1c-796e1f529705",
   "metadata": {},
   "source": [
    "Подсчет и сравнение использования восклицательных знаков, вопросительных знаков и эмодзи в положительных и отрицательных твитах"
   ]
  },
  {
   "cell_type": "markdown",
   "id": "443111d9-4759-4e99-a335-d1c613abebea",
   "metadata": {},
   "source": [
    "TODO emoji + придумать визуализацию поулчше"
   ]
  },
  {
   "cell_type": "code",
   "execution_count": 161,
   "id": "e6bddc56-9ee8-48a4-86ab-3ed4b3f5de66",
   "metadata": {},
   "outputs": [],
   "source": [
    "neg_punct = df.loc[df.target == 0, 'text'].str.count('!') + df.loc[df.target == 0, 'text'].str.count('\\?')\n",
    "pos_punct = df.loc[df.target == 1, 'text'].str.count('!') + df.loc[df.target == 0, 'text'].str.count('\\?')"
   ]
  },
  {
   "cell_type": "code",
   "execution_count": 165,
   "id": "470bf4f2-26dc-49a3-a807-4bbfedfe616c",
   "metadata": {},
   "outputs": [
    {
     "data": {
      "text/plain": [
       "Text(0.5, 1.0, 'pos hist')"
      ]
     },
     "execution_count": 165,
     "metadata": {},
     "output_type": "execute_result"
    },
    {
     "data": {
      "image/png": "[encoded data removed]",
      "text/plain": [
       "<Figure size 1000x500 with 2 Axes>"
      ]
     },
     "metadata": {},
     "output_type": "display_data"
    }
   ],
   "source": [
    "fig, axs = plt.subplots(1, 2, figsize=(10, 5))\n",
    "\n",
    "neg_punct.hist(ax=axs[0])\n",
    "pos_punct.hist(ax=axs[1])\n",
    "\n",
    "axs[0].set_title('neg hist')\n",
    "axs[1].set_title('pos hist')"
   ]
  },
  {
   "cell_type": "markdown",
   "id": "f3725d9b-bce5-49cf-a319-95a7fee593f6",
   "metadata": {},
   "source": [
    "**Временной анализ (если доступны метки времени)**"
   ]
  },
  {
   "cell_type": "markdown",
   "id": "acf6a44b-e62f-40de-a11f-b2a3daefb9d2",
   "metadata": {},
   "source": [
    "Извлечение и анализ частоты хэштегов и упоминаний для каждой тональности"
   ]
  },
  {
   "cell_type": "markdown",
   "id": "c1495459-fc1e-4e3c-8c2f-9fff276ccc53",
   "metadata": {},
   "source": [
    "TODO."
   ]
  }
 ],
 "metadata": {
  "kernelspec": {
   "display_name": "Python 3 (ipykernel)",
   "language": "python",
   "name": "python3"
  },
  "language_info": {
   "codemirror_mode": {
    "name": "ipython",
    "version": 3
   },
   "file_extension": ".py",
   "mimetype": "text/x-python",
   "name": "python",
   "nbconvert_exporter": "python",
   "pygments_lexer": "ipython3",
   "version": "3.9.5"
  }
 },
 "nbformat": 4,
 "nbformat_minor": 5
}
