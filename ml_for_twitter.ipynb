{
 "cells": [
  {
   "cell_type": "markdown",
   "metadata": {},
   "source": [
    "### Эксперименты с моделями"
   ]
  },
  {
   "cell_type": "markdown",
   "metadata": {},
   "source": [
    "**Что надо сделать**"
   ]
  },
  {
   "cell_type": "markdown",
   "metadata": {},
   "source": [
    "Упростить код. Добавить `sklearn.pipeline` и вывести все в удобный датафрейм через `pd.concat([df, cross_validate(...)], axis=1)`. Добавить подбор гиперпараметров. Единая функция для всех моделей.\n",
    "\n",
    "Совместить с `mode.ipynb` в `main`.\n",
    "\n",
    "Провести EDA для Илона Маска."
   ]
  },
  {
   "cell_type": "markdown",
   "metadata": {},
   "source": [
    "**Импорт зависимостей**"
   ]
  },
  {
   "cell_type": "code",
   "execution_count": 1,
   "metadata": {
    "colab": {
     "base_uri": "https://localhost:8080/"
    },
    "id": "MRUqPwd0-6GV",
    "outputId": "a382ee45-21c0-4f2e-b628-622629fb4de6"
   },
   "outputs": [],
   "source": [
    "import re\n",
    "import pandas as pd\n",
    "import numpy as np\n",
    "from html import unescape\n",
    "import seaborn as sns\n",
    "import matplotlib.pyplot as plt\n",
    "\n",
    "import nltk\n",
    "from nltk import pos_tag, ngrams\n",
    "from nltk.tokenize import word_tokenize\n",
    "from nltk.corpus import stopwords\n",
    "from nltk.stem import WordNetLemmatizer\n",
    "from collections import Counter\n",
    "\n",
    "from sklearn.feature_extraction.text import TfidfVectorizer, CountVectorizer\n",
    "from sklearn.model_selection import train_test_split, GridSearchCV\n",
    "from sklearn.ensemble import HistGradientBoostingClassifier, RandomForestClassifier\n",
    "from sklearn.preprocessing import StandardScaler, MinMaxScaler\n",
    "from sklearn.decomposition import PCA\n",
    "from sklearn.metrics import roc_auc_score\n",
    "from sklearn.naive_bayes import GaussianNB\n",
    "from sklearn.linear_model import LogisticRegression\n",
    "from sklearn.svm import SVC\n",
    "from sklearn.tree import DecisionTreeClassifier\n",
    "from sklearn.neighbors import KNeighborsClassifier\n",
    "\n",
    "from catboost import CatBoostClassifier\n",
    "import catboost as cb\n",
    "from xgboost import XGBClassifier\n",
    "from lightgbm import LGBMClassifier"
   ]
  },
  {
   "cell_type": "code",
   "execution_count": 10,
   "metadata": {
    "colab": {
     "base_uri": "https://localhost:8080/"
    },
    "id": "aBU7Ki9pEzcm",
    "outputId": "63e9278a-89a4-49fe-afc9-8fd3f65c3115"
   },
   "outputs": [
    {
     "name": "stderr",
     "output_type": "stream",
     "text": [
      "[nltk_data] Downloading package punkt to\n",
      "[nltk_data]     /Users/vladkopchev/nltk_data...\n",
      "[nltk_data]   Package punkt is already up-to-date!\n",
      "[nltk_data] Downloading package stopwords to\n",
      "[nltk_data]     /Users/vladkopchev/nltk_data...\n",
      "[nltk_data]   Package stopwords is already up-to-date!\n",
      "[nltk_data] Downloading package punkt_tab to\n",
      "[nltk_data]     /Users/vladkopchev/nltk_data...\n",
      "[nltk_data]   Package punkt_tab is already up-to-date!\n",
      "[nltk_data] Downloading package wordnet to\n",
      "[nltk_data]     /Users/vladkopchev/nltk_data...\n",
      "[nltk_data]   Package wordnet is already up-to-date!\n"
     ]
    }
   ],
   "source": [
    "nltk.download('punkt')\n",
    "nltk.download('stopwords')\n",
    "nltk.download('punkt_tab')\n",
    "nltk.download('wordnet')\n",
    "stop_words = set(stopwords.words('english'))"
   ]
  },
  {
   "cell_type": "markdown",
   "metadata": {},
   "source": [
    "**Загрузка данных**"
   ]
  },
  {
   "cell_type": "code",
   "execution_count": 3,
   "metadata": {
    "id": "XLuZQQzh_G-l"
   },
   "outputs": [],
   "source": [
    "df = pd.read_csv('elon_musk_tweets_labeled.csv').drop(['id', 'hashtags', 'user_name', 'user_created', 'is_retweet', 'Unnamed: 0', 'date'], axis=1)"
   ]
  },
  {
   "cell_type": "code",
   "execution_count": 4,
   "metadata": {},
   "outputs": [],
   "source": [
    "df = pd.get_dummies(\n",
    "    df, \n",
    "    columns=['user_location', 'user_description', 'user_verified', 'source'], \n",
    "    drop_first=True, \n",
    "    dtype=int\n",
    ")"
   ]
  },
  {
   "cell_type": "markdown",
   "metadata": {
    "id": "xdGJsbeND2e_"
   },
   "source": [
    "**Очистка и предварительная обработка данных**"
   ]
  },
  {
   "cell_type": "code",
   "execution_count": 5,
   "metadata": {
    "id": "smflOUIA_Pib"
   },
   "outputs": [],
   "source": [
    "df['text'] = df['text'].apply(unescape)"
   ]
  },
  {
   "cell_type": "code",
   "execution_count": 6,
   "metadata": {
    "colab": {
     "base_uri": "https://localhost:8080/"
    },
    "id": "IlQTmURTD0ha",
    "outputId": "43604e3f-f117-4178-9cf2-55d786396591"
   },
   "outputs": [
    {
     "name": "stdout",
     "output_type": "stream",
     "text": [
      "Символ '&quot;' не найден в датасете.\n",
      "Символ '&amp;' не найден в датасете.\n",
      "Символ '&lt' не найден в датасете.\n",
      "Символ '&gt;' не найден в датасете.\n",
      "Символ '&apos;' не найден в датасете.\n",
      "Символ '&#39;' не найден в датасете.\n"
     ]
    }
   ],
   "source": [
    "HTML_symbols_check = ['&quot;', '&amp;', '&lt', '&gt;', '&apos;', '&#39;'] #Проверяем, что HTML-cущности заменены на соответствующие символы\n",
    "\n",
    "for symbol in HTML_symbols_check:\n",
    "    if df['text'].str.contains(symbol).any():\n",
    "        print(f\"Символ '{symbol}' найден в датасете.\")\n",
    "    else:\n",
    "        print(f\"Символ '{symbol}' не найден в датасете.\")"
   ]
  },
  {
   "cell_type": "code",
   "execution_count": 7,
   "metadata": {
    "id": "GY3eF9ndEZEH"
   },
   "outputs": [],
   "source": [
    "df['text'] = df['text'].str.replace(r'[a-zA-Z0-9._%+-]+@[a-zA-Z0-9.-]+\\.[a-zA-Z]{2,}', '', regex=True) #Удаляем emails\n",
    "df['text'] = df['text'].str.replace(r'@([A-Za-z0-9_]{1,})', '', regex=True) #Удаляем ники\n",
    "df['text'] = df['text'].str.replace(r'(https?:\\/\\/(?:www\\.|(?!www))[a-zA-Z0-9][a-zA-Z0-9-]+[a-zA-Z0-9]\\.[^\\s]{2,}|www\\.[a-zA-Z0-9][a-zA-Z0-9-]+[a-zA-Z0-9]\\.[^\\s]{2,}|https?:\\/\\/(?:www\\.|(?!www))[a-zA-Z0-9]+\\.[^\\s]{2,}|www\\.[a-zA-Z0-9]+\\.[^\\s]{2,})', '', regex=True) #Удаляем urls\n",
    "\n",
    "df['text'] = df['text'].str.lower()\n",
    "df['text'] = df['text'].str.replace(r'[^a-zA-Z\\s]', '', regex=True) #Удаляем знаки препинания и цифры и оставляем только буквы и пробелы\n",
    "df['text'] = df['text'].str.replace(r'\\s+', ' ', regex=True).str.strip()  #Удаляем лишние пробелы"
   ]
  },
  {
   "cell_type": "markdown",
   "metadata": {
    "id": "TZC9s6jjE5AG"
   },
   "source": [
    "**Токенизация**"
   ]
  },
  {
   "cell_type": "code",
   "execution_count": 8,
   "metadata": {
    "id": "wBGQMP1fFIhe"
   },
   "outputs": [],
   "source": [
    "df['tokens'] = df['text'].apply(word_tokenize)"
   ]
  },
  {
   "cell_type": "markdown",
   "metadata": {
    "id": "vA4C_osyF-Tp"
   },
   "source": [
    "**Удаление стоп-слов**"
   ]
  },
  {
   "cell_type": "code",
   "execution_count": 9,
   "metadata": {
    "id": "VAX_p50aFwti"
   },
   "outputs": [],
   "source": [
    "def delete_stopwords(tokens):\n",
    "    cleaned = []\n",
    "    for word in tokens:\n",
    "        if word not in stop_words:\n",
    "            cleaned.append(word)\n",
    "    return cleaned\n",
    "\n",
    "df['cleaned_tokens'] = df['tokens'].apply(delete_stopwords)"
   ]
  },
  {
   "cell_type": "markdown",
   "metadata": {
    "id": "6eG1fJpfF5Ur"
   },
   "source": [
    "**Лемматизация**"
   ]
  },
  {
   "cell_type": "code",
   "execution_count": 11,
   "metadata": {
    "colab": {
     "base_uri": "https://localhost:8080/"
    },
    "id": "035tMqqNF2Bf",
    "outputId": "dd38ddfe-19a2-4f38-b43a-61f11a490844"
   },
   "outputs": [],
   "source": [
    "lemmatizer = WordNetLemmatizer()"
   ]
  },
  {
   "cell_type": "code",
   "execution_count": 12,
   "metadata": {
    "id": "z9VwKze7F3sn"
   },
   "outputs": [],
   "source": [
    "def lemmatize_tokens(tokens):\n",
    "    lemmatized = []\n",
    "    for word in tokens:\n",
    "        lemmatized.append(lemmatizer.lemmatize(word))\n",
    "    return lemmatized\n",
    "\n",
    "df['lemmatized'] = df['cleaned_tokens'].apply(lemmatize_tokens)"
   ]
  },
  {
   "cell_type": "code",
   "execution_count": 13,
   "metadata": {
    "id": "pMw-s1a1SdTK"
   },
   "outputs": [],
   "source": [
    "df['lemmatized'] = df['lemmatized'].apply(' '.join)"
   ]
  },
  {
   "cell_type": "code",
   "execution_count": 15,
   "metadata": {
    "id": "Woa0H-xkT6Mn"
   },
   "outputs": [
    {
     "ename": "KeyError",
     "evalue": "\"['text', 'tokens', 'cleaned_tokens'] not found in axis\"",
     "output_type": "error",
     "traceback": [
      "\u001b[0;31m---------------------------------------------------------------------------\u001b[0m",
      "\u001b[0;31mKeyError\u001b[0m                                  Traceback (most recent call last)",
      "Cell \u001b[0;32mIn[15], line 1\u001b[0m\n\u001b[0;32m----> 1\u001b[0m \u001b[43mdf\u001b[49m\u001b[38;5;241;43m.\u001b[39;49m\u001b[43mdrop\u001b[49m\u001b[43m(\u001b[49m\u001b[43m[\u001b[49m\u001b[38;5;124;43m'\u001b[39;49m\u001b[38;5;124;43mtext\u001b[39;49m\u001b[38;5;124;43m'\u001b[39;49m\u001b[43m,\u001b[49m\u001b[43m \u001b[49m\u001b[38;5;124;43m'\u001b[39;49m\u001b[38;5;124;43mtokens\u001b[39;49m\u001b[38;5;124;43m'\u001b[39;49m\u001b[43m,\u001b[49m\u001b[43m \u001b[49m\u001b[38;5;124;43m'\u001b[39;49m\u001b[38;5;124;43mcleaned_tokens\u001b[39;49m\u001b[38;5;124;43m'\u001b[39;49m\u001b[43m]\u001b[49m\u001b[43m,\u001b[49m\u001b[43m \u001b[49m\u001b[43maxis\u001b[49m\u001b[38;5;241;43m=\u001b[39;49m\u001b[38;5;241;43m1\u001b[39;49m\u001b[43m,\u001b[49m\u001b[43m \u001b[49m\u001b[43minplace\u001b[49m\u001b[38;5;241;43m=\u001b[39;49m\u001b[38;5;28;43;01mTrue\u001b[39;49;00m\u001b[43m)\u001b[49m\n",
      "File \u001b[0;32m/opt/homebrew/Caskroom/miniconda/base/envs/course-work-venv/lib/python3.11/site-packages/pandas/core/frame.py:5581\u001b[0m, in \u001b[0;36mDataFrame.drop\u001b[0;34m(self, labels, axis, index, columns, level, inplace, errors)\u001b[0m\n\u001b[1;32m   5433\u001b[0m \u001b[38;5;28;01mdef\u001b[39;00m \u001b[38;5;21mdrop\u001b[39m(\n\u001b[1;32m   5434\u001b[0m     \u001b[38;5;28mself\u001b[39m,\n\u001b[1;32m   5435\u001b[0m     labels: IndexLabel \u001b[38;5;241m|\u001b[39m \u001b[38;5;28;01mNone\u001b[39;00m \u001b[38;5;241m=\u001b[39m \u001b[38;5;28;01mNone\u001b[39;00m,\n\u001b[0;32m   (...)\u001b[0m\n\u001b[1;32m   5442\u001b[0m     errors: IgnoreRaise \u001b[38;5;241m=\u001b[39m \u001b[38;5;124m\"\u001b[39m\u001b[38;5;124mraise\u001b[39m\u001b[38;5;124m\"\u001b[39m,\n\u001b[1;32m   5443\u001b[0m ) \u001b[38;5;241m-\u001b[39m\u001b[38;5;241m>\u001b[39m DataFrame \u001b[38;5;241m|\u001b[39m \u001b[38;5;28;01mNone\u001b[39;00m:\n\u001b[1;32m   5444\u001b[0m \u001b[38;5;250m    \u001b[39m\u001b[38;5;124;03m\"\"\"\u001b[39;00m\n\u001b[1;32m   5445\u001b[0m \u001b[38;5;124;03m    Drop specified labels from rows or columns.\u001b[39;00m\n\u001b[1;32m   5446\u001b[0m \n\u001b[0;32m   (...)\u001b[0m\n\u001b[1;32m   5579\u001b[0m \u001b[38;5;124;03m            weight  1.0     0.8\u001b[39;00m\n\u001b[1;32m   5580\u001b[0m \u001b[38;5;124;03m    \"\"\"\u001b[39;00m\n\u001b[0;32m-> 5581\u001b[0m     \u001b[38;5;28;01mreturn\u001b[39;00m \u001b[38;5;28;43msuper\u001b[39;49m\u001b[43m(\u001b[49m\u001b[43m)\u001b[49m\u001b[38;5;241;43m.\u001b[39;49m\u001b[43mdrop\u001b[49m\u001b[43m(\u001b[49m\n\u001b[1;32m   5582\u001b[0m \u001b[43m        \u001b[49m\u001b[43mlabels\u001b[49m\u001b[38;5;241;43m=\u001b[39;49m\u001b[43mlabels\u001b[49m\u001b[43m,\u001b[49m\n\u001b[1;32m   5583\u001b[0m \u001b[43m        \u001b[49m\u001b[43maxis\u001b[49m\u001b[38;5;241;43m=\u001b[39;49m\u001b[43maxis\u001b[49m\u001b[43m,\u001b[49m\n\u001b[1;32m   5584\u001b[0m \u001b[43m        \u001b[49m\u001b[43mindex\u001b[49m\u001b[38;5;241;43m=\u001b[39;49m\u001b[43mindex\u001b[49m\u001b[43m,\u001b[49m\n\u001b[1;32m   5585\u001b[0m \u001b[43m        \u001b[49m\u001b[43mcolumns\u001b[49m\u001b[38;5;241;43m=\u001b[39;49m\u001b[43mcolumns\u001b[49m\u001b[43m,\u001b[49m\n\u001b[1;32m   5586\u001b[0m \u001b[43m        \u001b[49m\u001b[43mlevel\u001b[49m\u001b[38;5;241;43m=\u001b[39;49m\u001b[43mlevel\u001b[49m\u001b[43m,\u001b[49m\n\u001b[1;32m   5587\u001b[0m \u001b[43m        \u001b[49m\u001b[43minplace\u001b[49m\u001b[38;5;241;43m=\u001b[39;49m\u001b[43minplace\u001b[49m\u001b[43m,\u001b[49m\n\u001b[1;32m   5588\u001b[0m \u001b[43m        \u001b[49m\u001b[43merrors\u001b[49m\u001b[38;5;241;43m=\u001b[39;49m\u001b[43merrors\u001b[49m\u001b[43m,\u001b[49m\n\u001b[1;32m   5589\u001b[0m \u001b[43m    \u001b[49m\u001b[43m)\u001b[49m\n",
      "File \u001b[0;32m/opt/homebrew/Caskroom/miniconda/base/envs/course-work-venv/lib/python3.11/site-packages/pandas/core/generic.py:4788\u001b[0m, in \u001b[0;36mNDFrame.drop\u001b[0;34m(self, labels, axis, index, columns, level, inplace, errors)\u001b[0m\n\u001b[1;32m   4786\u001b[0m \u001b[38;5;28;01mfor\u001b[39;00m axis, labels \u001b[38;5;129;01min\u001b[39;00m axes\u001b[38;5;241m.\u001b[39mitems():\n\u001b[1;32m   4787\u001b[0m     \u001b[38;5;28;01mif\u001b[39;00m labels \u001b[38;5;129;01mis\u001b[39;00m \u001b[38;5;129;01mnot\u001b[39;00m \u001b[38;5;28;01mNone\u001b[39;00m:\n\u001b[0;32m-> 4788\u001b[0m         obj \u001b[38;5;241m=\u001b[39m \u001b[43mobj\u001b[49m\u001b[38;5;241;43m.\u001b[39;49m\u001b[43m_drop_axis\u001b[49m\u001b[43m(\u001b[49m\u001b[43mlabels\u001b[49m\u001b[43m,\u001b[49m\u001b[43m \u001b[49m\u001b[43maxis\u001b[49m\u001b[43m,\u001b[49m\u001b[43m \u001b[49m\u001b[43mlevel\u001b[49m\u001b[38;5;241;43m=\u001b[39;49m\u001b[43mlevel\u001b[49m\u001b[43m,\u001b[49m\u001b[43m \u001b[49m\u001b[43merrors\u001b[49m\u001b[38;5;241;43m=\u001b[39;49m\u001b[43merrors\u001b[49m\u001b[43m)\u001b[49m\n\u001b[1;32m   4790\u001b[0m \u001b[38;5;28;01mif\u001b[39;00m inplace:\n\u001b[1;32m   4791\u001b[0m     \u001b[38;5;28mself\u001b[39m\u001b[38;5;241m.\u001b[39m_update_inplace(obj)\n",
      "File \u001b[0;32m/opt/homebrew/Caskroom/miniconda/base/envs/course-work-venv/lib/python3.11/site-packages/pandas/core/generic.py:4830\u001b[0m, in \u001b[0;36mNDFrame._drop_axis\u001b[0;34m(self, labels, axis, level, errors, only_slice)\u001b[0m\n\u001b[1;32m   4828\u001b[0m         new_axis \u001b[38;5;241m=\u001b[39m axis\u001b[38;5;241m.\u001b[39mdrop(labels, level\u001b[38;5;241m=\u001b[39mlevel, errors\u001b[38;5;241m=\u001b[39merrors)\n\u001b[1;32m   4829\u001b[0m     \u001b[38;5;28;01melse\u001b[39;00m:\n\u001b[0;32m-> 4830\u001b[0m         new_axis \u001b[38;5;241m=\u001b[39m \u001b[43maxis\u001b[49m\u001b[38;5;241;43m.\u001b[39;49m\u001b[43mdrop\u001b[49m\u001b[43m(\u001b[49m\u001b[43mlabels\u001b[49m\u001b[43m,\u001b[49m\u001b[43m \u001b[49m\u001b[43merrors\u001b[49m\u001b[38;5;241;43m=\u001b[39;49m\u001b[43merrors\u001b[49m\u001b[43m)\u001b[49m\n\u001b[1;32m   4831\u001b[0m     indexer \u001b[38;5;241m=\u001b[39m axis\u001b[38;5;241m.\u001b[39mget_indexer(new_axis)\n\u001b[1;32m   4833\u001b[0m \u001b[38;5;66;03m# Case for non-unique axis\u001b[39;00m\n\u001b[1;32m   4834\u001b[0m \u001b[38;5;28;01melse\u001b[39;00m:\n",
      "File \u001b[0;32m/opt/homebrew/Caskroom/miniconda/base/envs/course-work-venv/lib/python3.11/site-packages/pandas/core/indexes/base.py:7070\u001b[0m, in \u001b[0;36mIndex.drop\u001b[0;34m(self, labels, errors)\u001b[0m\n\u001b[1;32m   7068\u001b[0m \u001b[38;5;28;01mif\u001b[39;00m mask\u001b[38;5;241m.\u001b[39many():\n\u001b[1;32m   7069\u001b[0m     \u001b[38;5;28;01mif\u001b[39;00m errors \u001b[38;5;241m!=\u001b[39m \u001b[38;5;124m\"\u001b[39m\u001b[38;5;124mignore\u001b[39m\u001b[38;5;124m\"\u001b[39m:\n\u001b[0;32m-> 7070\u001b[0m         \u001b[38;5;28;01mraise\u001b[39;00m \u001b[38;5;167;01mKeyError\u001b[39;00m(\u001b[38;5;124mf\u001b[39m\u001b[38;5;124m\"\u001b[39m\u001b[38;5;132;01m{\u001b[39;00mlabels[mask]\u001b[38;5;241m.\u001b[39mtolist()\u001b[38;5;132;01m}\u001b[39;00m\u001b[38;5;124m not found in axis\u001b[39m\u001b[38;5;124m\"\u001b[39m)\n\u001b[1;32m   7071\u001b[0m     indexer \u001b[38;5;241m=\u001b[39m indexer[\u001b[38;5;241m~\u001b[39mmask]\n\u001b[1;32m   7072\u001b[0m \u001b[38;5;28;01mreturn\u001b[39;00m \u001b[38;5;28mself\u001b[39m\u001b[38;5;241m.\u001b[39mdelete(indexer)\n",
      "\u001b[0;31mKeyError\u001b[0m: \"['text', 'tokens', 'cleaned_tokens'] not found in axis\""
     ]
    }
   ],
   "source": [
    "df.drop(['text', 'tokens', 'cleaned_tokens'], axis=1, inplace=True)"
   ]
  },
  {
   "cell_type": "markdown",
   "metadata": {
    "id": "GhsoS1u4Mojf"
   },
   "source": [
    "**Applying Bag-of-Words**"
   ]
  },
  {
   "cell_type": "code",
   "execution_count": 16,
   "metadata": {
    "colab": {
     "base_uri": "https://localhost:8080/"
    },
    "id": "DTua0NoxMgQI",
    "outputId": "018fdaff-c177-4942-e0e8-2f98601ea8f4"
   },
   "outputs": [
    {
     "data": {
      "text/plain": [
       "6103"
      ]
     },
     "execution_count": 16,
     "metadata": {},
     "output_type": "execute_result"
    }
   ],
   "source": [
    "vectorizer = CountVectorizer()\n",
    "X = vectorizer.fit_transform(df['lemmatized'])\n",
    "\n",
    "vocab = vectorizer.get_feature_names_out()\n",
    "len(vocab)"
   ]
  },
  {
   "cell_type": "code",
   "execution_count": 17,
   "metadata": {
    "colab": {
     "base_uri": "https://localhost:8080/"
    },
    "id": "f1QX89ztI22G",
    "outputId": "f825c66e-b83b-42c9-dcf6-3f67e937ceb1"
   },
   "outputs": [
    {
     "data": {
      "text/plain": [
       "(5904, 20)"
      ]
     },
     "execution_count": 17,
     "metadata": {},
     "output_type": "execute_result"
    }
   ],
   "source": [
    "df.shape"
   ]
  },
  {
   "cell_type": "code",
   "execution_count": 18,
   "metadata": {
    "colab": {
     "base_uri": "https://localhost:8080/",
     "height": 273
    },
    "id": "R8tbwcg5IG4E",
    "outputId": "19968964-1df6-4925-8268-5140a51cba53"
   },
   "outputs": [
    {
     "data": {
      "text/html": [
       "<div>\n",
       "<style scoped>\n",
       "    .dataframe tbody tr th:only-of-type {\n",
       "        vertical-align: middle;\n",
       "    }\n",
       "\n",
       "    .dataframe tbody tr th {\n",
       "        vertical-align: top;\n",
       "    }\n",
       "\n",
       "    .dataframe thead th {\n",
       "        text-align: right;\n",
       "    }\n",
       "</style>\n",
       "<table border=\"1\" class=\"dataframe\">\n",
       "  <thead>\n",
       "    <tr style=\"text-align: right;\">\n",
       "      <th></th>\n",
       "      <th>user_followers</th>\n",
       "      <th>user_friends</th>\n",
       "      <th>user_favourites</th>\n",
       "      <th>retweets</th>\n",
       "      <th>favorites</th>\n",
       "      <th>feeling_auto</th>\n",
       "      <th>user_location_Boring</th>\n",
       "      <th>user_location_Hell</th>\n",
       "      <th>user_location_Trøllheim</th>\n",
       "      <th>user_location_Twitter HQ</th>\n",
       "      <th>...</th>\n",
       "      <th>zeal</th>\n",
       "      <th>zealand</th>\n",
       "      <th>zero</th>\n",
       "      <th>zerohedge</th>\n",
       "      <th>zip</th>\n",
       "      <th>zombie</th>\n",
       "      <th>zone</th>\n",
       "      <th>zoolander</th>\n",
       "      <th>zoom</th>\n",
       "      <th>zuck</th>\n",
       "    </tr>\n",
       "  </thead>\n",
       "  <tbody>\n",
       "    <tr>\n",
       "      <th>0</th>\n",
       "      <td>101240855</td>\n",
       "      <td>115</td>\n",
       "      <td>13503</td>\n",
       "      <td>335</td>\n",
       "      <td>6542</td>\n",
       "      <td>0</td>\n",
       "      <td>0</td>\n",
       "      <td>0</td>\n",
       "      <td>0</td>\n",
       "      <td>0</td>\n",
       "      <td>...</td>\n",
       "      <td>0</td>\n",
       "      <td>0</td>\n",
       "      <td>0</td>\n",
       "      <td>0</td>\n",
       "      <td>0</td>\n",
       "      <td>0</td>\n",
       "      <td>0</td>\n",
       "      <td>0</td>\n",
       "      <td>0</td>\n",
       "      <td>0</td>\n",
       "    </tr>\n",
       "    <tr>\n",
       "      <th>1</th>\n",
       "      <td>101240806</td>\n",
       "      <td>115</td>\n",
       "      <td>13503</td>\n",
       "      <td>1451</td>\n",
       "      <td>30753</td>\n",
       "      <td>1</td>\n",
       "      <td>0</td>\n",
       "      <td>0</td>\n",
       "      <td>0</td>\n",
       "      <td>0</td>\n",
       "      <td>...</td>\n",
       "      <td>0</td>\n",
       "      <td>0</td>\n",
       "      <td>0</td>\n",
       "      <td>0</td>\n",
       "      <td>0</td>\n",
       "      <td>0</td>\n",
       "      <td>0</td>\n",
       "      <td>0</td>\n",
       "      <td>0</td>\n",
       "      <td>0</td>\n",
       "    </tr>\n",
       "    <tr>\n",
       "      <th>2</th>\n",
       "      <td>101240806</td>\n",
       "      <td>115</td>\n",
       "      <td>13503</td>\n",
       "      <td>1284</td>\n",
       "      <td>28610</td>\n",
       "      <td>1</td>\n",
       "      <td>0</td>\n",
       "      <td>0</td>\n",
       "      <td>0</td>\n",
       "      <td>0</td>\n",
       "      <td>...</td>\n",
       "      <td>0</td>\n",
       "      <td>0</td>\n",
       "      <td>0</td>\n",
       "      <td>0</td>\n",
       "      <td>0</td>\n",
       "      <td>0</td>\n",
       "      <td>0</td>\n",
       "      <td>0</td>\n",
       "      <td>0</td>\n",
       "      <td>0</td>\n",
       "    </tr>\n",
       "    <tr>\n",
       "      <th>3</th>\n",
       "      <td>101240806</td>\n",
       "      <td>115</td>\n",
       "      <td>13503</td>\n",
       "      <td>131</td>\n",
       "      <td>3640</td>\n",
       "      <td>1</td>\n",
       "      <td>0</td>\n",
       "      <td>0</td>\n",
       "      <td>0</td>\n",
       "      <td>0</td>\n",
       "      <td>...</td>\n",
       "      <td>0</td>\n",
       "      <td>0</td>\n",
       "      <td>0</td>\n",
       "      <td>0</td>\n",
       "      <td>0</td>\n",
       "      <td>0</td>\n",
       "      <td>0</td>\n",
       "      <td>0</td>\n",
       "      <td>0</td>\n",
       "      <td>0</td>\n",
       "    </tr>\n",
       "    <tr>\n",
       "      <th>4</th>\n",
       "      <td>101240806</td>\n",
       "      <td>115</td>\n",
       "      <td>13503</td>\n",
       "      <td>1191</td>\n",
       "      <td>23790</td>\n",
       "      <td>1</td>\n",
       "      <td>0</td>\n",
       "      <td>0</td>\n",
       "      <td>0</td>\n",
       "      <td>0</td>\n",
       "      <td>...</td>\n",
       "      <td>0</td>\n",
       "      <td>0</td>\n",
       "      <td>0</td>\n",
       "      <td>0</td>\n",
       "      <td>0</td>\n",
       "      <td>0</td>\n",
       "      <td>0</td>\n",
       "      <td>0</td>\n",
       "      <td>0</td>\n",
       "      <td>0</td>\n",
       "    </tr>\n",
       "  </tbody>\n",
       "</table>\n",
       "<p>5 rows × 6123 columns</p>\n",
       "</div>"
      ],
      "text/plain": [
       "   user_followers  user_friends  user_favourites  retweets  favorites  \\\n",
       "0       101240855           115            13503       335       6542   \n",
       "1       101240806           115            13503      1451      30753   \n",
       "2       101240806           115            13503      1284      28610   \n",
       "3       101240806           115            13503       131       3640   \n",
       "4       101240806           115            13503      1191      23790   \n",
       "\n",
       "   feeling_auto  user_location_Boring  user_location_Hell  \\\n",
       "0             0                     0                   0   \n",
       "1             1                     0                   0   \n",
       "2             1                     0                   0   \n",
       "3             1                     0                   0   \n",
       "4             1                     0                   0   \n",
       "\n",
       "   user_location_Trøllheim  user_location_Twitter HQ  ...  zeal  zealand  \\\n",
       "0                        0                         0  ...     0        0   \n",
       "1                        0                         0  ...     0        0   \n",
       "2                        0                         0  ...     0        0   \n",
       "3                        0                         0  ...     0        0   \n",
       "4                        0                         0  ...     0        0   \n",
       "\n",
       "   zero  zerohedge  zip  zombie  zone  zoolander  zoom zuck  \n",
       "0     0          0    0       0     0          0     0    0  \n",
       "1     0          0    0       0     0          0     0    0  \n",
       "2     0          0    0       0     0          0     0    0  \n",
       "3     0          0    0       0     0          0     0    0  \n",
       "4     0          0    0       0     0          0     0    0  \n",
       "\n",
       "[5 rows x 6123 columns]"
      ]
     },
     "execution_count": 18,
     "metadata": {},
     "output_type": "execute_result"
    }
   ],
   "source": [
    "bow_df = pd.DataFrame(X.toarray(), columns=vocab)\n",
    "\n",
    "final_df_bow = pd.concat([df, bow_df], axis=1)\n",
    "final_df_bow.head()"
   ]
  },
  {
   "cell_type": "markdown",
   "metadata": {
    "id": "QDrsGKjIKBDE"
   },
   "source": [
    "**Applying tf-IDF**"
   ]
  },
  {
   "cell_type": "code",
   "execution_count": 19,
   "metadata": {
    "colab": {
     "base_uri": "https://localhost:8080/",
     "height": 273
    },
    "id": "mqXSXGslIGyY",
    "outputId": "bb445ac8-6ed6-4209-a105-08a3fc8d35d7"
   },
   "outputs": [
    {
     "data": {
      "text/html": [
       "<div>\n",
       "<style scoped>\n",
       "    .dataframe tbody tr th:only-of-type {\n",
       "        vertical-align: middle;\n",
       "    }\n",
       "\n",
       "    .dataframe tbody tr th {\n",
       "        vertical-align: top;\n",
       "    }\n",
       "\n",
       "    .dataframe thead th {\n",
       "        text-align: right;\n",
       "    }\n",
       "</style>\n",
       "<table border=\"1\" class=\"dataframe\">\n",
       "  <thead>\n",
       "    <tr style=\"text-align: right;\">\n",
       "      <th></th>\n",
       "      <th>user_followers</th>\n",
       "      <th>user_friends</th>\n",
       "      <th>user_favourites</th>\n",
       "      <th>retweets</th>\n",
       "      <th>favorites</th>\n",
       "      <th>feeling_auto</th>\n",
       "      <th>user_location_Boring</th>\n",
       "      <th>user_location_Hell</th>\n",
       "      <th>user_location_Trøllheim</th>\n",
       "      <th>user_location_Twitter HQ</th>\n",
       "      <th>...</th>\n",
       "      <th>zeal</th>\n",
       "      <th>zealand</th>\n",
       "      <th>zero</th>\n",
       "      <th>zerohedge</th>\n",
       "      <th>zip</th>\n",
       "      <th>zombie</th>\n",
       "      <th>zone</th>\n",
       "      <th>zoolander</th>\n",
       "      <th>zoom</th>\n",
       "      <th>zuck</th>\n",
       "    </tr>\n",
       "  </thead>\n",
       "  <tbody>\n",
       "    <tr>\n",
       "      <th>0</th>\n",
       "      <td>101240855</td>\n",
       "      <td>115</td>\n",
       "      <td>13503</td>\n",
       "      <td>335</td>\n",
       "      <td>6542</td>\n",
       "      <td>0</td>\n",
       "      <td>0</td>\n",
       "      <td>0</td>\n",
       "      <td>0</td>\n",
       "      <td>0</td>\n",
       "      <td>...</td>\n",
       "      <td>0.0</td>\n",
       "      <td>0.0</td>\n",
       "      <td>0.0</td>\n",
       "      <td>0.0</td>\n",
       "      <td>0.0</td>\n",
       "      <td>0.0</td>\n",
       "      <td>0.0</td>\n",
       "      <td>0.0</td>\n",
       "      <td>0.0</td>\n",
       "      <td>0.0</td>\n",
       "    </tr>\n",
       "    <tr>\n",
       "      <th>1</th>\n",
       "      <td>101240806</td>\n",
       "      <td>115</td>\n",
       "      <td>13503</td>\n",
       "      <td>1451</td>\n",
       "      <td>30753</td>\n",
       "      <td>1</td>\n",
       "      <td>0</td>\n",
       "      <td>0</td>\n",
       "      <td>0</td>\n",
       "      <td>0</td>\n",
       "      <td>...</td>\n",
       "      <td>0.0</td>\n",
       "      <td>0.0</td>\n",
       "      <td>0.0</td>\n",
       "      <td>0.0</td>\n",
       "      <td>0.0</td>\n",
       "      <td>0.0</td>\n",
       "      <td>0.0</td>\n",
       "      <td>0.0</td>\n",
       "      <td>0.0</td>\n",
       "      <td>0.0</td>\n",
       "    </tr>\n",
       "    <tr>\n",
       "      <th>2</th>\n",
       "      <td>101240806</td>\n",
       "      <td>115</td>\n",
       "      <td>13503</td>\n",
       "      <td>1284</td>\n",
       "      <td>28610</td>\n",
       "      <td>1</td>\n",
       "      <td>0</td>\n",
       "      <td>0</td>\n",
       "      <td>0</td>\n",
       "      <td>0</td>\n",
       "      <td>...</td>\n",
       "      <td>0.0</td>\n",
       "      <td>0.0</td>\n",
       "      <td>0.0</td>\n",
       "      <td>0.0</td>\n",
       "      <td>0.0</td>\n",
       "      <td>0.0</td>\n",
       "      <td>0.0</td>\n",
       "      <td>0.0</td>\n",
       "      <td>0.0</td>\n",
       "      <td>0.0</td>\n",
       "    </tr>\n",
       "    <tr>\n",
       "      <th>3</th>\n",
       "      <td>101240806</td>\n",
       "      <td>115</td>\n",
       "      <td>13503</td>\n",
       "      <td>131</td>\n",
       "      <td>3640</td>\n",
       "      <td>1</td>\n",
       "      <td>0</td>\n",
       "      <td>0</td>\n",
       "      <td>0</td>\n",
       "      <td>0</td>\n",
       "      <td>...</td>\n",
       "      <td>0.0</td>\n",
       "      <td>0.0</td>\n",
       "      <td>0.0</td>\n",
       "      <td>0.0</td>\n",
       "      <td>0.0</td>\n",
       "      <td>0.0</td>\n",
       "      <td>0.0</td>\n",
       "      <td>0.0</td>\n",
       "      <td>0.0</td>\n",
       "      <td>0.0</td>\n",
       "    </tr>\n",
       "    <tr>\n",
       "      <th>4</th>\n",
       "      <td>101240806</td>\n",
       "      <td>115</td>\n",
       "      <td>13503</td>\n",
       "      <td>1191</td>\n",
       "      <td>23790</td>\n",
       "      <td>1</td>\n",
       "      <td>0</td>\n",
       "      <td>0</td>\n",
       "      <td>0</td>\n",
       "      <td>0</td>\n",
       "      <td>...</td>\n",
       "      <td>0.0</td>\n",
       "      <td>0.0</td>\n",
       "      <td>0.0</td>\n",
       "      <td>0.0</td>\n",
       "      <td>0.0</td>\n",
       "      <td>0.0</td>\n",
       "      <td>0.0</td>\n",
       "      <td>0.0</td>\n",
       "      <td>0.0</td>\n",
       "      <td>0.0</td>\n",
       "    </tr>\n",
       "  </tbody>\n",
       "</table>\n",
       "<p>5 rows × 6123 columns</p>\n",
       "</div>"
      ],
      "text/plain": [
       "   user_followers  user_friends  user_favourites  retweets  favorites  \\\n",
       "0       101240855           115            13503       335       6542   \n",
       "1       101240806           115            13503      1451      30753   \n",
       "2       101240806           115            13503      1284      28610   \n",
       "3       101240806           115            13503       131       3640   \n",
       "4       101240806           115            13503      1191      23790   \n",
       "\n",
       "   feeling_auto  user_location_Boring  user_location_Hell  \\\n",
       "0             0                     0                   0   \n",
       "1             1                     0                   0   \n",
       "2             1                     0                   0   \n",
       "3             1                     0                   0   \n",
       "4             1                     0                   0   \n",
       "\n",
       "   user_location_Trøllheim  user_location_Twitter HQ  ...  zeal  zealand  \\\n",
       "0                        0                         0  ...   0.0      0.0   \n",
       "1                        0                         0  ...   0.0      0.0   \n",
       "2                        0                         0  ...   0.0      0.0   \n",
       "3                        0                         0  ...   0.0      0.0   \n",
       "4                        0                         0  ...   0.0      0.0   \n",
       "\n",
       "   zero  zerohedge  zip  zombie  zone  zoolander  zoom zuck  \n",
       "0   0.0        0.0  0.0     0.0   0.0        0.0   0.0  0.0  \n",
       "1   0.0        0.0  0.0     0.0   0.0        0.0   0.0  0.0  \n",
       "2   0.0        0.0  0.0     0.0   0.0        0.0   0.0  0.0  \n",
       "3   0.0        0.0  0.0     0.0   0.0        0.0   0.0  0.0  \n",
       "4   0.0        0.0  0.0     0.0   0.0        0.0   0.0  0.0  \n",
       "\n",
       "[5 rows x 6123 columns]"
      ]
     },
     "execution_count": 19,
     "metadata": {},
     "output_type": "execute_result"
    }
   ],
   "source": [
    "tfidf_vectorizer = TfidfVectorizer()\n",
    "\n",
    "X_tfidf = tfidf_vectorizer.fit_transform(df['lemmatized'])\n",
    "\n",
    "feature_names = tfidf_vectorizer.get_feature_names_out()\n",
    "\n",
    "df_tfidf = pd.DataFrame(X_tfidf.toarray(), columns=feature_names)\n",
    "df_final_tfidf = pd.concat([df, df_tfidf], axis=1)\n",
    "\n",
    "df_final_tfidf.head()"
   ]
  },
  {
   "cell_type": "markdown",
   "metadata": {
    "id": "GUITm0n6PgYi"
   },
   "source": [
    "**ML part for BOW**"
   ]
  },
  {
   "cell_type": "code",
   "execution_count": 20,
   "metadata": {
    "id": "zR-Lg_ORPgCF"
   },
   "outputs": [],
   "source": [
    "X = final_df_bow.drop(['feeling_auto', 'lemmatized'], axis=1)\n",
    "y = final_df_bow['feeling_auto']"
   ]
  },
  {
   "cell_type": "code",
   "execution_count": 21,
   "metadata": {
    "colab": {
     "base_uri": "https://localhost:8080/"
    },
    "id": "dQ3GxekkQvyW",
    "outputId": "f1af53f4-723e-4317-c621-585b6b51a0ba"
   },
   "outputs": [
    {
     "data": {
      "text/plain": [
       "(5904, 6121)"
      ]
     },
     "execution_count": 21,
     "metadata": {},
     "output_type": "execute_result"
    }
   ],
   "source": [
    "X.shape"
   ]
  },
  {
   "cell_type": "code",
   "execution_count": 22,
   "metadata": {
    "id": "dvNf2rIIPf_f"
   },
   "outputs": [],
   "source": [
    "scaler = MinMaxScaler()\n",
    "scaler.fit(X)\n",
    "scaled_data = scaler.transform(X)"
   ]
  },
  {
   "cell_type": "code",
   "execution_count": 23,
   "metadata": {
    "colab": {
     "base_uri": "https://localhost:8080/",
     "height": 564
    },
    "id": "RiY0ltnJPf6X",
    "outputId": "b7a2827e-5ae9-4fbc-bcab-83b566ce4fe0"
   },
   "outputs": [
    {
     "data": {
      "image/png": "[encoded data removed]",
      "text/plain": [
       "<Figure size 1200x600 with 1 Axes>"
      ]
     },
     "metadata": {},
     "output_type": "display_data"
    }
   ],
   "source": [
    "pca = PCA().fit(scaled_data)\n",
    "\n",
    "plt.rcParams[\"figure.figsize\"] = (12,6)\n",
    "\n",
    "fig, ax = plt.subplots()\n",
    "xi = np.arange(1, 5905, step=1)\n",
    "y_axe = np.cumsum(pca.explained_variance_ratio_)\n",
    "\n",
    "plt.ylim(0.0,1.1)\n",
    "plt.plot(xi, y_axe, linestyle='--', color='b')\n",
    "\n",
    "plt.xlabel('Number of Components')\n",
    "plt.xticks(np.arange(0, 5904, step=24))\n",
    "plt.ylabel('Cumulative variance (%)')\n",
    "plt.title('The number of components needed to explain variance')\n",
    "\n",
    "plt.axhline(y=0.95, color='r', linestyle='-')\n",
    "plt.text(0.5, 0.85, '95% cut-off threshold', color = 'red', fontsize=16)\n",
    "\n",
    "ax.grid(axis='x')\n",
    "plt.show()"
   ]
  },
  {
   "cell_type": "code",
   "execution_count": null,
   "metadata": {
    "colab": {
     "base_uri": "https://localhost:8080/"
    },
    "id": "9nKFmNmaXB5a",
    "outputId": "46a3a0e5-a58f-49ef-90e0-ba3c63f3c06d"
   },
   "outputs": [],
   "source": [
    "# 95% of variance\n",
    "pca = PCA(n_components = 0.95)\n",
    "pca.fit(scaled_data)\n",
    "X_pca = pca.transform(scaled_data)\n",
    "X_pca.shape"
   ]
  },
  {
   "cell_type": "code",
   "execution_count": null,
   "metadata": {
    "id": "ogog7tzzbCUc"
   },
   "outputs": [],
   "source": [
    "X_train, X_test, y_train, y_test = train_test_split(X_pca, y, test_size=0.2, random_state=42)"
   ]
  },
  {
   "cell_type": "code",
   "execution_count": null,
   "metadata": {
    "id": "PvuTa4SXQfZs"
   },
   "outputs": [],
   "source": [
    "gnb_model = GaussianNB()\n",
    "lr_model = LogisticRegression()\n",
    "knn_model = KNeighborsClassifier()"
   ]
  },
  {
   "cell_type": "code",
   "execution_count": 121,
   "metadata": {
    "id": "SuY2aaA5PhJC"
   },
   "outputs": [],
   "source": [
    "lr_model.fit(X_train, y_train)\n",
    "lr_pred = lr_model.predict(X_test)\n",
    "\n",
    "knn_model.fit(X_train, y_train)\n",
    "knn_pred = knn_model.predict(X_test)\n",
    "\n",
    "gnb_model.fit(X_train, y_train)\n",
    "gnb_pred = gnb_model.predict(X_test)"
   ]
  },
  {
   "cell_type": "code",
   "execution_count": 122,
   "metadata": {
    "colab": {
     "base_uri": "https://localhost:8080/"
    },
    "id": "tsmlHpqAPhLy",
    "outputId": "f853be85-98c6-4d22-b039-60458a748615"
   },
   "outputs": [
    {
     "name": "stdout",
     "output_type": "stream",
     "text": [
      "ROC-AUC LogisticRegression: 0.714079647362821\n",
      "ROC-AUC kNN: 0.5769889040887672\n",
      "ROC-AUC GaussianNB: 0.6125885392916857\n"
     ]
    }
   ],
   "source": [
    "print(f'ROC-AUC LogisticRegression: {roc_auc_score(y_test, lr_pred)}')\n",
    "print(f'ROC-AUC kNN: {roc_auc_score(y_test, knn_pred)}')\n",
    "print(f'ROC-AUC GaussianNB: {roc_auc_score(y_test, gnb_pred)}')"
   ]
  },
  {
   "cell_type": "code",
   "execution_count": 123,
   "metadata": {
    "id": "5NPpthAUPhOi"
   },
   "outputs": [],
   "source": [
    "svc = SVC()\n",
    "dtc = DecisionTreeClassifier()\n",
    "rfc = RandomForestClassifier()\n",
    "xgboost = XGBClassifier(use_label_encoder=False, eval_metric='mlogloss')\n",
    "lightgbm = LGBMClassifier()\n",
    "catboost = CatBoostClassifier(silent=True)"
   ]
  },
  {
   "cell_type": "code",
   "execution_count": 124,
   "metadata": {
    "colab": {
     "base_uri": "https://localhost:8080/"
    },
    "id": "Vp-pVTnrWnoB",
    "outputId": "fff13e86-6bb2-42f4-f1b6-e475b3968ce1"
   },
   "outputs": [
    {
     "name": "stderr",
     "output_type": "stream",
     "text": [
      "/usr/local/lib/python3.10/dist-packages/xgboost/core.py:158: UserWarning: [23:38:27] WARNING: /workspace/src/learner.cc:740: \n",
      "Parameters: { \"use_label_encoder\" } are not used.\n",
      "\n",
      "  warnings.warn(smsg, UserWarning)\n"
     ]
    },
    {
     "name": "stdout",
     "output_type": "stream",
     "text": [
      "[LightGBM] [Info] Number of positive: 2920, number of negative: 1803\n",
      "[LightGBM] [Info] Auto-choosing col-wise multi-threading, the overhead of testing was 0.335876 seconds.\n",
      "You can set `force_col_wise=true` to remove the overhead.\n",
      "[LightGBM] [Info] Total Bins 580125\n",
      "[LightGBM] [Info] Number of data points in the train set: 4723, number of used features: 2275\n",
      "[LightGBM] [Info] [binary:BoostFromScore]: pavg=0.618251 -> initscore=0.482132\n",
      "[LightGBM] [Info] Start training from score 0.482132\n"
     ]
    }
   ],
   "source": [
    "svc.fit(X_train, y_train)\n",
    "svc_pred = svc.predict(X_test)\n",
    "\n",
    "dtc.fit(X_train, y_train)\n",
    "dtc_pred = dtc.predict(X_test)\n",
    "\n",
    "rfc.fit(X_train, y_train)\n",
    "rfc_pred = rfc.predict(X_test)\n",
    "\n",
    "xgboost.fit(X_train, y_train)\n",
    "xgboost_pred = xgboost.predict(X_test)\n",
    "\n",
    "lightgbm.fit(X_train, y_train)\n",
    "lightgbm_pred = lightgbm.predict(X_test)\n",
    "\n",
    "catboost.fit(X_train, y_train)\n",
    "catboost_pred = catboost.predict(X_test)"
   ]
  },
  {
   "cell_type": "code",
   "execution_count": 125,
   "metadata": {
    "colab": {
     "base_uri": "https://localhost:8080/"
    },
    "id": "kTCWdCnJWCUC",
    "outputId": "2beec16f-6632-46b0-e749-36a47d004a9b"
   },
   "outputs": [
    {
     "name": "stdout",
     "output_type": "stream",
     "text": [
      "ROC-AUC SupportVectorClassifier: 0.6930551755585955\n",
      "ROC-AUC DecisionTreeClassifier: 0.5858413132694938\n",
      "ROC-AUC RandomForestClassifier: 0.6345812433500533\n",
      "ROC-AUC XGBoost: 0.6465465876272989\n",
      "ROC-AUC LightGBM: 0.6868931448548412\n",
      "ROC-AUC CatBoost: 0.6677534579723362\n"
     ]
    }
   ],
   "source": [
    "print(f'ROC-AUC SupportVectorClassifier: {roc_auc_score(y_test, svc_pred)}')\n",
    "print(f'ROC-AUC DecisionTreeClassifier: {roc_auc_score(y_test, dtc_pred)}')\n",
    "print(f'ROC-AUC RandomForestClassifier: {roc_auc_score(y_test, rfc_pred)}')\n",
    "print(f'ROC-AUC XGBoost: {roc_auc_score(y_test, xgboost_pred)}')\n",
    "print(f'ROC-AUC LightGBM: {roc_auc_score(y_test, lightgbm_pred)}')\n",
    "print(f'ROC-AUC CatBoost: {roc_auc_score(y_test, catboost_pred)}')"
   ]
  },
  {
   "cell_type": "code",
   "execution_count": 125,
   "metadata": {
    "id": "AuoGI8UpPhRK"
   },
   "outputs": [],
   "source": []
  },
  {
   "cell_type": "code",
   "execution_count": 125,
   "metadata": {
    "id": "GVECeihrPeQg"
   },
   "outputs": [],
   "source": []
  },
  {
   "cell_type": "code",
   "execution_count": 126,
   "metadata": {
    "id": "MuuoubpMIGjY"
   },
   "outputs": [],
   "source": [
    "# X_train_pca, X_test_pca, y_train_pca, y_test_pca = train_test_split(X_pca, y, test_size=0.2, random_state=42)"
   ]
  },
  {
   "cell_type": "code",
   "execution_count": 127,
   "metadata": {
    "id": "VPMkEuD6IGZp"
   },
   "outputs": [],
   "source": [
    "# import optuna\n",
    "\n",
    "# def objective(trial):\n",
    "#     params = {\n",
    "#         \"iterations\": 500,\n",
    "#         \"learning_rate\": trial.suggest_float(\"learning_rate\", 0.05, 0.15, log=True),\n",
    "#         \"depth\": trial.suggest_int(\"depth\", 1, 5),\n",
    "#         # \"l2_leaf_reg\": trial.suggest_int(\"l2_leaf_reg\", 1, 7),\n",
    "#         # \"subsample\": trial.suggest_float(\"subsample\", 0.05, 1.0),\n",
    "#         # \"colsample_bylevel\": trial.suggest_float(\"colsample_bylevel\", 0.05, 1.0),\n",
    "#         # \"min_data_in_leaf\": trial.suggest_int(\"min_data_in_leaf\", 1, 100),\n",
    "#     }\n",
    "\n",
    "#     model = CatBoostClassifier(**params, silent=True, random_seed=42)\n",
    "#     model.fit(X_train_pca, y_train_pca)\n",
    "#     predictions = model.predict(X_test_pca)\n",
    "#     roc_auc_metric = roc_auc_score(y_test_pca, predictions)\n",
    "#     return roc_auc_metric"
   ]
  },
  {
   "cell_type": "code",
   "execution_count": 128,
   "metadata": {
    "id": "c8GZWFfGXpAw"
   },
   "outputs": [],
   "source": [
    "# study = optuna.create_study(direction='maximize')\n",
    "# study.optimize(objective, n_trials=5)"
   ]
  },
  {
   "cell_type": "code",
   "execution_count": 129,
   "metadata": {
    "id": "6NBxKUmhXpIo"
   },
   "outputs": [],
   "source": [
    "# print('Best hyperparameters:', study.best_params)\n",
    "# print('Best roc_auc:', study.best_value)"
   ]
  },
  {
   "cell_type": "code",
   "execution_count": 130,
   "metadata": {
    "id": "O8mBwt_5XpLL"
   },
   "outputs": [],
   "source": [
    "# params = {\n",
    "#     'iterations': [500],\n",
    "#     'learning_rate': [0.01, 0.1],\n",
    "#     'depth': [2, 4],\n",
    "#     # 'l2_leaf_reg': [2, 3],\n",
    "#     # 'loss_function': ['Logloss', 'CrossEntropy'],\n",
    "#     # 'loss_function': ['Logloss'],\n",
    "#     # 'logging_level': ['Silent'],\n",
    "#     # 'random_seed': [42]\n",
    "# }"
   ]
  },
  {
   "cell_type": "code",
   "execution_count": 131,
   "metadata": {
    "id": "g381XkLFXvap"
   },
   "outputs": [],
   "source": [
    "# model = CatBoostClassifier()"
   ]
  },
  {
   "cell_type": "code",
   "execution_count": 132,
   "metadata": {
    "id": "5RAQdKurYAHf"
   },
   "outputs": [],
   "source": [
    "# %%time\n",
    "# grid_search = GridSearchCV(model, params, scoring='roc_auc', cv=3)\n",
    "\n",
    "# grid_search.fit(X_train_pca, y_train_pca)\n",
    "\n",
    "\n",
    "# print(grid_search.best_params_)\n",
    "\n",
    "\n",
    "# auc_score = grid_search.score(X_test_pca, y_test_pca)\n",
    "# print(f'AUC: {auc_score}')"
   ]
  },
  {
   "cell_type": "code",
   "execution_count": 132,
   "metadata": {
    "id": "JAbAnd3MdBOt"
   },
   "outputs": [],
   "source": []
  },
  {
   "cell_type": "markdown",
   "metadata": {
    "id": "o0F3IXksXwGK"
   },
   "source": [
    "###ML part for tf-IDF"
   ]
  },
  {
   "cell_type": "code",
   "execution_count": 133,
   "metadata": {
    "id": "HoYBNkcXX1Nv"
   },
   "outputs": [],
   "source": [
    "X = df_final_tfidf.drop(['feeling_auto', 'lemmatized'], axis=1)\n",
    "y = df_final_tfidf['feeling_auto']"
   ]
  },
  {
   "cell_type": "code",
   "execution_count": 134,
   "metadata": {
    "colab": {
     "base_uri": "https://localhost:8080/"
    },
    "id": "iEJZ8UNDYGbq",
    "outputId": "2748d5bb-1635-4f97-cec1-2796ca4e6196"
   },
   "outputs": [
    {
     "data": {
      "text/plain": [
       "(5904, 6121)"
      ]
     },
     "execution_count": 134,
     "metadata": {},
     "output_type": "execute_result"
    }
   ],
   "source": [
    "X.shape"
   ]
  },
  {
   "cell_type": "code",
   "execution_count": 135,
   "metadata": {
    "id": "QM7AR4LqYGsW"
   },
   "outputs": [],
   "source": [
    "scaler = MinMaxScaler()\n",
    "scaler.fit(X)\n",
    "scaled_data = scaler.transform(X)"
   ]
  },
  {
   "cell_type": "code",
   "execution_count": 136,
   "metadata": {
    "colab": {
     "base_uri": "https://localhost:8080/",
     "height": 564
    },
    "id": "Z62HNpUFbaKZ",
    "outputId": "ac257ba8-7a7a-4cb0-cf67-7f9e470d8ee7"
   },
   "outputs": [
    {
     "data": {
      "image/png": "[encoded data removed]",
      "text/plain": [
       "<Figure size 1200x600 with 1 Axes>"
      ]
     },
     "metadata": {},
     "output_type": "display_data"
    }
   ],
   "source": [
    "pca = PCA().fit(scaled_data)\n",
    "\n",
    "plt.rcParams[\"figure.figsize\"] = (12,6)\n",
    "\n",
    "fig, ax = plt.subplots()\n",
    "xi = np.arange(1, 5905, step=1)\n",
    "y_axe = np.cumsum(pca.explained_variance_ratio_)\n",
    "\n",
    "plt.ylim(0.0,1.1)\n",
    "plt.plot(xi, y_axe, linestyle='--', color='b')\n",
    "\n",
    "plt.xlabel('Number of Components')\n",
    "plt.xticks(np.arange(0, 5904, step=100))\n",
    "plt.ylabel('Cumulative variance (%)')\n",
    "plt.title('The number of components needed to explain variance')\n",
    "\n",
    "plt.axhline(y=0.95, color='r', linestyle='-')\n",
    "plt.text(0.5, 0.85, '95% cut-off threshold', color = 'red', fontsize=16)\n",
    "\n",
    "ax.grid(axis='x')\n",
    "plt.show()"
   ]
  },
  {
   "cell_type": "code",
   "execution_count": 137,
   "metadata": {
    "colab": {
     "base_uri": "https://localhost:8080/"
    },
    "id": "jT7hexLsbaGL",
    "outputId": "21c5f32b-f0d3-4517-cd9c-54eb54b427e8"
   },
   "outputs": [
    {
     "data": {
      "text/plain": [
       "(5904, 2685)"
      ]
     },
     "execution_count": 137,
     "metadata": {},
     "output_type": "execute_result"
    }
   ],
   "source": [
    "# 95% of variance\n",
    "pca = PCA(n_components = 0.95)\n",
    "pca.fit(scaled_data)\n",
    "X_pca = pca.transform(scaled_data)\n",
    "X_pca.shape"
   ]
  },
  {
   "cell_type": "code",
   "execution_count": 138,
   "metadata": {
    "id": "dNGleGaGbipz"
   },
   "outputs": [],
   "source": [
    "X_train, X_test, y_train, y_test = train_test_split(X_pca, y, test_size=0.2, random_state=42)"
   ]
  },
  {
   "cell_type": "code",
   "execution_count": 138,
   "metadata": {
    "id": "eXLfvLuVbaDQ"
   },
   "outputs": [],
   "source": []
  },
  {
   "cell_type": "code",
   "execution_count": 139,
   "metadata": {
    "id": "Wkz89AY_YGu8"
   },
   "outputs": [],
   "source": [
    "gnb_model = GaussianNB()\n",
    "lr_model = LogisticRegression()\n",
    "knn_model = KNeighborsClassifier()"
   ]
  },
  {
   "cell_type": "code",
   "execution_count": 140,
   "metadata": {
    "id": "PdGTtOh9YGxu"
   },
   "outputs": [],
   "source": [
    "lr_model.fit(X_train, y_train)\n",
    "lr_pred = lr_model.predict(X_test)\n",
    "\n",
    "knn_model.fit(X_train, y_train)\n",
    "knn_pred = knn_model.predict(X_test)\n",
    "\n",
    "gnb_model.fit(X_train, y_train)\n",
    "gnb_pred = gnb_model.predict(X_test)"
   ]
  },
  {
   "cell_type": "code",
   "execution_count": 141,
   "metadata": {
    "colab": {
     "base_uri": "https://localhost:8080/"
    },
    "id": "JZdV5cRiYYdl",
    "outputId": "87ad74ea-51e6-4e03-ba24-70c60017d380"
   },
   "outputs": [
    {
     "name": "stdout",
     "output_type": "stream",
     "text": [
      "ROC-AUC LogisticRegression: 0.6963018695850433\n",
      "ROC-AUC kNN: 0.5422906216750265\n",
      "ROC-AUC GaussianNB: 0.6013877488980088\n"
     ]
    }
   ],
   "source": [
    "print(f'ROC-AUC LogisticRegression: {roc_auc_score(y_test, lr_pred)}')\n",
    "print(f'ROC-AUC kNN: {roc_auc_score(y_test, knn_pred)}')\n",
    "print(f'ROC-AUC GaussianNB: {roc_auc_score(y_test, gnb_pred)}')"
   ]
  },
  {
   "cell_type": "code",
   "execution_count": 142,
   "metadata": {
    "id": "jpQdtI7CYYbW"
   },
   "outputs": [],
   "source": [
    "svc = SVC()\n",
    "dtc = DecisionTreeClassifier()\n",
    "rfc = RandomForestClassifier()\n",
    "xgboost = XGBClassifier(use_label_encoder=False, eval_metric='mlogloss')\n",
    "lightgbm = LGBMClassifier()\n",
    "catboost = CatBoostClassifier(silent=True)"
   ]
  },
  {
   "cell_type": "code",
   "execution_count": 143,
   "metadata": {
    "colab": {
     "base_uri": "https://localhost:8080/"
    },
    "id": "mVUF9HZ7YYYt",
    "outputId": "a23fa632-32ce-465f-af23-e5216f918ad0"
   },
   "outputs": [
    {
     "name": "stderr",
     "output_type": "stream",
     "text": [
      "/usr/local/lib/python3.10/dist-packages/xgboost/core.py:158: UserWarning: [00:01:40] WARNING: /workspace/src/learner.cc:740: \n",
      "Parameters: { \"use_label_encoder\" } are not used.\n",
      "\n",
      "  warnings.warn(smsg, UserWarning)\n"
     ]
    },
    {
     "name": "stdout",
     "output_type": "stream",
     "text": [
      "[LightGBM] [Info] Number of positive: 2920, number of negative: 1803\n",
      "[LightGBM] [Info] Auto-choosing col-wise multi-threading, the overhead of testing was 0.318165 seconds.\n",
      "You can set `force_col_wise=true` to remove the overhead.\n",
      "[LightGBM] [Info] Total Bins 684675\n",
      "[LightGBM] [Info] Number of data points in the train set: 4723, number of used features: 2685\n",
      "[LightGBM] [Info] [binary:BoostFromScore]: pavg=0.618251 -> initscore=0.482132\n",
      "[LightGBM] [Info] Start training from score 0.482132\n"
     ]
    }
   ],
   "source": [
    "svc.fit(X_train, y_train)\n",
    "svc_pred = svc.predict(X_test)\n",
    "\n",
    "dtc.fit(X_train, y_train)\n",
    "dtc_pred = dtc.predict(X_test)\n",
    "\n",
    "rfc.fit(X_train, y_train)\n",
    "rfc_pred = rfc.predict(X_test)\n",
    "\n",
    "xgboost.fit(X_train, y_train)\n",
    "xgboost_pred = xgboost.predict(X_test)\n",
    "\n",
    "lightgbm.fit(X_train, y_train)\n",
    "lightgbm_pred = lightgbm.predict(X_test)\n",
    "\n",
    "catboost.fit(X_train, y_train)\n",
    "catboost_pred = catboost.predict(X_test)"
   ]
  },
  {
   "cell_type": "code",
   "execution_count": 144,
   "metadata": {
    "colab": {
     "base_uri": "https://localhost:8080/"
    },
    "id": "Bx_ZenJ_YYWS",
    "outputId": "a249b66d-7d1e-429b-c6b9-6616be529993"
   },
   "outputs": [
    {
     "name": "stdout",
     "output_type": "stream",
     "text": [
      "ROC-AUC SupportVectorClassifier: 0.6930551755585955\n",
      "ROC-AUC DecisionTreeClassifier: 0.6099452804377565\n",
      "ROC-AUC RandomForestClassifier: 0.6256923544611643\n",
      "ROC-AUC XGBoost: 0.6534731722146223\n",
      "ROC-AUC LightGBM: 0.6618483052135582\n",
      "ROC-AUC CatBoost: 0.6774099407204742\n"
     ]
    }
   ],
   "source": [
    "print(f'ROC-AUC SupportVectorClassifier: {roc_auc_score(y_test, svc_pred)}')\n",
    "print(f'ROC-AUC DecisionTreeClassifier: {roc_auc_score(y_test, dtc_pred)}')\n",
    "print(f'ROC-AUC RandomForestClassifier: {roc_auc_score(y_test, rfc_pred)}')\n",
    "print(f'ROC-AUC XGBoost: {roc_auc_score(y_test, xgboost_pred)}')\n",
    "print(f'ROC-AUC LightGBM: {roc_auc_score(y_test, lightgbm_pred)}')\n",
    "print(f'ROC-AUC CatBoost: {roc_auc_score(y_test, catboost_pred)}')"
   ]
  },
  {
   "cell_type": "code",
   "execution_count": null,
   "metadata": {
    "id": "Z1SEMKnRYYT2"
   },
   "outputs": [],
   "source": []
  }
 ],
 "metadata": {
  "colab": {
   "provenance": []
  },
  "kernelspec": {
   "display_name": "Python, course work",
   "language": "python",
   "name": "course-work-venv"
  },
  "language_info": {
   "codemirror_mode": {
    "name": "ipython",
    "version": 3
   },
   "file_extension": ".py",
   "mimetype": "text/x-python",
   "name": "python",
   "nbconvert_exporter": "python",
   "pygments_lexer": "ipython3",
   "version": "3.11.10"
  }
 },
 "nbformat": 4,
 "nbformat_minor": 4
}
