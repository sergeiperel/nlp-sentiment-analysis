{
 "cells": [
  {
   "cell_type": "markdown",
   "id": "24c7c2c7-7d0d-4984-9d69-0bf6a64aac7c",
   "metadata": {},
   "source": [
    "## Эксперименты с моделями"
   ]
  },
  {
   "cell_type": "markdown",
   "id": "8d047602-aaa4-4fbf-b397-560c871a332f",
   "metadata": {},
   "source": [
    "### Импорт зависимостей"
   ]
  },
  {
   "cell_type": "markdown",
   "id": "8a7bdacb-6a54-4560-bad8-3d7bede677bf",
   "metadata": {},
   "source": [
    "**Загрузка библиотек**"
   ]
  },
  {
   "cell_type": "code",
   "execution_count": 1,
   "id": "7d7dd467-7996-44a4-b195-5d6f189ac39c",
   "metadata": {},
   "outputs": [],
   "source": [
    "import pandas as pd\n",
    "import numpy as np"
   ]
  },
  {
   "cell_type": "code",
   "execution_count": 2,
   "id": "535f6303-2098-4213-ac7a-e3d2866a4531",
   "metadata": {},
   "outputs": [],
   "source": [
    "import nltk\n",
    "from nltk import pos_tag, ngrams\n",
    "from nltk.tokenize import word_tokenize\n",
    "from nltk.corpus import stopwords\n",
    "from nltk.stem import WordNetLemmatizer\n",
    "from collections import Counter\n",
    "from html import unescape"
   ]
  },
  {
   "cell_type": "code",
   "execution_count": 3,
   "id": "57695d59-b618-482a-82f2-0e1e3449d521",
   "metadata": {},
   "outputs": [
    {
     "name": "stderr",
     "output_type": "stream",
     "text": [
      "[nltk_data] Downloading package punkt to\n",
      "[nltk_data]     /Users/vladkopchev/nltk_data...\n",
      "[nltk_data]   Package punkt is already up-to-date!\n",
      "[nltk_data] Downloading package stopwords to\n",
      "[nltk_data]     /Users/vladkopchev/nltk_data...\n",
      "[nltk_data]   Package stopwords is already up-to-date!\n",
      "[nltk_data] Downloading package punkt_tab to\n",
      "[nltk_data]     /Users/vladkopchev/nltk_data...\n",
      "[nltk_data]   Package punkt_tab is already up-to-date!\n",
      "[nltk_data] Downloading package wordnet to\n",
      "[nltk_data]     /Users/vladkopchev/nltk_data...\n",
      "[nltk_data]   Package wordnet is already up-to-date!\n"
     ]
    }
   ],
   "source": [
    "nltk.download('punkt')\n",
    "nltk.download('stopwords')\n",
    "nltk.download('punkt_tab')\n",
    "nltk.download('wordnet')\n",
    "stop_words = set(stopwords.words('english'))"
   ]
  },
  {
   "cell_type": "code",
   "execution_count": 4,
   "id": "fc042f7c-e74e-48b2-bcfe-fae980eedec3",
   "metadata": {},
   "outputs": [],
   "source": [
    "from sklearn.feature_extraction.text import TfidfVectorizer, CountVectorizer"
   ]
  },
  {
   "cell_type": "code",
   "execution_count": 5,
   "id": "f915e716-4a39-4140-b22f-0d40c1d2d45b",
   "metadata": {},
   "outputs": [],
   "source": [
    "from sklearn.model_selection import train_test_split\n",
    "from sklearn.naive_bayes import GaussianNB"
   ]
  },
  {
   "cell_type": "code",
   "execution_count": 6,
   "id": "7b8c7871-ac5e-441a-9a25-535ecdbe29c2",
   "metadata": {},
   "outputs": [],
   "source": [
    "from sklearn.naive_bayes import MultinomialNB\n",
    "from sklearn.metrics import roc_auc_score\n",
    "import matplotlib.pyplot as plt"
   ]
  },
  {
   "cell_type": "code",
   "execution_count": 7,
   "id": "f41e0469-9051-42d0-b326-972e6b0cf38a",
   "metadata": {},
   "outputs": [],
   "source": [
    "from sklearn.model_selection import cross_validate"
   ]
  },
  {
   "cell_type": "code",
   "execution_count": 8,
   "id": "5b39d5c2-65b7-467c-bd47-8356bc8d2f3a",
   "metadata": {},
   "outputs": [],
   "source": [
    "from sklearn.neighbors import KNeighborsClassifier"
   ]
  },
  {
   "cell_type": "code",
   "execution_count": 9,
   "id": "ecbf5581-a732-4d6e-9443-b7af9a27e248",
   "metadata": {},
   "outputs": [],
   "source": [
    "from sklearn.model_selection import GridSearchCV"
   ]
  },
  {
   "cell_type": "code",
   "execution_count": 10,
   "id": "ada039b8-984d-4448-9764-86fe51f374a1",
   "metadata": {},
   "outputs": [],
   "source": [
    "from sklearn.linear_model import LogisticRegression"
   ]
  },
  {
   "cell_type": "code",
   "execution_count": 11,
   "id": "5425137f-48b9-4b36-afe2-c3ed2f6846ec",
   "metadata": {},
   "outputs": [],
   "source": [
    "from sklearn.metrics import accuracy_score"
   ]
  },
  {
   "cell_type": "code",
   "execution_count": 12,
   "id": "1398b3ca-ddd4-41c3-bd55-80e6f31dee88",
   "metadata": {},
   "outputs": [],
   "source": [
    "from sklearn.model_selection import cross_val_score"
   ]
  },
  {
   "cell_type": "code",
   "execution_count": 13,
   "id": "89495a3d-3b3b-4b89-bebd-2572c23eb760",
   "metadata": {},
   "outputs": [],
   "source": [
    "from sklearn.metrics import roc_auc_score"
   ]
  },
  {
   "cell_type": "code",
   "execution_count": 14,
   "id": "806f99fe-5845-46c6-9779-c47e240e4c06",
   "metadata": {},
   "outputs": [
    {
     "name": "stderr",
     "output_type": "stream",
     "text": [
      "/opt/homebrew/Caskroom/miniconda/base/envs/course-work-venv/lib/python3.11/site-packages/tqdm/auto.py:21: TqdmWarning: IProgress not found. Please update jupyter and ipywidgets. See https://ipywidgets.readthedocs.io/en/stable/user_install.html\n",
      "  from .autonotebook import tqdm as notebook_tqdm\n"
     ]
    }
   ],
   "source": [
    "import optuna, catboost"
   ]
  },
  {
   "cell_type": "markdown",
   "id": "82362391-61ac-4d1e-b295-d221ff41b538",
   "metadata": {},
   "source": [
    "**Определяем функции, которые нам понадобятся в экспериментах**"
   ]
  },
  {
   "cell_type": "code",
   "execution_count": 15,
   "id": "0141a49e-4bf5-415d-a1a4-420e9c7963eb",
   "metadata": {},
   "outputs": [],
   "source": [
    "def prettify_scores(scores_dict, model_name):\n",
    "    mean_scores = pd.DataFrame(scores_dict).iloc[:,2:].mean(axis=0)\n",
    "    return pd.DataFrame(\n",
    "        data=mean_scores.values.reshape(1, -1), \n",
    "        columns=['Precision', 'Recall', 'F1', 'ROC-AUC'], \n",
    "        index=[model_name]\n",
    "    )"
   ]
  },
  {
   "cell_type": "code",
   "execution_count": 16,
   "id": "0d7e5630-12f0-475e-a312-f2779827fe3e",
   "metadata": {},
   "outputs": [],
   "source": [
    "def return_best_param(cv_dict, param_name):\n",
    "    cv_df = pd.DataFrame(cv_dict).loc[:, [f'param_{param_name}', 'mean_test_score', 'mean_train_score']]\n",
    "    cv_df['roc_auc_diff'] = np.abs(cv_df.mean_train_score - cv_df.mean_test_score)\n",
    "    return cv_df.query('roc_auc_diff < 0.11').sort_values('mean_test_score')[f'param_{param_name}'].iloc[-1]"
   ]
  },
  {
   "cell_type": "code",
   "execution_count": 17,
   "id": "6d143926-a4aa-43e1-88a6-8c63e0497840",
   "metadata": {},
   "outputs": [],
   "source": [
    "def return_best_params(cv_dict, param1_name, param2_name):\n",
    "    res_df = pd.DataFrame(\n",
    "        cv_dict\n",
    "    ).loc[:, [f'param_{\"max_depth\"}', f'param_{\"min_samples_split\"}', 'mean_train_score', 'mean_test_score']]\n",
    "    res_df['roc_auc_diff'] = np.abs(res_df.mean_train_score - res_df.mean_test_score)\n",
    "    return res_df.query(\n",
    "        'roc_auc_diff < 0.11'\n",
    "    ).sort_values(\n",
    "        'mean_test_score'\n",
    "    ).iloc[-1].loc[[f'param_{\"max_depth\"}', f'param_{\"min_samples_split\"}']].values.tolist()"
   ]
  },
  {
   "cell_type": "markdown",
   "id": "636976cf-8475-45a7-97fc-0a3ce0e1558a",
   "metadata": {},
   "source": [
    "**Зарузка данных**"
   ]
  },
  {
   "cell_type": "code",
   "execution_count": 18,
   "id": "a8394fec-2bce-43eb-a2b8-0f37fb449c7c",
   "metadata": {},
   "outputs": [],
   "source": [
    "df = pd.read_parquet(\n",
    "    'elon_musk_tweets_labeled.parquet'\n",
    ").drop(\n",
    "    [\n",
    "        'id', \n",
    "        'hashtags', \n",
    "        'user_name', \n",
    "        'user_created', \n",
    "        'is_retweet', \n",
    "        'date'\n",
    "    ], \n",
    "    axis=1\n",
    ")  # Файл формируется в ноутбуке preprocessing"
   ]
  },
  {
   "cell_type": "markdown",
   "id": "75781032-a7a2-4929-af28-6c0b662dfc17",
   "metadata": {},
   "source": [
    "**Предварительная обработка данных**"
   ]
  },
  {
   "cell_type": "code",
   "execution_count": 19,
   "id": "38dd4634-4cc7-4670-b74b-6447d3136816",
   "metadata": {},
   "outputs": [],
   "source": [
    "df = pd.get_dummies(\n",
    "    df, \n",
    "    columns=['user_location', 'user_description', 'user_verified', 'source'], \n",
    "    drop_first=True, \n",
    "    dtype=int\n",
    ")"
   ]
  },
  {
   "cell_type": "markdown",
   "id": "19f69a4c-2406-465c-81bf-335b50cca366",
   "metadata": {},
   "source": [
    "Очистка:"
   ]
  },
  {
   "cell_type": "code",
   "execution_count": 20,
   "id": "1e945580-ff00-43cc-842b-6e65ad42f0d8",
   "metadata": {},
   "outputs": [],
   "source": [
    "df['text'] = df['text'].apply(unescape)"
   ]
  },
  {
   "cell_type": "code",
   "execution_count": 21,
   "id": "69ef3f38-72ad-4a4e-a50e-804eefa458d0",
   "metadata": {},
   "outputs": [
    {
     "name": "stdout",
     "output_type": "stream",
     "text": [
      "Символ '&quot;' не найден в датасете.\n",
      "Символ '&amp;' не найден в датасете.\n",
      "Символ '&lt' не найден в датасете.\n",
      "Символ '&gt;' не найден в датасете.\n",
      "Символ '&apos;' не найден в датасете.\n",
      "Символ '&#39;' не найден в датасете.\n"
     ]
    }
   ],
   "source": [
    "HTML_symbols_check = ['&quot;', '&amp;', '&lt', '&gt;', '&apos;', '&#39;'] #Проверяем, что HTML-cущности заменены на соответствующие символы\n",
    "\n",
    "for symbol in HTML_symbols_check:\n",
    "    if df['text'].str.contains(symbol).any():\n",
    "        print(f\"Символ '{symbol}' найден в датасете.\")\n",
    "    else:\n",
    "        print(f\"Символ '{symbol}' не найден в датасете.\")"
   ]
  },
  {
   "cell_type": "code",
   "execution_count": 22,
   "id": "d388e2d0-3697-4857-93a0-617105e89d13",
   "metadata": {},
   "outputs": [],
   "source": [
    "df['text'] = df['text'].str.replace(r'[a-zA-Z0-9._%+-]+@[a-zA-Z0-9.-]+\\.[a-zA-Z]{2,}', '', regex=True) #Удаляем emails\n",
    "df['text'] = df['text'].str.replace(r'@([A-Za-z0-9_]{1,})', '', regex=True) #Удаляем ники\n",
    "df['text'] = df['text'].str.replace(r'(https?:\\/\\/(?:www\\.|(?!www))[a-zA-Z0-9][a-zA-Z0-9-]+[a-zA-Z0-9]\\.[^\\s]{2,}|www\\.[a-zA-Z0-9][a-zA-Z0-9-]+[a-zA-Z0-9]\\.[^\\s]{2,}|https?:\\/\\/(?:www\\.|(?!www))[a-zA-Z0-9]+\\.[^\\s]{2,}|www\\.[a-zA-Z0-9]+\\.[^\\s]{2,})', '', regex=True) #Удаляем urls\n",
    "\n",
    "df['text'] = df['text'].str.lower()\n",
    "df['text'] = df['text'].str.replace(r'[^a-zA-Z\\s]', '', regex=True) #Удаляем знаки препинания и цифры и оставляем только буквы и пробелы\n",
    "df['text'] = df['text'].str.replace(r'\\s+', ' ', regex=True).str.strip()  #Удаляем лишние пробелы"
   ]
  },
  {
   "cell_type": "markdown",
   "id": "4a20ca2e-a940-42f6-b7bf-6c0e43efaae5",
   "metadata": {},
   "source": [
    "Токенизация:"
   ]
  },
  {
   "cell_type": "code",
   "execution_count": 23,
   "id": "f06ab8b4-9337-407e-91df-f5164efad4da",
   "metadata": {},
   "outputs": [],
   "source": [
    "df['tokens'] = df['text'].apply(word_tokenize)"
   ]
  },
  {
   "cell_type": "markdown",
   "id": "f758891a-0c6b-4b5d-a211-a78bf54f3044",
   "metadata": {},
   "source": [
    "Удаление стоп-слов:"
   ]
  },
  {
   "cell_type": "code",
   "execution_count": 24,
   "id": "ffa97ca9-3a8a-4dac-91c3-d836202bf166",
   "metadata": {},
   "outputs": [],
   "source": [
    "def delete_stopwords(tokens):\n",
    "    cleaned = []\n",
    "    for word in tokens:\n",
    "        if word not in stop_words:\n",
    "            cleaned.append(word)\n",
    "    return cleaned\n",
    "\n",
    "df['cleaned_tokens'] = df['tokens'].apply(delete_stopwords)"
   ]
  },
  {
   "cell_type": "markdown",
   "id": "fb47ecc9-bfb3-4de1-8e62-dcbda844b432",
   "metadata": {},
   "source": [
    "Лемматизация:"
   ]
  },
  {
   "cell_type": "code",
   "execution_count": 25,
   "id": "b6175b98-224a-4955-bc5c-1edb149ff01e",
   "metadata": {},
   "outputs": [],
   "source": [
    "lemmatizer = WordNetLemmatizer()"
   ]
  },
  {
   "cell_type": "code",
   "execution_count": 26,
   "id": "a28878fb-3a41-4eec-980e-57f538f0108e",
   "metadata": {},
   "outputs": [],
   "source": [
    "def lemmatize_tokens(tokens):\n",
    "    lemmatized = []\n",
    "    for word in tokens:\n",
    "        lemmatized.append(lemmatizer.lemmatize(word))\n",
    "    return lemmatized\n",
    "\n",
    "df['lemmatized'] = df['cleaned_tokens'].apply(lemmatize_tokens)"
   ]
  },
  {
   "cell_type": "code",
   "execution_count": 27,
   "id": "049ff768-3c37-4ccb-8c5c-45d0beabf50c",
   "metadata": {},
   "outputs": [],
   "source": [
    "df['lemmatized'] = df['lemmatized'].apply(' '.join)"
   ]
  },
  {
   "cell_type": "code",
   "execution_count": 28,
   "id": "499d6e6a-9bcd-4ee8-b2ca-d0246f60cefc",
   "metadata": {},
   "outputs": [],
   "source": [
    "df.drop(['text', 'tokens', 'cleaned_tokens'], axis=1, inplace=True)"
   ]
  },
  {
   "cell_type": "markdown",
   "id": "7769d68a-d95c-4cf0-b533-2cdf4191fa85",
   "metadata": {},
   "source": [
    "### Простые правила"
   ]
  },
  {
   "cell_type": "markdown",
   "id": "1d5ae4ba-9cb7-41ea-b942-0cd6a7257163",
   "metadata": {},
   "source": [
    "**Формируем $X, y$**"
   ]
  },
  {
   "cell_type": "code",
   "execution_count": 29,
   "id": "33232337-1323-4767-aeda-4af6937d5693",
   "metadata": {},
   "outputs": [],
   "source": [
    "X = df.lemmatized\n",
    "y = df.feeling_auto\n",
    "X_train, X_test, y_train, y_test = train_test_split(X, y, test_size=0.3, random_state=0)"
   ]
  },
  {
   "cell_type": "markdown",
   "id": "640cc87e-9364-475b-ab5b-ed4d4210d153",
   "metadata": {},
   "source": [
    "**Рандом**"
   ]
  },
  {
   "cell_type": "code",
   "execution_count": 30,
   "id": "4aba52ce-40f2-4205-af9e-42ce4bf1729b",
   "metadata": {},
   "outputs": [
    {
     "data": {
      "text/plain": [
       "0.38261851015801357"
      ]
     },
     "execution_count": 30,
     "metadata": {},
     "output_type": "execute_result"
    }
   ],
   "source": [
    "y_pred = np.random.randint(low=0, high=1, size=y_test.shape[0])\n",
    "accuracy_score(y_test, y_pred)"
   ]
  },
  {
   "cell_type": "markdown",
   "id": "75ed93e3-d49a-4ca2-aa7b-12c7f94b1632",
   "metadata": {},
   "source": [
    "**Простые правила**"
   ]
  },
  {
   "cell_type": "code",
   "execution_count": 31,
   "id": "548d6b1e-c2e7-4026-8b00-da59bc2c0c73",
   "metadata": {},
   "outputs": [],
   "source": [
    "def rule_predict(x):\n",
    "    return ~x.str.contains('(bad|sad)', regex=True)"
   ]
  },
  {
   "cell_type": "code",
   "execution_count": 32,
   "id": "f9bfc012-51ce-4c9c-91d2-823d05ae7ea4",
   "metadata": {},
   "outputs": [
    {
     "name": "stderr",
     "output_type": "stream",
     "text": [
      "/var/folders/0k/pk7zyw6x2sqcjpbqvgf0ssh80000gn/T/ipykernel_76585/819608852.py:2: UserWarning: This pattern is interpreted as a regular expression, and has match groups. To actually get the groups, use str.extract.\n",
      "  return ~x.str.contains('(bad|sad)', regex=True)\n"
     ]
    }
   ],
   "source": [
    "y_pred = rule_predict(X_test)"
   ]
  },
  {
   "cell_type": "code",
   "execution_count": 33,
   "id": "07192486-3d58-4813-a801-e3315893e39c",
   "metadata": {},
   "outputs": [
    {
     "data": {
      "text/plain": [
       "0.6224604966139955"
      ]
     },
     "execution_count": 33,
     "metadata": {},
     "output_type": "execute_result"
    }
   ],
   "source": [
    "accuracy_score(y_test, y_pred)"
   ]
  },
  {
   "cell_type": "markdown",
   "id": "7d70d669-5e3b-4266-9220-2d2d88db683a",
   "metadata": {},
   "source": [
    "**Словарный подход**"
   ]
  },
  {
   "cell_type": "code",
   "execution_count": 34,
   "id": "36b8e623-335f-48c0-9840-582e5c5049a1",
   "metadata": {},
   "outputs": [
    {
     "name": "stdout",
     "output_type": "stream",
     "text": [
      "iso-8859-1\n"
     ]
    }
   ],
   "source": [
    "!file -I ./opinion-lexicon-English/negative-words.txt | sed 's/.*charset=//g'"
   ]
  },
  {
   "cell_type": "code",
   "execution_count": 35,
   "id": "73a35c95-8528-4683-89df-2dc3c53a94dd",
   "metadata": {},
   "outputs": [],
   "source": [
    "with open('./opinion-lexicon-English/negative-words.txt', 'r', encoding='iso-8859-1') as f:\n",
    "    neg = f.read()"
   ]
  },
  {
   "cell_type": "code",
   "execution_count": 36,
   "id": "7e61bab5-6ce8-494b-ba03-d6bb6f13997c",
   "metadata": {},
   "outputs": [],
   "source": [
    "with open('./opinion-lexicon-English/positive-words.txt', 'r', encoding='iso-8859-1') as f:\n",
    "    pos = f.read()"
   ]
  },
  {
   "cell_type": "code",
   "execution_count": 37,
   "id": "d772c914-43bd-4f98-9edb-caccf71702de",
   "metadata": {},
   "outputs": [],
   "source": [
    "pos = pos.split('\\n')[31:]\n",
    "neg = neg.split('\\n')[31:]"
   ]
  },
  {
   "cell_type": "code",
   "execution_count": 38,
   "id": "ba34a1bb-4830-4de9-8294-bcca2b41bca4",
   "metadata": {},
   "outputs": [],
   "source": [
    "sentiment_dict = {**{w: 1 for w in pos}, **{w: -1 for w in neg}}"
   ]
  },
  {
   "cell_type": "code",
   "execution_count": 39,
   "id": "85adc37e-c304-472f-856f-53a717801ff6",
   "metadata": {},
   "outputs": [],
   "source": [
    "def get_dict_scores(tweets):\n",
    "    return np.array(list(map(lambda x : sentiment_dict.get(x, 0), tweets)))"
   ]
  },
  {
   "cell_type": "code",
   "execution_count": 40,
   "id": "c4a9e372-e7da-49d2-b408-2f83174b5139",
   "metadata": {},
   "outputs": [],
   "source": [
    "def get_prediction(X, proba_func):\n",
    "    return X.str.split().apply(lambda lst : proba_func(get_dict_scores(lst))).fillna(0.5)"
   ]
  },
  {
   "cell_type": "markdown",
   "id": "6a9108f7-350e-44c2-b0fa-c775088a16ef",
   "metadata": {},
   "source": [
    "Примеры трех подходов:"
   ]
  },
  {
   "cell_type": "code",
   "execution_count": 41,
   "id": "e3daf70d-a430-45ad-be44-619bcfcfa626",
   "metadata": {},
   "outputs": [
    {
     "name": "stderr",
     "output_type": "stream",
     "text": [
      "/opt/homebrew/Caskroom/miniconda/base/envs/course-work-venv/lib/python3.11/site-packages/numpy/core/fromnumeric.py:3504: RuntimeWarning: Mean of empty slice.\n",
      "  return _methods._mean(a, axis=axis, dtype=dtype,\n",
      "/opt/homebrew/Caskroom/miniconda/base/envs/course-work-venv/lib/python3.11/site-packages/numpy/core/_methods.py:129: RuntimeWarning: invalid value encountered in scalar divide\n",
      "  ret = ret.dtype.type(ret / rcount)\n"
     ]
    }
   ],
   "source": [
    "y_pred = get_prediction(X_test, lambda scores : np.mean(scores) > 0.5)  # simple mean"
   ]
  },
  {
   "cell_type": "code",
   "execution_count": 42,
   "id": "d457ba7c-d9f4-4f15-85fd-e61f170cfbd1",
   "metadata": {},
   "outputs": [
    {
     "name": "stderr",
     "output_type": "stream",
     "text": [
      "/var/folders/0k/pk7zyw6x2sqcjpbqvgf0ssh80000gn/T/ipykernel_76585/2307301785.py:3: RuntimeWarning: invalid value encountered in scalar divide\n",
      "  lambda scores : ((scores.sum() - (1 - scores).sum()) / ((scores.sum() + (1 - scores).sum()))) > 0.5\n"
     ]
    }
   ],
   "source": [
    "y_pred = get_prediction(\n",
    "    X_test, \n",
    "    lambda scores : ((scores.sum() - (1 - scores).sum()) / ((scores.sum() + (1 - scores).sum()))) > 0.5\n",
    ")  # relative proportion"
   ]
  },
  {
   "cell_type": "code",
   "execution_count": 43,
   "id": "59f883db-adab-40e1-8399-6f5d0669e783",
   "metadata": {},
   "outputs": [],
   "source": [
    "y_pred = get_prediction(\n",
    "    X_test, \n",
    "    lambda scores : np.log(np.sum(scores[scores == 1]) + 0.5) - np.log(np.sum(scores[scores == 0]) + 0.5) > 0.5\n",
    ")  # logit"
   ]
  },
  {
   "cell_type": "markdown",
   "id": "6b3d9ae4-694f-441d-94b3-a1b03496db10",
   "metadata": {},
   "source": [
    "Наилучший из них:"
   ]
  },
  {
   "cell_type": "code",
   "execution_count": 45,
   "id": "9cdf3483-63d1-422d-ab12-bb7f6c877099",
   "metadata": {},
   "outputs": [
    {
     "data": {
      "text/plain": [
       "0.5744920993227991"
      ]
     },
     "execution_count": 45,
     "metadata": {},
     "output_type": "execute_result"
    }
   ],
   "source": [
    "accuracy_score(y_test, y_pred)"
   ]
  },
  {
   "cell_type": "markdown",
   "id": "e12b9981-ba3a-4ca7-8f21-0ec9baf9c33f",
   "metadata": {},
   "source": [
    "### Простые модели, BoW"
   ]
  },
  {
   "cell_type": "markdown",
   "id": "0a2af225-3553-4302-a12e-94c10b981d03",
   "metadata": {},
   "source": [
    "Логично сравнивать не как модели ведут себя на базовых параметрах, а какого максимума они способны достичь. Ищем гиперпараметры, при которых модель лучше всего оценивает вероятности. Чтобы исключить переобучение, будем смотреть только на параметры, где разница в средних `ROC-AUC` на трейне и тесте не больше 10%."
   ]
  },
  {
   "cell_type": "markdown",
   "id": "454005bc-0e4f-4a3b-ab1f-ea41b60b0229",
   "metadata": {},
   "source": [
    "**Формируем $X, y$**"
   ]
  },
  {
   "cell_type": "markdown",
   "id": "84427138-d777-42c1-b1d5-4227640ca6b2",
   "metadata": {},
   "source": [
    "Для начала подберем оптимальное количество фичей для `BoW`. Для этого замерим метрику `ROC-AUC` для простейшей модели (Наивный Байес), обученной только на векторных представлениях, и посмотрим, после какого значения добавления новых фичей уже практически не улучшает оценку вероятностей этой моделью."
   ]
  },
  {
   "cell_type": "code",
   "execution_count": 46,
   "id": "2e7b63e4-017e-4616-a1f9-f3be3118916a",
   "metadata": {},
   "outputs": [
    {
     "name": "stdout",
     "output_type": "stream",
     "text": [
      "CPU times: user 35.9 s, sys: 23.3 s, total: 59.2 s\n",
      "Wall time: 8.62 s\n"
     ]
    }
   ],
   "source": [
    "%%time\n",
    "\n",
    "param_vals = list(range(1, 3000, 50))\n",
    "metric_vals = []\n",
    "\n",
    "for param_max_features in param_vals:\n",
    "    vectorizer = CountVectorizer(max_features=param_max_features)\n",
    "    tweets_bow = vectorizer.fit_transform(df['lemmatized'])\n",
    "    \n",
    "    tweets_bow = pd.DataFrame(\n",
    "        data=tweets_bow.toarray(), \n",
    "        columns=vectorizer.get_feature_names_out()\n",
    "    )\n",
    "    \n",
    "    X = tweets_bow\n",
    "    y = df.feeling_auto\n",
    "\n",
    "    X_train, X_test, y_train, y_test = train_test_split(X, y, test_size=0.3, random_state=0)\n",
    "\n",
    "    clf = MultinomialNB()\n",
    "    clf.fit(X_train, y_train)\n",
    "    metric_vals.append(roc_auc_score(y_test, clf.predict_proba(X_test)[:,1]))"
   ]
  },
  {
   "cell_type": "markdown",
   "id": "99a4c166-65f1-406e-b1a2-0873e5546770",
   "metadata": {},
   "source": [
    "Видим, что график `ROC-AUC` стабилизируется примерно после `x=700` примерно на уровне `y=0.8` Поэтому выберем `max_features=700`."
   ]
  },
  {
   "cell_type": "code",
   "execution_count": 47,
   "id": "ba616b07-98b6-421d-aea1-bddf4638374f",
   "metadata": {},
   "outputs": [
    {
     "data": {
      "text/plain": [
       "<matplotlib.lines.Line2D at 0x177e70fd0>"
      ]
     },
     "execution_count": 47,
     "metadata": {},
     "output_type": "execute_result"
    },
    {
     "data": {
      "image/png": "[encoded data removed]",
      "text/plain": [
       "<Figure size 1800x600 with 1 Axes>"
      ]
     },
     "metadata": {},
     "output_type": "display_data"
    }
   ],
   "source": [
    "plt.figure(figsize=(6, 2), dpi=300)\n",
    "plt.plot(param_vals, metric_vals)\n",
    "\n",
    "plt.title('ROC-AUC наивного Байеса в зависимости от параметра max_features', fontsize=7)\n",
    "plt.xlabel('Значение max_features', fontsize=6)\n",
    "plt.ylabel('Значение ROC-AUC наивного Байеса', fontsize=6)\n",
    "plt.xticks(fontsize=5)\n",
    "plt.yticks(fontsize=5)\n",
    "plt.axvline(x=700, linestyle='--', c='grey', alpha=0.7, linewidth=1)\n",
    "plt.axhline(y=0.81, linestyle='--', c='grey', alpha=0.7, linewidth=1)"
   ]
  },
  {
   "cell_type": "markdown",
   "id": "9f9e5571-a11a-4954-ae41-1bd18561e503",
   "metadata": {},
   "source": [
    "Теперь создадим итоговый `X`, который будет содержать оптимальные `BoW`-представления + остальные фичи из датасета."
   ]
  },
  {
   "cell_type": "code",
   "execution_count": 48,
   "id": "085af711-6cde-47c6-9a5b-44b35e81922d",
   "metadata": {},
   "outputs": [],
   "source": [
    "vectorizer = CountVectorizer(max_features=700)\n",
    "tweets_bow = vectorizer.fit_transform(df['lemmatized'])\n",
    "\n",
    "tweets_bow = pd.DataFrame(\n",
    "    data=tweets_bow.toarray(), \n",
    "    columns=vectorizer.get_feature_names_out()\n",
    ")\n",
    "\n",
    "X = pd.concat([df, tweets_bow], axis=1).drop(['feeling_auto', 'lemmatized'], axis=1)\n",
    "y = df.feeling_auto"
   ]
  },
  {
   "cell_type": "code",
   "execution_count": 49,
   "id": "c4f868d4-d186-4d4f-80b3-209bde7c4e37",
   "metadata": {},
   "outputs": [],
   "source": [
    "simple_metric_vals = []"
   ]
  },
  {
   "cell_type": "markdown",
   "id": "257766ad-27ed-4562-af1c-f02ccb60b8c1",
   "metadata": {},
   "source": [
    "**BoW + Наивный Байес**"
   ]
  },
  {
   "cell_type": "markdown",
   "id": "9f5695a3-ce0a-4375-a126-138a6b2041f0",
   "metadata": {},
   "source": [
    "[Описание](https://scikit-learn.org/1.5/modules/naive_bayes.html)"
   ]
  },
  {
   "cell_type": "code",
   "execution_count": 50,
   "id": "bd57f21b-fd7f-44ef-85d3-be84c394b64b",
   "metadata": {},
   "outputs": [
    {
     "name": "stdout",
     "output_type": "stream",
     "text": [
      "CPU times: user 360 ms, sys: 129 ms, total: 489 ms\n",
      "Wall time: 494 ms\n"
     ]
    }
   ],
   "source": [
    "%%time\n",
    "\n",
    "gnb = GaussianNB()\n",
    "\n",
    "simple_metric_vals.append(\n",
    "    prettify_scores(\n",
    "        scores_dict=cross_validate(\n",
    "            estimator=gnb,\n",
    "            X=X,\n",
    "            y=y,\n",
    "            scoring=['precision', 'recall', 'f1', 'roc_auc'],\n",
    "            cv=10\n",
    "        ),\n",
    "        model_name='Наивный Байес + BoW'\n",
    "    )\n",
    ")"
   ]
  },
  {
   "cell_type": "markdown",
   "id": "f9029edc-d4d4-49b4-88d5-1fde8e2575e3",
   "metadata": {},
   "source": [
    "**BoW + $k$ ближайших соседей**"
   ]
  },
  {
   "cell_type": "code",
   "execution_count": 51,
   "id": "3c4d0e2d-74c7-42ee-bcc2-3d8c8f69d455",
   "metadata": {},
   "outputs": [],
   "source": [
    "knn = KNeighborsClassifier()"
   ]
  },
  {
   "cell_type": "markdown",
   "id": "a9a2060d-bab5-4993-90e3-e495e3e5b076",
   "metadata": {},
   "source": [
    "Найдем оптимальные гиперпараметры:"
   ]
  },
  {
   "cell_type": "code",
   "execution_count": 52,
   "id": "97d2f0ee-b547-4cb8-9bd1-6f0a892ade18",
   "metadata": {},
   "outputs": [
    {
     "name": "stdout",
     "output_type": "stream",
     "text": [
      "CPU times: user 12min 16s, sys: 5min 31s, total: 17min 48s\n",
      "Wall time: 3min 30s\n"
     ]
    }
   ],
   "source": [
    "%%time\n",
    "\n",
    "grid_search_res = GridSearchCV(\n",
    "    estimator=knn,\n",
    "    param_grid={'n_neighbors': range(500, 1500, 50)},\n",
    "    scoring='roc_auc',\n",
    "    cv=10,\n",
    "    return_train_score=True\n",
    ").fit(X, y)"
   ]
  },
  {
   "cell_type": "markdown",
   "id": "c7daf3eb-c8e8-4c73-a156-30cc35427ccf",
   "metadata": {},
   "source": [
    "Посмотрим на результат:"
   ]
  },
  {
   "cell_type": "code",
   "execution_count": 53,
   "id": "91164c13-3887-4257-9fcf-94c3c8abf5ad",
   "metadata": {},
   "outputs": [],
   "source": [
    "knn = KNeighborsClassifier(\n",
    "    n_neighbors=return_best_param(\n",
    "        grid_search_res.cv_results_, \n",
    "        'n_neighbors'\n",
    "    )\n",
    ")"
   ]
  },
  {
   "cell_type": "code",
   "execution_count": 54,
   "id": "a48ad066-9c31-4eba-818f-b3f3482c9e23",
   "metadata": {},
   "outputs": [
    {
     "name": "stdout",
     "output_type": "stream",
     "text": [
      "CPU times: user 18.6 s, sys: 7.8 s, total: 26.4 s\n",
      "Wall time: 3.85 s\n"
     ]
    }
   ],
   "source": [
    "%%time\n",
    "\n",
    "simple_metric_vals.append(\n",
    "    prettify_scores(\n",
    "        scores_dict=cross_validate(\n",
    "            estimator=knn,\n",
    "            X=X,\n",
    "            y=y,\n",
    "            scoring=['precision', 'recall', 'f1', 'roc_auc'],\n",
    "            cv=10\n",
    "        ),\n",
    "        model_name='kNN + BoW'\n",
    "    )\n",
    ")"
   ]
  },
  {
   "cell_type": "markdown",
   "id": "9d1d0b6d-a5bc-4a73-bb8b-1ec96879ad55",
   "metadata": {},
   "source": [
    "**BoW + Логистическая регрессия**"
   ]
  },
  {
   "cell_type": "code",
   "execution_count": 55,
   "id": "a587469a-67fd-4226-90c7-f92e1f65ed15",
   "metadata": {},
   "outputs": [],
   "source": [
    "lr = LogisticRegression(max_iter=1000)"
   ]
  },
  {
   "cell_type": "code",
   "execution_count": 56,
   "id": "1171509a-3309-4d77-9fea-0ad15f6de704",
   "metadata": {},
   "outputs": [
    {
     "name": "stdout",
     "output_type": "stream",
     "text": [
      "CPU times: user 25min 13s, sys: 1min 48s, total: 27min 1s\n",
      "Wall time: 3min 51s\n"
     ]
    }
   ],
   "source": [
    "%%time\n",
    "\n",
    "grid_search_res = GridSearchCV(\n",
    "    estimator=lr,\n",
    "    param_grid={'C': np.linspace(0.1, 1, 50)},\n",
    "    scoring='roc_auc',\n",
    "    cv=10,\n",
    "    return_train_score=True\n",
    ").fit(X, y)"
   ]
  },
  {
   "cell_type": "code",
   "execution_count": 57,
   "id": "7e2b257b-bdcc-4bba-9250-281d4e3b01de",
   "metadata": {},
   "outputs": [],
   "source": [
    "lr = LogisticRegression(\n",
    "    max_iter=1000, \n",
    "    C=return_best_param(\n",
    "        grid_search_res.cv_results_, \n",
    "        'C'\n",
    "    )\n",
    ")"
   ]
  },
  {
   "cell_type": "code",
   "execution_count": 58,
   "id": "c0795628-d49e-4fb7-814d-f14a317fe574",
   "metadata": {},
   "outputs": [
    {
     "name": "stdout",
     "output_type": "stream",
     "text": [
      "CPU times: user 33.3 s, sys: 1.88 s, total: 35.1 s\n",
      "Wall time: 5.1 s\n"
     ]
    }
   ],
   "source": [
    "%%time\n",
    "\n",
    "simple_metric_vals.append(\n",
    "    prettify_scores(\n",
    "        scores_dict=cross_validate(\n",
    "            estimator=lr,\n",
    "            X=X,\n",
    "            y=y,\n",
    "            scoring=['precision', 'recall', 'f1', 'roc_auc'],\n",
    "            cv=10\n",
    "        ),\n",
    "        model_name='Логистическая регрессия + BoW'\n",
    "    )\n",
    ")"
   ]
  },
  {
   "cell_type": "markdown",
   "id": "4206eccc-90f5-4efc-b0c6-4d6f64187fc9",
   "metadata": {},
   "source": [
    "**Сравнение**"
   ]
  },
  {
   "cell_type": "code",
   "execution_count": 59,
   "id": "394f1b7a-9764-464b-9f63-122c1ddb377b",
   "metadata": {},
   "outputs": [
    {
     "data": {
      "text/html": [
       "<div>\n",
       "<style scoped>\n",
       "    .dataframe tbody tr th:only-of-type {\n",
       "        vertical-align: middle;\n",
       "    }\n",
       "\n",
       "    .dataframe tbody tr th {\n",
       "        vertical-align: top;\n",
       "    }\n",
       "\n",
       "    .dataframe thead th {\n",
       "        text-align: right;\n",
       "    }\n",
       "</style>\n",
       "<table border=\"1\" class=\"dataframe\">\n",
       "  <thead>\n",
       "    <tr style=\"text-align: right;\">\n",
       "      <th></th>\n",
       "      <th>Precision</th>\n",
       "      <th>Recall</th>\n",
       "      <th>F1</th>\n",
       "      <th>ROC-AUC</th>\n",
       "    </tr>\n",
       "  </thead>\n",
       "  <tbody>\n",
       "    <tr>\n",
       "      <th>Наивный Байес + BoW</th>\n",
       "      <td>0.620196</td>\n",
       "      <td>0.981096</td>\n",
       "      <td>0.759797</td>\n",
       "      <td>0.641602</td>\n",
       "    </tr>\n",
       "    <tr>\n",
       "      <th>kNN + BoW</th>\n",
       "      <td>0.618395</td>\n",
       "      <td>1.000000</td>\n",
       "      <td>0.764207</td>\n",
       "      <td>0.633953</td>\n",
       "    </tr>\n",
       "    <tr>\n",
       "      <th>Логистическая регрессия + BoW</th>\n",
       "      <td>0.622948</td>\n",
       "      <td>0.990414</td>\n",
       "      <td>0.764811</td>\n",
       "      <td>0.618135</td>\n",
       "    </tr>\n",
       "  </tbody>\n",
       "</table>\n",
       "</div>"
      ],
      "text/plain": [
       "                               Precision    Recall        F1   ROC-AUC\n",
       "Наивный Байес + BoW             0.620196  0.981096  0.759797  0.641602\n",
       "kNN + BoW                       0.618395  1.000000  0.764207  0.633953\n",
       "Логистическая регрессия + BoW   0.622948  0.990414  0.764811  0.618135"
      ]
     },
     "execution_count": 59,
     "metadata": {},
     "output_type": "execute_result"
    }
   ],
   "source": [
    "pd.concat(simple_metric_vals)"
   ]
  },
  {
   "cell_type": "markdown",
   "id": "b47fda57-ef92-48da-acf6-8d1b6e49c628",
   "metadata": {},
   "source": [
    "### Модели на основе деревьев, BoW"
   ]
  },
  {
   "cell_type": "markdown",
   "id": "065d1bc4-316c-466f-93f6-db4ad3388a21",
   "metadata": {},
   "source": [
    "**Случайный лес**"
   ]
  },
  {
   "cell_type": "markdown",
   "id": "8bafa5bc-2d8f-43fd-9b5a-67a28d21964e",
   "metadata": {},
   "source": [
    "Последовательный подбор параметров от маленького к большему."
   ]
  },
  {
   "cell_type": "code",
   "execution_count": 60,
   "id": "87011606-2826-4656-99b8-ac2a935fcfb1",
   "metadata": {},
   "outputs": [],
   "source": [
    "from sklearn.ensemble import RandomForestClassifier"
   ]
  },
  {
   "cell_type": "code",
   "execution_count": 61,
   "id": "1124c5fe-eae6-48a1-bb94-bb06656f94c8",
   "metadata": {},
   "outputs": [],
   "source": [
    "rf = RandomForestClassifier()"
   ]
  },
  {
   "cell_type": "code",
   "execution_count": 62,
   "id": "718a9f51-1071-47a5-b2c9-148c73fd8a4e",
   "metadata": {},
   "outputs": [
    {
     "name": "stdout",
     "output_type": "stream",
     "text": [
      "CPU times: user 1min 12s, sys: 3.41 s, total: 1min 15s\n",
      "Wall time: 1min 15s\n"
     ]
    }
   ],
   "source": [
    "%%time\n",
    "\n",
    "grid_search_res = GridSearchCV(\n",
    "    estimator=rf,\n",
    "    param_grid={\n",
    "        'max_depth': range(2, 20, 4),\n",
    "        'min_samples_split': range(2, 20, 4)\n",
    "    },\n",
    "    scoring='roc_auc',\n",
    "    cv=10,\n",
    "    return_train_score=True\n",
    ").fit(X, y)"
   ]
  },
  {
   "cell_type": "code",
   "execution_count": 63,
   "id": "7be9f520-9bd8-43b5-b406-968f93f03241",
   "metadata": {},
   "outputs": [],
   "source": [
    "best_max_depth, best_min_samples_split = return_best_params(\n",
    "    grid_search_res.cv_results_, \n",
    "    'max_depth', \n",
    "    'min_samples_split'\n",
    ")\n",
    "\n",
    "rf = RandomForestClassifier(\n",
    "    max_depth=int(best_max_depth),\n",
    "    min_samples_split=int(best_min_samples_split)\n",
    ")"
   ]
  },
  {
   "cell_type": "code",
   "execution_count": 64,
   "id": "b669a584-cfef-45ec-bc4a-5b463a073646",
   "metadata": {},
   "outputs": [
    {
     "name": "stdout",
     "output_type": "stream",
     "text": [
      "CPU times: user 1.15 s, sys: 86.4 ms, total: 1.24 s\n",
      "Wall time: 1.24 s\n"
     ]
    }
   ],
   "source": [
    "%%time\n",
    "\n",
    "simple_metric_vals.append(\n",
    "    prettify_scores(\n",
    "        scores_dict=cross_validate(\n",
    "            estimator=rf,\n",
    "            X=X,\n",
    "            y=y,\n",
    "            scoring=['precision', 'recall', 'f1', 'roc_auc'],\n",
    "            cv=10\n",
    "        ),\n",
    "        model_name='Случайный лес + BoW'\n",
    "    )\n",
    ")"
   ]
  },
  {
   "cell_type": "code",
   "execution_count": 65,
   "id": "1f7dd72a-9905-43f1-b513-2ecabb53f0b2",
   "metadata": {},
   "outputs": [
    {
     "data": {
      "text/html": [
       "<div>\n",
       "<style scoped>\n",
       "    .dataframe tbody tr th:only-of-type {\n",
       "        vertical-align: middle;\n",
       "    }\n",
       "\n",
       "    .dataframe tbody tr th {\n",
       "        vertical-align: top;\n",
       "    }\n",
       "\n",
       "    .dataframe thead th {\n",
       "        text-align: right;\n",
       "    }\n",
       "</style>\n",
       "<table border=\"1\" class=\"dataframe\">\n",
       "  <thead>\n",
       "    <tr style=\"text-align: right;\">\n",
       "      <th></th>\n",
       "      <th>Precision</th>\n",
       "      <th>Recall</th>\n",
       "      <th>F1</th>\n",
       "      <th>ROC-AUC</th>\n",
       "    </tr>\n",
       "  </thead>\n",
       "  <tbody>\n",
       "    <tr>\n",
       "      <th>Наивный Байес + BoW</th>\n",
       "      <td>0.620196</td>\n",
       "      <td>0.981096</td>\n",
       "      <td>0.759797</td>\n",
       "      <td>0.641602</td>\n",
       "    </tr>\n",
       "    <tr>\n",
       "      <th>kNN + BoW</th>\n",
       "      <td>0.618395</td>\n",
       "      <td>1.000000</td>\n",
       "      <td>0.764207</td>\n",
       "      <td>0.633953</td>\n",
       "    </tr>\n",
       "    <tr>\n",
       "      <th>Логистическая регрессия + BoW</th>\n",
       "      <td>0.622948</td>\n",
       "      <td>0.990414</td>\n",
       "      <td>0.764811</td>\n",
       "      <td>0.618135</td>\n",
       "    </tr>\n",
       "    <tr>\n",
       "      <th>Случайный лес + BoW</th>\n",
       "      <td>0.618395</td>\n",
       "      <td>1.000000</td>\n",
       "      <td>0.764207</td>\n",
       "      <td>0.645734</td>\n",
       "    </tr>\n",
       "  </tbody>\n",
       "</table>\n",
       "</div>"
      ],
      "text/plain": [
       "                               Precision    Recall        F1   ROC-AUC\n",
       "Наивный Байес + BoW             0.620196  0.981096  0.759797  0.641602\n",
       "kNN + BoW                       0.618395  1.000000  0.764207  0.633953\n",
       "Логистическая регрессия + BoW   0.622948  0.990414  0.764811  0.618135\n",
       "Случайный лес + BoW             0.618395  1.000000  0.764207  0.645734"
      ]
     },
     "execution_count": 65,
     "metadata": {},
     "output_type": "execute_result"
    }
   ],
   "source": [
    "pd.concat(simple_metric_vals)"
   ]
  },
  {
   "cell_type": "markdown",
   "id": "8d93ab8d-dce0-4135-a6a1-8a16721bf62d",
   "metadata": {},
   "source": [
    "**Бустинг, `catboost`**"
   ]
  },
  {
   "cell_type": "markdown",
   "id": "3e9ee5ab-b788-4dfe-ab35-64048b952fde",
   "metadata": {},
   "source": [
    "Продолжим ту же идею для подбора гиперпараметров, но уже с помощью более сложных инструментов, подходящих для перебора большого числа параметров по крупной сeтке."
   ]
  },
  {
   "cell_type": "code",
   "execution_count": 66,
   "id": "5243beb7-5e7f-4233-b5c6-6a0691e33c34",
   "metadata": {},
   "outputs": [],
   "source": [
    "def pr_diff(clf):\n",
    "    train_scores = []\n",
    "    test_scores = []\n",
    "\n",
    "    for i in range(4):\n",
    "        X_train, X_test, y_train, y_test = train_test_split(X, y, test_size=0.7, random_state=0)\n",
    "        clf.fit(X_train, y_train)\n",
    "        \n",
    "        train_score = roc_auc_score(y_train, clf.predict_proba(X_train)[:,1])\n",
    "        test_score = roc_auc_score(y_test, clf.predict_proba(X_test)[:,1])\n",
    "\n",
    "        train_scores.append(train_score)\n",
    "        test_scores.append(test_score)\n",
    "    \n",
    "    return np.abs(np.max(train_scores) - np.min(test_scores))"
   ]
  },
  {
   "cell_type": "code",
   "execution_count": 67,
   "id": "fe230617-2dd8-4684-b7a8-3dbb00e3b927",
   "metadata": {},
   "outputs": [],
   "source": [
    "def objective(trial):\n",
    "    params = {\n",
    "        'num_trees': trial.suggest_int('num_trees', 5, 100),\n",
    "        'max_depth': trial.suggest_int('max_depth', 1, 10),\n",
    "        'min_data_in_leaf': trial.suggest_int('min_data_in_leaf', 1, 100),\n",
    "        'verbose': False\n",
    "    }\n",
    "\n",
    "    model = catboost.CatBoostClassifier(**params)\n",
    "    metrics = [np.mean(cross_val_score(model, X=pd.DataFrame(X), y=y, scoring='roc_auc', cv=10)), pr_diff(model)]\n",
    "\n",
    "    return metrics"
   ]
  },
  {
   "cell_type": "code",
   "execution_count": 68,
   "id": "7be6f9f8-b995-4919-a7a2-5fc151768cf0",
   "metadata": {},
   "outputs": [
    {
     "name": "stderr",
     "output_type": "stream",
     "text": [
      "[I 2024-12-11 23:50:01,981] A new study created in memory with name: no-name-6d51f0bd-4cb8-46f4-be05-5dc94537fe02\n"
     ]
    }
   ],
   "source": [
    "study = optuna.create_study(\n",
    "    directions=['maximize', 'minimize'],\n",
    "    sampler=optuna.samplers.TPESampler()\n",
    ")"
   ]
  },
  {
   "cell_type": "code",
   "execution_count": 38,
   "id": "bc260bcf-6312-48db-8e09-580fdcf27492",
   "metadata": {},
   "outputs": [
    {
     "name": "stderr",
     "output_type": "stream",
     "text": [
      "553.14s - pydevd: Sending message related to process being replaced timed-out after 5 seconds\n"
     ]
    },
    {
     "name": "stdout",
     "output_type": "stream",
     "text": [
      "catboost           1.2.7\n"
     ]
    }
   ],
   "source": [
    "!pip list | grep -e \"catboost.*\""
   ]
  },
  {
   "cell_type": "code",
   "execution_count": 69,
   "id": "dd19eb06-ca4a-42f0-b6d9-cdf15291a454",
   "metadata": {
    "scrolled": true
   },
   "outputs": [
    {
     "name": "stderr",
     "output_type": "stream",
     "text": [
      "  0%|                                                    | 0/10 [00:00<?, ?it/s]/opt/homebrew/Caskroom/miniconda/base/envs/course-work-venv/lib/python3.11/site-packages/sklearn/utils/_tags.py:322: FutureWarning: Estimator <catboost.core.CatBoostClassifier object at 0x177e5b790> has no __sklearn_tags__ attribute, which is defined in `sklearn.base.BaseEstimator`. This will raise an error in scikit-learn 1.8. Please define the __sklearn_tags__ method, or inherit from `sklearn.base.BaseEstimator` and other appropriate mixins such as `sklearn.base.TransformerMixin`, `sklearn.base.ClassifierMixin`, `sklearn.base.RegressorMixin`, and `sklearn.base.ClusterMixin`, and `sklearn.base.OutlierMixin`.\n",
      "  warnings.warn(\n",
      "/opt/homebrew/Caskroom/miniconda/base/envs/course-work-venv/lib/python3.11/site-packages/sklearn/utils/_tags.py:322: FutureWarning: Estimator <catboost.core.CatBoostClassifier object at 0x177dbf450> has no __sklearn_tags__ attribute, which is defined in `sklearn.base.BaseEstimator`. This will raise an error in scikit-learn 1.8. Please define the __sklearn_tags__ method, or inherit from `sklearn.base.BaseEstimator` and other appropriate mixins such as `sklearn.base.TransformerMixin`, `sklearn.base.ClassifierMixin`, `sklearn.base.RegressorMixin`, and `sklearn.base.ClusterMixin`, and `sklearn.base.OutlierMixin`.\n",
      "  warnings.warn(\n",
      "/opt/homebrew/Caskroom/miniconda/base/envs/course-work-venv/lib/python3.11/site-packages/sklearn/utils/_tags.py:322: FutureWarning: Estimator <catboost.core.CatBoostClassifier object at 0x177d74550> has no __sklearn_tags__ attribute, which is defined in `sklearn.base.BaseEstimator`. This will raise an error in scikit-learn 1.8. Please define the __sklearn_tags__ method, or inherit from `sklearn.base.BaseEstimator` and other appropriate mixins such as `sklearn.base.TransformerMixin`, `sklearn.base.ClassifierMixin`, `sklearn.base.RegressorMixin`, and `sklearn.base.ClusterMixin`, and `sklearn.base.OutlierMixin`.\n",
      "  warnings.warn(\n",
      "/opt/homebrew/Caskroom/miniconda/base/envs/course-work-venv/lib/python3.11/site-packages/sklearn/utils/_tags.py:322: FutureWarning: Estimator <catboost.core.CatBoostClassifier object at 0x157dfb890> has no __sklearn_tags__ attribute, which is defined in `sklearn.base.BaseEstimator`. This will raise an error in scikit-learn 1.8. Please define the __sklearn_tags__ method, or inherit from `sklearn.base.BaseEstimator` and other appropriate mixins such as `sklearn.base.TransformerMixin`, `sklearn.base.ClassifierMixin`, `sklearn.base.RegressorMixin`, and `sklearn.base.ClusterMixin`, and `sklearn.base.OutlierMixin`.\n",
      "  warnings.warn(\n",
      "/opt/homebrew/Caskroom/miniconda/base/envs/course-work-venv/lib/python3.11/site-packages/sklearn/utils/_tags.py:322: FutureWarning: Estimator <catboost.core.CatBoostClassifier object at 0x177d74550> has no __sklearn_tags__ attribute, which is defined in `sklearn.base.BaseEstimator`. This will raise an error in scikit-learn 1.8. Please define the __sklearn_tags__ method, or inherit from `sklearn.base.BaseEstimator` and other appropriate mixins such as `sklearn.base.TransformerMixin`, `sklearn.base.ClassifierMixin`, `sklearn.base.RegressorMixin`, and `sklearn.base.ClusterMixin`, and `sklearn.base.OutlierMixin`.\n",
      "  warnings.warn(\n",
      "/opt/homebrew/Caskroom/miniconda/base/envs/course-work-venv/lib/python3.11/site-packages/sklearn/utils/_tags.py:322: FutureWarning: Estimator <catboost.core.CatBoostClassifier object at 0x157dfb890> has no __sklearn_tags__ attribute, which is defined in `sklearn.base.BaseEstimator`. This will raise an error in scikit-learn 1.8. Please define the __sklearn_tags__ method, or inherit from `sklearn.base.BaseEstimator` and other appropriate mixins such as `sklearn.base.TransformerMixin`, `sklearn.base.ClassifierMixin`, `sklearn.base.RegressorMixin`, and `sklearn.base.ClusterMixin`, and `sklearn.base.OutlierMixin`.\n",
      "  warnings.warn(\n",
      "/opt/homebrew/Caskroom/miniconda/base/envs/course-work-venv/lib/python3.11/site-packages/sklearn/utils/_tags.py:322: FutureWarning: Estimator <catboost.core.CatBoostClassifier object at 0x177d74550> has no __sklearn_tags__ attribute, which is defined in `sklearn.base.BaseEstimator`. This will raise an error in scikit-learn 1.8. Please define the __sklearn_tags__ method, or inherit from `sklearn.base.BaseEstimator` and other appropriate mixins such as `sklearn.base.TransformerMixin`, `sklearn.base.ClassifierMixin`, `sklearn.base.RegressorMixin`, and `sklearn.base.ClusterMixin`, and `sklearn.base.OutlierMixin`.\n",
      "  warnings.warn(\n",
      "/opt/homebrew/Caskroom/miniconda/base/envs/course-work-venv/lib/python3.11/site-packages/sklearn/utils/_tags.py:322: FutureWarning: Estimator <catboost.core.CatBoostClassifier object at 0x157dfb890> has no __sklearn_tags__ attribute, which is defined in `sklearn.base.BaseEstimator`. This will raise an error in scikit-learn 1.8. Please define the __sklearn_tags__ method, or inherit from `sklearn.base.BaseEstimator` and other appropriate mixins such as `sklearn.base.TransformerMixin`, `sklearn.base.ClassifierMixin`, `sklearn.base.RegressorMixin`, and `sklearn.base.ClusterMixin`, and `sklearn.base.OutlierMixin`.\n",
      "  warnings.warn(\n",
      "/opt/homebrew/Caskroom/miniconda/base/envs/course-work-venv/lib/python3.11/site-packages/sklearn/utils/_tags.py:322: FutureWarning: Estimator <catboost.core.CatBoostClassifier object at 0x177d74550> has no __sklearn_tags__ attribute, which is defined in `sklearn.base.BaseEstimator`. This will raise an error in scikit-learn 1.8. Please define the __sklearn_tags__ method, or inherit from `sklearn.base.BaseEstimator` and other appropriate mixins such as `sklearn.base.TransformerMixin`, `sklearn.base.ClassifierMixin`, `sklearn.base.RegressorMixin`, and `sklearn.base.ClusterMixin`, and `sklearn.base.OutlierMixin`.\n",
      "  warnings.warn(\n",
      "/opt/homebrew/Caskroom/miniconda/base/envs/course-work-venv/lib/python3.11/site-packages/sklearn/utils/_tags.py:322: FutureWarning: Estimator <catboost.core.CatBoostClassifier object at 0x157dfb890> has no __sklearn_tags__ attribute, which is defined in `sklearn.base.BaseEstimator`. This will raise an error in scikit-learn 1.8. Please define the __sklearn_tags__ method, or inherit from `sklearn.base.BaseEstimator` and other appropriate mixins such as `sklearn.base.TransformerMixin`, `sklearn.base.ClassifierMixin`, `sklearn.base.RegressorMixin`, and `sklearn.base.ClusterMixin`, and `sklearn.base.OutlierMixin`.\n",
      "  warnings.warn(\n",
      "/opt/homebrew/Caskroom/miniconda/base/envs/course-work-venv/lib/python3.11/site-packages/sklearn/utils/_tags.py:322: FutureWarning: Estimator <catboost.core.CatBoostClassifier object at 0x157df8c90> has no __sklearn_tags__ attribute, which is defined in `sklearn.base.BaseEstimator`. This will raise an error in scikit-learn 1.8. Please define the __sklearn_tags__ method, or inherit from `sklearn.base.BaseEstimator` and other appropriate mixins such as `sklearn.base.TransformerMixin`, `sklearn.base.ClassifierMixin`, `sklearn.base.RegressorMixin`, and `sklearn.base.ClusterMixin`, and `sklearn.base.OutlierMixin`.\n",
      "  warnings.warn(\n",
      " 10%|██▌                       | 1/10 [00:04<00:44,  4.98s/it, 4.98/600 seconds]/opt/homebrew/Caskroom/miniconda/base/envs/course-work-venv/lib/python3.11/site-packages/sklearn/utils/_tags.py:322: FutureWarning: Estimator <catboost.core.CatBoostClassifier object at 0x3082825d0> has no __sklearn_tags__ attribute, which is defined in `sklearn.base.BaseEstimator`. This will raise an error in scikit-learn 1.8. Please define the __sklearn_tags__ method, or inherit from `sklearn.base.BaseEstimator` and other appropriate mixins such as `sklearn.base.TransformerMixin`, `sklearn.base.ClassifierMixin`, `sklearn.base.RegressorMixin`, and `sklearn.base.ClusterMixin`, and `sklearn.base.OutlierMixin`.\n",
      "  warnings.warn(\n",
      "/opt/homebrew/Caskroom/miniconda/base/envs/course-work-venv/lib/python3.11/site-packages/sklearn/utils/_tags.py:322: FutureWarning: Estimator <catboost.core.CatBoostClassifier object at 0x3081ce950> has no __sklearn_tags__ attribute, which is defined in `sklearn.base.BaseEstimator`. This will raise an error in scikit-learn 1.8. Please define the __sklearn_tags__ method, or inherit from `sklearn.base.BaseEstimator` and other appropriate mixins such as `sklearn.base.TransformerMixin`, `sklearn.base.ClassifierMixin`, `sklearn.base.RegressorMixin`, and `sklearn.base.ClusterMixin`, and `sklearn.base.OutlierMixin`.\n",
      "  warnings.warn(\n",
      "/opt/homebrew/Caskroom/miniconda/base/envs/course-work-venv/lib/python3.11/site-packages/sklearn/utils/_tags.py:322: FutureWarning: Estimator <catboost.core.CatBoostClassifier object at 0x177e34150> has no __sklearn_tags__ attribute, which is defined in `sklearn.base.BaseEstimator`. This will raise an error in scikit-learn 1.8. Please define the __sklearn_tags__ method, or inherit from `sklearn.base.BaseEstimator` and other appropriate mixins such as `sklearn.base.TransformerMixin`, `sklearn.base.ClassifierMixin`, `sklearn.base.RegressorMixin`, and `sklearn.base.ClusterMixin`, and `sklearn.base.OutlierMixin`.\n",
      "  warnings.warn(\n"
     ]
    },
    {
     "name": "stdout",
     "output_type": "stream",
     "text": [
      "[I 2024-12-11 23:50:06,918] Trial 0 finished with values: [0.6269898293130857, 0.20303117442540186] and parameters: {'num_trees': 77, 'max_depth': 8, 'min_data_in_leaf': 41}.\n"
     ]
    },
    {
     "name": "stderr",
     "output_type": "stream",
     "text": [
      "/opt/homebrew/Caskroom/miniconda/base/envs/course-work-venv/lib/python3.11/site-packages/sklearn/utils/_tags.py:322: FutureWarning: Estimator <catboost.core.CatBoostClassifier object at 0x176d7b990> has no __sklearn_tags__ attribute, which is defined in `sklearn.base.BaseEstimator`. This will raise an error in scikit-learn 1.8. Please define the __sklearn_tags__ method, or inherit from `sklearn.base.BaseEstimator` and other appropriate mixins such as `sklearn.base.TransformerMixin`, `sklearn.base.ClassifierMixin`, `sklearn.base.RegressorMixin`, and `sklearn.base.ClusterMixin`, and `sklearn.base.OutlierMixin`.\n",
      "  warnings.warn(\n",
      "/opt/homebrew/Caskroom/miniconda/base/envs/course-work-venv/lib/python3.11/site-packages/sklearn/utils/_tags.py:322: FutureWarning: Estimator <catboost.core.CatBoostClassifier object at 0x177dd6710> has no __sklearn_tags__ attribute, which is defined in `sklearn.base.BaseEstimator`. This will raise an error in scikit-learn 1.8. Please define the __sklearn_tags__ method, or inherit from `sklearn.base.BaseEstimator` and other appropriate mixins such as `sklearn.base.TransformerMixin`, `sklearn.base.ClassifierMixin`, `sklearn.base.RegressorMixin`, and `sklearn.base.ClusterMixin`, and `sklearn.base.OutlierMixin`.\n",
      "  warnings.warn(\n",
      "/opt/homebrew/Caskroom/miniconda/base/envs/course-work-venv/lib/python3.11/site-packages/sklearn/utils/_tags.py:322: FutureWarning: Estimator <catboost.core.CatBoostClassifier object at 0x308286750> has no __sklearn_tags__ attribute, which is defined in `sklearn.base.BaseEstimator`. This will raise an error in scikit-learn 1.8. Please define the __sklearn_tags__ method, or inherit from `sklearn.base.BaseEstimator` and other appropriate mixins such as `sklearn.base.TransformerMixin`, `sklearn.base.ClassifierMixin`, `sklearn.base.RegressorMixin`, and `sklearn.base.ClusterMixin`, and `sklearn.base.OutlierMixin`.\n",
      "  warnings.warn(\n",
      "/opt/homebrew/Caskroom/miniconda/base/envs/course-work-venv/lib/python3.11/site-packages/sklearn/utils/_tags.py:322: FutureWarning: Estimator <catboost.core.CatBoostClassifier object at 0x308286dd0> has no __sklearn_tags__ attribute, which is defined in `sklearn.base.BaseEstimator`. This will raise an error in scikit-learn 1.8. Please define the __sklearn_tags__ method, or inherit from `sklearn.base.BaseEstimator` and other appropriate mixins such as `sklearn.base.TransformerMixin`, `sklearn.base.ClassifierMixin`, `sklearn.base.RegressorMixin`, and `sklearn.base.ClusterMixin`, and `sklearn.base.OutlierMixin`.\n",
      "  warnings.warn(\n",
      "/opt/homebrew/Caskroom/miniconda/base/envs/course-work-venv/lib/python3.11/site-packages/sklearn/utils/_tags.py:322: FutureWarning: Estimator <catboost.core.CatBoostClassifier object at 0x308286750> has no __sklearn_tags__ attribute, which is defined in `sklearn.base.BaseEstimator`. This will raise an error in scikit-learn 1.8. Please define the __sklearn_tags__ method, or inherit from `sklearn.base.BaseEstimator` and other appropriate mixins such as `sklearn.base.TransformerMixin`, `sklearn.base.ClassifierMixin`, `sklearn.base.RegressorMixin`, and `sklearn.base.ClusterMixin`, and `sklearn.base.OutlierMixin`.\n",
      "  warnings.warn(\n",
      "/opt/homebrew/Caskroom/miniconda/base/envs/course-work-venv/lib/python3.11/site-packages/sklearn/utils/_tags.py:322: FutureWarning: Estimator <catboost.core.CatBoostClassifier object at 0x308286dd0> has no __sklearn_tags__ attribute, which is defined in `sklearn.base.BaseEstimator`. This will raise an error in scikit-learn 1.8. Please define the __sklearn_tags__ method, or inherit from `sklearn.base.BaseEstimator` and other appropriate mixins such as `sklearn.base.TransformerMixin`, `sklearn.base.ClassifierMixin`, `sklearn.base.RegressorMixin`, and `sklearn.base.ClusterMixin`, and `sklearn.base.OutlierMixin`.\n",
      "  warnings.warn(\n",
      "/opt/homebrew/Caskroom/miniconda/base/envs/course-work-venv/lib/python3.11/site-packages/sklearn/utils/_tags.py:322: FutureWarning: Estimator <catboost.core.CatBoostClassifier object at 0x308286750> has no __sklearn_tags__ attribute, which is defined in `sklearn.base.BaseEstimator`. This will raise an error in scikit-learn 1.8. Please define the __sklearn_tags__ method, or inherit from `sklearn.base.BaseEstimator` and other appropriate mixins such as `sklearn.base.TransformerMixin`, `sklearn.base.ClassifierMixin`, `sklearn.base.RegressorMixin`, and `sklearn.base.ClusterMixin`, and `sklearn.base.OutlierMixin`.\n",
      "  warnings.warn(\n",
      "/opt/homebrew/Caskroom/miniconda/base/envs/course-work-venv/lib/python3.11/site-packages/sklearn/utils/_tags.py:322: FutureWarning: Estimator <catboost.core.CatBoostClassifier object at 0x3080bcbd0> has no __sklearn_tags__ attribute, which is defined in `sklearn.base.BaseEstimator`. This will raise an error in scikit-learn 1.8. Please define the __sklearn_tags__ method, or inherit from `sklearn.base.BaseEstimator` and other appropriate mixins such as `sklearn.base.TransformerMixin`, `sklearn.base.ClassifierMixin`, `sklearn.base.RegressorMixin`, and `sklearn.base.ClusterMixin`, and `sklearn.base.OutlierMixin`.\n",
      "  warnings.warn(\n",
      " 20%|█████▏                    | 2/10 [00:06<00:22,  2.82s/it, 6.30/600 seconds]/opt/homebrew/Caskroom/miniconda/base/envs/course-work-venv/lib/python3.11/site-packages/sklearn/utils/_tags.py:322: FutureWarning: Estimator <catboost.core.CatBoostClassifier object at 0x176de5910> has no __sklearn_tags__ attribute, which is defined in `sklearn.base.BaseEstimator`. This will raise an error in scikit-learn 1.8. Please define the __sklearn_tags__ method, or inherit from `sklearn.base.BaseEstimator` and other appropriate mixins such as `sklearn.base.TransformerMixin`, `sklearn.base.ClassifierMixin`, `sklearn.base.RegressorMixin`, and `sklearn.base.ClusterMixin`, and `sklearn.base.OutlierMixin`.\n",
      "  warnings.warn(\n",
      "/opt/homebrew/Caskroom/miniconda/base/envs/course-work-venv/lib/python3.11/site-packages/sklearn/utils/_tags.py:322: FutureWarning: Estimator <catboost.core.CatBoostClassifier object at 0x176de4bd0> has no __sklearn_tags__ attribute, which is defined in `sklearn.base.BaseEstimator`. This will raise an error in scikit-learn 1.8. Please define the __sklearn_tags__ method, or inherit from `sklearn.base.BaseEstimator` and other appropriate mixins such as `sklearn.base.TransformerMixin`, `sklearn.base.ClassifierMixin`, `sklearn.base.RegressorMixin`, and `sklearn.base.ClusterMixin`, and `sklearn.base.OutlierMixin`.\n",
      "  warnings.warn(\n",
      "/opt/homebrew/Caskroom/miniconda/base/envs/course-work-venv/lib/python3.11/site-packages/sklearn/utils/_tags.py:322: FutureWarning: Estimator <catboost.core.CatBoostClassifier object at 0x177f3f690> has no __sklearn_tags__ attribute, which is defined in `sklearn.base.BaseEstimator`. This will raise an error in scikit-learn 1.8. Please define the __sklearn_tags__ method, or inherit from `sklearn.base.BaseEstimator` and other appropriate mixins such as `sklearn.base.TransformerMixin`, `sklearn.base.ClassifierMixin`, `sklearn.base.RegressorMixin`, and `sklearn.base.ClusterMixin`, and `sklearn.base.OutlierMixin`.\n",
      "  warnings.warn(\n"
     ]
    },
    {
     "name": "stdout",
     "output_type": "stream",
     "text": [
      "[I 2024-12-11 23:50:08,223] Trial 1 finished with values: [0.6578259658711553, 0.13088732896542288] and parameters: {'num_trees': 19, 'max_depth': 4, 'min_data_in_leaf': 65}.\n"
     ]
    },
    {
     "name": "stderr",
     "output_type": "stream",
     "text": [
      "/opt/homebrew/Caskroom/miniconda/base/envs/course-work-venv/lib/python3.11/site-packages/sklearn/utils/_tags.py:322: FutureWarning: Estimator <catboost.core.CatBoostClassifier object at 0x177dd6b90> has no __sklearn_tags__ attribute, which is defined in `sklearn.base.BaseEstimator`. This will raise an error in scikit-learn 1.8. Please define the __sklearn_tags__ method, or inherit from `sklearn.base.BaseEstimator` and other appropriate mixins such as `sklearn.base.TransformerMixin`, `sklearn.base.ClassifierMixin`, `sklearn.base.RegressorMixin`, and `sklearn.base.ClusterMixin`, and `sklearn.base.OutlierMixin`.\n",
      "  warnings.warn(\n",
      "/opt/homebrew/Caskroom/miniconda/base/envs/course-work-venv/lib/python3.11/site-packages/sklearn/utils/_tags.py:322: FutureWarning: Estimator <catboost.core.CatBoostClassifier object at 0x3081ff590> has no __sklearn_tags__ attribute, which is defined in `sklearn.base.BaseEstimator`. This will raise an error in scikit-learn 1.8. Please define the __sklearn_tags__ method, or inherit from `sklearn.base.BaseEstimator` and other appropriate mixins such as `sklearn.base.TransformerMixin`, `sklearn.base.ClassifierMixin`, `sklearn.base.RegressorMixin`, and `sklearn.base.ClusterMixin`, and `sklearn.base.OutlierMixin`.\n",
      "  warnings.warn(\n",
      "/opt/homebrew/Caskroom/miniconda/base/envs/course-work-venv/lib/python3.11/site-packages/sklearn/utils/_tags.py:322: FutureWarning: Estimator <catboost.core.CatBoostClassifier object at 0x308185850> has no __sklearn_tags__ attribute, which is defined in `sklearn.base.BaseEstimator`. This will raise an error in scikit-learn 1.8. Please define the __sklearn_tags__ method, or inherit from `sklearn.base.BaseEstimator` and other appropriate mixins such as `sklearn.base.TransformerMixin`, `sklearn.base.ClassifierMixin`, `sklearn.base.RegressorMixin`, and `sklearn.base.ClusterMixin`, and `sklearn.base.OutlierMixin`.\n",
      "  warnings.warn(\n",
      "/opt/homebrew/Caskroom/miniconda/base/envs/course-work-venv/lib/python3.11/site-packages/sklearn/utils/_tags.py:322: FutureWarning: Estimator <catboost.core.CatBoostClassifier object at 0x308197bd0> has no __sklearn_tags__ attribute, which is defined in `sklearn.base.BaseEstimator`. This will raise an error in scikit-learn 1.8. Please define the __sklearn_tags__ method, or inherit from `sklearn.base.BaseEstimator` and other appropriate mixins such as `sklearn.base.TransformerMixin`, `sklearn.base.ClassifierMixin`, `sklearn.base.RegressorMixin`, and `sklearn.base.ClusterMixin`, and `sklearn.base.OutlierMixin`.\n",
      "  warnings.warn(\n",
      "/opt/homebrew/Caskroom/miniconda/base/envs/course-work-venv/lib/python3.11/site-packages/sklearn/utils/_tags.py:322: FutureWarning: Estimator <catboost.core.CatBoostClassifier object at 0x3082de210> has no __sklearn_tags__ attribute, which is defined in `sklearn.base.BaseEstimator`. This will raise an error in scikit-learn 1.8. Please define the __sklearn_tags__ method, or inherit from `sklearn.base.BaseEstimator` and other appropriate mixins such as `sklearn.base.TransformerMixin`, `sklearn.base.ClassifierMixin`, `sklearn.base.RegressorMixin`, and `sklearn.base.ClusterMixin`, and `sklearn.base.OutlierMixin`.\n",
      "  warnings.warn(\n",
      "/opt/homebrew/Caskroom/miniconda/base/envs/course-work-venv/lib/python3.11/site-packages/sklearn/utils/_tags.py:322: FutureWarning: Estimator <catboost.core.CatBoostClassifier object at 0x3080249d0> has no __sklearn_tags__ attribute, which is defined in `sklearn.base.BaseEstimator`. This will raise an error in scikit-learn 1.8. Please define the __sklearn_tags__ method, or inherit from `sklearn.base.BaseEstimator` and other appropriate mixins such as `sklearn.base.TransformerMixin`, `sklearn.base.ClassifierMixin`, `sklearn.base.RegressorMixin`, and `sklearn.base.ClusterMixin`, and `sklearn.base.OutlierMixin`.\n",
      "  warnings.warn(\n",
      "/opt/homebrew/Caskroom/miniconda/base/envs/course-work-venv/lib/python3.11/site-packages/sklearn/utils/_tags.py:322: FutureWarning: Estimator <catboost.core.CatBoostClassifier object at 0x3081afa90> has no __sklearn_tags__ attribute, which is defined in `sklearn.base.BaseEstimator`. This will raise an error in scikit-learn 1.8. Please define the __sklearn_tags__ method, or inherit from `sklearn.base.BaseEstimator` and other appropriate mixins such as `sklearn.base.TransformerMixin`, `sklearn.base.ClassifierMixin`, `sklearn.base.RegressorMixin`, and `sklearn.base.ClusterMixin`, and `sklearn.base.OutlierMixin`.\n",
      "  warnings.warn(\n",
      "/opt/homebrew/Caskroom/miniconda/base/envs/course-work-venv/lib/python3.11/site-packages/sklearn/utils/_tags.py:322: FutureWarning: Estimator <catboost.core.CatBoostClassifier object at 0x308198610> has no __sklearn_tags__ attribute, which is defined in `sklearn.base.BaseEstimator`. This will raise an error in scikit-learn 1.8. Please define the __sklearn_tags__ method, or inherit from `sklearn.base.BaseEstimator` and other appropriate mixins such as `sklearn.base.TransformerMixin`, `sklearn.base.ClassifierMixin`, `sklearn.base.RegressorMixin`, and `sklearn.base.ClusterMixin`, and `sklearn.base.OutlierMixin`.\n",
      "  warnings.warn(\n",
      " 30%|███████▊                  | 3/10 [00:07<00:15,  2.22s/it, 7.80/600 seconds]/opt/homebrew/Caskroom/miniconda/base/envs/course-work-venv/lib/python3.11/site-packages/sklearn/utils/_tags.py:322: FutureWarning: Estimator <catboost.core.CatBoostClassifier object at 0x176d90c10> has no __sklearn_tags__ attribute, which is defined in `sklearn.base.BaseEstimator`. This will raise an error in scikit-learn 1.8. Please define the __sklearn_tags__ method, or inherit from `sklearn.base.BaseEstimator` and other appropriate mixins such as `sklearn.base.TransformerMixin`, `sklearn.base.ClassifierMixin`, `sklearn.base.RegressorMixin`, and `sklearn.base.ClusterMixin`, and `sklearn.base.OutlierMixin`.\n",
      "  warnings.warn(\n",
      "/opt/homebrew/Caskroom/miniconda/base/envs/course-work-venv/lib/python3.11/site-packages/sklearn/utils/_tags.py:322: FutureWarning: Estimator <catboost.core.CatBoostClassifier object at 0x176d92450> has no __sklearn_tags__ attribute, which is defined in `sklearn.base.BaseEstimator`. This will raise an error in scikit-learn 1.8. Please define the __sklearn_tags__ method, or inherit from `sklearn.base.BaseEstimator` and other appropriate mixins such as `sklearn.base.TransformerMixin`, `sklearn.base.ClassifierMixin`, `sklearn.base.RegressorMixin`, and `sklearn.base.ClusterMixin`, and `sklearn.base.OutlierMixin`.\n",
      "  warnings.warn(\n",
      "/opt/homebrew/Caskroom/miniconda/base/envs/course-work-venv/lib/python3.11/site-packages/sklearn/utils/_tags.py:322: FutureWarning: Estimator <catboost.core.CatBoostClassifier object at 0x177e86e90> has no __sklearn_tags__ attribute, which is defined in `sklearn.base.BaseEstimator`. This will raise an error in scikit-learn 1.8. Please define the __sklearn_tags__ method, or inherit from `sklearn.base.BaseEstimator` and other appropriate mixins such as `sklearn.base.TransformerMixin`, `sklearn.base.ClassifierMixin`, `sklearn.base.RegressorMixin`, and `sklearn.base.ClusterMixin`, and `sklearn.base.OutlierMixin`.\n",
      "  warnings.warn(\n"
     ]
    },
    {
     "name": "stdout",
     "output_type": "stream",
     "text": [
      "[I 2024-12-11 23:50:09,735] Trial 2 finished with values: [0.6896216039875452, 0.09734562522362766] and parameters: {'num_trees': 42, 'max_depth': 2, 'min_data_in_leaf': 59}.\n"
     ]
    },
    {
     "name": "stderr",
     "output_type": "stream",
     "text": [
      "/opt/homebrew/Caskroom/miniconda/base/envs/course-work-venv/lib/python3.11/site-packages/sklearn/utils/_tags.py:322: FutureWarning: Estimator <catboost.core.CatBoostClassifier object at 0x177dbe490> has no __sklearn_tags__ attribute, which is defined in `sklearn.base.BaseEstimator`. This will raise an error in scikit-learn 1.8. Please define the __sklearn_tags__ method, or inherit from `sklearn.base.BaseEstimator` and other appropriate mixins such as `sklearn.base.TransformerMixin`, `sklearn.base.ClassifierMixin`, `sklearn.base.RegressorMixin`, and `sklearn.base.ClusterMixin`, and `sklearn.base.OutlierMixin`.\n",
      "  warnings.warn(\n",
      "/opt/homebrew/Caskroom/miniconda/base/envs/course-work-venv/lib/python3.11/site-packages/sklearn/utils/_tags.py:322: FutureWarning: Estimator <catboost.core.CatBoostClassifier object at 0x176d75650> has no __sklearn_tags__ attribute, which is defined in `sklearn.base.BaseEstimator`. This will raise an error in scikit-learn 1.8. Please define the __sklearn_tags__ method, or inherit from `sklearn.base.BaseEstimator` and other appropriate mixins such as `sklearn.base.TransformerMixin`, `sklearn.base.ClassifierMixin`, `sklearn.base.RegressorMixin`, and `sklearn.base.ClusterMixin`, and `sklearn.base.OutlierMixin`.\n",
      "  warnings.warn(\n",
      "/opt/homebrew/Caskroom/miniconda/base/envs/course-work-venv/lib/python3.11/site-packages/sklearn/utils/_tags.py:322: FutureWarning: Estimator <catboost.core.CatBoostClassifier object at 0x177e25d10> has no __sklearn_tags__ attribute, which is defined in `sklearn.base.BaseEstimator`. This will raise an error in scikit-learn 1.8. Please define the __sklearn_tags__ method, or inherit from `sklearn.base.BaseEstimator` and other appropriate mixins such as `sklearn.base.TransformerMixin`, `sklearn.base.ClassifierMixin`, `sklearn.base.RegressorMixin`, and `sklearn.base.ClusterMixin`, and `sklearn.base.OutlierMixin`.\n",
      "  warnings.warn(\n",
      "/opt/homebrew/Caskroom/miniconda/base/envs/course-work-venv/lib/python3.11/site-packages/sklearn/utils/_tags.py:322: FutureWarning: Estimator <catboost.core.CatBoostClassifier object at 0x308186610> has no __sklearn_tags__ attribute, which is defined in `sklearn.base.BaseEstimator`. This will raise an error in scikit-learn 1.8. Please define the __sklearn_tags__ method, or inherit from `sklearn.base.BaseEstimator` and other appropriate mixins such as `sklearn.base.TransformerMixin`, `sklearn.base.ClassifierMixin`, `sklearn.base.RegressorMixin`, and `sklearn.base.ClusterMixin`, and `sklearn.base.OutlierMixin`.\n",
      "  warnings.warn(\n",
      "/opt/homebrew/Caskroom/miniconda/base/envs/course-work-venv/lib/python3.11/site-packages/sklearn/utils/_tags.py:322: FutureWarning: Estimator <catboost.core.CatBoostClassifier object at 0x308171950> has no __sklearn_tags__ attribute, which is defined in `sklearn.base.BaseEstimator`. This will raise an error in scikit-learn 1.8. Please define the __sklearn_tags__ method, or inherit from `sklearn.base.BaseEstimator` and other appropriate mixins such as `sklearn.base.TransformerMixin`, `sklearn.base.ClassifierMixin`, `sklearn.base.RegressorMixin`, and `sklearn.base.ClusterMixin`, and `sklearn.base.OutlierMixin`.\n",
      "  warnings.warn(\n",
      "/opt/homebrew/Caskroom/miniconda/base/envs/course-work-venv/lib/python3.11/site-packages/sklearn/utils/_tags.py:322: FutureWarning: Estimator <catboost.core.CatBoostClassifier object at 0x3081d7150> has no __sklearn_tags__ attribute, which is defined in `sklearn.base.BaseEstimator`. This will raise an error in scikit-learn 1.8. Please define the __sklearn_tags__ method, or inherit from `sklearn.base.BaseEstimator` and other appropriate mixins such as `sklearn.base.TransformerMixin`, `sklearn.base.ClassifierMixin`, `sklearn.base.RegressorMixin`, and `sklearn.base.ClusterMixin`, and `sklearn.base.OutlierMixin`.\n",
      "  warnings.warn(\n",
      "/opt/homebrew/Caskroom/miniconda/base/envs/course-work-venv/lib/python3.11/site-packages/sklearn/utils/_tags.py:322: FutureWarning: Estimator <catboost.core.CatBoostClassifier object at 0x3083ad350> has no __sklearn_tags__ attribute, which is defined in `sklearn.base.BaseEstimator`. This will raise an error in scikit-learn 1.8. Please define the __sklearn_tags__ method, or inherit from `sklearn.base.BaseEstimator` and other appropriate mixins such as `sklearn.base.TransformerMixin`, `sklearn.base.ClassifierMixin`, `sklearn.base.RegressorMixin`, and `sklearn.base.ClusterMixin`, and `sklearn.base.OutlierMixin`.\n",
      "  warnings.warn(\n",
      "/opt/homebrew/Caskroom/miniconda/base/envs/course-work-venv/lib/python3.11/site-packages/sklearn/utils/_tags.py:322: FutureWarning: Estimator <catboost.core.CatBoostClassifier object at 0x3083ac990> has no __sklearn_tags__ attribute, which is defined in `sklearn.base.BaseEstimator`. This will raise an error in scikit-learn 1.8. Please define the __sklearn_tags__ method, or inherit from `sklearn.base.BaseEstimator` and other appropriate mixins such as `sklearn.base.TransformerMixin`, `sklearn.base.ClassifierMixin`, `sklearn.base.RegressorMixin`, and `sklearn.base.ClusterMixin`, and `sklearn.base.OutlierMixin`.\n",
      "  warnings.warn(\n",
      " 40%|██████████▍               | 4/10 [00:09<00:11,  1.84s/it, 9.06/600 seconds]/opt/homebrew/Caskroom/miniconda/base/envs/course-work-venv/lib/python3.11/site-packages/sklearn/utils/_tags.py:322: FutureWarning: Estimator <catboost.core.CatBoostClassifier object at 0x177e0eb10> has no __sklearn_tags__ attribute, which is defined in `sklearn.base.BaseEstimator`. This will raise an error in scikit-learn 1.8. Please define the __sklearn_tags__ method, or inherit from `sklearn.base.BaseEstimator` and other appropriate mixins such as `sklearn.base.TransformerMixin`, `sklearn.base.ClassifierMixin`, `sklearn.base.RegressorMixin`, and `sklearn.base.ClusterMixin`, and `sklearn.base.OutlierMixin`.\n",
      "  warnings.warn(\n",
      "/opt/homebrew/Caskroom/miniconda/base/envs/course-work-venv/lib/python3.11/site-packages/sklearn/utils/_tags.py:322: FutureWarning: Estimator <catboost.core.CatBoostClassifier object at 0x177f0ef90> has no __sklearn_tags__ attribute, which is defined in `sklearn.base.BaseEstimator`. This will raise an error in scikit-learn 1.8. Please define the __sklearn_tags__ method, or inherit from `sklearn.base.BaseEstimator` and other appropriate mixins such as `sklearn.base.TransformerMixin`, `sklearn.base.ClassifierMixin`, `sklearn.base.RegressorMixin`, and `sklearn.base.ClusterMixin`, and `sklearn.base.OutlierMixin`.\n",
      "  warnings.warn(\n"
     ]
    },
    {
     "name": "stdout",
     "output_type": "stream",
     "text": [
      "[I 2024-12-11 23:50:10,995] Trial 3 finished with values: [0.6704360673550023, 0.10205328778699241] and parameters: {'num_trees': 17, 'max_depth': 4, 'min_data_in_leaf': 75}.\n"
     ]
    },
    {
     "name": "stderr",
     "output_type": "stream",
     "text": [
      "/opt/homebrew/Caskroom/miniconda/base/envs/course-work-venv/lib/python3.11/site-packages/sklearn/utils/_tags.py:322: FutureWarning: Estimator <catboost.core.CatBoostClassifier object at 0x3081d6310> has no __sklearn_tags__ attribute, which is defined in `sklearn.base.BaseEstimator`. This will raise an error in scikit-learn 1.8. Please define the __sklearn_tags__ method, or inherit from `sklearn.base.BaseEstimator` and other appropriate mixins such as `sklearn.base.TransformerMixin`, `sklearn.base.ClassifierMixin`, `sklearn.base.RegressorMixin`, and `sklearn.base.ClusterMixin`, and `sklearn.base.OutlierMixin`.\n",
      "  warnings.warn(\n",
      "/opt/homebrew/Caskroom/miniconda/base/envs/course-work-venv/lib/python3.11/site-packages/sklearn/utils/_tags.py:322: FutureWarning: Estimator <catboost.core.CatBoostClassifier object at 0x308195910> has no __sklearn_tags__ attribute, which is defined in `sklearn.base.BaseEstimator`. This will raise an error in scikit-learn 1.8. Please define the __sklearn_tags__ method, or inherit from `sklearn.base.BaseEstimator` and other appropriate mixins such as `sklearn.base.TransformerMixin`, `sklearn.base.ClassifierMixin`, `sklearn.base.RegressorMixin`, and `sklearn.base.ClusterMixin`, and `sklearn.base.OutlierMixin`.\n",
      "  warnings.warn(\n",
      "/opt/homebrew/Caskroom/miniconda/base/envs/course-work-venv/lib/python3.11/site-packages/sklearn/utils/_tags.py:322: FutureWarning: Estimator <catboost.core.CatBoostClassifier object at 0x308006e90> has no __sklearn_tags__ attribute, which is defined in `sklearn.base.BaseEstimator`. This will raise an error in scikit-learn 1.8. Please define the __sklearn_tags__ method, or inherit from `sklearn.base.BaseEstimator` and other appropriate mixins such as `sklearn.base.TransformerMixin`, `sklearn.base.ClassifierMixin`, `sklearn.base.RegressorMixin`, and `sklearn.base.ClusterMixin`, and `sklearn.base.OutlierMixin`.\n",
      "  warnings.warn(\n",
      "/opt/homebrew/Caskroom/miniconda/base/envs/course-work-venv/lib/python3.11/site-packages/sklearn/utils/_tags.py:322: FutureWarning: Estimator <catboost.core.CatBoostClassifier object at 0x308177390> has no __sklearn_tags__ attribute, which is defined in `sklearn.base.BaseEstimator`. This will raise an error in scikit-learn 1.8. Please define the __sklearn_tags__ method, or inherit from `sklearn.base.BaseEstimator` and other appropriate mixins such as `sklearn.base.TransformerMixin`, `sklearn.base.ClassifierMixin`, `sklearn.base.RegressorMixin`, and `sklearn.base.ClusterMixin`, and `sklearn.base.OutlierMixin`.\n",
      "  warnings.warn(\n",
      "/opt/homebrew/Caskroom/miniconda/base/envs/course-work-venv/lib/python3.11/site-packages/sklearn/utils/_tags.py:322: FutureWarning: Estimator <catboost.core.CatBoostClassifier object at 0x176dd2190> has no __sklearn_tags__ attribute, which is defined in `sklearn.base.BaseEstimator`. This will raise an error in scikit-learn 1.8. Please define the __sklearn_tags__ method, or inherit from `sklearn.base.BaseEstimator` and other appropriate mixins such as `sklearn.base.TransformerMixin`, `sklearn.base.ClassifierMixin`, `sklearn.base.RegressorMixin`, and `sklearn.base.ClusterMixin`, and `sklearn.base.OutlierMixin`.\n",
      "  warnings.warn(\n",
      "/opt/homebrew/Caskroom/miniconda/base/envs/course-work-venv/lib/python3.11/site-packages/sklearn/utils/_tags.py:322: FutureWarning: Estimator <catboost.core.CatBoostClassifier object at 0x177e26790> has no __sklearn_tags__ attribute, which is defined in `sklearn.base.BaseEstimator`. This will raise an error in scikit-learn 1.8. Please define the __sklearn_tags__ method, or inherit from `sklearn.base.BaseEstimator` and other appropriate mixins such as `sklearn.base.TransformerMixin`, `sklearn.base.ClassifierMixin`, `sklearn.base.RegressorMixin`, and `sklearn.base.ClusterMixin`, and `sklearn.base.OutlierMixin`.\n",
      "  warnings.warn(\n",
      "/opt/homebrew/Caskroom/miniconda/base/envs/course-work-venv/lib/python3.11/site-packages/sklearn/utils/_tags.py:322: FutureWarning: Estimator <catboost.core.CatBoostClassifier object at 0x3081e6150> has no __sklearn_tags__ attribute, which is defined in `sklearn.base.BaseEstimator`. This will raise an error in scikit-learn 1.8. Please define the __sklearn_tags__ method, or inherit from `sklearn.base.BaseEstimator` and other appropriate mixins such as `sklearn.base.TransformerMixin`, `sklearn.base.ClassifierMixin`, `sklearn.base.RegressorMixin`, and `sklearn.base.ClusterMixin`, and `sklearn.base.OutlierMixin`.\n",
      "  warnings.warn(\n",
      "/opt/homebrew/Caskroom/miniconda/base/envs/course-work-venv/lib/python3.11/site-packages/sklearn/utils/_tags.py:322: FutureWarning: Estimator <catboost.core.CatBoostClassifier object at 0x177f079d0> has no __sklearn_tags__ attribute, which is defined in `sklearn.base.BaseEstimator`. This will raise an error in scikit-learn 1.8. Please define the __sklearn_tags__ method, or inherit from `sklearn.base.BaseEstimator` and other appropriate mixins such as `sklearn.base.TransformerMixin`, `sklearn.base.ClassifierMixin`, `sklearn.base.RegressorMixin`, and `sklearn.base.ClusterMixin`, and `sklearn.base.OutlierMixin`.\n",
      "  warnings.warn(\n",
      "/opt/homebrew/Caskroom/miniconda/base/envs/course-work-venv/lib/python3.11/site-packages/sklearn/utils/_tags.py:322: FutureWarning: Estimator <catboost.core.CatBoostClassifier object at 0x176dfd350> has no __sklearn_tags__ attribute, which is defined in `sklearn.base.BaseEstimator`. This will raise an error in scikit-learn 1.8. Please define the __sklearn_tags__ method, or inherit from `sklearn.base.BaseEstimator` and other appropriate mixins such as `sklearn.base.TransformerMixin`, `sklearn.base.ClassifierMixin`, `sklearn.base.RegressorMixin`, and `sklearn.base.ClusterMixin`, and `sklearn.base.OutlierMixin`.\n",
      "  warnings.warn(\n",
      " 50%|████████████▌            | 5/10 [00:16<00:19,  3.93s/it, 16.70/600 seconds]/opt/homebrew/Caskroom/miniconda/base/envs/course-work-venv/lib/python3.11/site-packages/sklearn/utils/_tags.py:322: FutureWarning: Estimator <catboost.core.CatBoostClassifier object at 0x30809d050> has no __sklearn_tags__ attribute, which is defined in `sklearn.base.BaseEstimator`. This will raise an error in scikit-learn 1.8. Please define the __sklearn_tags__ method, or inherit from `sklearn.base.BaseEstimator` and other appropriate mixins such as `sklearn.base.TransformerMixin`, `sklearn.base.ClassifierMixin`, `sklearn.base.RegressorMixin`, and `sklearn.base.ClusterMixin`, and `sklearn.base.OutlierMixin`.\n",
      "  warnings.warn(\n",
      "/opt/homebrew/Caskroom/miniconda/base/envs/course-work-venv/lib/python3.11/site-packages/sklearn/utils/_tags.py:322: FutureWarning: Estimator <catboost.core.CatBoostClassifier object at 0x30809fe50> has no __sklearn_tags__ attribute, which is defined in `sklearn.base.BaseEstimator`. This will raise an error in scikit-learn 1.8. Please define the __sklearn_tags__ method, or inherit from `sklearn.base.BaseEstimator` and other appropriate mixins such as `sklearn.base.TransformerMixin`, `sklearn.base.ClassifierMixin`, `sklearn.base.RegressorMixin`, and `sklearn.base.ClusterMixin`, and `sklearn.base.OutlierMixin`.\n",
      "  warnings.warn(\n",
      "/opt/homebrew/Caskroom/miniconda/base/envs/course-work-venv/lib/python3.11/site-packages/sklearn/utils/_tags.py:322: FutureWarning: Estimator <catboost.core.CatBoostClassifier object at 0x308253b10> has no __sklearn_tags__ attribute, which is defined in `sklearn.base.BaseEstimator`. This will raise an error in scikit-learn 1.8. Please define the __sklearn_tags__ method, or inherit from `sklearn.base.BaseEstimator` and other appropriate mixins such as `sklearn.base.TransformerMixin`, `sklearn.base.ClassifierMixin`, `sklearn.base.RegressorMixin`, and `sklearn.base.ClusterMixin`, and `sklearn.base.OutlierMixin`.\n",
      "  warnings.warn(\n"
     ]
    },
    {
     "name": "stdout",
     "output_type": "stream",
     "text": [
      "[I 2024-12-11 23:50:18,621] Trial 4 finished with values: [0.5942534212790821, 0.21249467276220946] and parameters: {'num_trees': 47, 'max_depth': 10, 'min_data_in_leaf': 58}.\n"
     ]
    },
    {
     "name": "stderr",
     "output_type": "stream",
     "text": [
      "/opt/homebrew/Caskroom/miniconda/base/envs/course-work-venv/lib/python3.11/site-packages/sklearn/utils/_tags.py:322: FutureWarning: Estimator <catboost.core.CatBoostClassifier object at 0x3082ccad0> has no __sklearn_tags__ attribute, which is defined in `sklearn.base.BaseEstimator`. This will raise an error in scikit-learn 1.8. Please define the __sklearn_tags__ method, or inherit from `sklearn.base.BaseEstimator` and other appropriate mixins such as `sklearn.base.TransformerMixin`, `sklearn.base.ClassifierMixin`, `sklearn.base.RegressorMixin`, and `sklearn.base.ClusterMixin`, and `sklearn.base.OutlierMixin`.\n",
      "  warnings.warn(\n",
      "/opt/homebrew/Caskroom/miniconda/base/envs/course-work-venv/lib/python3.11/site-packages/sklearn/utils/_tags.py:322: FutureWarning: Estimator <catboost.core.CatBoostClassifier object at 0x177f3d910> has no __sklearn_tags__ attribute, which is defined in `sklearn.base.BaseEstimator`. This will raise an error in scikit-learn 1.8. Please define the __sklearn_tags__ method, or inherit from `sklearn.base.BaseEstimator` and other appropriate mixins such as `sklearn.base.TransformerMixin`, `sklearn.base.ClassifierMixin`, `sklearn.base.RegressorMixin`, and `sklearn.base.ClusterMixin`, and `sklearn.base.OutlierMixin`.\n",
      "  warnings.warn(\n",
      "/opt/homebrew/Caskroom/miniconda/base/envs/course-work-venv/lib/python3.11/site-packages/sklearn/utils/_tags.py:322: FutureWarning: Estimator <catboost.core.CatBoostClassifier object at 0x3081ee210> has no __sklearn_tags__ attribute, which is defined in `sklearn.base.BaseEstimator`. This will raise an error in scikit-learn 1.8. Please define the __sklearn_tags__ method, or inherit from `sklearn.base.BaseEstimator` and other appropriate mixins such as `sklearn.base.TransformerMixin`, `sklearn.base.ClassifierMixin`, `sklearn.base.RegressorMixin`, and `sklearn.base.ClusterMixin`, and `sklearn.base.OutlierMixin`.\n",
      "  warnings.warn(\n",
      "/opt/homebrew/Caskroom/miniconda/base/envs/course-work-venv/lib/python3.11/site-packages/sklearn/utils/_tags.py:322: FutureWarning: Estimator <catboost.core.CatBoostClassifier object at 0x177d44990> has no __sklearn_tags__ attribute, which is defined in `sklearn.base.BaseEstimator`. This will raise an error in scikit-learn 1.8. Please define the __sklearn_tags__ method, or inherit from `sklearn.base.BaseEstimator` and other appropriate mixins such as `sklearn.base.TransformerMixin`, `sklearn.base.ClassifierMixin`, `sklearn.base.RegressorMixin`, and `sklearn.base.ClusterMixin`, and `sklearn.base.OutlierMixin`.\n",
      "  warnings.warn(\n",
      "/opt/homebrew/Caskroom/miniconda/base/envs/course-work-venv/lib/python3.11/site-packages/sklearn/utils/_tags.py:322: FutureWarning: Estimator <catboost.core.CatBoostClassifier object at 0x3082ec3d0> has no __sklearn_tags__ attribute, which is defined in `sklearn.base.BaseEstimator`. This will raise an error in scikit-learn 1.8. Please define the __sklearn_tags__ method, or inherit from `sklearn.base.BaseEstimator` and other appropriate mixins such as `sklearn.base.TransformerMixin`, `sklearn.base.ClassifierMixin`, `sklearn.base.RegressorMixin`, and `sklearn.base.ClusterMixin`, and `sklearn.base.OutlierMixin`.\n",
      "  warnings.warn(\n",
      "/opt/homebrew/Caskroom/miniconda/base/envs/course-work-venv/lib/python3.11/site-packages/sklearn/utils/_tags.py:322: FutureWarning: Estimator <catboost.core.CatBoostClassifier object at 0x153d47310> has no __sklearn_tags__ attribute, which is defined in `sklearn.base.BaseEstimator`. This will raise an error in scikit-learn 1.8. Please define the __sklearn_tags__ method, or inherit from `sklearn.base.BaseEstimator` and other appropriate mixins such as `sklearn.base.TransformerMixin`, `sklearn.base.ClassifierMixin`, `sklearn.base.RegressorMixin`, and `sklearn.base.ClusterMixin`, and `sklearn.base.OutlierMixin`.\n",
      "  warnings.warn(\n",
      "/opt/homebrew/Caskroom/miniconda/base/envs/course-work-venv/lib/python3.11/site-packages/sklearn/utils/_tags.py:322: FutureWarning: Estimator <catboost.core.CatBoostClassifier object at 0x3081ee350> has no __sklearn_tags__ attribute, which is defined in `sklearn.base.BaseEstimator`. This will raise an error in scikit-learn 1.8. Please define the __sklearn_tags__ method, or inherit from `sklearn.base.BaseEstimator` and other appropriate mixins such as `sklearn.base.TransformerMixin`, `sklearn.base.ClassifierMixin`, `sklearn.base.RegressorMixin`, and `sklearn.base.ClusterMixin`, and `sklearn.base.OutlierMixin`.\n",
      "  warnings.warn(\n",
      "/opt/homebrew/Caskroom/miniconda/base/envs/course-work-venv/lib/python3.11/site-packages/sklearn/utils/_tags.py:322: FutureWarning: Estimator <catboost.core.CatBoostClassifier object at 0x153d47310> has no __sklearn_tags__ attribute, which is defined in `sklearn.base.BaseEstimator`. This will raise an error in scikit-learn 1.8. Please define the __sklearn_tags__ method, or inherit from `sklearn.base.BaseEstimator` and other appropriate mixins such as `sklearn.base.TransformerMixin`, `sklearn.base.ClassifierMixin`, `sklearn.base.RegressorMixin`, and `sklearn.base.ClusterMixin`, and `sklearn.base.OutlierMixin`.\n",
      "  warnings.warn(\n",
      " 60%|███████████████          | 6/10 [00:17<00:11,  2.95s/it, 17.73/600 seconds]/opt/homebrew/Caskroom/miniconda/base/envs/course-work-venv/lib/python3.11/site-packages/sklearn/utils/_tags.py:322: FutureWarning: Estimator <catboost.core.CatBoostClassifier object at 0x3082f2390> has no __sklearn_tags__ attribute, which is defined in `sklearn.base.BaseEstimator`. This will raise an error in scikit-learn 1.8. Please define the __sklearn_tags__ method, or inherit from `sklearn.base.BaseEstimator` and other appropriate mixins such as `sklearn.base.TransformerMixin`, `sklearn.base.ClassifierMixin`, `sklearn.base.RegressorMixin`, and `sklearn.base.ClusterMixin`, and `sklearn.base.OutlierMixin`.\n",
      "  warnings.warn(\n",
      "/opt/homebrew/Caskroom/miniconda/base/envs/course-work-venv/lib/python3.11/site-packages/sklearn/utils/_tags.py:322: FutureWarning: Estimator <catboost.core.CatBoostClassifier object at 0x177dcf5d0> has no __sklearn_tags__ attribute, which is defined in `sklearn.base.BaseEstimator`. This will raise an error in scikit-learn 1.8. Please define the __sklearn_tags__ method, or inherit from `sklearn.base.BaseEstimator` and other appropriate mixins such as `sklearn.base.TransformerMixin`, `sklearn.base.ClassifierMixin`, `sklearn.base.RegressorMixin`, and `sklearn.base.ClusterMixin`, and `sklearn.base.OutlierMixin`.\n",
      "  warnings.warn(\n",
      "/opt/homebrew/Caskroom/miniconda/base/envs/course-work-venv/lib/python3.11/site-packages/sklearn/utils/_tags.py:322: FutureWarning: Estimator <catboost.core.CatBoostClassifier object at 0x3082d7a50> has no __sklearn_tags__ attribute, which is defined in `sklearn.base.BaseEstimator`. This will raise an error in scikit-learn 1.8. Please define the __sklearn_tags__ method, or inherit from `sklearn.base.BaseEstimator` and other appropriate mixins such as `sklearn.base.TransformerMixin`, `sklearn.base.ClassifierMixin`, `sklearn.base.RegressorMixin`, and `sklearn.base.ClusterMixin`, and `sklearn.base.OutlierMixin`.\n",
      "  warnings.warn(\n"
     ]
    },
    {
     "name": "stdout",
     "output_type": "stream",
     "text": [
      "[I 2024-12-11 23:50:19,670] Trial 5 finished with values: [0.583539201756383, 0.05172846527422581] and parameters: {'num_trees': 9, 'max_depth': 2, 'min_data_in_leaf': 30}.\n"
     ]
    },
    {
     "name": "stderr",
     "output_type": "stream",
     "text": [
      "/opt/homebrew/Caskroom/miniconda/base/envs/course-work-venv/lib/python3.11/site-packages/sklearn/utils/_tags.py:322: FutureWarning: Estimator <catboost.core.CatBoostClassifier object at 0x176dd6790> has no __sklearn_tags__ attribute, which is defined in `sklearn.base.BaseEstimator`. This will raise an error in scikit-learn 1.8. Please define the __sklearn_tags__ method, or inherit from `sklearn.base.BaseEstimator` and other appropriate mixins such as `sklearn.base.TransformerMixin`, `sklearn.base.ClassifierMixin`, `sklearn.base.RegressorMixin`, and `sklearn.base.ClusterMixin`, and `sklearn.base.OutlierMixin`.\n",
      "  warnings.warn(\n",
      "/opt/homebrew/Caskroom/miniconda/base/envs/course-work-venv/lib/python3.11/site-packages/sklearn/utils/_tags.py:322: FutureWarning: Estimator <catboost.core.CatBoostClassifier object at 0x3080bc910> has no __sklearn_tags__ attribute, which is defined in `sklearn.base.BaseEstimator`. This will raise an error in scikit-learn 1.8. Please define the __sklearn_tags__ method, or inherit from `sklearn.base.BaseEstimator` and other appropriate mixins such as `sklearn.base.TransformerMixin`, `sklearn.base.ClassifierMixin`, `sklearn.base.RegressorMixin`, and `sklearn.base.ClusterMixin`, and `sklearn.base.OutlierMixin`.\n",
      "  warnings.warn(\n",
      "/opt/homebrew/Caskroom/miniconda/base/envs/course-work-venv/lib/python3.11/site-packages/sklearn/utils/_tags.py:322: FutureWarning: Estimator <catboost.core.CatBoostClassifier object at 0x3081c5450> has no __sklearn_tags__ attribute, which is defined in `sklearn.base.BaseEstimator`. This will raise an error in scikit-learn 1.8. Please define the __sklearn_tags__ method, or inherit from `sklearn.base.BaseEstimator` and other appropriate mixins such as `sklearn.base.TransformerMixin`, `sklearn.base.ClassifierMixin`, `sklearn.base.RegressorMixin`, and `sklearn.base.ClusterMixin`, and `sklearn.base.OutlierMixin`.\n",
      "  warnings.warn(\n",
      "/opt/homebrew/Caskroom/miniconda/base/envs/course-work-venv/lib/python3.11/site-packages/sklearn/utils/_tags.py:322: FutureWarning: Estimator <catboost.core.CatBoostClassifier object at 0x177ecf410> has no __sklearn_tags__ attribute, which is defined in `sklearn.base.BaseEstimator`. This will raise an error in scikit-learn 1.8. Please define the __sklearn_tags__ method, or inherit from `sklearn.base.BaseEstimator` and other appropriate mixins such as `sklearn.base.TransformerMixin`, `sklearn.base.ClassifierMixin`, `sklearn.base.RegressorMixin`, and `sklearn.base.ClusterMixin`, and `sklearn.base.OutlierMixin`.\n",
      "  warnings.warn(\n",
      "/opt/homebrew/Caskroom/miniconda/base/envs/course-work-venv/lib/python3.11/site-packages/sklearn/utils/_tags.py:322: FutureWarning: Estimator <catboost.core.CatBoostClassifier object at 0x3081a4ad0> has no __sklearn_tags__ attribute, which is defined in `sklearn.base.BaseEstimator`. This will raise an error in scikit-learn 1.8. Please define the __sklearn_tags__ method, or inherit from `sklearn.base.BaseEstimator` and other appropriate mixins such as `sklearn.base.TransformerMixin`, `sklearn.base.ClassifierMixin`, `sklearn.base.RegressorMixin`, and `sklearn.base.ClusterMixin`, and `sklearn.base.OutlierMixin`.\n",
      "  warnings.warn(\n",
      "/opt/homebrew/Caskroom/miniconda/base/envs/course-work-venv/lib/python3.11/site-packages/sklearn/utils/_tags.py:322: FutureWarning: Estimator <catboost.core.CatBoostClassifier object at 0x177f0c510> has no __sklearn_tags__ attribute, which is defined in `sklearn.base.BaseEstimator`. This will raise an error in scikit-learn 1.8. Please define the __sklearn_tags__ method, or inherit from `sklearn.base.BaseEstimator` and other appropriate mixins such as `sklearn.base.TransformerMixin`, `sklearn.base.ClassifierMixin`, `sklearn.base.RegressorMixin`, and `sklearn.base.ClusterMixin`, and `sklearn.base.OutlierMixin`.\n",
      "  warnings.warn(\n",
      "/opt/homebrew/Caskroom/miniconda/base/envs/course-work-venv/lib/python3.11/site-packages/sklearn/utils/_tags.py:322: FutureWarning: Estimator <catboost.core.CatBoostClassifier object at 0x176dc7410> has no __sklearn_tags__ attribute, which is defined in `sklearn.base.BaseEstimator`. This will raise an error in scikit-learn 1.8. Please define the __sklearn_tags__ method, or inherit from `sklearn.base.BaseEstimator` and other appropriate mixins such as `sklearn.base.TransformerMixin`, `sklearn.base.ClassifierMixin`, `sklearn.base.RegressorMixin`, and `sklearn.base.ClusterMixin`, and `sklearn.base.OutlierMixin`.\n",
      "  warnings.warn(\n",
      "/opt/homebrew/Caskroom/miniconda/base/envs/course-work-venv/lib/python3.11/site-packages/sklearn/utils/_tags.py:322: FutureWarning: Estimator <catboost.core.CatBoostClassifier object at 0x177d633d0> has no __sklearn_tags__ attribute, which is defined in `sklearn.base.BaseEstimator`. This will raise an error in scikit-learn 1.8. Please define the __sklearn_tags__ method, or inherit from `sklearn.base.BaseEstimator` and other appropriate mixins such as `sklearn.base.TransformerMixin`, `sklearn.base.ClassifierMixin`, `sklearn.base.RegressorMixin`, and `sklearn.base.ClusterMixin`, and `sklearn.base.OutlierMixin`.\n",
      "  warnings.warn(\n",
      " 70%|█████████████████▌       | 7/10 [00:18<00:07,  2.37s/it, 18.91/600 seconds]/opt/homebrew/Caskroom/miniconda/base/envs/course-work-venv/lib/python3.11/site-packages/sklearn/utils/_tags.py:322: FutureWarning: Estimator <catboost.core.CatBoostClassifier object at 0x308004e90> has no __sklearn_tags__ attribute, which is defined in `sklearn.base.BaseEstimator`. This will raise an error in scikit-learn 1.8. Please define the __sklearn_tags__ method, or inherit from `sklearn.base.BaseEstimator` and other appropriate mixins such as `sklearn.base.TransformerMixin`, `sklearn.base.ClassifierMixin`, `sklearn.base.RegressorMixin`, and `sklearn.base.ClusterMixin`, and `sklearn.base.OutlierMixin`.\n",
      "  warnings.warn(\n",
      "/opt/homebrew/Caskroom/miniconda/base/envs/course-work-venv/lib/python3.11/site-packages/sklearn/utils/_tags.py:322: FutureWarning: Estimator <catboost.core.CatBoostClassifier object at 0x308006350> has no __sklearn_tags__ attribute, which is defined in `sklearn.base.BaseEstimator`. This will raise an error in scikit-learn 1.8. Please define the __sklearn_tags__ method, or inherit from `sklearn.base.BaseEstimator` and other appropriate mixins such as `sklearn.base.TransformerMixin`, `sklearn.base.ClassifierMixin`, `sklearn.base.RegressorMixin`, and `sklearn.base.ClusterMixin`, and `sklearn.base.OutlierMixin`.\n",
      "  warnings.warn(\n",
      "/opt/homebrew/Caskroom/miniconda/base/envs/course-work-venv/lib/python3.11/site-packages/sklearn/utils/_tags.py:322: FutureWarning: Estimator <catboost.core.CatBoostClassifier object at 0x3082505d0> has no __sklearn_tags__ attribute, which is defined in `sklearn.base.BaseEstimator`. This will raise an error in scikit-learn 1.8. Please define the __sklearn_tags__ method, or inherit from `sklearn.base.BaseEstimator` and other appropriate mixins such as `sklearn.base.TransformerMixin`, `sklearn.base.ClassifierMixin`, `sklearn.base.RegressorMixin`, and `sklearn.base.ClusterMixin`, and `sklearn.base.OutlierMixin`.\n",
      "  warnings.warn(\n"
     ]
    },
    {
     "name": "stdout",
     "output_type": "stream",
     "text": [
      "[I 2024-12-11 23:50:20,851] Trial 6 finished with values: [0.6392918800630321, 0.07270493744524842] and parameters: {'num_trees': 19, 'max_depth': 2, 'min_data_in_leaf': 58}.\n"
     ]
    },
    {
     "name": "stderr",
     "output_type": "stream",
     "text": [
      "/opt/homebrew/Caskroom/miniconda/base/envs/course-work-venv/lib/python3.11/site-packages/sklearn/utils/_tags.py:322: FutureWarning: Estimator <catboost.core.CatBoostClassifier object at 0x3081f2290> has no __sklearn_tags__ attribute, which is defined in `sklearn.base.BaseEstimator`. This will raise an error in scikit-learn 1.8. Please define the __sklearn_tags__ method, or inherit from `sklearn.base.BaseEstimator` and other appropriate mixins such as `sklearn.base.TransformerMixin`, `sklearn.base.ClassifierMixin`, `sklearn.base.RegressorMixin`, and `sklearn.base.ClusterMixin`, and `sklearn.base.OutlierMixin`.\n",
      "  warnings.warn(\n",
      "/opt/homebrew/Caskroom/miniconda/base/envs/course-work-venv/lib/python3.11/site-packages/sklearn/utils/_tags.py:322: FutureWarning: Estimator <catboost.core.CatBoostClassifier object at 0x308187f90> has no __sklearn_tags__ attribute, which is defined in `sklearn.base.BaseEstimator`. This will raise an error in scikit-learn 1.8. Please define the __sklearn_tags__ method, or inherit from `sklearn.base.BaseEstimator` and other appropriate mixins such as `sklearn.base.TransformerMixin`, `sklearn.base.ClassifierMixin`, `sklearn.base.RegressorMixin`, and `sklearn.base.ClusterMixin`, and `sklearn.base.OutlierMixin`.\n",
      "  warnings.warn(\n",
      "/opt/homebrew/Caskroom/miniconda/base/envs/course-work-venv/lib/python3.11/site-packages/sklearn/utils/_tags.py:322: FutureWarning: Estimator <catboost.core.CatBoostClassifier object at 0x176d72450> has no __sklearn_tags__ attribute, which is defined in `sklearn.base.BaseEstimator`. This will raise an error in scikit-learn 1.8. Please define the __sklearn_tags__ method, or inherit from `sklearn.base.BaseEstimator` and other appropriate mixins such as `sklearn.base.TransformerMixin`, `sklearn.base.ClassifierMixin`, `sklearn.base.RegressorMixin`, and `sklearn.base.ClusterMixin`, and `sklearn.base.OutlierMixin`.\n",
      "  warnings.warn(\n",
      "/opt/homebrew/Caskroom/miniconda/base/envs/course-work-venv/lib/python3.11/site-packages/sklearn/utils/_tags.py:322: FutureWarning: Estimator <catboost.core.CatBoostClassifier object at 0x177e2a510> has no __sklearn_tags__ attribute, which is defined in `sklearn.base.BaseEstimator`. This will raise an error in scikit-learn 1.8. Please define the __sklearn_tags__ method, or inherit from `sklearn.base.BaseEstimator` and other appropriate mixins such as `sklearn.base.TransformerMixin`, `sklearn.base.ClassifierMixin`, `sklearn.base.RegressorMixin`, and `sklearn.base.ClusterMixin`, and `sklearn.base.OutlierMixin`.\n",
      "  warnings.warn(\n",
      "/opt/homebrew/Caskroom/miniconda/base/envs/course-work-venv/lib/python3.11/site-packages/sklearn/utils/_tags.py:322: FutureWarning: Estimator <catboost.core.CatBoostClassifier object at 0x177e7ab10> has no __sklearn_tags__ attribute, which is defined in `sklearn.base.BaseEstimator`. This will raise an error in scikit-learn 1.8. Please define the __sklearn_tags__ method, or inherit from `sklearn.base.BaseEstimator` and other appropriate mixins such as `sklearn.base.TransformerMixin`, `sklearn.base.ClassifierMixin`, `sklearn.base.RegressorMixin`, and `sklearn.base.ClusterMixin`, and `sklearn.base.OutlierMixin`.\n",
      "  warnings.warn(\n",
      "/opt/homebrew/Caskroom/miniconda/base/envs/course-work-venv/lib/python3.11/site-packages/sklearn/utils/_tags.py:322: FutureWarning: Estimator <catboost.core.CatBoostClassifier object at 0x176dfd510> has no __sklearn_tags__ attribute, which is defined in `sklearn.base.BaseEstimator`. This will raise an error in scikit-learn 1.8. Please define the __sklearn_tags__ method, or inherit from `sklearn.base.BaseEstimator` and other appropriate mixins such as `sklearn.base.TransformerMixin`, `sklearn.base.ClassifierMixin`, `sklearn.base.RegressorMixin`, and `sklearn.base.ClusterMixin`, and `sklearn.base.OutlierMixin`.\n",
      "  warnings.warn(\n",
      "/opt/homebrew/Caskroom/miniconda/base/envs/course-work-venv/lib/python3.11/site-packages/sklearn/utils/_tags.py:322: FutureWarning: Estimator <catboost.core.CatBoostClassifier object at 0x177d4ebd0> has no __sklearn_tags__ attribute, which is defined in `sklearn.base.BaseEstimator`. This will raise an error in scikit-learn 1.8. Please define the __sklearn_tags__ method, or inherit from `sklearn.base.BaseEstimator` and other appropriate mixins such as `sklearn.base.TransformerMixin`, `sklearn.base.ClassifierMixin`, `sklearn.base.RegressorMixin`, and `sklearn.base.ClusterMixin`, and `sklearn.base.OutlierMixin`.\n",
      "  warnings.warn(\n",
      "/opt/homebrew/Caskroom/miniconda/base/envs/course-work-venv/lib/python3.11/site-packages/sklearn/utils/_tags.py:322: FutureWarning: Estimator <catboost.core.CatBoostClassifier object at 0x3081efc50> has no __sklearn_tags__ attribute, which is defined in `sklearn.base.BaseEstimator`. This will raise an error in scikit-learn 1.8. Please define the __sklearn_tags__ method, or inherit from `sklearn.base.BaseEstimator` and other appropriate mixins such as `sklearn.base.TransformerMixin`, `sklearn.base.ClassifierMixin`, `sklearn.base.RegressorMixin`, and `sklearn.base.ClusterMixin`, and `sklearn.base.OutlierMixin`.\n",
      "  warnings.warn(\n",
      " 80%|████████████████████     | 8/10 [00:20<00:04,  2.04s/it, 20.24/600 seconds]/opt/homebrew/Caskroom/miniconda/base/envs/course-work-venv/lib/python3.11/site-packages/sklearn/utils/_tags.py:322: FutureWarning: Estimator <catboost.core.CatBoostClassifier object at 0x3081d8990> has no __sklearn_tags__ attribute, which is defined in `sklearn.base.BaseEstimator`. This will raise an error in scikit-learn 1.8. Please define the __sklearn_tags__ method, or inherit from `sklearn.base.BaseEstimator` and other appropriate mixins such as `sklearn.base.TransformerMixin`, `sklearn.base.ClassifierMixin`, `sklearn.base.RegressorMixin`, and `sklearn.base.ClusterMixin`, and `sklearn.base.OutlierMixin`.\n",
      "  warnings.warn(\n",
      "/opt/homebrew/Caskroom/miniconda/base/envs/course-work-venv/lib/python3.11/site-packages/sklearn/utils/_tags.py:322: FutureWarning: Estimator <catboost.core.CatBoostClassifier object at 0x3081da690> has no __sklearn_tags__ attribute, which is defined in `sklearn.base.BaseEstimator`. This will raise an error in scikit-learn 1.8. Please define the __sklearn_tags__ method, or inherit from `sklearn.base.BaseEstimator` and other appropriate mixins such as `sklearn.base.TransformerMixin`, `sklearn.base.ClassifierMixin`, `sklearn.base.RegressorMixin`, and `sklearn.base.ClusterMixin`, and `sklearn.base.OutlierMixin`.\n",
      "  warnings.warn(\n"
     ]
    },
    {
     "name": "stdout",
     "output_type": "stream",
     "text": [
      "[I 2024-12-11 23:50:22,169] Trial 7 finished with values: [0.671462112984128, 0.11122471655270083] and parameters: {'num_trees': 22, 'max_depth': 4, 'min_data_in_leaf': 51}.\n"
     ]
    },
    {
     "name": "stderr",
     "output_type": "stream",
     "text": [
      "/opt/homebrew/Caskroom/miniconda/base/envs/course-work-venv/lib/python3.11/site-packages/sklearn/utils/_tags.py:322: FutureWarning: Estimator <catboost.core.CatBoostClassifier object at 0x30804ae10> has no __sklearn_tags__ attribute, which is defined in `sklearn.base.BaseEstimator`. This will raise an error in scikit-learn 1.8. Please define the __sklearn_tags__ method, or inherit from `sklearn.base.BaseEstimator` and other appropriate mixins such as `sklearn.base.TransformerMixin`, `sklearn.base.ClassifierMixin`, `sklearn.base.RegressorMixin`, and `sklearn.base.ClusterMixin`, and `sklearn.base.OutlierMixin`.\n",
      "  warnings.warn(\n",
      "/opt/homebrew/Caskroom/miniconda/base/envs/course-work-venv/lib/python3.11/site-packages/sklearn/utils/_tags.py:322: FutureWarning: Estimator <catboost.core.CatBoostClassifier object at 0x308009210> has no __sklearn_tags__ attribute, which is defined in `sklearn.base.BaseEstimator`. This will raise an error in scikit-learn 1.8. Please define the __sklearn_tags__ method, or inherit from `sklearn.base.BaseEstimator` and other appropriate mixins such as `sklearn.base.TransformerMixin`, `sklearn.base.ClassifierMixin`, `sklearn.base.RegressorMixin`, and `sklearn.base.ClusterMixin`, and `sklearn.base.OutlierMixin`.\n",
      "  warnings.warn(\n",
      "/opt/homebrew/Caskroom/miniconda/base/envs/course-work-venv/lib/python3.11/site-packages/sklearn/utils/_tags.py:322: FutureWarning: Estimator <catboost.core.CatBoostClassifier object at 0x3082f9410> has no __sklearn_tags__ attribute, which is defined in `sklearn.base.BaseEstimator`. This will raise an error in scikit-learn 1.8. Please define the __sklearn_tags__ method, or inherit from `sklearn.base.BaseEstimator` and other appropriate mixins such as `sklearn.base.TransformerMixin`, `sklearn.base.ClassifierMixin`, `sklearn.base.RegressorMixin`, and `sklearn.base.ClusterMixin`, and `sklearn.base.OutlierMixin`.\n",
      "  warnings.warn(\n",
      "/opt/homebrew/Caskroom/miniconda/base/envs/course-work-venv/lib/python3.11/site-packages/sklearn/utils/_tags.py:322: FutureWarning: Estimator <catboost.core.CatBoostClassifier object at 0x3082ccad0> has no __sklearn_tags__ attribute, which is defined in `sklearn.base.BaseEstimator`. This will raise an error in scikit-learn 1.8. Please define the __sklearn_tags__ method, or inherit from `sklearn.base.BaseEstimator` and other appropriate mixins such as `sklearn.base.TransformerMixin`, `sklearn.base.ClassifierMixin`, `sklearn.base.RegressorMixin`, and `sklearn.base.ClusterMixin`, and `sklearn.base.OutlierMixin`.\n",
      "  warnings.warn(\n",
      "/opt/homebrew/Caskroom/miniconda/base/envs/course-work-venv/lib/python3.11/site-packages/sklearn/utils/_tags.py:322: FutureWarning: Estimator <catboost.core.CatBoostClassifier object at 0x177f16790> has no __sklearn_tags__ attribute, which is defined in `sklearn.base.BaseEstimator`. This will raise an error in scikit-learn 1.8. Please define the __sklearn_tags__ method, or inherit from `sklearn.base.BaseEstimator` and other appropriate mixins such as `sklearn.base.TransformerMixin`, `sklearn.base.ClassifierMixin`, `sklearn.base.RegressorMixin`, and `sklearn.base.ClusterMixin`, and `sklearn.base.OutlierMixin`.\n",
      "  warnings.warn(\n",
      "/opt/homebrew/Caskroom/miniconda/base/envs/course-work-venv/lib/python3.11/site-packages/sklearn/utils/_tags.py:322: FutureWarning: Estimator <catboost.core.CatBoostClassifier object at 0x176de6c90> has no __sklearn_tags__ attribute, which is defined in `sklearn.base.BaseEstimator`. This will raise an error in scikit-learn 1.8. Please define the __sklearn_tags__ method, or inherit from `sklearn.base.BaseEstimator` and other appropriate mixins such as `sklearn.base.TransformerMixin`, `sklearn.base.ClassifierMixin`, `sklearn.base.RegressorMixin`, and `sklearn.base.ClusterMixin`, and `sklearn.base.OutlierMixin`.\n",
      "  warnings.warn(\n",
      "/opt/homebrew/Caskroom/miniconda/base/envs/course-work-venv/lib/python3.11/site-packages/sklearn/utils/_tags.py:322: FutureWarning: Estimator <catboost.core.CatBoostClassifier object at 0x177edfe50> has no __sklearn_tags__ attribute, which is defined in `sklearn.base.BaseEstimator`. This will raise an error in scikit-learn 1.8. Please define the __sklearn_tags__ method, or inherit from `sklearn.base.BaseEstimator` and other appropriate mixins such as `sklearn.base.TransformerMixin`, `sklearn.base.ClassifierMixin`, `sklearn.base.RegressorMixin`, and `sklearn.base.ClusterMixin`, and `sklearn.base.OutlierMixin`.\n",
      "  warnings.warn(\n",
      "/opt/homebrew/Caskroom/miniconda/base/envs/course-work-venv/lib/python3.11/site-packages/sklearn/utils/_tags.py:322: FutureWarning: Estimator <catboost.core.CatBoostClassifier object at 0x3081b5350> has no __sklearn_tags__ attribute, which is defined in `sklearn.base.BaseEstimator`. This will raise an error in scikit-learn 1.8. Please define the __sklearn_tags__ method, or inherit from `sklearn.base.BaseEstimator` and other appropriate mixins such as `sklearn.base.TransformerMixin`, `sklearn.base.ClassifierMixin`, `sklearn.base.RegressorMixin`, and `sklearn.base.ClusterMixin`, and `sklearn.base.OutlierMixin`.\n",
      "  warnings.warn(\n",
      "/opt/homebrew/Caskroom/miniconda/base/envs/course-work-venv/lib/python3.11/site-packages/sklearn/utils/_tags.py:322: FutureWarning: Estimator <catboost.core.CatBoostClassifier object at 0x177f35ed0> has no __sklearn_tags__ attribute, which is defined in `sklearn.base.BaseEstimator`. This will raise an error in scikit-learn 1.8. Please define the __sklearn_tags__ method, or inherit from `sklearn.base.BaseEstimator` and other appropriate mixins such as `sklearn.base.TransformerMixin`, `sklearn.base.ClassifierMixin`, `sklearn.base.RegressorMixin`, and `sklearn.base.ClusterMixin`, and `sklearn.base.OutlierMixin`.\n",
      "  warnings.warn(\n",
      " 90%|██████████████████████▌  | 9/10 [00:22<00:02,  2.00s/it, 22.17/600 seconds]/opt/homebrew/Caskroom/miniconda/base/envs/course-work-venv/lib/python3.11/site-packages/sklearn/utils/_tags.py:322: FutureWarning: Estimator <catboost.core.CatBoostClassifier object at 0x176d7fdd0> has no __sklearn_tags__ attribute, which is defined in `sklearn.base.BaseEstimator`. This will raise an error in scikit-learn 1.8. Please define the __sklearn_tags__ method, or inherit from `sklearn.base.BaseEstimator` and other appropriate mixins such as `sklearn.base.TransformerMixin`, `sklearn.base.ClassifierMixin`, `sklearn.base.RegressorMixin`, and `sklearn.base.ClusterMixin`, and `sklearn.base.OutlierMixin`.\n",
      "  warnings.warn(\n",
      "/opt/homebrew/Caskroom/miniconda/base/envs/course-work-venv/lib/python3.11/site-packages/sklearn/utils/_tags.py:322: FutureWarning: Estimator <catboost.core.CatBoostClassifier object at 0x176d7fbd0> has no __sklearn_tags__ attribute, which is defined in `sklearn.base.BaseEstimator`. This will raise an error in scikit-learn 1.8. Please define the __sklearn_tags__ method, or inherit from `sklearn.base.BaseEstimator` and other appropriate mixins such as `sklearn.base.TransformerMixin`, `sklearn.base.ClassifierMixin`, `sklearn.base.RegressorMixin`, and `sklearn.base.ClusterMixin`, and `sklearn.base.OutlierMixin`.\n",
      "  warnings.warn(\n"
     ]
    },
    {
     "name": "stdout",
     "output_type": "stream",
     "text": [
      "[I 2024-12-11 23:50:24,100] Trial 8 finished with values: [0.6798007780450362, 0.14543555584333645] and parameters: {'num_trees': 52, 'max_depth': 4, 'min_data_in_leaf': 10}.\n"
     ]
    },
    {
     "name": "stderr",
     "output_type": "stream",
     "text": [
      "/opt/homebrew/Caskroom/miniconda/base/envs/course-work-venv/lib/python3.11/site-packages/sklearn/utils/_tags.py:322: FutureWarning: Estimator <catboost.core.CatBoostClassifier object at 0x177d62850> has no __sklearn_tags__ attribute, which is defined in `sklearn.base.BaseEstimator`. This will raise an error in scikit-learn 1.8. Please define the __sklearn_tags__ method, or inherit from `sklearn.base.BaseEstimator` and other appropriate mixins such as `sklearn.base.TransformerMixin`, `sklearn.base.ClassifierMixin`, `sklearn.base.RegressorMixin`, and `sklearn.base.ClusterMixin`, and `sklearn.base.OutlierMixin`.\n",
      "  warnings.warn(\n",
      "/opt/homebrew/Caskroom/miniconda/base/envs/course-work-venv/lib/python3.11/site-packages/sklearn/utils/_tags.py:322: FutureWarning: Estimator <catboost.core.CatBoostClassifier object at 0x176d7ed90> has no __sklearn_tags__ attribute, which is defined in `sklearn.base.BaseEstimator`. This will raise an error in scikit-learn 1.8. Please define the __sklearn_tags__ method, or inherit from `sklearn.base.BaseEstimator` and other appropriate mixins such as `sklearn.base.TransformerMixin`, `sklearn.base.ClassifierMixin`, `sklearn.base.RegressorMixin`, and `sklearn.base.ClusterMixin`, and `sklearn.base.OutlierMixin`.\n",
      "  warnings.warn(\n",
      "/opt/homebrew/Caskroom/miniconda/base/envs/course-work-venv/lib/python3.11/site-packages/sklearn/utils/_tags.py:322: FutureWarning: Estimator <catboost.core.CatBoostClassifier object at 0x177e0e350> has no __sklearn_tags__ attribute, which is defined in `sklearn.base.BaseEstimator`. This will raise an error in scikit-learn 1.8. Please define the __sklearn_tags__ method, or inherit from `sklearn.base.BaseEstimator` and other appropriate mixins such as `sklearn.base.TransformerMixin`, `sklearn.base.ClassifierMixin`, `sklearn.base.RegressorMixin`, and `sklearn.base.ClusterMixin`, and `sklearn.base.OutlierMixin`.\n",
      "  warnings.warn(\n",
      "/opt/homebrew/Caskroom/miniconda/base/envs/course-work-venv/lib/python3.11/site-packages/sklearn/utils/_tags.py:322: FutureWarning: Estimator <catboost.core.CatBoostClassifier object at 0x3082def10> has no __sklearn_tags__ attribute, which is defined in `sklearn.base.BaseEstimator`. This will raise an error in scikit-learn 1.8. Please define the __sklearn_tags__ method, or inherit from `sklearn.base.BaseEstimator` and other appropriate mixins such as `sklearn.base.TransformerMixin`, `sklearn.base.ClassifierMixin`, `sklearn.base.RegressorMixin`, and `sklearn.base.ClusterMixin`, and `sklearn.base.OutlierMixin`.\n",
      "  warnings.warn(\n",
      "/opt/homebrew/Caskroom/miniconda/base/envs/course-work-venv/lib/python3.11/site-packages/sklearn/utils/_tags.py:322: FutureWarning: Estimator <catboost.core.CatBoostClassifier object at 0x3082bc310> has no __sklearn_tags__ attribute, which is defined in `sklearn.base.BaseEstimator`. This will raise an error in scikit-learn 1.8. Please define the __sklearn_tags__ method, or inherit from `sklearn.base.BaseEstimator` and other appropriate mixins such as `sklearn.base.TransformerMixin`, `sklearn.base.ClassifierMixin`, `sklearn.base.RegressorMixin`, and `sklearn.base.ClusterMixin`, and `sklearn.base.OutlierMixin`.\n",
      "  warnings.warn(\n",
      "/opt/homebrew/Caskroom/miniconda/base/envs/course-work-venv/lib/python3.11/site-packages/sklearn/utils/_tags.py:322: FutureWarning: Estimator <catboost.core.CatBoostClassifier object at 0x30816b9d0> has no __sklearn_tags__ attribute, which is defined in `sklearn.base.BaseEstimator`. This will raise an error in scikit-learn 1.8. Please define the __sklearn_tags__ method, or inherit from `sklearn.base.BaseEstimator` and other appropriate mixins such as `sklearn.base.TransformerMixin`, `sklearn.base.ClassifierMixin`, `sklearn.base.RegressorMixin`, and `sklearn.base.ClusterMixin`, and `sklearn.base.OutlierMixin`.\n",
      "  warnings.warn(\n",
      "/opt/homebrew/Caskroom/miniconda/base/envs/course-work-venv/lib/python3.11/site-packages/sklearn/utils/_tags.py:322: FutureWarning: Estimator <catboost.core.CatBoostClassifier object at 0x177d6dbd0> has no __sklearn_tags__ attribute, which is defined in `sklearn.base.BaseEstimator`. This will raise an error in scikit-learn 1.8. Please define the __sklearn_tags__ method, or inherit from `sklearn.base.BaseEstimator` and other appropriate mixins such as `sklearn.base.TransformerMixin`, `sklearn.base.ClassifierMixin`, `sklearn.base.RegressorMixin`, and `sklearn.base.ClusterMixin`, and `sklearn.base.OutlierMixin`.\n",
      "  warnings.warn(\n",
      "/opt/homebrew/Caskroom/miniconda/base/envs/course-work-venv/lib/python3.11/site-packages/sklearn/utils/_tags.py:322: FutureWarning: Estimator <catboost.core.CatBoostClassifier object at 0x308199210> has no __sklearn_tags__ attribute, which is defined in `sklearn.base.BaseEstimator`. This will raise an error in scikit-learn 1.8. Please define the __sklearn_tags__ method, or inherit from `sklearn.base.BaseEstimator` and other appropriate mixins such as `sklearn.base.TransformerMixin`, `sklearn.base.ClassifierMixin`, `sklearn.base.RegressorMixin`, and `sklearn.base.ClusterMixin`, and `sklearn.base.OutlierMixin`.\n",
      "  warnings.warn(\n",
      "/opt/homebrew/Caskroom/miniconda/base/envs/course-work-venv/lib/python3.11/site-packages/sklearn/utils/_tags.py:322: FutureWarning: Estimator <catboost.core.CatBoostClassifier object at 0x176dfc110> has no __sklearn_tags__ attribute, which is defined in `sklearn.base.BaseEstimator`. This will raise an error in scikit-learn 1.8. Please define the __sklearn_tags__ method, or inherit from `sklearn.base.BaseEstimator` and other appropriate mixins such as `sklearn.base.TransformerMixin`, `sklearn.base.ClassifierMixin`, `sklearn.base.RegressorMixin`, and `sklearn.base.ClusterMixin`, and `sklearn.base.OutlierMixin`.\n",
      "  warnings.warn(\n",
      "100%|████████████████████████| 10/10 [00:24<00:00,  2.49s/it, 24.90/600 seconds]"
     ]
    },
    {
     "name": "stdout",
     "output_type": "stream",
     "text": [
      "[I 2024-12-11 23:50:26,827] Trial 9 finished with values: [0.6585330556966924, 0.14061516386286055] and parameters: {'num_trees': 93, 'max_depth': 4, 'min_data_in_leaf': 53}.\n"
     ]
    },
    {
     "name": "stderr",
     "output_type": "stream",
     "text": [
      "\n"
     ]
    }
   ],
   "source": [
    "study.optimize(\n",
    "    func=objective,\n",
    "    n_trials=10,\n",
    "    timeout=600,\n",
    "    show_progress_bar=True,\n",
    "    gc_after_trial=True\n",
    ")"
   ]
  },
  {
   "cell_type": "code",
   "execution_count": 70,
   "id": "6c73dfa4-d5fb-4004-a101-220e097369be",
   "metadata": {},
   "outputs": [],
   "source": [
    "best_params = study.trials_dataframe().sort_values(\n",
    "    by=['values_0', 'values_1'], \n",
    "    ascending=[False, True]\n",
    ").iloc[0,-4:-1]"
   ]
  },
  {
   "cell_type": "code",
   "execution_count": 71,
   "id": "d78474b6-9608-4134-9222-9393c4c95bef",
   "metadata": {},
   "outputs": [],
   "source": [
    "clf = catboost.CatBoostClassifier(\n",
    "    max_depth=best_params.params_max_depth,\n",
    "    min_data_in_leaf=best_params.params_min_data_in_leaf,\n",
    "    num_trees=best_params.params_num_trees\n",
    ")"
   ]
  },
  {
   "cell_type": "code",
   "execution_count": 72,
   "id": "0859a99b-90ac-41ae-9c4d-3dd7c0b047ae",
   "metadata": {},
   "outputs": [
    {
     "name": "stderr",
     "output_type": "stream",
     "text": [
      "/opt/homebrew/Caskroom/miniconda/base/envs/course-work-venv/lib/python3.11/site-packages/sklearn/utils/_tags.py:322: FutureWarning: Estimator <catboost.core.CatBoostClassifier object at 0x177d5d750> has no __sklearn_tags__ attribute, which is defined in `sklearn.base.BaseEstimator`. This will raise an error in scikit-learn 1.8. Please define the __sklearn_tags__ method, or inherit from `sklearn.base.BaseEstimator` and other appropriate mixins such as `sklearn.base.TransformerMixin`, `sklearn.base.ClassifierMixin`, `sklearn.base.RegressorMixin`, and `sklearn.base.ClusterMixin`, and `sklearn.base.OutlierMixin`.\n",
      "  warnings.warn(\n",
      "/opt/homebrew/Caskroom/miniconda/base/envs/course-work-venv/lib/python3.11/site-packages/sklearn/utils/_tags.py:322: FutureWarning: Estimator <catboost.core.CatBoostClassifier object at 0x3082de6d0> has no __sklearn_tags__ attribute, which is defined in `sklearn.base.BaseEstimator`. This will raise an error in scikit-learn 1.8. Please define the __sklearn_tags__ method, or inherit from `sklearn.base.BaseEstimator` and other appropriate mixins such as `sklearn.base.TransformerMixin`, `sklearn.base.ClassifierMixin`, `sklearn.base.RegressorMixin`, and `sklearn.base.ClusterMixin`, and `sklearn.base.OutlierMixin`.\n",
      "  warnings.warn(\n"
     ]
    },
    {
     "name": "stdout",
     "output_type": "stream",
     "text": [
      "Learning rate set to 0.384711\n",
      "0:\tlearn: 0.6669184\ttotal: 1.2ms\tremaining: 49.3ms\n",
      "1:\tlearn: 0.6548291\ttotal: 2.38ms\tremaining: 47.7ms\n",
      "2:\tlearn: 0.6438427\ttotal: 3.49ms\tremaining: 45.3ms\n",
      "3:\tlearn: 0.6402167\ttotal: 4.65ms\tremaining: 44.2ms\n",
      "4:\tlearn: 0.6361737\ttotal: 5.83ms\tremaining: 43.1ms\n",
      "5:\tlearn: 0.6310979\ttotal: 7ms\tremaining: 42ms\n",
      "6:\tlearn: 0.6257634\ttotal: 8.15ms\tremaining: 40.8ms\n",
      "7:\tlearn: 0.6224182\ttotal: 9.3ms\tremaining: 39.5ms\n",
      "8:\tlearn: 0.6201442\ttotal: 10.5ms\tremaining: 38.4ms\n",
      "9:\tlearn: 0.6174144\ttotal: 11.7ms\tremaining: 37.3ms\n",
      "10:\tlearn: 0.6149705\ttotal: 12.8ms\tremaining: 36ms\n",
      "11:\tlearn: 0.6106298\ttotal: 13.9ms\tremaining: 34.8ms\n",
      "12:\tlearn: 0.6081404\ttotal: 15.1ms\tremaining: 33.8ms\n",
      "13:\tlearn: 0.6051387\ttotal: 16.3ms\tremaining: 32.6ms\n",
      "14:\tlearn: 0.6034126\ttotal: 17.4ms\tremaining: 31.4ms\n",
      "15:\tlearn: 0.6014766\ttotal: 18.6ms\tremaining: 30.2ms\n",
      "16:\tlearn: 0.6001381\ttotal: 19.7ms\tremaining: 29ms\n",
      "17:\tlearn: 0.5978377\ttotal: 20.8ms\tremaining: 27.8ms\n",
      "18:\tlearn: 0.5950130\ttotal: 21.9ms\tremaining: 26.5ms\n",
      "19:\tlearn: 0.5940691\ttotal: 23.1ms\tremaining: 25.4ms\n",
      "20:\tlearn: 0.5929098\ttotal: 24.2ms\tremaining: 24.2ms\n",
      "21:\tlearn: 0.5905967\ttotal: 25.3ms\tremaining: 23ms\n",
      "22:\tlearn: 0.5879834\ttotal: 26.5ms\tremaining: 21.9ms\n",
      "23:\tlearn: 0.5861495\ttotal: 27.6ms\tremaining: 20.7ms\n",
      "24:\tlearn: 0.5849453\ttotal: 28.7ms\tremaining: 19.5ms\n",
      "25:\tlearn: 0.5833472\ttotal: 29.8ms\tremaining: 18.4ms\n",
      "26:\tlearn: 0.5813841\ttotal: 31ms\tremaining: 17.2ms\n",
      "27:\tlearn: 0.5796555\ttotal: 32.1ms\tremaining: 16.1ms\n",
      "28:\tlearn: 0.5781203\ttotal: 33.3ms\tremaining: 14.9ms\n",
      "29:\tlearn: 0.5761796\ttotal: 34.5ms\tremaining: 13.8ms\n",
      "30:\tlearn: 0.5737822\ttotal: 35.7ms\tremaining: 12.7ms\n",
      "31:\tlearn: 0.5723377\ttotal: 36.7ms\tremaining: 11.5ms\n",
      "32:\tlearn: 0.5703936\ttotal: 38.2ms\tremaining: 10.4ms\n",
      "33:\tlearn: 0.5685262\ttotal: 39.3ms\tremaining: 9.25ms\n",
      "34:\tlearn: 0.5672186\ttotal: 40.5ms\tremaining: 8.09ms\n",
      "35:\tlearn: 0.5656333\ttotal: 41.6ms\tremaining: 6.94ms\n",
      "36:\tlearn: 0.5639242\ttotal: 42.8ms\tremaining: 5.78ms\n",
      "37:\tlearn: 0.5623994\ttotal: 43.9ms\tremaining: 4.62ms\n",
      "38:\tlearn: 0.5609618\ttotal: 45ms\tremaining: 3.46ms\n",
      "39:\tlearn: 0.5596828\ttotal: 46.2ms\tremaining: 2.31ms\n",
      "40:\tlearn: 0.5585891\ttotal: 47.3ms\tremaining: 1.15ms\n"
     ]
    },
    {
     "name": "stderr",
     "output_type": "stream",
     "text": [
      "/opt/homebrew/Caskroom/miniconda/base/envs/course-work-venv/lib/python3.11/site-packages/sklearn/utils/_tags.py:322: FutureWarning: Estimator <catboost.core.CatBoostClassifier object at 0x3082de6d0> has no __sklearn_tags__ attribute, which is defined in `sklearn.base.BaseEstimator`. This will raise an error in scikit-learn 1.8. Please define the __sklearn_tags__ method, or inherit from `sklearn.base.BaseEstimator` and other appropriate mixins such as `sklearn.base.TransformerMixin`, `sklearn.base.ClassifierMixin`, `sklearn.base.RegressorMixin`, and `sklearn.base.ClusterMixin`, and `sklearn.base.OutlierMixin`.\n",
      "  warnings.warn(\n",
      "/opt/homebrew/Caskroom/miniconda/base/envs/course-work-venv/lib/python3.11/site-packages/sklearn/utils/_tags.py:322: FutureWarning: Estimator <catboost.core.CatBoostClassifier object at 0x3082de6d0> has no __sklearn_tags__ attribute, which is defined in `sklearn.base.BaseEstimator`. This will raise an error in scikit-learn 1.8. Please define the __sklearn_tags__ method, or inherit from `sklearn.base.BaseEstimator` and other appropriate mixins such as `sklearn.base.TransformerMixin`, `sklearn.base.ClassifierMixin`, `sklearn.base.RegressorMixin`, and `sklearn.base.ClusterMixin`, and `sklearn.base.OutlierMixin`.\n",
      "  warnings.warn(\n",
      "/opt/homebrew/Caskroom/miniconda/base/envs/course-work-venv/lib/python3.11/site-packages/sklearn/utils/_tags.py:322: FutureWarning: Estimator <catboost.core.CatBoostClassifier object at 0x3082de6d0> has no __sklearn_tags__ attribute, which is defined in `sklearn.base.BaseEstimator`. This will raise an error in scikit-learn 1.8. Please define the __sklearn_tags__ method, or inherit from `sklearn.base.BaseEstimator` and other appropriate mixins such as `sklearn.base.TransformerMixin`, `sklearn.base.ClassifierMixin`, `sklearn.base.RegressorMixin`, and `sklearn.base.ClusterMixin`, and `sklearn.base.OutlierMixin`.\n",
      "  warnings.warn(\n",
      "/opt/homebrew/Caskroom/miniconda/base/envs/course-work-venv/lib/python3.11/site-packages/sklearn/utils/_tags.py:322: FutureWarning: Estimator <catboost.core.CatBoostClassifier object at 0x308242310> has no __sklearn_tags__ attribute, which is defined in `sklearn.base.BaseEstimator`. This will raise an error in scikit-learn 1.8. Please define the __sklearn_tags__ method, or inherit from `sklearn.base.BaseEstimator` and other appropriate mixins such as `sklearn.base.TransformerMixin`, `sklearn.base.ClassifierMixin`, `sklearn.base.RegressorMixin`, and `sklearn.base.ClusterMixin`, and `sklearn.base.OutlierMixin`.\n",
      "  warnings.warn(\n"
     ]
    },
    {
     "name": "stdout",
     "output_type": "stream",
     "text": [
      "41:\tlearn: 0.5571113\ttotal: 48.7ms\tremaining: 0us\n",
      "Learning rate set to 0.384711\n",
      "0:\tlearn: 0.6686595\ttotal: 1.29ms\tremaining: 53.1ms\n",
      "1:\tlearn: 0.6570139\ttotal: 2.48ms\tremaining: 49.5ms\n",
      "2:\tlearn: 0.6471114\ttotal: 3.67ms\tremaining: 47.7ms\n",
      "3:\tlearn: 0.6439383\ttotal: 4.87ms\tremaining: 46.3ms\n",
      "4:\tlearn: 0.6385317\ttotal: 6.04ms\tremaining: 44.7ms\n",
      "5:\tlearn: 0.6337743\ttotal: 7.18ms\tremaining: 43.1ms\n",
      "6:\tlearn: 0.6310074\ttotal: 8.29ms\tremaining: 41.5ms\n",
      "7:\tlearn: 0.6278644\ttotal: 9.42ms\tremaining: 40ms\n",
      "8:\tlearn: 0.6246959\ttotal: 10.7ms\tremaining: 39.1ms\n",
      "9:\tlearn: 0.6220135\ttotal: 11.8ms\tremaining: 37.7ms\n",
      "10:\tlearn: 0.6197001\ttotal: 13.1ms\tremaining: 36.8ms\n",
      "11:\tlearn: 0.6169908\ttotal: 14.2ms\tremaining: 35.5ms\n",
      "12:\tlearn: 0.6147030\ttotal: 15.4ms\tremaining: 34.3ms\n",
      "13:\tlearn: 0.6128334\ttotal: 16.6ms\tremaining: 33.1ms\n",
      "14:\tlearn: 0.6106654\ttotal: 17.8ms\tremaining: 32ms\n",
      "15:\tlearn: 0.6089142\ttotal: 18.9ms\tremaining: 30.7ms\n",
      "16:\tlearn: 0.6070371\ttotal: 20.1ms\tremaining: 29.6ms\n",
      "17:\tlearn: 0.6041194\ttotal: 21.3ms\tremaining: 28.4ms\n",
      "18:\tlearn: 0.6019627\ttotal: 22.4ms\tremaining: 27.2ms\n",
      "19:\tlearn: 0.5997429\ttotal: 23.8ms\tremaining: 26.2ms\n",
      "20:\tlearn: 0.5983273\ttotal: 25ms\tremaining: 25ms\n",
      "21:\tlearn: 0.5969823\ttotal: 26.3ms\tremaining: 23.9ms\n",
      "22:\tlearn: 0.5944913\ttotal: 27.7ms\tremaining: 22.9ms\n",
      "23:\tlearn: 0.5925171\ttotal: 28.9ms\tremaining: 21.6ms\n",
      "24:\tlearn: 0.5899928\ttotal: 30.1ms\tremaining: 20.4ms\n",
      "25:\tlearn: 0.5888549\ttotal: 31.6ms\tremaining: 19.4ms\n",
      "26:\tlearn: 0.5860474\ttotal: 32.9ms\tremaining: 18.3ms\n",
      "27:\tlearn: 0.5840077\ttotal: 34.1ms\tremaining: 17.1ms\n",
      "28:\tlearn: 0.5823606\ttotal: 35.3ms\tremaining: 15.8ms\n",
      "29:\tlearn: 0.5806496\ttotal: 36.5ms\tremaining: 14.6ms\n",
      "30:\tlearn: 0.5793972\ttotal: 37.7ms\tremaining: 13.4ms\n",
      "31:\tlearn: 0.5778830\ttotal: 38.9ms\tremaining: 12.2ms\n",
      "32:\tlearn: 0.5767084\ttotal: 40.1ms\tremaining: 10.9ms\n",
      "33:\tlearn: 0.5749930\ttotal: 41.3ms\tremaining: 9.71ms\n",
      "34:\tlearn: 0.5734147\ttotal: 42.6ms\tremaining: 8.52ms\n",
      "35:\tlearn: 0.5722410\ttotal: 43.7ms\tremaining: 7.29ms\n",
      "36:\tlearn: 0.5702920\ttotal: 44.9ms\tremaining: 6.07ms\n",
      "37:\tlearn: 0.5680030\ttotal: 46.1ms\tremaining: 4.85ms\n",
      "38:\tlearn: 0.5664271\ttotal: 47.4ms\tremaining: 3.65ms\n",
      "39:\tlearn: 0.5648052\ttotal: 48.6ms\tremaining: 2.43ms\n",
      "40:\tlearn: 0.5629270\ttotal: 49.7ms\tremaining: 1.21ms\n",
      "41:\tlearn: 0.5613729\ttotal: 50.9ms\tremaining: 0us\n",
      "Learning rate set to 0.384711\n",
      "0:\tlearn: 0.6676133\ttotal: 1.16ms\tremaining: 47.7ms\n",
      "1:\tlearn: 0.6566465\ttotal: 2.31ms\tremaining: 46.3ms\n",
      "2:\tlearn: 0.6470819\ttotal: 3.46ms\tremaining: 45ms\n",
      "3:\tlearn: 0.6399177\ttotal: 4.6ms\tremaining: 43.7ms\n",
      "4:\tlearn: 0.6351500\ttotal: 5.81ms\tremaining: 43ms\n",
      "5:\tlearn: 0.6311531\ttotal: 7.06ms\tremaining: 42.4ms\n",
      "6:\tlearn: 0.6275283\ttotal: 8.21ms\tremaining: 41ms\n",
      "7:\tlearn: 0.6241565\ttotal: 9.39ms\tremaining: 39.9ms\n",
      "8:\tlearn: 0.6225505\ttotal: 10.6ms\tremaining: 38.8ms\n",
      "9:\tlearn: 0.6203274\ttotal: 11.8ms\tremaining: 37.7ms\n",
      "10:\tlearn: 0.6190648\ttotal: 13ms\tremaining: 36.6ms\n",
      "11:\tlearn: 0.6168608\ttotal: 14.1ms\tremaining: 35.2ms\n",
      "12:\tlearn: 0.6142916\ttotal: 15.2ms\tremaining: 33.9ms\n",
      "13:\tlearn: 0.6111725\ttotal: 16.3ms\tremaining: 32.7ms\n",
      "14:\tlearn: 0.6088787\ttotal: 17.5ms\tremaining: 31.5ms\n",
      "15:\tlearn: 0.6072343\ttotal: 18.6ms\tremaining: 30.2ms\n",
      "16:\tlearn: 0.6051125\ttotal: 19.7ms\tremaining: 29ms\n",
      "17:\tlearn: 0.6030869\ttotal: 20.9ms\tremaining: 27.8ms\n",
      "18:\tlearn: 0.6006274\ttotal: 22ms\tremaining: 26.6ms\n",
      "19:\tlearn: 0.5982473\ttotal: 23.1ms\tremaining: 25.4ms\n",
      "20:\tlearn: 0.5967917\ttotal: 24.2ms\tremaining: 24.2ms\n",
      "21:\tlearn: 0.5949896\ttotal: 25.3ms\tremaining: 23ms\n"
     ]
    },
    {
     "name": "stderr",
     "output_type": "stream",
     "text": [
      "/opt/homebrew/Caskroom/miniconda/base/envs/course-work-venv/lib/python3.11/site-packages/sklearn/utils/_tags.py:322: FutureWarning: Estimator <catboost.core.CatBoostClassifier object at 0x308242310> has no __sklearn_tags__ attribute, which is defined in `sklearn.base.BaseEstimator`. This will raise an error in scikit-learn 1.8. Please define the __sklearn_tags__ method, or inherit from `sklearn.base.BaseEstimator` and other appropriate mixins such as `sklearn.base.TransformerMixin`, `sklearn.base.ClassifierMixin`, `sklearn.base.RegressorMixin`, and `sklearn.base.ClusterMixin`, and `sklearn.base.OutlierMixin`.\n",
      "  warnings.warn(\n",
      "/opt/homebrew/Caskroom/miniconda/base/envs/course-work-venv/lib/python3.11/site-packages/sklearn/utils/_tags.py:322: FutureWarning: Estimator <catboost.core.CatBoostClassifier object at 0x308242310> has no __sklearn_tags__ attribute, which is defined in `sklearn.base.BaseEstimator`. This will raise an error in scikit-learn 1.8. Please define the __sklearn_tags__ method, or inherit from `sklearn.base.BaseEstimator` and other appropriate mixins such as `sklearn.base.TransformerMixin`, `sklearn.base.ClassifierMixin`, `sklearn.base.RegressorMixin`, and `sklearn.base.ClusterMixin`, and `sklearn.base.OutlierMixin`.\n",
      "  warnings.warn(\n",
      "/opt/homebrew/Caskroom/miniconda/base/envs/course-work-venv/lib/python3.11/site-packages/sklearn/utils/_tags.py:322: FutureWarning: Estimator <catboost.core.CatBoostClassifier object at 0x308242310> has no __sklearn_tags__ attribute, which is defined in `sklearn.base.BaseEstimator`. This will raise an error in scikit-learn 1.8. Please define the __sklearn_tags__ method, or inherit from `sklearn.base.BaseEstimator` and other appropriate mixins such as `sklearn.base.TransformerMixin`, `sklearn.base.ClassifierMixin`, `sklearn.base.RegressorMixin`, and `sklearn.base.ClusterMixin`, and `sklearn.base.OutlierMixin`.\n",
      "  warnings.warn(\n",
      "/opt/homebrew/Caskroom/miniconda/base/envs/course-work-venv/lib/python3.11/site-packages/sklearn/utils/_tags.py:322: FutureWarning: Estimator <catboost.core.CatBoostClassifier object at 0x3081f7390> has no __sklearn_tags__ attribute, which is defined in `sklearn.base.BaseEstimator`. This will raise an error in scikit-learn 1.8. Please define the __sklearn_tags__ method, or inherit from `sklearn.base.BaseEstimator` and other appropriate mixins such as `sklearn.base.TransformerMixin`, `sklearn.base.ClassifierMixin`, `sklearn.base.RegressorMixin`, and `sklearn.base.ClusterMixin`, and `sklearn.base.OutlierMixin`.\n",
      "  warnings.warn(\n",
      "/opt/homebrew/Caskroom/miniconda/base/envs/course-work-venv/lib/python3.11/site-packages/sklearn/utils/_tags.py:322: FutureWarning: Estimator <catboost.core.CatBoostClassifier object at 0x3081f7390> has no __sklearn_tags__ attribute, which is defined in `sklearn.base.BaseEstimator`. This will raise an error in scikit-learn 1.8. Please define the __sklearn_tags__ method, or inherit from `sklearn.base.BaseEstimator` and other appropriate mixins such as `sklearn.base.TransformerMixin`, `sklearn.base.ClassifierMixin`, `sklearn.base.RegressorMixin`, and `sklearn.base.ClusterMixin`, and `sklearn.base.OutlierMixin`.\n",
      "  warnings.warn(\n",
      "/opt/homebrew/Caskroom/miniconda/base/envs/course-work-venv/lib/python3.11/site-packages/sklearn/utils/_tags.py:322: FutureWarning: Estimator <catboost.core.CatBoostClassifier object at 0x3081f7390> has no __sklearn_tags__ attribute, which is defined in `sklearn.base.BaseEstimator`. This will raise an error in scikit-learn 1.8. Please define the __sklearn_tags__ method, or inherit from `sklearn.base.BaseEstimator` and other appropriate mixins such as `sklearn.base.TransformerMixin`, `sklearn.base.ClassifierMixin`, `sklearn.base.RegressorMixin`, and `sklearn.base.ClusterMixin`, and `sklearn.base.OutlierMixin`.\n",
      "  warnings.warn(\n",
      "/opt/homebrew/Caskroom/miniconda/base/envs/course-work-venv/lib/python3.11/site-packages/sklearn/utils/_tags.py:322: FutureWarning: Estimator <catboost.core.CatBoostClassifier object at 0x3081f7390> has no __sklearn_tags__ attribute, which is defined in `sklearn.base.BaseEstimator`. This will raise an error in scikit-learn 1.8. Please define the __sklearn_tags__ method, or inherit from `sklearn.base.BaseEstimator` and other appropriate mixins such as `sklearn.base.TransformerMixin`, `sklearn.base.ClassifierMixin`, `sklearn.base.RegressorMixin`, and `sklearn.base.ClusterMixin`, and `sklearn.base.OutlierMixin`.\n",
      "  warnings.warn(\n",
      "/opt/homebrew/Caskroom/miniconda/base/envs/course-work-venv/lib/python3.11/site-packages/sklearn/utils/_tags.py:322: FutureWarning: Estimator <catboost.core.CatBoostClassifier object at 0x3081ee210> has no __sklearn_tags__ attribute, which is defined in `sklearn.base.BaseEstimator`. This will raise an error in scikit-learn 1.8. Please define the __sklearn_tags__ method, or inherit from `sklearn.base.BaseEstimator` and other appropriate mixins such as `sklearn.base.TransformerMixin`, `sklearn.base.ClassifierMixin`, `sklearn.base.RegressorMixin`, and `sklearn.base.ClusterMixin`, and `sklearn.base.OutlierMixin`.\n",
      "  warnings.warn(\n"
     ]
    },
    {
     "name": "stdout",
     "output_type": "stream",
     "text": [
      "22:\tlearn: 0.5919699\ttotal: 26.6ms\tremaining: 22ms\n",
      "23:\tlearn: 0.5904833\ttotal: 27.8ms\tremaining: 20.8ms\n",
      "24:\tlearn: 0.5884661\ttotal: 28.9ms\tremaining: 19.7ms\n",
      "25:\tlearn: 0.5868611\ttotal: 30.1ms\tremaining: 18.5ms\n",
      "26:\tlearn: 0.5848973\ttotal: 31.3ms\tremaining: 17.4ms\n",
      "27:\tlearn: 0.5834575\ttotal: 32.5ms\tremaining: 16.2ms\n",
      "28:\tlearn: 0.5812840\ttotal: 33.7ms\tremaining: 15.1ms\n",
      "29:\tlearn: 0.5794280\ttotal: 34.8ms\tremaining: 13.9ms\n",
      "30:\tlearn: 0.5782118\ttotal: 36ms\tremaining: 12.8ms\n",
      "31:\tlearn: 0.5768846\ttotal: 37.2ms\tremaining: 11.6ms\n",
      "32:\tlearn: 0.5757524\ttotal: 38.7ms\tremaining: 10.6ms\n",
      "33:\tlearn: 0.5747209\ttotal: 40.2ms\tremaining: 9.45ms\n",
      "34:\tlearn: 0.5732458\ttotal: 41.4ms\tremaining: 8.27ms\n",
      "35:\tlearn: 0.5716904\ttotal: 42.5ms\tremaining: 7.09ms\n",
      "36:\tlearn: 0.5702562\ttotal: 43.8ms\tremaining: 5.91ms\n",
      "37:\tlearn: 0.5692635\ttotal: 45ms\tremaining: 4.73ms\n",
      "38:\tlearn: 0.5680925\ttotal: 46.2ms\tremaining: 3.56ms\n",
      "39:\tlearn: 0.5667542\ttotal: 47.8ms\tremaining: 2.39ms\n",
      "40:\tlearn: 0.5657504\ttotal: 49.1ms\tremaining: 1.2ms\n",
      "41:\tlearn: 0.5644054\ttotal: 50.3ms\tremaining: 0us\n",
      "Learning rate set to 0.384711\n",
      "0:\tlearn: 0.6685949\ttotal: 1.31ms\tremaining: 53.9ms\n",
      "1:\tlearn: 0.6600976\ttotal: 2.52ms\tremaining: 50.4ms\n",
      "2:\tlearn: 0.6507413\ttotal: 3.63ms\tremaining: 47.2ms\n",
      "3:\tlearn: 0.6448556\ttotal: 4.75ms\tremaining: 45.1ms\n",
      "4:\tlearn: 0.6385955\ttotal: 5.9ms\tremaining: 43.7ms\n",
      "5:\tlearn: 0.6349327\ttotal: 7.03ms\tremaining: 42.2ms\n",
      "6:\tlearn: 0.6313876\ttotal: 8.14ms\tremaining: 40.7ms\n",
      "7:\tlearn: 0.6275730\ttotal: 9.39ms\tremaining: 39.9ms\n",
      "8:\tlearn: 0.6255222\ttotal: 10.6ms\tremaining: 38.8ms\n",
      "9:\tlearn: 0.6230317\ttotal: 11.8ms\tremaining: 37.8ms\n",
      "10:\tlearn: 0.6209180\ttotal: 13ms\tremaining: 36.7ms\n",
      "11:\tlearn: 0.6184457\ttotal: 14.2ms\tremaining: 35.4ms\n",
      "12:\tlearn: 0.6159863\ttotal: 15.3ms\tremaining: 34.2ms\n",
      "13:\tlearn: 0.6132154\ttotal: 16.5ms\tremaining: 32.9ms\n",
      "14:\tlearn: 0.6114862\ttotal: 17.6ms\tremaining: 31.8ms\n",
      "15:\tlearn: 0.6092182\ttotal: 18.8ms\tremaining: 30.5ms\n",
      "16:\tlearn: 0.6075415\ttotal: 19.9ms\tremaining: 29.3ms\n",
      "17:\tlearn: 0.6061327\ttotal: 21.1ms\tremaining: 28.1ms\n",
      "18:\tlearn: 0.6050143\ttotal: 22.3ms\tremaining: 26.9ms\n",
      "19:\tlearn: 0.6019481\ttotal: 23.4ms\tremaining: 25.8ms\n",
      "20:\tlearn: 0.6002206\ttotal: 24.6ms\tremaining: 24.6ms\n",
      "21:\tlearn: 0.5983019\ttotal: 25.7ms\tremaining: 23.4ms\n",
      "22:\tlearn: 0.5966479\ttotal: 26.9ms\tremaining: 22.2ms\n",
      "23:\tlearn: 0.5946606\ttotal: 28.1ms\tremaining: 21.1ms\n",
      "24:\tlearn: 0.5919773\ttotal: 29.3ms\tremaining: 19.9ms\n",
      "25:\tlearn: 0.5897076\ttotal: 30.5ms\tremaining: 18.7ms\n",
      "26:\tlearn: 0.5878399\ttotal: 31.8ms\tremaining: 17.7ms\n",
      "27:\tlearn: 0.5862494\ttotal: 33.2ms\tremaining: 16.6ms\n",
      "28:\tlearn: 0.5847574\ttotal: 34.3ms\tremaining: 15.4ms\n",
      "29:\tlearn: 0.5827683\ttotal: 35.5ms\tremaining: 14.2ms\n",
      "30:\tlearn: 0.5809609\ttotal: 36.8ms\tremaining: 13ms\n",
      "31:\tlearn: 0.5791339\ttotal: 38ms\tremaining: 11.9ms\n",
      "32:\tlearn: 0.5776002\ttotal: 39.2ms\tremaining: 10.7ms\n",
      "33:\tlearn: 0.5759433\ttotal: 40.4ms\tremaining: 9.5ms\n",
      "34:\tlearn: 0.5746202\ttotal: 41.6ms\tremaining: 8.31ms\n",
      "35:\tlearn: 0.5730329\ttotal: 42.8ms\tremaining: 7.13ms\n",
      "36:\tlearn: 0.5718229\ttotal: 44.1ms\tremaining: 5.96ms\n",
      "37:\tlearn: 0.5697480\ttotal: 45.3ms\tremaining: 4.76ms\n",
      "38:\tlearn: 0.5683001\ttotal: 46.5ms\tremaining: 3.57ms\n",
      "39:\tlearn: 0.5674708\ttotal: 47.6ms\tremaining: 2.38ms\n",
      "40:\tlearn: 0.5665990\ttotal: 48.8ms\tremaining: 1.19ms\n",
      "41:\tlearn: 0.5652054\ttotal: 50.2ms\tremaining: 0us\n",
      "Learning rate set to 0.384742\n"
     ]
    },
    {
     "name": "stderr",
     "output_type": "stream",
     "text": [
      "/opt/homebrew/Caskroom/miniconda/base/envs/course-work-venv/lib/python3.11/site-packages/sklearn/utils/_tags.py:322: FutureWarning: Estimator <catboost.core.CatBoostClassifier object at 0x3081ee210> has no __sklearn_tags__ attribute, which is defined in `sklearn.base.BaseEstimator`. This will raise an error in scikit-learn 1.8. Please define the __sklearn_tags__ method, or inherit from `sklearn.base.BaseEstimator` and other appropriate mixins such as `sklearn.base.TransformerMixin`, `sklearn.base.ClassifierMixin`, `sklearn.base.RegressorMixin`, and `sklearn.base.ClusterMixin`, and `sklearn.base.OutlierMixin`.\n",
      "  warnings.warn(\n",
      "/opt/homebrew/Caskroom/miniconda/base/envs/course-work-venv/lib/python3.11/site-packages/sklearn/utils/_tags.py:322: FutureWarning: Estimator <catboost.core.CatBoostClassifier object at 0x3081ee210> has no __sklearn_tags__ attribute, which is defined in `sklearn.base.BaseEstimator`. This will raise an error in scikit-learn 1.8. Please define the __sklearn_tags__ method, or inherit from `sklearn.base.BaseEstimator` and other appropriate mixins such as `sklearn.base.TransformerMixin`, `sklearn.base.ClassifierMixin`, `sklearn.base.RegressorMixin`, and `sklearn.base.ClusterMixin`, and `sklearn.base.OutlierMixin`.\n",
      "  warnings.warn(\n",
      "/opt/homebrew/Caskroom/miniconda/base/envs/course-work-venv/lib/python3.11/site-packages/sklearn/utils/_tags.py:322: FutureWarning: Estimator <catboost.core.CatBoostClassifier object at 0x3081ee210> has no __sklearn_tags__ attribute, which is defined in `sklearn.base.BaseEstimator`. This will raise an error in scikit-learn 1.8. Please define the __sklearn_tags__ method, or inherit from `sklearn.base.BaseEstimator` and other appropriate mixins such as `sklearn.base.TransformerMixin`, `sklearn.base.ClassifierMixin`, `sklearn.base.RegressorMixin`, and `sklearn.base.ClusterMixin`, and `sklearn.base.OutlierMixin`.\n",
      "  warnings.warn(\n",
      "/opt/homebrew/Caskroom/miniconda/base/envs/course-work-venv/lib/python3.11/site-packages/sklearn/utils/_tags.py:322: FutureWarning: Estimator <catboost.core.CatBoostClassifier object at 0x176d767d0> has no __sklearn_tags__ attribute, which is defined in `sklearn.base.BaseEstimator`. This will raise an error in scikit-learn 1.8. Please define the __sklearn_tags__ method, or inherit from `sklearn.base.BaseEstimator` and other appropriate mixins such as `sklearn.base.TransformerMixin`, `sklearn.base.ClassifierMixin`, `sklearn.base.RegressorMixin`, and `sklearn.base.ClusterMixin`, and `sklearn.base.OutlierMixin`.\n",
      "  warnings.warn(\n",
      "/opt/homebrew/Caskroom/miniconda/base/envs/course-work-venv/lib/python3.11/site-packages/sklearn/utils/_tags.py:322: FutureWarning: Estimator <catboost.core.CatBoostClassifier object at 0x176d767d0> has no __sklearn_tags__ attribute, which is defined in `sklearn.base.BaseEstimator`. This will raise an error in scikit-learn 1.8. Please define the __sklearn_tags__ method, or inherit from `sklearn.base.BaseEstimator` and other appropriate mixins such as `sklearn.base.TransformerMixin`, `sklearn.base.ClassifierMixin`, `sklearn.base.RegressorMixin`, and `sklearn.base.ClusterMixin`, and `sklearn.base.OutlierMixin`.\n",
      "  warnings.warn(\n",
      "/opt/homebrew/Caskroom/miniconda/base/envs/course-work-venv/lib/python3.11/site-packages/sklearn/utils/_tags.py:322: FutureWarning: Estimator <catboost.core.CatBoostClassifier object at 0x176d767d0> has no __sklearn_tags__ attribute, which is defined in `sklearn.base.BaseEstimator`. This will raise an error in scikit-learn 1.8. Please define the __sklearn_tags__ method, or inherit from `sklearn.base.BaseEstimator` and other appropriate mixins such as `sklearn.base.TransformerMixin`, `sklearn.base.ClassifierMixin`, `sklearn.base.RegressorMixin`, and `sklearn.base.ClusterMixin`, and `sklearn.base.OutlierMixin`.\n",
      "  warnings.warn(\n",
      "/opt/homebrew/Caskroom/miniconda/base/envs/course-work-venv/lib/python3.11/site-packages/sklearn/utils/_tags.py:322: FutureWarning: Estimator <catboost.core.CatBoostClassifier object at 0x176d767d0> has no __sklearn_tags__ attribute, which is defined in `sklearn.base.BaseEstimator`. This will raise an error in scikit-learn 1.8. Please define the __sklearn_tags__ method, or inherit from `sklearn.base.BaseEstimator` and other appropriate mixins such as `sklearn.base.TransformerMixin`, `sklearn.base.ClassifierMixin`, `sklearn.base.RegressorMixin`, and `sklearn.base.ClusterMixin`, and `sklearn.base.OutlierMixin`.\n",
      "  warnings.warn(\n",
      "/opt/homebrew/Caskroom/miniconda/base/envs/course-work-venv/lib/python3.11/site-packages/sklearn/utils/_tags.py:322: FutureWarning: Estimator <catboost.core.CatBoostClassifier object at 0x176d7cad0> has no __sklearn_tags__ attribute, which is defined in `sklearn.base.BaseEstimator`. This will raise an error in scikit-learn 1.8. Please define the __sklearn_tags__ method, or inherit from `sklearn.base.BaseEstimator` and other appropriate mixins such as `sklearn.base.TransformerMixin`, `sklearn.base.ClassifierMixin`, `sklearn.base.RegressorMixin`, and `sklearn.base.ClusterMixin`, and `sklearn.base.OutlierMixin`.\n",
      "  warnings.warn(\n"
     ]
    },
    {
     "name": "stdout",
     "output_type": "stream",
     "text": [
      "0:\tlearn: 0.6680599\ttotal: 1.34ms\tremaining: 54.9ms\n",
      "1:\tlearn: 0.6602915\ttotal: 2.65ms\tremaining: 53ms\n",
      "2:\tlearn: 0.6517410\ttotal: 3.87ms\tremaining: 50.3ms\n",
      "3:\tlearn: 0.6481208\ttotal: 5.08ms\tremaining: 48.3ms\n",
      "4:\tlearn: 0.6437727\ttotal: 6.33ms\tremaining: 46.8ms\n",
      "5:\tlearn: 0.6381855\ttotal: 7.59ms\tremaining: 45.5ms\n",
      "6:\tlearn: 0.6334837\ttotal: 9.47ms\tremaining: 47.4ms\n",
      "7:\tlearn: 0.6301557\ttotal: 10.7ms\tremaining: 45.3ms\n",
      "8:\tlearn: 0.6283731\ttotal: 11.8ms\tremaining: 43.1ms\n",
      "9:\tlearn: 0.6254432\ttotal: 12.9ms\tremaining: 41.2ms\n",
      "10:\tlearn: 0.6225221\ttotal: 14ms\tremaining: 39.6ms\n",
      "11:\tlearn: 0.6192842\ttotal: 15.2ms\tremaining: 38.1ms\n",
      "12:\tlearn: 0.6172657\ttotal: 16.4ms\tremaining: 36.6ms\n",
      "13:\tlearn: 0.6159002\ttotal: 17.7ms\tremaining: 35.5ms\n",
      "14:\tlearn: 0.6131435\ttotal: 19.3ms\tremaining: 34.8ms\n",
      "15:\tlearn: 0.6115925\ttotal: 20.6ms\tremaining: 33.5ms\n",
      "16:\tlearn: 0.6086028\ttotal: 21.9ms\tremaining: 32.2ms\n",
      "17:\tlearn: 0.6066348\ttotal: 23ms\tremaining: 30.6ms\n",
      "18:\tlearn: 0.6043703\ttotal: 24.1ms\tremaining: 29.2ms\n",
      "19:\tlearn: 0.6026931\ttotal: 25.3ms\tremaining: 27.8ms\n",
      "20:\tlearn: 0.6006325\ttotal: 26.6ms\tremaining: 26.6ms\n",
      "21:\tlearn: 0.5989191\ttotal: 27.8ms\tremaining: 25.3ms\n",
      "22:\tlearn: 0.5973317\ttotal: 29ms\tremaining: 23.9ms\n",
      "23:\tlearn: 0.5954226\ttotal: 30.3ms\tremaining: 22.7ms\n",
      "24:\tlearn: 0.5938535\ttotal: 31.6ms\tremaining: 21.5ms\n",
      "25:\tlearn: 0.5920358\ttotal: 32.8ms\tremaining: 20.2ms\n",
      "26:\tlearn: 0.5900477\ttotal: 34.2ms\tremaining: 19ms\n",
      "27:\tlearn: 0.5873541\ttotal: 35.4ms\tremaining: 17.7ms\n",
      "28:\tlearn: 0.5857599\ttotal: 36.6ms\tremaining: 16.4ms\n",
      "29:\tlearn: 0.5843124\ttotal: 37.7ms\tremaining: 15.1ms\n",
      "30:\tlearn: 0.5829339\ttotal: 38.9ms\tremaining: 13.8ms\n",
      "31:\tlearn: 0.5803784\ttotal: 40.2ms\tremaining: 12.6ms\n",
      "32:\tlearn: 0.5792220\ttotal: 41.3ms\tremaining: 11.3ms\n",
      "33:\tlearn: 0.5777987\ttotal: 42.5ms\tremaining: 10ms\n",
      "34:\tlearn: 0.5765777\ttotal: 43.6ms\tremaining: 8.72ms\n",
      "35:\tlearn: 0.5745214\ttotal: 44.7ms\tremaining: 7.46ms\n",
      "36:\tlearn: 0.5734254\ttotal: 46.2ms\tremaining: 6.24ms\n",
      "37:\tlearn: 0.5721385\ttotal: 47.5ms\tremaining: 5ms\n",
      "38:\tlearn: 0.5704641\ttotal: 49ms\tremaining: 3.77ms\n",
      "39:\tlearn: 0.5691950\ttotal: 50.4ms\tremaining: 2.52ms\n",
      "40:\tlearn: 0.5680236\ttotal: 51.7ms\tremaining: 1.26ms\n",
      "41:\tlearn: 0.5665949\ttotal: 53ms\tremaining: 0us\n",
      "Learning rate set to 0.384742\n",
      "0:\tlearn: 0.6685908\ttotal: 1.26ms\tremaining: 51.6ms\n",
      "1:\tlearn: 0.6598672\ttotal: 2.4ms\tremaining: 48.1ms\n",
      "2:\tlearn: 0.6541797\ttotal: 3.67ms\tremaining: 47.7ms\n",
      "3:\tlearn: 0.6477551\ttotal: 4.79ms\tremaining: 45.5ms\n",
      "4:\tlearn: 0.6426441\ttotal: 6.04ms\tremaining: 44.7ms\n",
      "5:\tlearn: 0.6375417\ttotal: 7.33ms\tremaining: 44ms\n",
      "6:\tlearn: 0.6347933\ttotal: 8.5ms\tremaining: 42.5ms\n",
      "7:\tlearn: 0.6311906\ttotal: 9.71ms\tremaining: 41.3ms\n",
      "8:\tlearn: 0.6289992\ttotal: 10.9ms\tremaining: 40ms\n",
      "9:\tlearn: 0.6257344\ttotal: 12.1ms\tremaining: 38.6ms\n",
      "10:\tlearn: 0.6234171\ttotal: 13.2ms\tremaining: 37.2ms\n",
      "11:\tlearn: 0.6200926\ttotal: 14.4ms\tremaining: 36ms\n",
      "12:\tlearn: 0.6176819\ttotal: 15.6ms\tremaining: 34.8ms\n",
      "13:\tlearn: 0.6148236\ttotal: 16.6ms\tremaining: 33.2ms\n",
      "14:\tlearn: 0.6122622\ttotal: 17.8ms\tremaining: 32ms\n",
      "15:\tlearn: 0.6102570\ttotal: 19ms\tremaining: 30.9ms\n",
      "16:\tlearn: 0.6087627\ttotal: 20.1ms\tremaining: 29.6ms\n",
      "17:\tlearn: 0.6052583\ttotal: 21.3ms\tremaining: 28.4ms\n",
      "18:\tlearn: 0.6024364\ttotal: 22.4ms\tremaining: 27.2ms\n",
      "19:\tlearn: 0.6010947\ttotal: 23.8ms\tremaining: 26.2ms\n",
      "20:\tlearn: 0.5988355\ttotal: 25ms\tremaining: 25ms\n",
      "21:\tlearn: 0.5967657\ttotal: 26.1ms\tremaining: 23.7ms\n",
      "22:\tlearn: 0.5943254\ttotal: 27.2ms\tremaining: 22.5ms\n",
      "23:\tlearn: 0.5926497\ttotal: 28.4ms\tremaining: 21.3ms\n",
      "24:\tlearn: 0.5909819\ttotal: 29.6ms\tremaining: 20.2ms\n",
      "25:\tlearn: 0.5890373\ttotal: 31.1ms\tremaining: 19.1ms\n",
      "26:\tlearn: 0.5874851\ttotal: 32.3ms\tremaining: 17.9ms\n",
      "27:\tlearn: 0.5850736\ttotal: 33.5ms\tremaining: 16.7ms\n",
      "28:\tlearn: 0.5832700\ttotal: 34.6ms\tremaining: 15.5ms\n",
      "29:\tlearn: 0.5813484\ttotal: 35.8ms\tremaining: 14.3ms\n",
      "30:\tlearn: 0.5797350\ttotal: 36.9ms\tremaining: 13.1ms\n",
      "31:\tlearn: 0.5780336\ttotal: 38.1ms\tremaining: 11.9ms\n",
      "32:\tlearn: 0.5759880\ttotal: 39.4ms\tremaining: 10.7ms\n",
      "33:\tlearn: 0.5744706\ttotal: 40.6ms\tremaining: 9.54ms\n",
      "34:\tlearn: 0.5733673\ttotal: 41.7ms\tremaining: 8.34ms\n",
      "35:\tlearn: 0.5723758\ttotal: 42.9ms\tremaining: 7.14ms\n",
      "36:\tlearn: 0.5710553\ttotal: 44ms\tremaining: 5.95ms\n",
      "37:\tlearn: 0.5697541\ttotal: 45.2ms\tremaining: 4.75ms\n",
      "38:\tlearn: 0.5682262\ttotal: 46.4ms\tremaining: 3.57ms\n",
      "39:\tlearn: 0.5671983\ttotal: 47.7ms\tremaining: 2.38ms\n",
      "40:\tlearn: 0.5655867\ttotal: 49.1ms\tremaining: 1.2ms\n",
      "41:\tlearn: 0.5645103\ttotal: 50.8ms\tremaining: 0us\n"
     ]
    },
    {
     "name": "stderr",
     "output_type": "stream",
     "text": [
      "/opt/homebrew/Caskroom/miniconda/base/envs/course-work-venv/lib/python3.11/site-packages/sklearn/utils/_tags.py:322: FutureWarning: Estimator <catboost.core.CatBoostClassifier object at 0x176d7cad0> has no __sklearn_tags__ attribute, which is defined in `sklearn.base.BaseEstimator`. This will raise an error in scikit-learn 1.8. Please define the __sklearn_tags__ method, or inherit from `sklearn.base.BaseEstimator` and other appropriate mixins such as `sklearn.base.TransformerMixin`, `sklearn.base.ClassifierMixin`, `sklearn.base.RegressorMixin`, and `sklearn.base.ClusterMixin`, and `sklearn.base.OutlierMixin`.\n",
      "  warnings.warn(\n",
      "/opt/homebrew/Caskroom/miniconda/base/envs/course-work-venv/lib/python3.11/site-packages/sklearn/utils/_tags.py:322: FutureWarning: Estimator <catboost.core.CatBoostClassifier object at 0x176d7cad0> has no __sklearn_tags__ attribute, which is defined in `sklearn.base.BaseEstimator`. This will raise an error in scikit-learn 1.8. Please define the __sklearn_tags__ method, or inherit from `sklearn.base.BaseEstimator` and other appropriate mixins such as `sklearn.base.TransformerMixin`, `sklearn.base.ClassifierMixin`, `sklearn.base.RegressorMixin`, and `sklearn.base.ClusterMixin`, and `sklearn.base.OutlierMixin`.\n",
      "  warnings.warn(\n",
      "/opt/homebrew/Caskroom/miniconda/base/envs/course-work-venv/lib/python3.11/site-packages/sklearn/utils/_tags.py:322: FutureWarning: Estimator <catboost.core.CatBoostClassifier object at 0x176d7cad0> has no __sklearn_tags__ attribute, which is defined in `sklearn.base.BaseEstimator`. This will raise an error in scikit-learn 1.8. Please define the __sklearn_tags__ method, or inherit from `sklearn.base.BaseEstimator` and other appropriate mixins such as `sklearn.base.TransformerMixin`, `sklearn.base.ClassifierMixin`, `sklearn.base.RegressorMixin`, and `sklearn.base.ClusterMixin`, and `sklearn.base.OutlierMixin`.\n",
      "  warnings.warn(\n",
      "/opt/homebrew/Caskroom/miniconda/base/envs/course-work-venv/lib/python3.11/site-packages/sklearn/utils/_tags.py:322: FutureWarning: Estimator <catboost.core.CatBoostClassifier object at 0x177f35910> has no __sklearn_tags__ attribute, which is defined in `sklearn.base.BaseEstimator`. This will raise an error in scikit-learn 1.8. Please define the __sklearn_tags__ method, or inherit from `sklearn.base.BaseEstimator` and other appropriate mixins such as `sklearn.base.TransformerMixin`, `sklearn.base.ClassifierMixin`, `sklearn.base.RegressorMixin`, and `sklearn.base.ClusterMixin`, and `sklearn.base.OutlierMixin`.\n",
      "  warnings.warn(\n",
      "/opt/homebrew/Caskroom/miniconda/base/envs/course-work-venv/lib/python3.11/site-packages/sklearn/utils/_tags.py:322: FutureWarning: Estimator <catboost.core.CatBoostClassifier object at 0x177f35910> has no __sklearn_tags__ attribute, which is defined in `sklearn.base.BaseEstimator`. This will raise an error in scikit-learn 1.8. Please define the __sklearn_tags__ method, or inherit from `sklearn.base.BaseEstimator` and other appropriate mixins such as `sklearn.base.TransformerMixin`, `sklearn.base.ClassifierMixin`, `sklearn.base.RegressorMixin`, and `sklearn.base.ClusterMixin`, and `sklearn.base.OutlierMixin`.\n",
      "  warnings.warn(\n",
      "/opt/homebrew/Caskroom/miniconda/base/envs/course-work-venv/lib/python3.11/site-packages/sklearn/utils/_tags.py:322: FutureWarning: Estimator <catboost.core.CatBoostClassifier object at 0x177f35910> has no __sklearn_tags__ attribute, which is defined in `sklearn.base.BaseEstimator`. This will raise an error in scikit-learn 1.8. Please define the __sklearn_tags__ method, or inherit from `sklearn.base.BaseEstimator` and other appropriate mixins such as `sklearn.base.TransformerMixin`, `sklearn.base.ClassifierMixin`, `sklearn.base.RegressorMixin`, and `sklearn.base.ClusterMixin`, and `sklearn.base.OutlierMixin`.\n",
      "  warnings.warn(\n",
      "/opt/homebrew/Caskroom/miniconda/base/envs/course-work-venv/lib/python3.11/site-packages/sklearn/utils/_tags.py:322: FutureWarning: Estimator <catboost.core.CatBoostClassifier object at 0x177f35910> has no __sklearn_tags__ attribute, which is defined in `sklearn.base.BaseEstimator`. This will raise an error in scikit-learn 1.8. Please define the __sklearn_tags__ method, or inherit from `sklearn.base.BaseEstimator` and other appropriate mixins such as `sklearn.base.TransformerMixin`, `sklearn.base.ClassifierMixin`, `sklearn.base.RegressorMixin`, and `sklearn.base.ClusterMixin`, and `sklearn.base.OutlierMixin`.\n",
      "  warnings.warn(\n",
      "/opt/homebrew/Caskroom/miniconda/base/envs/course-work-venv/lib/python3.11/site-packages/sklearn/utils/_tags.py:322: FutureWarning: Estimator <catboost.core.CatBoostClassifier object at 0x3081fc510> has no __sklearn_tags__ attribute, which is defined in `sklearn.base.BaseEstimator`. This will raise an error in scikit-learn 1.8. Please define the __sklearn_tags__ method, or inherit from `sklearn.base.BaseEstimator` and other appropriate mixins such as `sklearn.base.TransformerMixin`, `sklearn.base.ClassifierMixin`, `sklearn.base.RegressorMixin`, and `sklearn.base.ClusterMixin`, and `sklearn.base.OutlierMixin`.\n",
      "  warnings.warn(\n"
     ]
    },
    {
     "name": "stdout",
     "output_type": "stream",
     "text": [
      "Learning rate set to 0.384742\n",
      "0:\tlearn: 0.6689577\ttotal: 1.29ms\tremaining: 53.1ms\n",
      "1:\tlearn: 0.6606456\ttotal: 2.43ms\tremaining: 48.6ms\n",
      "2:\tlearn: 0.6524297\ttotal: 3.56ms\tremaining: 46.2ms\n",
      "3:\tlearn: 0.6473257\ttotal: 4.82ms\tremaining: 45.8ms\n",
      "4:\tlearn: 0.6421736\ttotal: 6.09ms\tremaining: 45.1ms\n",
      "5:\tlearn: 0.6384351\ttotal: 7.33ms\tremaining: 44ms\n",
      "6:\tlearn: 0.6347408\ttotal: 8.55ms\tremaining: 42.8ms\n",
      "7:\tlearn: 0.6315504\ttotal: 9.71ms\tremaining: 41.3ms\n",
      "8:\tlearn: 0.6298853\ttotal: 11ms\tremaining: 40.3ms\n",
      "9:\tlearn: 0.6278835\ttotal: 12.2ms\tremaining: 39.1ms\n",
      "10:\tlearn: 0.6234566\ttotal: 13.5ms\tremaining: 38ms\n",
      "11:\tlearn: 0.6215464\ttotal: 14.6ms\tremaining: 36.4ms\n",
      "12:\tlearn: 0.6183895\ttotal: 15.8ms\tremaining: 35.3ms\n",
      "13:\tlearn: 0.6169174\ttotal: 16.9ms\tremaining: 33.9ms\n",
      "14:\tlearn: 0.6157183\ttotal: 18.1ms\tremaining: 32.6ms\n",
      "15:\tlearn: 0.6129251\ttotal: 19.3ms\tremaining: 31.4ms\n",
      "16:\tlearn: 0.6099367\ttotal: 20.6ms\tremaining: 30.2ms\n",
      "17:\tlearn: 0.6083806\ttotal: 21.6ms\tremaining: 28.8ms\n",
      "18:\tlearn: 0.6055739\ttotal: 22.8ms\tremaining: 27.6ms\n",
      "19:\tlearn: 0.6035563\ttotal: 23.9ms\tremaining: 26.3ms\n",
      "20:\tlearn: 0.6011451\ttotal: 25.1ms\tremaining: 25.1ms\n",
      "21:\tlearn: 0.5994683\ttotal: 26.2ms\tremaining: 23.9ms\n",
      "22:\tlearn: 0.5965519\ttotal: 27.8ms\tremaining: 23ms\n",
      "23:\tlearn: 0.5950116\ttotal: 29ms\tremaining: 21.7ms\n",
      "24:\tlearn: 0.5932088\ttotal: 30.2ms\tremaining: 20.5ms\n",
      "25:\tlearn: 0.5910097\ttotal: 31.3ms\tremaining: 19.3ms\n",
      "26:\tlearn: 0.5892019\ttotal: 32.6ms\tremaining: 18.1ms\n",
      "27:\tlearn: 0.5875738\ttotal: 33.7ms\tremaining: 16.9ms\n",
      "28:\tlearn: 0.5863859\ttotal: 34.8ms\tremaining: 15.6ms\n",
      "29:\tlearn: 0.5843503\ttotal: 36ms\tremaining: 14.4ms\n",
      "30:\tlearn: 0.5828148\ttotal: 37.2ms\tremaining: 13.2ms\n",
      "31:\tlearn: 0.5814637\ttotal: 38.4ms\tremaining: 12ms\n",
      "32:\tlearn: 0.5792407\ttotal: 40ms\tremaining: 10.9ms\n",
      "33:\tlearn: 0.5779743\ttotal: 41.5ms\tremaining: 9.76ms\n",
      "34:\tlearn: 0.5766918\ttotal: 42.7ms\tremaining: 8.53ms\n",
      "35:\tlearn: 0.5749151\ttotal: 43.9ms\tremaining: 7.31ms\n",
      "36:\tlearn: 0.5731454\ttotal: 45ms\tremaining: 6.09ms\n",
      "37:\tlearn: 0.5716995\ttotal: 46.3ms\tremaining: 4.87ms\n",
      "38:\tlearn: 0.5706860\ttotal: 47.5ms\tremaining: 3.65ms\n",
      "39:\tlearn: 0.5689782\ttotal: 48.7ms\tremaining: 2.43ms\n",
      "40:\tlearn: 0.5678806\ttotal: 49.8ms\tremaining: 1.22ms\n",
      "41:\tlearn: 0.5665521\ttotal: 51ms\tremaining: 0us\n",
      "Learning rate set to 0.384742\n",
      "0:\tlearn: 0.6592465\ttotal: 1.29ms\tremaining: 53.1ms\n",
      "1:\tlearn: 0.6498613\ttotal: 2.5ms\tremaining: 50ms\n",
      "2:\tlearn: 0.6424187\ttotal: 3.67ms\tremaining: 47.7ms\n",
      "3:\tlearn: 0.6348610\ttotal: 4.86ms\tremaining: 46.2ms\n",
      "4:\tlearn: 0.6311369\ttotal: 6.02ms\tremaining: 44.6ms\n",
      "5:\tlearn: 0.6283826\ttotal: 7.26ms\tremaining: 43.6ms\n",
      "6:\tlearn: 0.6245592\ttotal: 8.39ms\tremaining: 42ms\n",
      "7:\tlearn: 0.6212775\ttotal: 9.64ms\tremaining: 41ms\n",
      "8:\tlearn: 0.6173206\ttotal: 10.8ms\tremaining: 39.7ms\n",
      "9:\tlearn: 0.6151444\ttotal: 12ms\tremaining: 38.3ms\n",
      "10:\tlearn: 0.6118670\ttotal: 13ms\tremaining: 36.7ms\n",
      "11:\tlearn: 0.6096921\ttotal: 14.2ms\tremaining: 35.5ms\n",
      "12:\tlearn: 0.6066068\ttotal: 15.4ms\tremaining: 34.3ms\n",
      "13:\tlearn: 0.6034936\ttotal: 16.5ms\tremaining: 33.1ms\n",
      "14:\tlearn: 0.6010460\ttotal: 17.7ms\tremaining: 31.8ms\n",
      "15:\tlearn: 0.5993880\ttotal: 18.8ms\tremaining: 30.6ms\n",
      "16:\tlearn: 0.5958868\ttotal: 20ms\tremaining: 29.4ms\n",
      "17:\tlearn: 0.5937875\ttotal: 21.2ms\tremaining: 28.2ms\n",
      "18:\tlearn: 0.5923270\ttotal: 22.3ms\tremaining: 27ms\n",
      "19:\tlearn: 0.5899841\ttotal: 23.5ms\tremaining: 25.8ms\n",
      "20:\tlearn: 0.5887988\ttotal: 24.6ms\tremaining: 24.6ms\n",
      "21:\tlearn: 0.5868240\ttotal: 25.8ms\tremaining: 23.4ms\n",
      "22:\tlearn: 0.5843863\ttotal: 27ms\tremaining: 22.3ms\n",
      "23:\tlearn: 0.5829672\ttotal: 28.1ms\tremaining: 21.1ms\n",
      "24:\tlearn: 0.5815807\ttotal: 29.3ms\tremaining: 19.9ms\n",
      "25:\tlearn: 0.5798205\ttotal: 30.5ms\tremaining: 18.7ms\n",
      "26:\tlearn: 0.5776927\ttotal: 31.6ms\tremaining: 17.6ms\n",
      "27:\tlearn: 0.5743610\ttotal: 32.8ms\tremaining: 16.4ms\n",
      "28:\tlearn: 0.5729330\ttotal: 33.9ms\tremaining: 15.2ms\n",
      "29:\tlearn: 0.5706128\ttotal: 35.1ms\tremaining: 14ms\n",
      "30:\tlearn: 0.5686894\ttotal: 36.4ms\tremaining: 12.9ms\n",
      "31:\tlearn: 0.5672991\ttotal: 37.6ms\tremaining: 11.7ms\n",
      "32:\tlearn: 0.5653060\ttotal: 38.9ms\tremaining: 10.6ms\n",
      "33:\tlearn: 0.5634041\ttotal: 40.1ms\tremaining: 9.44ms\n",
      "34:\tlearn: 0.5617165\ttotal: 41.4ms\tremaining: 8.29ms\n",
      "35:\tlearn: 0.5602675\ttotal: 42.7ms\tremaining: 7.11ms\n",
      "36:\tlearn: 0.5590198\ttotal: 43.9ms\tremaining: 5.93ms\n",
      "37:\tlearn: 0.5578783\ttotal: 45.2ms\tremaining: 4.76ms\n",
      "38:\tlearn: 0.5566476\ttotal: 46.8ms\tremaining: 3.6ms\n",
      "39:\tlearn: 0.5555859\ttotal: 48ms\tremaining: 2.4ms\n",
      "40:\tlearn: 0.5538891\ttotal: 49.2ms\tremaining: 1.2ms\n",
      "41:\tlearn: 0.5531124\ttotal: 50.3ms\tremaining: 0us\n"
     ]
    },
    {
     "name": "stderr",
     "output_type": "stream",
     "text": [
      "/opt/homebrew/Caskroom/miniconda/base/envs/course-work-venv/lib/python3.11/site-packages/sklearn/utils/_tags.py:322: FutureWarning: Estimator <catboost.core.CatBoostClassifier object at 0x3081fc510> has no __sklearn_tags__ attribute, which is defined in `sklearn.base.BaseEstimator`. This will raise an error in scikit-learn 1.8. Please define the __sklearn_tags__ method, or inherit from `sklearn.base.BaseEstimator` and other appropriate mixins such as `sklearn.base.TransformerMixin`, `sklearn.base.ClassifierMixin`, `sklearn.base.RegressorMixin`, and `sklearn.base.ClusterMixin`, and `sklearn.base.OutlierMixin`.\n",
      "  warnings.warn(\n",
      "/opt/homebrew/Caskroom/miniconda/base/envs/course-work-venv/lib/python3.11/site-packages/sklearn/utils/_tags.py:322: FutureWarning: Estimator <catboost.core.CatBoostClassifier object at 0x3081fc510> has no __sklearn_tags__ attribute, which is defined in `sklearn.base.BaseEstimator`. This will raise an error in scikit-learn 1.8. Please define the __sklearn_tags__ method, or inherit from `sklearn.base.BaseEstimator` and other appropriate mixins such as `sklearn.base.TransformerMixin`, `sklearn.base.ClassifierMixin`, `sklearn.base.RegressorMixin`, and `sklearn.base.ClusterMixin`, and `sklearn.base.OutlierMixin`.\n",
      "  warnings.warn(\n",
      "/opt/homebrew/Caskroom/miniconda/base/envs/course-work-venv/lib/python3.11/site-packages/sklearn/utils/_tags.py:322: FutureWarning: Estimator <catboost.core.CatBoostClassifier object at 0x3081fc510> has no __sklearn_tags__ attribute, which is defined in `sklearn.base.BaseEstimator`. This will raise an error in scikit-learn 1.8. Please define the __sklearn_tags__ method, or inherit from `sklearn.base.BaseEstimator` and other appropriate mixins such as `sklearn.base.TransformerMixin`, `sklearn.base.ClassifierMixin`, `sklearn.base.RegressorMixin`, and `sklearn.base.ClusterMixin`, and `sklearn.base.OutlierMixin`.\n",
      "  warnings.warn(\n",
      "/opt/homebrew/Caskroom/miniconda/base/envs/course-work-venv/lib/python3.11/site-packages/sklearn/utils/_tags.py:322: FutureWarning: Estimator <catboost.core.CatBoostClassifier object at 0x3082d7310> has no __sklearn_tags__ attribute, which is defined in `sklearn.base.BaseEstimator`. This will raise an error in scikit-learn 1.8. Please define the __sklearn_tags__ method, or inherit from `sklearn.base.BaseEstimator` and other appropriate mixins such as `sklearn.base.TransformerMixin`, `sklearn.base.ClassifierMixin`, `sklearn.base.RegressorMixin`, and `sklearn.base.ClusterMixin`, and `sklearn.base.OutlierMixin`.\n",
      "  warnings.warn(\n",
      "/opt/homebrew/Caskroom/miniconda/base/envs/course-work-venv/lib/python3.11/site-packages/sklearn/utils/_tags.py:322: FutureWarning: Estimator <catboost.core.CatBoostClassifier object at 0x3082d7310> has no __sklearn_tags__ attribute, which is defined in `sklearn.base.BaseEstimator`. This will raise an error in scikit-learn 1.8. Please define the __sklearn_tags__ method, or inherit from `sklearn.base.BaseEstimator` and other appropriate mixins such as `sklearn.base.TransformerMixin`, `sklearn.base.ClassifierMixin`, `sklearn.base.RegressorMixin`, and `sklearn.base.ClusterMixin`, and `sklearn.base.OutlierMixin`.\n",
      "  warnings.warn(\n",
      "/opt/homebrew/Caskroom/miniconda/base/envs/course-work-venv/lib/python3.11/site-packages/sklearn/utils/_tags.py:322: FutureWarning: Estimator <catboost.core.CatBoostClassifier object at 0x3082d7310> has no __sklearn_tags__ attribute, which is defined in `sklearn.base.BaseEstimator`. This will raise an error in scikit-learn 1.8. Please define the __sklearn_tags__ method, or inherit from `sklearn.base.BaseEstimator` and other appropriate mixins such as `sklearn.base.TransformerMixin`, `sklearn.base.ClassifierMixin`, `sklearn.base.RegressorMixin`, and `sklearn.base.ClusterMixin`, and `sklearn.base.OutlierMixin`.\n",
      "  warnings.warn(\n",
      "/opt/homebrew/Caskroom/miniconda/base/envs/course-work-venv/lib/python3.11/site-packages/sklearn/utils/_tags.py:322: FutureWarning: Estimator <catboost.core.CatBoostClassifier object at 0x3082d7310> has no __sklearn_tags__ attribute, which is defined in `sklearn.base.BaseEstimator`. This will raise an error in scikit-learn 1.8. Please define the __sklearn_tags__ method, or inherit from `sklearn.base.BaseEstimator` and other appropriate mixins such as `sklearn.base.TransformerMixin`, `sklearn.base.ClassifierMixin`, `sklearn.base.RegressorMixin`, and `sklearn.base.ClusterMixin`, and `sklearn.base.OutlierMixin`.\n",
      "  warnings.warn(\n"
     ]
    },
    {
     "name": "stdout",
     "output_type": "stream",
     "text": [
      "Learning rate set to 0.384742\n",
      "0:\tlearn: 0.6702528\ttotal: 1.33ms\tremaining: 54.6ms\n",
      "1:\tlearn: 0.6619282\ttotal: 2.6ms\tremaining: 52ms\n",
      "2:\tlearn: 0.6549590\ttotal: 3.72ms\tremaining: 48.3ms\n",
      "3:\tlearn: 0.6486345\ttotal: 5.02ms\tremaining: 47.7ms\n",
      "4:\tlearn: 0.6445346\ttotal: 6.29ms\tremaining: 46.5ms\n",
      "5:\tlearn: 0.6396330\ttotal: 7.4ms\tremaining: 44.4ms\n",
      "6:\tlearn: 0.6337494\ttotal: 8.62ms\tremaining: 43.1ms\n",
      "7:\tlearn: 0.6311594\ttotal: 9.67ms\tremaining: 41.1ms\n",
      "8:\tlearn: 0.6301055\ttotal: 10.8ms\tremaining: 39.6ms\n",
      "9:\tlearn: 0.6270833\ttotal: 11.9ms\tremaining: 38.2ms\n",
      "10:\tlearn: 0.6244256\ttotal: 13.1ms\tremaining: 36.9ms\n",
      "11:\tlearn: 0.6220703\ttotal: 14.1ms\tremaining: 35.4ms\n",
      "12:\tlearn: 0.6198343\ttotal: 15.3ms\tremaining: 34.1ms\n",
      "13:\tlearn: 0.6182496\ttotal: 16.4ms\tremaining: 32.8ms\n",
      "14:\tlearn: 0.6152997\ttotal: 17.6ms\tremaining: 31.6ms\n",
      "15:\tlearn: 0.6116919\ttotal: 18.7ms\tremaining: 30.5ms\n",
      "16:\tlearn: 0.6101248\ttotal: 19.8ms\tremaining: 29.2ms\n",
      "17:\tlearn: 0.6082549\ttotal: 20.9ms\tremaining: 27.9ms\n",
      "18:\tlearn: 0.6058684\ttotal: 22.1ms\tremaining: 26.7ms\n",
      "19:\tlearn: 0.6040268\ttotal: 23.2ms\tremaining: 25.6ms\n",
      "20:\tlearn: 0.6019944\ttotal: 24.3ms\tremaining: 24.3ms\n",
      "21:\tlearn: 0.5998003\ttotal: 25.5ms\tremaining: 23.2ms\n",
      "22:\tlearn: 0.5967280\ttotal: 26.6ms\tremaining: 22ms\n",
      "23:\tlearn: 0.5949783\ttotal: 27.8ms\tremaining: 20.8ms\n",
      "24:\tlearn: 0.5934123\ttotal: 28.9ms\tremaining: 19.7ms\n",
      "25:\tlearn: 0.5912957\ttotal: 30.1ms\tremaining: 18.5ms\n",
      "26:\tlearn: 0.5892679\ttotal: 31.3ms\tremaining: 17.4ms\n",
      "27:\tlearn: 0.5873379\ttotal: 32.4ms\tremaining: 16.2ms\n",
      "28:\tlearn: 0.5856221\ttotal: 33.6ms\tremaining: 15.1ms\n",
      "29:\tlearn: 0.5835782\ttotal: 34.8ms\tremaining: 13.9ms\n",
      "30:\tlearn: 0.5811000\ttotal: 36.1ms\tremaining: 12.8ms\n",
      "31:\tlearn: 0.5788729\ttotal: 37.3ms\tremaining: 11.7ms\n",
      "32:\tlearn: 0.5774312\ttotal: 38.5ms\tremaining: 10.5ms\n",
      "33:\tlearn: 0.5758775\ttotal: 39.6ms\tremaining: 9.32ms\n",
      "34:\tlearn: 0.5738190\ttotal: 40.8ms\tremaining: 8.16ms\n",
      "35:\tlearn: 0.5725013\ttotal: 42ms\tremaining: 7ms\n",
      "36:\tlearn: 0.5711066\ttotal: 43.2ms\tremaining: 5.83ms\n",
      "37:\tlearn: 0.5696135\ttotal: 44.4ms\tremaining: 4.67ms\n",
      "38:\tlearn: 0.5682018\ttotal: 45.6ms\tremaining: 3.51ms\n",
      "39:\tlearn: 0.5670261\ttotal: 46.8ms\tremaining: 2.34ms\n",
      "40:\tlearn: 0.5662724\ttotal: 47.9ms\tremaining: 1.17ms\n",
      "41:\tlearn: 0.5652706\ttotal: 49.4ms\tremaining: 0us\n",
      "Learning rate set to 0.384742\n",
      "0:\tlearn: 0.6673080\ttotal: 1.24ms\tremaining: 51ms\n",
      "1:\tlearn: 0.6581021\ttotal: 2.52ms\tremaining: 50.3ms\n",
      "2:\tlearn: 0.6514798\ttotal: 3.62ms\tremaining: 47ms\n",
      "3:\tlearn: 0.6431093\ttotal: 4.91ms\tremaining: 46.6ms\n",
      "4:\tlearn: 0.6404128\ttotal: 6.11ms\tremaining: 45.2ms\n",
      "5:\tlearn: 0.6350533\ttotal: 7.34ms\tremaining: 44ms\n",
      "6:\tlearn: 0.6308962\ttotal: 8.49ms\tremaining: 42.5ms\n",
      "7:\tlearn: 0.6264932\ttotal: 9.76ms\tremaining: 41.5ms\n",
      "8:\tlearn: 0.6241981\ttotal: 10.9ms\tremaining: 40ms\n",
      "9:\tlearn: 0.6215705\ttotal: 12.1ms\tremaining: 38.7ms\n",
      "10:\tlearn: 0.6187212\ttotal: 13.3ms\tremaining: 37.5ms\n",
      "11:\tlearn: 0.6170100\ttotal: 14.9ms\tremaining: 37.4ms\n",
      "12:\tlearn: 0.6148156\ttotal: 16.4ms\tremaining: 36.5ms\n",
      "13:\tlearn: 0.6140424\ttotal: 17.9ms\tremaining: 35.9ms\n",
      "14:\tlearn: 0.6105593\ttotal: 19.1ms\tremaining: 34.5ms\n",
      "15:\tlearn: 0.6086339\ttotal: 20.3ms\tremaining: 32.9ms\n",
      "16:\tlearn: 0.6070634\ttotal: 21.4ms\tremaining: 31.4ms\n",
      "17:\tlearn: 0.6046761\ttotal: 22.6ms\tremaining: 30.1ms\n",
      "18:\tlearn: 0.6022030\ttotal: 23.9ms\tremaining: 28.9ms\n",
      "19:\tlearn: 0.6009779\ttotal: 25ms\tremaining: 27.6ms\n",
      "20:\tlearn: 0.5988771\ttotal: 26.3ms\tremaining: 26.3ms\n",
      "21:\tlearn: 0.5965766\ttotal: 27.5ms\tremaining: 25ms\n",
      "22:\tlearn: 0.5946752\ttotal: 28.7ms\tremaining: 23.7ms\n",
      "23:\tlearn: 0.5926777\ttotal: 29.9ms\tremaining: 22.4ms\n",
      "24:\tlearn: 0.5910073\ttotal: 31.1ms\tremaining: 21.1ms\n",
      "25:\tlearn: 0.5881234\ttotal: 32.2ms\tremaining: 19.8ms\n",
      "26:\tlearn: 0.5865952\ttotal: 33.3ms\tremaining: 18.5ms\n",
      "27:\tlearn: 0.5846766\ttotal: 34.6ms\tremaining: 17.3ms\n",
      "28:\tlearn: 0.5829607\ttotal: 35.8ms\tremaining: 16ms\n",
      "29:\tlearn: 0.5818601\ttotal: 36.9ms\tremaining: 14.8ms\n",
      "30:\tlearn: 0.5800327\ttotal: 38.1ms\tremaining: 13.5ms\n",
      "31:\tlearn: 0.5785272\ttotal: 39.3ms\tremaining: 12.3ms\n",
      "32:\tlearn: 0.5766858\ttotal: 40.5ms\tremaining: 11ms\n",
      "33:\tlearn: 0.5751072\ttotal: 41.7ms\tremaining: 9.8ms\n",
      "34:\tlearn: 0.5735178\ttotal: 42.8ms\tremaining: 8.56ms\n",
      "35:\tlearn: 0.5716071\ttotal: 43.9ms\tremaining: 7.32ms\n",
      "36:\tlearn: 0.5695818\ttotal: 45.1ms\tremaining: 6.09ms\n",
      "37:\tlearn: 0.5681113\ttotal: 46.2ms\tremaining: 4.86ms\n",
      "38:\tlearn: 0.5665718\ttotal: 47.4ms\tremaining: 3.65ms\n",
      "39:\tlearn: 0.5657285\ttotal: 48.6ms\tremaining: 2.43ms\n",
      "40:\tlearn: 0.5646567\ttotal: 49.8ms\tremaining: 1.21ms\n",
      "41:\tlearn: 0.5634517\ttotal: 50.9ms\tremaining: 0us\n",
      "CPU times: user 3.08 s, sys: 811 ms, total: 3.89 s\n",
      "Wall time: 1.24 s\n"
     ]
    },
    {
     "name": "stderr",
     "output_type": "stream",
     "text": [
      "/opt/homebrew/Caskroom/miniconda/base/envs/course-work-venv/lib/python3.11/site-packages/sklearn/utils/_tags.py:322: FutureWarning: Estimator <catboost.core.CatBoostClassifier object at 0x177e16810> has no __sklearn_tags__ attribute, which is defined in `sklearn.base.BaseEstimator`. This will raise an error in scikit-learn 1.8. Please define the __sklearn_tags__ method, or inherit from `sklearn.base.BaseEstimator` and other appropriate mixins such as `sklearn.base.TransformerMixin`, `sklearn.base.ClassifierMixin`, `sklearn.base.RegressorMixin`, and `sklearn.base.ClusterMixin`, and `sklearn.base.OutlierMixin`.\n",
      "  warnings.warn(\n",
      "/opt/homebrew/Caskroom/miniconda/base/envs/course-work-venv/lib/python3.11/site-packages/sklearn/utils/_tags.py:322: FutureWarning: Estimator <catboost.core.CatBoostClassifier object at 0x177e16810> has no __sklearn_tags__ attribute, which is defined in `sklearn.base.BaseEstimator`. This will raise an error in scikit-learn 1.8. Please define the __sklearn_tags__ method, or inherit from `sklearn.base.BaseEstimator` and other appropriate mixins such as `sklearn.base.TransformerMixin`, `sklearn.base.ClassifierMixin`, `sklearn.base.RegressorMixin`, and `sklearn.base.ClusterMixin`, and `sklearn.base.OutlierMixin`.\n",
      "  warnings.warn(\n",
      "/opt/homebrew/Caskroom/miniconda/base/envs/course-work-venv/lib/python3.11/site-packages/sklearn/utils/_tags.py:322: FutureWarning: Estimator <catboost.core.CatBoostClassifier object at 0x177e16810> has no __sklearn_tags__ attribute, which is defined in `sklearn.base.BaseEstimator`. This will raise an error in scikit-learn 1.8. Please define the __sklearn_tags__ method, or inherit from `sklearn.base.BaseEstimator` and other appropriate mixins such as `sklearn.base.TransformerMixin`, `sklearn.base.ClassifierMixin`, `sklearn.base.RegressorMixin`, and `sklearn.base.ClusterMixin`, and `sklearn.base.OutlierMixin`.\n",
      "  warnings.warn(\n",
      "/opt/homebrew/Caskroom/miniconda/base/envs/course-work-venv/lib/python3.11/site-packages/sklearn/utils/_tags.py:322: FutureWarning: Estimator <catboost.core.CatBoostClassifier object at 0x177e16810> has no __sklearn_tags__ attribute, which is defined in `sklearn.base.BaseEstimator`. This will raise an error in scikit-learn 1.8. Please define the __sklearn_tags__ method, or inherit from `sklearn.base.BaseEstimator` and other appropriate mixins such as `sklearn.base.TransformerMixin`, `sklearn.base.ClassifierMixin`, `sklearn.base.RegressorMixin`, and `sklearn.base.ClusterMixin`, and `sklearn.base.OutlierMixin`.\n",
      "  warnings.warn(\n"
     ]
    }
   ],
   "source": [
    "%%time\n",
    "\n",
    "simple_metric_vals.append(\n",
    "    prettify_scores(\n",
    "        scores_dict=cross_validate(\n",
    "            estimator=clf,\n",
    "            X=X,\n",
    "            y=y,\n",
    "            scoring=['precision', 'recall', 'f1', 'roc_auc'],\n",
    "            cv=10\n",
    "        ),\n",
    "        model_name='CatBoostClassifier + BoW'\n",
    "    )\n",
    ")"
   ]
  },
  {
   "cell_type": "code",
   "execution_count": 74,
   "id": "96309952-77e8-49b5-b3b6-41ba02f8f99f",
   "metadata": {},
   "outputs": [
    {
     "data": {
      "text/html": [
       "<div>\n",
       "<style scoped>\n",
       "    .dataframe tbody tr th:only-of-type {\n",
       "        vertical-align: middle;\n",
       "    }\n",
       "\n",
       "    .dataframe tbody tr th {\n",
       "        vertical-align: top;\n",
       "    }\n",
       "\n",
       "    .dataframe thead th {\n",
       "        text-align: right;\n",
       "    }\n",
       "</style>\n",
       "<table border=\"1\" class=\"dataframe\">\n",
       "  <thead>\n",
       "    <tr style=\"text-align: right;\">\n",
       "      <th></th>\n",
       "      <th>Precision</th>\n",
       "      <th>Recall</th>\n",
       "      <th>F1</th>\n",
       "      <th>ROC-AUC</th>\n",
       "    </tr>\n",
       "  </thead>\n",
       "  <tbody>\n",
       "    <tr>\n",
       "      <th>Наивный Байес + BoW</th>\n",
       "      <td>0.620196</td>\n",
       "      <td>0.981096</td>\n",
       "      <td>0.759797</td>\n",
       "      <td>0.641602</td>\n",
       "    </tr>\n",
       "    <tr>\n",
       "      <th>kNN + BoW</th>\n",
       "      <td>0.618395</td>\n",
       "      <td>1.000000</td>\n",
       "      <td>0.764207</td>\n",
       "      <td>0.633953</td>\n",
       "    </tr>\n",
       "    <tr>\n",
       "      <th>Логистическая регрессия + BoW</th>\n",
       "      <td>0.622948</td>\n",
       "      <td>0.990414</td>\n",
       "      <td>0.764811</td>\n",
       "      <td>0.618135</td>\n",
       "    </tr>\n",
       "    <tr>\n",
       "      <th>Случайный лес + BoW</th>\n",
       "      <td>0.618395</td>\n",
       "      <td>1.000000</td>\n",
       "      <td>0.764207</td>\n",
       "      <td>0.645734</td>\n",
       "    </tr>\n",
       "    <tr>\n",
       "      <th>CatBoostClassifier + BoW</th>\n",
       "      <td>0.649051</td>\n",
       "      <td>0.887692</td>\n",
       "      <td>0.742791</td>\n",
       "      <td>0.689622</td>\n",
       "    </tr>\n",
       "  </tbody>\n",
       "</table>\n",
       "</div>"
      ],
      "text/plain": [
       "                               Precision    Recall        F1   ROC-AUC\n",
       "Наивный Байес + BoW             0.620196  0.981096  0.759797  0.641602\n",
       "kNN + BoW                       0.618395  1.000000  0.764207  0.633953\n",
       "Логистическая регрессия + BoW   0.622948  0.990414  0.764811  0.618135\n",
       "Случайный лес + BoW             0.618395  1.000000  0.764207  0.645734\n",
       "CatBoostClassifier + BoW        0.649051  0.887692  0.742791  0.689622"
      ]
     },
     "execution_count": 74,
     "metadata": {},
     "output_type": "execute_result"
    }
   ],
   "source": [
    "pd.concat(simple_metric_vals)"
   ]
  },
  {
   "cell_type": "markdown",
   "id": "3dc12556-fc2b-405e-bbf9-1e975692ca80",
   "metadata": {},
   "source": [
    "### Простые модели, tf-IDF"
   ]
  },
  {
   "cell_type": "code",
   "execution_count": 75,
   "id": "16a4f540-88d4-4822-9685-a75662c65692",
   "metadata": {},
   "outputs": [
    {
     "name": "stdout",
     "output_type": "stream",
     "text": [
      "CPU times: user 22 s, sys: 12.1 s, total: 34.1 s\n",
      "Wall time: 4.82 s\n"
     ]
    }
   ],
   "source": [
    "%%time\n",
    "\n",
    "param_vals = list(range(1, 3000, 50))\n",
    "metric_vals = []\n",
    "\n",
    "for param_max_features in param_vals:\n",
    "    vectorizer = TfidfVectorizer(max_features=param_max_features)\n",
    "    tweets_bow = vectorizer.fit_transform(df['lemmatized'])\n",
    "    \n",
    "    tweets_bow = pd.DataFrame(\n",
    "        data=tweets_bow.toarray(), \n",
    "        columns=vectorizer.get_feature_names_out()\n",
    "    )\n",
    "    \n",
    "    X = tweets_bow\n",
    "    y = df.feeling_auto\n",
    "\n",
    "    X_train, X_test, y_train, y_test = train_test_split(X, y, test_size=0.3, random_state=0)\n",
    "\n",
    "    clf = MultinomialNB()\n",
    "    clf.fit(X_train, y_train)\n",
    "    metric_vals.append(roc_auc_score(y_test, clf.predict_proba(X_test)[:,1]))"
   ]
  },
  {
   "cell_type": "code",
   "execution_count": 76,
   "id": "32c3f029-a681-4721-a19c-e8d629dad734",
   "metadata": {},
   "outputs": [
    {
     "data": {
      "text/plain": [
       "<matplotlib.lines.Line2D at 0x177f12010>"
      ]
     },
     "execution_count": 76,
     "metadata": {},
     "output_type": "execute_result"
    },
    {
     "data": {
      "image/png": "[encoded data removed]",
      "text/plain": [
       "<Figure size 1800x600 with 1 Axes>"
      ]
     },
     "metadata": {},
     "output_type": "display_data"
    }
   ],
   "source": [
    "plt.figure(figsize=(6, 2), dpi=300)\n",
    "plt.plot(param_vals, metric_vals)\n",
    "\n",
    "plt.title('ROC-AUC наивного Байеса в зависимости от параметра max_features', fontsize=7)\n",
    "plt.xlabel('Значение max_features', fontsize=6)\n",
    "plt.ylabel('Значение ROC-AUC наивного Байеса', fontsize=6)\n",
    "plt.xticks(fontsize=5)\n",
    "plt.yticks(fontsize=5)\n",
    "plt.axvline(x=700, linestyle='--', c='grey', alpha=0.7, linewidth=1)\n",
    "plt.axhline(y=0.81, linestyle='--', c='grey', alpha=0.7, linewidth=1)"
   ]
  },
  {
   "cell_type": "code",
   "execution_count": 77,
   "id": "d56a8cda-0a4a-4f19-a879-408df985410b",
   "metadata": {},
   "outputs": [],
   "source": [
    "vectorizer = TfidfVectorizer(max_features=700)\n",
    "tweets_bow = vectorizer.fit_transform(df['lemmatized'])\n",
    "\n",
    "tweets_bow = pd.DataFrame(\n",
    "    data=tweets_bow.toarray(), \n",
    "    columns=vectorizer.get_feature_names_out()\n",
    ")\n",
    "\n",
    "X = pd.concat([df, tweets_bow], axis=1).drop(['feeling_auto', 'lemmatized'], axis=1)\n",
    "y = df.feeling_auto"
   ]
  },
  {
   "cell_type": "code",
   "execution_count": 78,
   "id": "86ae3186-4ad3-4661-82f1-c0b2fa63a5d0",
   "metadata": {},
   "outputs": [],
   "source": [
    "simple_metric_vals = []"
   ]
  },
  {
   "cell_type": "markdown",
   "id": "9c84b3fb-6b49-4eaa-9b1e-1178a869af61",
   "metadata": {},
   "source": [
    "**tf-IDF + Наивный Байес**"
   ]
  },
  {
   "cell_type": "code",
   "execution_count": 79,
   "id": "af20fe17-3cc2-430c-a97d-175b514d7b7f",
   "metadata": {},
   "outputs": [
    {
     "name": "stdout",
     "output_type": "stream",
     "text": [
      "CPU times: user 385 ms, sys: 114 ms, total: 499 ms\n",
      "Wall time: 416 ms\n"
     ]
    }
   ],
   "source": [
    "%%time\n",
    "\n",
    "gnb = GaussianNB()\n",
    "\n",
    "simple_metric_vals.append(\n",
    "    prettify_scores(\n",
    "        scores_dict=cross_validate(\n",
    "            estimator=gnb,\n",
    "            X=X,\n",
    "            y=y,\n",
    "            scoring=['precision', 'recall', 'f1', 'roc_auc'],\n",
    "            cv=10\n",
    "        ),\n",
    "        model_name='Наивный Байес + tf-IDF'\n",
    "    )\n",
    ")"
   ]
  },
  {
   "cell_type": "markdown",
   "id": "06f39fc7-2658-4d99-b2b3-eba27b83b893",
   "metadata": {},
   "source": [
    "**tf-IDF + $k$ ближайших соседей**"
   ]
  },
  {
   "cell_type": "code",
   "execution_count": 80,
   "id": "4f09530b-6e22-4fcd-976b-717cea6fbec5",
   "metadata": {},
   "outputs": [],
   "source": [
    "knn = KNeighborsClassifier()"
   ]
  },
  {
   "cell_type": "code",
   "execution_count": 81,
   "id": "d813e642-b503-4503-9d0f-8a8e9a584c71",
   "metadata": {},
   "outputs": [
    {
     "name": "stdout",
     "output_type": "stream",
     "text": [
      "CPU times: user 16min 24s, sys: 3min 5s, total: 19min 29s\n",
      "Wall time: 3min 19s\n"
     ]
    }
   ],
   "source": [
    "%%time\n",
    "\n",
    "grid_search_res = GridSearchCV(\n",
    "    estimator=knn,\n",
    "    param_grid={'n_neighbors': range(500, 1500, 50)},\n",
    "    scoring='roc_auc',\n",
    "    cv=10,\n",
    "    return_train_score=True\n",
    ").fit(X, y)"
   ]
  },
  {
   "cell_type": "code",
   "execution_count": 82,
   "id": "5fc40222-8402-4965-b798-b31a7a689ee9",
   "metadata": {},
   "outputs": [],
   "source": [
    "knn = KNeighborsClassifier(\n",
    "    n_neighbors=return_best_param(\n",
    "        grid_search_res.cv_results_, \n",
    "        'n_neighbors'\n",
    "    )\n",
    ")"
   ]
  },
  {
   "cell_type": "code",
   "execution_count": 83,
   "id": "0f9c15d6-037e-4c9f-ab1e-3a39b78ef005",
   "metadata": {},
   "outputs": [
    {
     "name": "stdout",
     "output_type": "stream",
     "text": [
      "CPU times: user 12.4 s, sys: 3.19 s, total: 15.6 s\n",
      "Wall time: 2.76 s\n"
     ]
    }
   ],
   "source": [
    "%%time\n",
    "\n",
    "simple_metric_vals.append(\n",
    "    prettify_scores(\n",
    "        scores_dict=cross_validate(\n",
    "            estimator=knn,\n",
    "            X=X,\n",
    "            y=y,\n",
    "            scoring=['precision', 'recall', 'f1', 'roc_auc'],\n",
    "            cv=10\n",
    "        ),\n",
    "        model_name='tf-idf + tf-IDF'\n",
    "    )\n",
    ")"
   ]
  },
  {
   "cell_type": "markdown",
   "id": "89a3f04a-9c83-4ef0-9483-4713cd7f1296",
   "metadata": {},
   "source": [
    "**TF-IDF + Логистическая регрессия**"
   ]
  },
  {
   "cell_type": "code",
   "execution_count": 84,
   "id": "8a30bd79-ad7c-4bbb-9aba-6a04e81d97e1",
   "metadata": {},
   "outputs": [],
   "source": [
    "lr = LogisticRegression(max_iter=1000)"
   ]
  },
  {
   "cell_type": "code",
   "execution_count": null,
   "id": "fcc51656-1843-4368-8d8b-3badbe03d002",
   "metadata": {},
   "outputs": [],
   "source": [
    "%%time\n",
    "\n",
    "grid_search_res = GridSearchCV(\n",
    "    estimator=lr,\n",
    "    param_grid={'C': np.linspace(0.1, 1, 50)},\n",
    "    scoring='roc_auc',\n",
    "    cv=10,\n",
    "    return_train_score=True\n",
    ").fit(X, y)"
   ]
  },
  {
   "cell_type": "code",
   "execution_count": null,
   "id": "a238da40-ebe7-473c-a46a-00c3e5a6c260",
   "metadata": {},
   "outputs": [],
   "source": [
    "lr = LogisticRegression(\n",
    "    max_iter=1000, \n",
    "    C=return_best_param(\n",
    "        grid_search_res.cv_results_, \n",
    "        'C'\n",
    "    )\n",
    ")"
   ]
  },
  {
   "cell_type": "code",
   "execution_count": null,
   "id": "d5eaa39d-11ab-4346-abb9-5afdc6cb374e",
   "metadata": {},
   "outputs": [],
   "source": [
    "%%time\n",
    "\n",
    "simple_metric_vals.append(\n",
    "    prettify_scores(\n",
    "        scores_dict=cross_validate(\n",
    "            estimator=lr,\n",
    "            X=X,\n",
    "            y=y,\n",
    "            scoring=['precision', 'recall', 'f1', 'roc_auc'],\n",
    "            cv=10\n",
    "        ),\n",
    "        model_name='Логистическая регрессия + tf-IDF'\n",
    "    )\n",
    ")"
   ]
  },
  {
   "cell_type": "code",
   "execution_count": null,
   "id": "26c2af67-76cf-4658-b291-0d68cf83fc1a",
   "metadata": {},
   "outputs": [],
   "source": [
    "pd.concat(simple_metric_vals)"
   ]
  },
  {
   "cell_type": "markdown",
   "id": "bccf2c4b-3a99-41e7-9236-1f6a42064b41",
   "metadata": {},
   "source": [
    "### Модели на основе деревьев, tf-IDF"
   ]
  },
  {
   "cell_type": "markdown",
   "id": "7e75d44c-ffed-4548-b7fa-9f0d448d5e14",
   "metadata": {},
   "source": [
    "**`RandomForestClassifier`**"
   ]
  },
  {
   "cell_type": "code",
   "execution_count": null,
   "id": "cd0e8f1e-b846-44bd-b885-3b8f8bfa336d",
   "metadata": {},
   "outputs": [],
   "source": [
    "from sklearn.ensemble import RandomForestClassifier"
   ]
  },
  {
   "cell_type": "code",
   "execution_count": null,
   "id": "4bcdc9cb-3073-41d5-a005-abc995dd5c38",
   "metadata": {},
   "outputs": [],
   "source": [
    "rf = RandomForestClassifier()"
   ]
  },
  {
   "cell_type": "code",
   "execution_count": null,
   "id": "f421e303-b9fb-4a5b-a72a-d2c9c897e77f",
   "metadata": {},
   "outputs": [],
   "source": [
    "%%time\n",
    "\n",
    "grid_search_res = GridSearchCV(\n",
    "    estimator=rf,\n",
    "    param_grid={\n",
    "        'max_depth': range(2, 20, 4),\n",
    "        'min_samples_split': range(2, 20, 4)\n",
    "    },\n",
    "    scoring='roc_auc',\n",
    "    cv=10,\n",
    "    return_train_score=True\n",
    ").fit(X, y)"
   ]
  },
  {
   "cell_type": "code",
   "execution_count": null,
   "id": "8a5adb69-6ad0-4a4e-99a4-1b094ca54437",
   "metadata": {},
   "outputs": [],
   "source": [
    "best_max_depth, best_min_samples_split = return_best_params(\n",
    "    grid_search_res.cv_results_, \n",
    "    'max_depth', \n",
    "    'min_samples_split'\n",
    ")\n",
    "\n",
    "rf = RandomForestClassifier(\n",
    "    max_depth=int(best_max_depth),\n",
    "    min_samples_split=int(best_min_samples_split)\n",
    ")"
   ]
  },
  {
   "cell_type": "code",
   "execution_count": null,
   "id": "a9d64d5e-6c43-4577-a314-fea02956efb1",
   "metadata": {},
   "outputs": [],
   "source": [
    "%%time\n",
    "\n",
    "simple_metric_vals.append(\n",
    "    prettify_scores(\n",
    "        scores_dict=cross_validate(\n",
    "            estimator=rf,\n",
    "            X=X,\n",
    "            y=y,\n",
    "            scoring=['precision', 'recall', 'f1', 'roc_auc'],\n",
    "            cv=10\n",
    "        ),\n",
    "        model_name='Случайный лес + tf-IDF'\n",
    "    )\n",
    ")"
   ]
  },
  {
   "cell_type": "code",
   "execution_count": null,
   "id": "f5176b87-5ad2-4a7e-9127-ba71970e705a",
   "metadata": {},
   "outputs": [],
   "source": [
    "pd.concat(simple_metric_vals)"
   ]
  },
  {
   "cell_type": "markdown",
   "id": "f1281a17-bb6f-45b9-a2c5-ac98428518bf",
   "metadata": {},
   "source": [
    "**catboost**"
   ]
  },
  {
   "cell_type": "code",
   "execution_count": null,
   "id": "20a4b8e0-176f-4d98-b48b-d32e6be98510",
   "metadata": {},
   "outputs": [],
   "source": [
    "def pr_diff(clf):\n",
    "    train_scores = []\n",
    "    test_scores = []\n",
    "\n",
    "    for i in range(4):\n",
    "        X_train, X_test, y_train, y_test = train_test_split(X, y, test_size=0.7, random_state=0)\n",
    "        clf.fit(X_train, y_train)\n",
    "        \n",
    "        train_score = roc_auc_score(y_train, clf.predict_proba(X_train)[:,1])\n",
    "        test_score = roc_auc_score(y_test, clf.predict_proba(X_test)[:,1])\n",
    "\n",
    "        train_scores.append(train_score)\n",
    "        test_scores.append(test_score)\n",
    "    \n",
    "    return np.abs(np.max(train_scores) - np.min(test_scores))"
   ]
  },
  {
   "cell_type": "code",
   "execution_count": null,
   "id": "8278056c-cee8-45e6-a225-2e1d0337d70c",
   "metadata": {},
   "outputs": [],
   "source": [
    "def objective(trial):\n",
    "    params = {\n",
    "        'num_trees': trial.suggest_int('num_trees', 5, 100),\n",
    "        'max_depth': trial.suggest_int('max_depth', 1, 10),\n",
    "        'min_data_in_leaf': trial.suggest_int('min_data_in_leaf', 1, 100),\n",
    "        'verbose': False\n",
    "    }\n",
    "\n",
    "    model = catboost.CatBoostClassifier(**params)\n",
    "    metrics = [np.mean(cross_val_score(model, X=pd.DataFrame(X), y=y, scoring='roc_auc', cv=10)), pr_diff(model)]\n",
    "\n",
    "    return metrics"
   ]
  },
  {
   "cell_type": "code",
   "execution_count": null,
   "id": "4d6627f0-b73d-4010-96e0-5b8ca5761f1d",
   "metadata": {},
   "outputs": [],
   "source": [
    "study = optuna.create_study(\n",
    "    directions=['maximize', 'minimize'],\n",
    "    sampler=optuna.samplers.TPESampler()\n",
    ")"
   ]
  },
  {
   "cell_type": "code",
   "execution_count": null,
   "id": "bafcf25a-b018-4973-af9e-4603340f76ac",
   "metadata": {},
   "outputs": [],
   "source": [
    "!pip list | grep -e \"catboost.*\""
   ]
  },
  {
   "cell_type": "code",
   "execution_count": null,
   "id": "08b28bf4-14c9-4c60-ac45-adae8e84a8bd",
   "metadata": {},
   "outputs": [],
   "source": [
    "study.optimize(\n",
    "    func=objective,\n",
    "    n_trials=10,\n",
    "    timeout=600,\n",
    "    show_progress_bar=True,\n",
    "    gc_after_trial=True\n",
    ")"
   ]
  },
  {
   "cell_type": "code",
   "execution_count": null,
   "id": "a956fd24-6945-49a7-95b7-1651f05ed411",
   "metadata": {},
   "outputs": [],
   "source": [
    "best_params = study.trials_dataframe().sort_values(\n",
    "    by=['values_0', 'values_1'], \n",
    "    ascending=[False, True]\n",
    ").iloc[0,-4:-1]"
   ]
  },
  {
   "cell_type": "code",
   "execution_count": null,
   "id": "ad243b7e-ff6e-4706-ae88-709668d1625a",
   "metadata": {},
   "outputs": [],
   "source": [
    "clf = catboost.CatBoostClassifier(\n",
    "    max_depth=best_params.params_max_depth,\n",
    "    min_data_in_leaf=best_params.params_min_data_in_leaf,\n",
    "    num_trees=best_params.params_num_trees\n",
    ")"
   ]
  },
  {
   "cell_type": "code",
   "execution_count": null,
   "id": "a8aa8c31-f017-41b4-8bf1-6fb77cd523e3",
   "metadata": {},
   "outputs": [],
   "source": [
    "%%time\n",
    "\n",
    "simple_metric_vals.append(\n",
    "    prettify_scores(\n",
    "        scores_dict=cross_validate(\n",
    "            estimator=clf,\n",
    "            X=X,\n",
    "            y=y,\n",
    "            scoring=['precision', 'recall', 'f1', 'roc_auc'],\n",
    "            cv=10\n",
    "        ),\n",
    "        model_name='CatBoostClassifier + tf-IDF'\n",
    "    )\n",
    ")"
   ]
  },
  {
   "cell_type": "markdown",
   "id": "3c0e9ad0-b8c9-4db0-bc46-e131ad33481e",
   "metadata": {},
   "source": [
    "**Сравнение**"
   ]
  },
  {
   "cell_type": "code",
   "execution_count": null,
   "id": "43e63f65-4554-49fe-b097-8201561b0ed9",
   "metadata": {},
   "outputs": [],
   "source": [
    "pd.concat(simple_metric_vals)"
   ]
  }
 ],
 "metadata": {
  "kernelspec": {
   "display_name": "Python, course work",
   "language": "python",
   "name": "course-work-venv"
  },
  "language_info": {
   "codemirror_mode": {
    "name": "ipython",
    "version": 3
   },
   "file_extension": ".py",
   "mimetype": "text/x-python",
   "name": "python",
   "nbconvert_exporter": "python",
   "pygments_lexer": "ipython3",
   "version": "3.11.10"
  }
 },
 "nbformat": 4,
 "nbformat_minor": 5
}
