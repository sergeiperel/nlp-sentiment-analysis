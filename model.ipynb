{
 "cells": [
  {
   "cell_type": "markdown",
   "id": "7738b3fc-a666-4c37-9464-fb5511cb8d25",
   "metadata": {},
   "source": [
    "### Эксперименты с моделькой"
   ]
  },
  {
   "cell_type": "markdown",
   "id": "93cb7a42-f0b7-4c12-8f5f-72087ece50cb",
   "metadata": {},
   "source": [
    "- Как и с EDA, потыкаться всем в модельки: логистическая регрессия, KNN, Naive Bayes (это базово + три строки кода на каждую в самом простом варианте) и посчитать метрики\n",
    "\n",
    "- Для векторизации пока взять два варианта: 1. мешок слов 2. все то же самое с заменой мешка слов на tf-idf"
   ]
  }
 ],
 "metadata": {
  "kernelspec": {
   "display_name": "Python 3 (ipykernel)",
   "language": "python",
   "name": "python3"
  },
  "language_info": {
   "codemirror_mode": {
    "name": "ipython",
    "version": 3
   },
   "file_extension": ".py",
   "mimetype": "text/x-python",
   "name": "python",
   "nbconvert_exporter": "python",
   "pygments_lexer": "ipython3",
   "version": "3.12.7"
  }
 },
 "nbformat": 4,
 "nbformat_minor": 5
}
