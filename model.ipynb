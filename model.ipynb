{
 "cells": [
  {
   "cell_type": "markdown",
   "id": "24c7c2c7-7d0d-4984-9d69-0bf6a64aac7c",
   "metadata": {},
   "source": [
    "## Эксперименты с моделями"
   ]
  },
  {
   "cell_type": "markdown",
   "id": "8d047602-aaa4-4fbf-b397-560c871a332f",
   "metadata": {},
   "source": [
    "### Импорт зависимостей"
   ]
  },
  {
   "cell_type": "markdown",
   "id": "8a7bdacb-6a54-4560-bad8-3d7bede677bf",
   "metadata": {},
   "source": [
    "**Загрузка библиотек**"
   ]
  },
  {
   "cell_type": "code",
   "execution_count": 1,
   "id": "7d7dd467-7996-44a4-b195-5d6f189ac39c",
   "metadata": {},
   "outputs": [],
   "source": [
    "import pandas as pd\n",
    "import numpy as np"
   ]
  },
  {
   "cell_type": "code",
   "execution_count": 2,
   "id": "535f6303-2098-4213-ac7a-e3d2866a4531",
   "metadata": {},
   "outputs": [],
   "source": [
    "import nltk\n",
    "from nltk import pos_tag, ngrams\n",
    "from nltk.tokenize import word_tokenize\n",
    "from nltk.corpus import stopwords\n",
    "from nltk.stem import WordNetLemmatizer\n",
    "from collections import Counter\n",
    "from html import unescape"
   ]
  },
  {
   "cell_type": "code",
   "execution_count": 3,
   "id": "57695d59-b618-482a-82f2-0e1e3449d521",
   "metadata": {},
   "outputs": [
    {
     "name": "stderr",
     "output_type": "stream",
     "text": [
      "[nltk_data] Downloading package punkt to\n",
      "[nltk_data]     /Users/vladkopchev/nltk_data...\n",
      "[nltk_data]   Package punkt is already up-to-date!\n",
      "[nltk_data] Downloading package stopwords to\n",
      "[nltk_data]     /Users/vladkopchev/nltk_data...\n",
      "[nltk_data]   Package stopwords is already up-to-date!\n",
      "[nltk_data] Downloading package punkt_tab to\n",
      "[nltk_data]     /Users/vladkopchev/nltk_data...\n",
      "[nltk_data]   Package punkt_tab is already up-to-date!\n",
      "[nltk_data] Downloading package wordnet to\n",
      "[nltk_data]     /Users/vladkopchev/nltk_data...\n",
      "[nltk_data]   Package wordnet is already up-to-date!\n"
     ]
    }
   ],
   "source": [
    "nltk.download('punkt')\n",
    "nltk.download('stopwords')\n",
    "nltk.download('punkt_tab')\n",
    "nltk.download('wordnet')\n",
    "stop_words = set(stopwords.words('english'))"
   ]
  },
  {
   "cell_type": "code",
   "execution_count": 4,
   "id": "fc042f7c-e74e-48b2-bcfe-fae980eedec3",
   "metadata": {},
   "outputs": [],
   "source": [
    "from sklearn.feature_extraction.text import TfidfVectorizer, CountVectorizer"
   ]
  },
  {
   "cell_type": "code",
   "execution_count": 5,
   "id": "f915e716-4a39-4140-b22f-0d40c1d2d45b",
   "metadata": {},
   "outputs": [],
   "source": [
    "from sklearn.model_selection import train_test_split\n",
    "from sklearn.naive_bayes import GaussianNB"
   ]
  },
  {
   "cell_type": "code",
   "execution_count": 6,
   "id": "7b8c7871-ac5e-441a-9a25-535ecdbe29c2",
   "metadata": {},
   "outputs": [],
   "source": [
    "from sklearn.naive_bayes import MultinomialNB\n",
    "from sklearn.metrics import roc_auc_score\n",
    "import matplotlib.pyplot as plt"
   ]
  },
  {
   "cell_type": "code",
   "execution_count": 7,
   "id": "f41e0469-9051-42d0-b326-972e6b0cf38a",
   "metadata": {},
   "outputs": [],
   "source": [
    "from sklearn.model_selection import cross_validate"
   ]
  },
  {
   "cell_type": "code",
   "execution_count": 8,
   "id": "5b39d5c2-65b7-467c-bd47-8356bc8d2f3a",
   "metadata": {},
   "outputs": [],
   "source": [
    "from sklearn.neighbors import KNeighborsClassifier"
   ]
  },
  {
   "cell_type": "code",
   "execution_count": 9,
   "id": "ecbf5581-a732-4d6e-9443-b7af9a27e248",
   "metadata": {},
   "outputs": [],
   "source": [
    "from sklearn.model_selection import GridSearchCV"
   ]
  },
  {
   "cell_type": "code",
   "execution_count": 10,
   "id": "ada039b8-984d-4448-9764-86fe51f374a1",
   "metadata": {},
   "outputs": [],
   "source": [
    "from sklearn.linear_model import LogisticRegression"
   ]
  },
  {
   "cell_type": "code",
   "execution_count": 26,
   "id": "5425137f-48b9-4b36-afe2-c3ed2f6846ec",
   "metadata": {},
   "outputs": [],
   "source": [
    "from sklearn.metrics import accuracy_score"
   ]
  },
  {
   "cell_type": "code",
   "execution_count": 113,
   "id": "1398b3ca-ddd4-41c3-bd55-80e6f31dee88",
   "metadata": {},
   "outputs": [],
   "source": [
    "from sklearn.model_selection import cross_val_score"
   ]
  },
  {
   "cell_type": "code",
   "execution_count": 114,
   "id": "89495a3d-3b3b-4b89-bebd-2572c23eb760",
   "metadata": {},
   "outputs": [],
   "source": [
    "from sklearn.metrics import roc_auc_score"
   ]
  },
  {
   "cell_type": "code",
   "execution_count": 115,
   "id": "806f99fe-5845-46c6-9779-c47e240e4c06",
   "metadata": {},
   "outputs": [
    {
     "name": "stderr",
     "output_type": "stream",
     "text": [
      "/opt/homebrew/Caskroom/miniconda/base/envs/course-work-venv/lib/python3.11/site-packages/tqdm/auto.py:21: TqdmWarning: IProgress not found. Please update jupyter and ipywidgets. See https://ipywidgets.readthedocs.io/en/stable/user_install.html\n",
      "  from .autonotebook import tqdm as notebook_tqdm\n"
     ]
    }
   ],
   "source": [
    "import optuna, catboost"
   ]
  },
  {
   "cell_type": "markdown",
   "id": "82362391-61ac-4d1e-b295-d221ff41b538",
   "metadata": {},
   "source": [
    "**Определяем функции, которые нам понадобятся в экспериментах**"
   ]
  },
  {
   "cell_type": "code",
   "execution_count": 11,
   "id": "0141a49e-4bf5-415d-a1a4-420e9c7963eb",
   "metadata": {},
   "outputs": [],
   "source": [
    "def prettify_scores(scores_dict, model_name):\n",
    "    mean_scores = pd.DataFrame(scores_dict).iloc[:,2:].mean(axis=0)\n",
    "    return pd.DataFrame(\n",
    "        data=mean_scores.values.reshape(1, -1), \n",
    "        columns=['Precision', 'Recall', 'F1', 'ROC-AUC'], \n",
    "        index=[model_name]\n",
    "    )"
   ]
  },
  {
   "cell_type": "code",
   "execution_count": 12,
   "id": "0d7e5630-12f0-475e-a312-f2779827fe3e",
   "metadata": {},
   "outputs": [],
   "source": [
    "def return_best_param(cv_dict, param_name):\n",
    "    cv_df = pd.DataFrame(cv_dict).loc[:, [f'param_{param_name}', 'mean_test_score', 'mean_train_score']]\n",
    "    cv_df['roc_auc_diff'] = np.abs(cv_df.mean_train_score - cv_df.mean_test_score)\n",
    "    return cv_df.query('roc_auc_diff < 0.11').sort_values('mean_test_score')[f'param_{param_name}'].iloc[-1]"
   ]
  },
  {
   "cell_type": "code",
   "execution_count": 95,
   "id": "6d143926-a4aa-43e1-88a6-8c63e0497840",
   "metadata": {},
   "outputs": [],
   "source": [
    "def return_best_params(cv_dict, param1_name, param2_name):\n",
    "    res_df = pd.DataFrame(\n",
    "        cv_dict\n",
    "    ).loc[:, [f'param_{\"max_depth\"}', f'param_{\"min_samples_split\"}', 'mean_train_score', 'mean_test_score']]\n",
    "    res_df['roc_auc_diff'] = np.abs(res_df.mean_train_score - res_df.mean_test_score)\n",
    "    return res_df.query(\n",
    "        'roc_auc_diff < 0.11'\n",
    "    ).sort_values(\n",
    "        'mean_test_score'\n",
    "    ).iloc[-1].loc[[f'param_{\"max_depth\"}', f'param_{\"min_samples_split\"}']].values.tolist()"
   ]
  },
  {
   "cell_type": "markdown",
   "id": "636976cf-8475-45a7-97fc-0a3ce0e1558a",
   "metadata": {},
   "source": [
    "**Зарузка данных**"
   ]
  },
  {
   "cell_type": "code",
   "execution_count": 13,
   "id": "a8394fec-2bce-43eb-a2b8-0f37fb449c7c",
   "metadata": {},
   "outputs": [],
   "source": [
    "df = pd.read_parquet(\n",
    "    'elon_musk_tweets_labeled.parquet'\n",
    ").drop(\n",
    "    [\n",
    "        'id', \n",
    "        'hashtags', \n",
    "        'user_name', \n",
    "        'user_created', \n",
    "        'is_retweet', \n",
    "        'date'\n",
    "    ], \n",
    "    axis=1\n",
    ")  # Файл формируется в ноутбуке preprocessing"
   ]
  },
  {
   "cell_type": "markdown",
   "id": "75781032-a7a2-4929-af28-6c0b662dfc17",
   "metadata": {},
   "source": [
    "**Предварительная обработка данных**"
   ]
  },
  {
   "cell_type": "code",
   "execution_count": 14,
   "id": "38dd4634-4cc7-4670-b74b-6447d3136816",
   "metadata": {},
   "outputs": [],
   "source": [
    "df = pd.get_dummies(\n",
    "    df, \n",
    "    columns=['user_location', 'user_description', 'user_verified', 'source'], \n",
    "    drop_first=True, \n",
    "    dtype=int\n",
    ")"
   ]
  },
  {
   "cell_type": "markdown",
   "id": "19f69a4c-2406-465c-81bf-335b50cca366",
   "metadata": {},
   "source": [
    "Очистка:"
   ]
  },
  {
   "cell_type": "code",
   "execution_count": 15,
   "id": "1e945580-ff00-43cc-842b-6e65ad42f0d8",
   "metadata": {},
   "outputs": [],
   "source": [
    "df['text'] = df['text'].apply(unescape)"
   ]
  },
  {
   "cell_type": "code",
   "execution_count": 16,
   "id": "69ef3f38-72ad-4a4e-a50e-804eefa458d0",
   "metadata": {},
   "outputs": [
    {
     "name": "stdout",
     "output_type": "stream",
     "text": [
      "Символ '&quot;' не найден в датасете.\n",
      "Символ '&amp;' не найден в датасете.\n",
      "Символ '&lt' не найден в датасете.\n",
      "Символ '&gt;' не найден в датасете.\n",
      "Символ '&apos;' не найден в датасете.\n",
      "Символ '&#39;' не найден в датасете.\n"
     ]
    }
   ],
   "source": [
    "HTML_symbols_check = ['&quot;', '&amp;', '&lt', '&gt;', '&apos;', '&#39;'] #Проверяем, что HTML-cущности заменены на соответствующие символы\n",
    "\n",
    "for symbol in HTML_symbols_check:\n",
    "    if df['text'].str.contains(symbol).any():\n",
    "        print(f\"Символ '{symbol}' найден в датасете.\")\n",
    "    else:\n",
    "        print(f\"Символ '{symbol}' не найден в датасете.\")"
   ]
  },
  {
   "cell_type": "code",
   "execution_count": 17,
   "id": "d388e2d0-3697-4857-93a0-617105e89d13",
   "metadata": {},
   "outputs": [],
   "source": [
    "df['text'] = df['text'].str.replace(r'[a-zA-Z0-9._%+-]+@[a-zA-Z0-9.-]+\\.[a-zA-Z]{2,}', '', regex=True) #Удаляем emails\n",
    "df['text'] = df['text'].str.replace(r'@([A-Za-z0-9_]{1,})', '', regex=True) #Удаляем ники\n",
    "df['text'] = df['text'].str.replace(r'(https?:\\/\\/(?:www\\.|(?!www))[a-zA-Z0-9][a-zA-Z0-9-]+[a-zA-Z0-9]\\.[^\\s]{2,}|www\\.[a-zA-Z0-9][a-zA-Z0-9-]+[a-zA-Z0-9]\\.[^\\s]{2,}|https?:\\/\\/(?:www\\.|(?!www))[a-zA-Z0-9]+\\.[^\\s]{2,}|www\\.[a-zA-Z0-9]+\\.[^\\s]{2,})', '', regex=True) #Удаляем urls\n",
    "\n",
    "df['text'] = df['text'].str.lower()\n",
    "df['text'] = df['text'].str.replace(r'[^a-zA-Z\\s]', '', regex=True) #Удаляем знаки препинания и цифры и оставляем только буквы и пробелы\n",
    "df['text'] = df['text'].str.replace(r'\\s+', ' ', regex=True).str.strip()  #Удаляем лишние пробелы"
   ]
  },
  {
   "cell_type": "markdown",
   "id": "4a20ca2e-a940-42f6-b7bf-6c0e43efaae5",
   "metadata": {},
   "source": [
    "Токенизация:"
   ]
  },
  {
   "cell_type": "code",
   "execution_count": 18,
   "id": "f06ab8b4-9337-407e-91df-f5164efad4da",
   "metadata": {},
   "outputs": [],
   "source": [
    "df['tokens'] = df['text'].apply(word_tokenize)"
   ]
  },
  {
   "cell_type": "markdown",
   "id": "f758891a-0c6b-4b5d-a211-a78bf54f3044",
   "metadata": {},
   "source": [
    "Удаление стоп-слов:"
   ]
  },
  {
   "cell_type": "code",
   "execution_count": 19,
   "id": "ffa97ca9-3a8a-4dac-91c3-d836202bf166",
   "metadata": {},
   "outputs": [],
   "source": [
    "def delete_stopwords(tokens):\n",
    "    cleaned = []\n",
    "    for word in tokens:\n",
    "        if word not in stop_words:\n",
    "            cleaned.append(word)\n",
    "    return cleaned\n",
    "\n",
    "df['cleaned_tokens'] = df['tokens'].apply(delete_stopwords)"
   ]
  },
  {
   "cell_type": "markdown",
   "id": "fb47ecc9-bfb3-4de1-8e62-dcbda844b432",
   "metadata": {},
   "source": [
    "Лемматизация:"
   ]
  },
  {
   "cell_type": "code",
   "execution_count": 20,
   "id": "b6175b98-224a-4955-bc5c-1edb149ff01e",
   "metadata": {},
   "outputs": [],
   "source": [
    "lemmatizer = WordNetLemmatizer()"
   ]
  },
  {
   "cell_type": "code",
   "execution_count": 21,
   "id": "a28878fb-3a41-4eec-980e-57f538f0108e",
   "metadata": {},
   "outputs": [],
   "source": [
    "def lemmatize_tokens(tokens):\n",
    "    lemmatized = []\n",
    "    for word in tokens:\n",
    "        lemmatized.append(lemmatizer.lemmatize(word))\n",
    "    return lemmatized\n",
    "\n",
    "df['lemmatized'] = df['cleaned_tokens'].apply(lemmatize_tokens)"
   ]
  },
  {
   "cell_type": "code",
   "execution_count": 22,
   "id": "049ff768-3c37-4ccb-8c5c-45d0beabf50c",
   "metadata": {},
   "outputs": [],
   "source": [
    "df['lemmatized'] = df['lemmatized'].apply(' '.join)"
   ]
  },
  {
   "cell_type": "code",
   "execution_count": 23,
   "id": "499d6e6a-9bcd-4ee8-b2ca-d0246f60cefc",
   "metadata": {},
   "outputs": [],
   "source": [
    "df.drop(['text', 'tokens', 'cleaned_tokens'], axis=1, inplace=True)"
   ]
  },
  {
   "cell_type": "markdown",
   "id": "7769d68a-d95c-4cf0-b533-2cdf4191fa85",
   "metadata": {},
   "source": [
    "### Простые правила"
   ]
  },
  {
   "cell_type": "markdown",
   "id": "1d5ae4ba-9cb7-41ea-b942-0cd6a7257163",
   "metadata": {},
   "source": [
    "**Формируем $X, y$**"
   ]
  },
  {
   "cell_type": "code",
   "execution_count": 24,
   "id": "33232337-1323-4767-aeda-4af6937d5693",
   "metadata": {},
   "outputs": [],
   "source": [
    "X = df.lemmatized  # Еще нужно достать оттуда какое-то векторное представление\n",
    "y = df.feeling_auto  # Куда делся df.lemmatized??\n",
    "X_train, X_test, y_train, y_test = train_test_split(X, y, test_size=0.3, random_state=0)"
   ]
  },
  {
   "cell_type": "markdown",
   "id": "640cc87e-9364-475b-ab5b-ed4d4210d153",
   "metadata": {},
   "source": [
    "**Рандом**"
   ]
  },
  {
   "cell_type": "code",
   "execution_count": 27,
   "id": "4aba52ce-40f2-4205-af9e-42ce4bf1729b",
   "metadata": {},
   "outputs": [
    {
     "data": {
      "text/plain": [
       "0.38261851015801357"
      ]
     },
     "execution_count": 27,
     "metadata": {},
     "output_type": "execute_result"
    }
   ],
   "source": [
    "y_pred = np.random.randint(low=0, high=1, size=y_test.shape[0])\n",
    "accuracy_score(y_test, y_pred)"
   ]
  },
  {
   "cell_type": "markdown",
   "id": "75ed93e3-d49a-4ca2-aa7b-12c7f94b1632",
   "metadata": {},
   "source": [
    "**Простые правила**"
   ]
  },
  {
   "cell_type": "code",
   "execution_count": 28,
   "id": "548d6b1e-c2e7-4026-8b00-da59bc2c0c73",
   "metadata": {},
   "outputs": [],
   "source": [
    "def rule_predict(x):\n",
    "    return ~x.str.contains('(bad|sad)', regex=True)"
   ]
  },
  {
   "cell_type": "code",
   "execution_count": 29,
   "id": "f9bfc012-51ce-4c9c-91d2-823d05ae7ea4",
   "metadata": {},
   "outputs": [
    {
     "name": "stderr",
     "output_type": "stream",
     "text": [
      "/var/folders/0k/pk7zyw6x2sqcjpbqvgf0ssh80000gn/T/ipykernel_67362/819608852.py:2: UserWarning: This pattern is interpreted as a regular expression, and has match groups. To actually get the groups, use str.extract.\n",
      "  return ~x.str.contains('(bad|sad)', regex=True)\n"
     ]
    }
   ],
   "source": [
    "y_pred = rule_predict(X_test)"
   ]
  },
  {
   "cell_type": "code",
   "execution_count": 30,
   "id": "07192486-3d58-4813-a801-e3315893e39c",
   "metadata": {},
   "outputs": [
    {
     "data": {
      "text/plain": [
       "0.6224604966139955"
      ]
     },
     "execution_count": 30,
     "metadata": {},
     "output_type": "execute_result"
    }
   ],
   "source": [
    "accuracy_score(y_test, y_pred)"
   ]
  },
  {
   "cell_type": "markdown",
   "id": "7d70d669-5e3b-4266-9220-2d2d88db683a",
   "metadata": {},
   "source": [
    "**Словарный подход**"
   ]
  },
  {
   "cell_type": "code",
   "execution_count": 31,
   "id": "36b8e623-335f-48c0-9840-582e5c5049a1",
   "metadata": {},
   "outputs": [
    {
     "name": "stdout",
     "output_type": "stream",
     "text": [
      "iso-8859-1\n"
     ]
    }
   ],
   "source": [
    "!file -I ./opinion-lexicon-English/negative-words.txt | sed 's/.*charset=//g'"
   ]
  },
  {
   "cell_type": "code",
   "execution_count": 32,
   "id": "73a35c95-8528-4683-89df-2dc3c53a94dd",
   "metadata": {},
   "outputs": [],
   "source": [
    "with open('./opinion-lexicon-English/negative-words.txt', 'r', encoding='iso-8859-1') as f:\n",
    "    neg = f.read()"
   ]
  },
  {
   "cell_type": "code",
   "execution_count": 33,
   "id": "7e61bab5-6ce8-494b-ba03-d6bb6f13997c",
   "metadata": {},
   "outputs": [],
   "source": [
    "with open('./opinion-lexicon-English/positive-words.txt', 'r', encoding='iso-8859-1') as f:\n",
    "    pos = f.read()"
   ]
  },
  {
   "cell_type": "code",
   "execution_count": 34,
   "id": "d772c914-43bd-4f98-9edb-caccf71702de",
   "metadata": {},
   "outputs": [],
   "source": [
    "pos = pos.split('\\n')[31:]\n",
    "neg = neg.split('\\n')[31:]"
   ]
  },
  {
   "cell_type": "code",
   "execution_count": 35,
   "id": "ba34a1bb-4830-4de9-8294-bcca2b41bca4",
   "metadata": {},
   "outputs": [],
   "source": [
    "sentiment_dict = {**{w: 1 for w in pos}, **{w: -1 for w in neg}}"
   ]
  },
  {
   "cell_type": "code",
   "execution_count": 63,
   "id": "85adc37e-c304-472f-856f-53a717801ff6",
   "metadata": {},
   "outputs": [],
   "source": [
    "def get_dict_scores(tweets):\n",
    "    return np.array(list(map(lambda x : sentiment_dict.get(x, 0), tweets)))"
   ]
  },
  {
   "cell_type": "code",
   "execution_count": 64,
   "id": "c4a9e372-e7da-49d2-b408-2f83174b5139",
   "metadata": {},
   "outputs": [],
   "source": [
    "def get_prediction(X, proba_func):\n",
    "    return X.str.split().apply(lambda lst : proba_func(get_dict_scores(lst))).fillna(0.5)"
   ]
  },
  {
   "cell_type": "code",
   "execution_count": 68,
   "id": "e3daf70d-a430-45ad-be44-619bcfcfa626",
   "metadata": {},
   "outputs": [
    {
     "name": "stderr",
     "output_type": "stream",
     "text": [
      "/opt/homebrew/Caskroom/miniconda/base/envs/course-work-venv/lib/python3.11/site-packages/numpy/core/fromnumeric.py:3504: RuntimeWarning: Mean of empty slice.\n",
      "  return _methods._mean(a, axis=axis, dtype=dtype,\n",
      "/opt/homebrew/Caskroom/miniconda/base/envs/course-work-venv/lib/python3.11/site-packages/numpy/core/_methods.py:129: RuntimeWarning: invalid value encountered in scalar divide\n",
      "  ret = ret.dtype.type(ret / rcount)\n"
     ]
    }
   ],
   "source": [
    "y_pred = get_prediction(X_test, lambda scores : np.mean(scores) > 0.5)  # simple mean"
   ]
  },
  {
   "cell_type": "code",
   "execution_count": 73,
   "id": "d457ba7c-d9f4-4f15-85fd-e61f170cfbd1",
   "metadata": {},
   "outputs": [
    {
     "name": "stderr",
     "output_type": "stream",
     "text": [
      "/var/folders/0k/pk7zyw6x2sqcjpbqvgf0ssh80000gn/T/ipykernel_67362/2307301785.py:3: RuntimeWarning: invalid value encountered in scalar divide\n",
      "  lambda scores : ((scores.sum() - (1 - scores).sum()) / ((scores.sum() + (1 - scores).sum()))) > 0.5\n"
     ]
    }
   ],
   "source": [
    "y_pred = get_prediction(\n",
    "    X_test, \n",
    "    lambda scores : ((scores.sum() - (1 - scores).sum()) / ((scores.sum() + (1 - scores).sum()))) > 0.5\n",
    ")  # relative proportion"
   ]
  },
  {
   "cell_type": "code",
   "execution_count": 74,
   "id": "59f883db-adab-40e1-8399-6f5d0669e783",
   "metadata": {},
   "outputs": [],
   "source": [
    "y_pred = get_prediction(\n",
    "    X_test, \n",
    "    lambda scores : np.log(np.sum(scores[scores == 1]) + 0.5) - np.log(np.sum(scores[scores == 0]) + 0.5) > 0.5\n",
    ")  # logit"
   ]
  },
  {
   "cell_type": "code",
   "execution_count": 75,
   "id": "9cdf3483-63d1-422d-ab12-bb7f6c877099",
   "metadata": {},
   "outputs": [
    {
     "data": {
      "text/plain": [
       "0.5744920993227991"
      ]
     },
     "execution_count": 75,
     "metadata": {},
     "output_type": "execute_result"
    }
   ],
   "source": [
    "accuracy_score(y_test, y_pred)"
   ]
  },
  {
   "cell_type": "markdown",
   "id": "e12b9981-ba3a-4ca7-8f21-0ec9baf9c33f",
   "metadata": {},
   "source": [
    "### Простые модели, BoW"
   ]
  },
  {
   "cell_type": "markdown",
   "id": "0a2af225-3553-4302-a12e-94c10b981d03",
   "metadata": {},
   "source": [
    "Логично сравнивать не как модели ведут себя на базовых параметрах, а какого максимума они способны достичь. Ищем гиперпараметры, при которых модель лучше всего оценивает вероятности. Чтобы исключить переобучение, будем смотреть только на параметры, где разница в средних `ROC-AUC` на трейне и тесте не больше 10%."
   ]
  },
  {
   "cell_type": "markdown",
   "id": "454005bc-0e4f-4a3b-ab1f-ea41b60b0229",
   "metadata": {},
   "source": [
    "**Формируем $X, y$**"
   ]
  },
  {
   "cell_type": "markdown",
   "id": "84427138-d777-42c1-b1d5-4227640ca6b2",
   "metadata": {},
   "source": [
    "Для начала подберем оптимальное количество фичей для `BoW`. Для этого замерим метрику `ROC-AUC` для простейшей модели (Наивный Байес), обученной только на векторных представлениях, и посмотрим, после какого значения добавления новых фичей уже практически не улучшает оценку вероятностей этой моделью."
   ]
  },
  {
   "cell_type": "code",
   "execution_count": 76,
   "id": "2e7b63e4-017e-4616-a1f9-f3be3118916a",
   "metadata": {},
   "outputs": [
    {
     "name": "stdout",
     "output_type": "stream",
     "text": [
      "CPU times: user 24.4 s, sys: 33.9 s, total: 58.3 s\n",
      "Wall time: 7.74 s\n"
     ]
    }
   ],
   "source": [
    "%%time\n",
    "\n",
    "param_vals = list(range(1, 3000, 50))\n",
    "metric_vals = []\n",
    "\n",
    "for param_max_features in param_vals:\n",
    "    vectorizer = CountVectorizer(max_features=param_max_features)\n",
    "    tweets_bow = vectorizer.fit_transform(df['lemmatized'])\n",
    "    \n",
    "    tweets_bow = pd.DataFrame(\n",
    "        data=tweets_bow.toarray(), \n",
    "        columns=vectorizer.get_feature_names_out()\n",
    "    )\n",
    "    \n",
    "    X = tweets_bow\n",
    "    y = df.feeling_auto\n",
    "\n",
    "    X_train, X_test, y_train, y_test = train_test_split(X, y, test_size=0.3, random_state=0)\n",
    "\n",
    "    clf = MultinomialNB()\n",
    "    clf.fit(X_train, y_train)\n",
    "    metric_vals.append(roc_auc_score(y_test, clf.predict_proba(X_test)[:,1]))"
   ]
  },
  {
   "cell_type": "markdown",
   "id": "99a4c166-65f1-406e-b1a2-0873e5546770",
   "metadata": {},
   "source": [
    "Видим, что график `ROC-AUC` стабилизируется примерно после `x=700` примерно на уровне `y=0.8` Поэтому выберем `max_features=700`."
   ]
  },
  {
   "cell_type": "code",
   "execution_count": 77,
   "id": "ba616b07-98b6-421d-aea1-bddf4638374f",
   "metadata": {},
   "outputs": [
    {
     "data": {
      "text/plain": [
       "<matplotlib.lines.Line2D at 0x3095f76d0>"
      ]
     },
     "execution_count": 77,
     "metadata": {},
     "output_type": "execute_result"
    },
    {
     "data": {
      "image/png": "[encoded data removed]",
      "text/plain": [
       "<Figure size 1800x600 with 1 Axes>"
      ]
     },
     "metadata": {},
     "output_type": "display_data"
    }
   ],
   "source": [
    "plt.figure(figsize=(6, 2), dpi=300)\n",
    "plt.plot(param_vals, metric_vals)\n",
    "\n",
    "plt.title('ROC-AUC наивного Байеса в зависимости от параметра max_features', fontsize=7)\n",
    "plt.xlabel('Значение max_features', fontsize=6)\n",
    "plt.ylabel('Значение ROC-AUC наивного Байеса', fontsize=6)\n",
    "plt.xticks(fontsize=5)\n",
    "plt.yticks(fontsize=5)\n",
    "plt.axvline(x=700, linestyle='--', c='grey', alpha=0.7, linewidth=1)\n",
    "plt.axhline(y=0.81, linestyle='--', c='grey', alpha=0.7, linewidth=1)"
   ]
  },
  {
   "cell_type": "markdown",
   "id": "9f9e5571-a11a-4954-ae41-1bd18561e503",
   "metadata": {},
   "source": [
    "Теперь создадим итоговый `X`, который будет содержать оптимальные `BoW`-представления + остальные фичи из датасета."
   ]
  },
  {
   "cell_type": "code",
   "execution_count": 78,
   "id": "085af711-6cde-47c6-9a5b-44b35e81922d",
   "metadata": {},
   "outputs": [],
   "source": [
    "vectorizer = CountVectorizer(max_features=700)\n",
    "tweets_bow = vectorizer.fit_transform(df['lemmatized'])\n",
    "\n",
    "tweets_bow = pd.DataFrame(\n",
    "    data=tweets_bow.toarray(), \n",
    "    columns=vectorizer.get_feature_names_out()\n",
    ")\n",
    "\n",
    "X = pd.concat([df, tweets_bow], axis=1).drop(['feeling_auto', 'lemmatized'], axis=1)\n",
    "y = df.feeling_auto"
   ]
  },
  {
   "cell_type": "code",
   "execution_count": 79,
   "id": "c4f868d4-d186-4d4f-80b3-209bde7c4e37",
   "metadata": {},
   "outputs": [],
   "source": [
    "simple_metric_vals = []"
   ]
  },
  {
   "cell_type": "markdown",
   "id": "257766ad-27ed-4562-af1c-f02ccb60b8c1",
   "metadata": {},
   "source": [
    "**BoW + Наивный Байес**"
   ]
  },
  {
   "cell_type": "markdown",
   "id": "9f5695a3-ce0a-4375-a126-138a6b2041f0",
   "metadata": {},
   "source": [
    "[Описание](https://scikit-learn.org/1.5/modules/naive_bayes.html)"
   ]
  },
  {
   "cell_type": "code",
   "execution_count": 80,
   "id": "bd57f21b-fd7f-44ef-85d3-be84c394b64b",
   "metadata": {},
   "outputs": [
    {
     "name": "stdout",
     "output_type": "stream",
     "text": [
      "CPU times: user 347 ms, sys: 117 ms, total: 464 ms\n",
      "Wall time: 464 ms\n"
     ]
    }
   ],
   "source": [
    "%%time\n",
    "\n",
    "gnb = GaussianNB()\n",
    "\n",
    "simple_metric_vals.append(\n",
    "    prettify_scores(\n",
    "        scores_dict=cross_validate(\n",
    "            estimator=gnb,\n",
    "            X=X,\n",
    "            y=y,\n",
    "            scoring=['precision', 'recall', 'f1', 'roc_auc'],\n",
    "            cv=10\n",
    "        ),\n",
    "        model_name='Наивный Байес + BoW'\n",
    "    )\n",
    ")"
   ]
  },
  {
   "cell_type": "markdown",
   "id": "f9029edc-d4d4-49b4-88d5-1fde8e2575e3",
   "metadata": {},
   "source": [
    "**BoW + $k$ ближайших соседей**"
   ]
  },
  {
   "cell_type": "code",
   "execution_count": 81,
   "id": "3c4d0e2d-74c7-42ee-bcc2-3d8c8f69d455",
   "metadata": {},
   "outputs": [],
   "source": [
    "knn = KNeighborsClassifier()"
   ]
  },
  {
   "cell_type": "markdown",
   "id": "a9a2060d-bab5-4993-90e3-e495e3e5b076",
   "metadata": {},
   "source": [
    "Найдем оптимальные гиперпараметры:"
   ]
  },
  {
   "cell_type": "code",
   "execution_count": 82,
   "id": "97d2f0ee-b547-4cb8-9bd1-6f0a892ade18",
   "metadata": {},
   "outputs": [
    {
     "name": "stdout",
     "output_type": "stream",
     "text": [
      "CPU times: user 11min 31s, sys: 6min 14s, total: 17min 45s\n",
      "Wall time: 3min 17s\n"
     ]
    }
   ],
   "source": [
    "%%time\n",
    "\n",
    "grid_search_res = GridSearchCV(\n",
    "    estimator=knn,\n",
    "    param_grid={'n_neighbors': range(500, 1500, 50)},\n",
    "    scoring='roc_auc',\n",
    "    cv=10,\n",
    "    return_train_score=True\n",
    ").fit(X, y)"
   ]
  },
  {
   "cell_type": "markdown",
   "id": "c7daf3eb-c8e8-4c73-a156-30cc35427ccf",
   "metadata": {},
   "source": [
    "Посмотрим на результат:"
   ]
  },
  {
   "cell_type": "code",
   "execution_count": 83,
   "id": "91164c13-3887-4257-9fcf-94c3c8abf5ad",
   "metadata": {},
   "outputs": [],
   "source": [
    "knn = KNeighborsClassifier(\n",
    "    n_neighbors=return_best_param(\n",
    "        grid_search_res.cv_results_, \n",
    "        'n_neighbors'\n",
    "    )\n",
    ")"
   ]
  },
  {
   "cell_type": "code",
   "execution_count": 84,
   "id": "a48ad066-9c31-4eba-818f-b3f3482c9e23",
   "metadata": {},
   "outputs": [
    {
     "name": "stdout",
     "output_type": "stream",
     "text": [
      "CPU times: user 15.5 s, sys: 10.1 s, total: 25.6 s\n",
      "Wall time: 3.36 s\n"
     ]
    }
   ],
   "source": [
    "%%time\n",
    "\n",
    "simple_metric_vals.append(\n",
    "    prettify_scores(\n",
    "        scores_dict=cross_validate(\n",
    "            estimator=knn,\n",
    "            X=X,\n",
    "            y=y,\n",
    "            scoring=['precision', 'recall', 'f1', 'roc_auc'],\n",
    "            cv=10\n",
    "        ),\n",
    "        model_name='kNN + BoW'\n",
    "    )\n",
    ")"
   ]
  },
  {
   "cell_type": "markdown",
   "id": "9d1d0b6d-a5bc-4a73-bb8b-1ec96879ad55",
   "metadata": {},
   "source": [
    "**BoW + Логистическая регрессия**"
   ]
  },
  {
   "cell_type": "code",
   "execution_count": 85,
   "id": "a587469a-67fd-4226-90c7-f92e1f65ed15",
   "metadata": {},
   "outputs": [],
   "source": [
    "lr = LogisticRegression(max_iter=1000)"
   ]
  },
  {
   "cell_type": "code",
   "execution_count": 86,
   "id": "1171509a-3309-4d77-9fea-0ad15f6de704",
   "metadata": {},
   "outputs": [
    {
     "name": "stdout",
     "output_type": "stream",
     "text": [
      "CPU times: user 20min 16s, sys: 57 s, total: 21min 13s\n",
      "Wall time: 2min 45s\n"
     ]
    }
   ],
   "source": [
    "%%time\n",
    "\n",
    "grid_search_res = GridSearchCV(\n",
    "    estimator=lr,\n",
    "    param_grid={'C': np.linspace(0.1, 1, 50)},\n",
    "    scoring='roc_auc',\n",
    "    cv=10,\n",
    "    return_train_score=True\n",
    ").fit(X, y)"
   ]
  },
  {
   "cell_type": "code",
   "execution_count": 87,
   "id": "7e2b257b-bdcc-4bba-9250-281d4e3b01de",
   "metadata": {},
   "outputs": [],
   "source": [
    "lr = LogisticRegression(\n",
    "    max_iter=1000, \n",
    "    C=return_best_param(\n",
    "        grid_search_res.cv_results_, \n",
    "        'C'\n",
    "    )\n",
    ")"
   ]
  },
  {
   "cell_type": "code",
   "execution_count": 88,
   "id": "c0795628-d49e-4fb7-814d-f14a317fe574",
   "metadata": {},
   "outputs": [
    {
     "name": "stdout",
     "output_type": "stream",
     "text": [
      "CPU times: user 24 s, sys: 1.47 s, total: 25.4 s\n",
      "Wall time: 3.3 s\n"
     ]
    }
   ],
   "source": [
    "%%time\n",
    "\n",
    "simple_metric_vals.append(\n",
    "    prettify_scores(\n",
    "        scores_dict=cross_validate(\n",
    "            estimator=lr,\n",
    "            X=X,\n",
    "            y=y,\n",
    "            scoring=['precision', 'recall', 'f1', 'roc_auc'],\n",
    "            cv=10\n",
    "        ),\n",
    "        model_name='Логистическая регрессия + BoW'\n",
    "    )\n",
    ")"
   ]
  },
  {
   "cell_type": "markdown",
   "id": "4206eccc-90f5-4efc-b0c6-4d6f64187fc9",
   "metadata": {},
   "source": [
    "**Сравнение**"
   ]
  },
  {
   "cell_type": "code",
   "execution_count": 89,
   "id": "394f1b7a-9764-464b-9f63-122c1ddb377b",
   "metadata": {},
   "outputs": [
    {
     "data": {
      "text/html": [
       "<div>\n",
       "<style scoped>\n",
       "    .dataframe tbody tr th:only-of-type {\n",
       "        vertical-align: middle;\n",
       "    }\n",
       "\n",
       "    .dataframe tbody tr th {\n",
       "        vertical-align: top;\n",
       "    }\n",
       "\n",
       "    .dataframe thead th {\n",
       "        text-align: right;\n",
       "    }\n",
       "</style>\n",
       "<table border=\"1\" class=\"dataframe\">\n",
       "  <thead>\n",
       "    <tr style=\"text-align: right;\">\n",
       "      <th></th>\n",
       "      <th>Precision</th>\n",
       "      <th>Recall</th>\n",
       "      <th>F1</th>\n",
       "      <th>ROC-AUC</th>\n",
       "    </tr>\n",
       "  </thead>\n",
       "  <tbody>\n",
       "    <tr>\n",
       "      <th>Наивный Байес + BoW</th>\n",
       "      <td>0.620196</td>\n",
       "      <td>0.981096</td>\n",
       "      <td>0.759797</td>\n",
       "      <td>0.641602</td>\n",
       "    </tr>\n",
       "    <tr>\n",
       "      <th>kNN + BoW</th>\n",
       "      <td>0.618395</td>\n",
       "      <td>1.000000</td>\n",
       "      <td>0.764207</td>\n",
       "      <td>0.633953</td>\n",
       "    </tr>\n",
       "    <tr>\n",
       "      <th>Логистическая регрессия + BoW</th>\n",
       "      <td>0.622948</td>\n",
       "      <td>0.990414</td>\n",
       "      <td>0.764811</td>\n",
       "      <td>0.618135</td>\n",
       "    </tr>\n",
       "  </tbody>\n",
       "</table>\n",
       "</div>"
      ],
      "text/plain": [
       "                               Precision    Recall        F1   ROC-AUC\n",
       "Наивный Байес + BoW             0.620196  0.981096  0.759797  0.641602\n",
       "kNN + BoW                       0.618395  1.000000  0.764207  0.633953\n",
       "Логистическая регрессия + BoW   0.622948  0.990414  0.764811  0.618135"
      ]
     },
     "execution_count": 89,
     "metadata": {},
     "output_type": "execute_result"
    }
   ],
   "source": [
    "pd.concat(simple_metric_vals)"
   ]
  },
  {
   "cell_type": "markdown",
   "id": "b47fda57-ef92-48da-acf6-8d1b6e49c628",
   "metadata": {},
   "source": [
    "### Модели на основе деревьев, BoW"
   ]
  },
  {
   "cell_type": "markdown",
   "id": "fd52270e-2000-4753-9f06-c90892a00f13",
   "metadata": {},
   "source": [
    "TODO. Сначала только BoW, потом только tf-IDF, чтобы не было проблем с `X`."
   ]
  },
  {
   "cell_type": "markdown",
   "id": "65cefc6d-663f-4a0b-858b-22577d039615",
   "metadata": {},
   "source": [
    "**Дерево решений**"
   ]
  },
  {
   "cell_type": "markdown",
   "id": "065d1bc4-316c-466f-93f6-db4ad3388a21",
   "metadata": {},
   "source": [
    "**Случайный лес**"
   ]
  },
  {
   "cell_type": "markdown",
   "id": "8837dacc-7041-4543-a3af-a0991056c75f",
   "metadata": {},
   "source": [
    "TODO. Тут тоже напишу функцию для красивой обработки результатов `grid search`."
   ]
  },
  {
   "cell_type": "markdown",
   "id": "8bafa5bc-2d8f-43fd-9b5a-67a28d21964e",
   "metadata": {},
   "source": [
    "Последовательный подбор параметров от маленького к большему."
   ]
  },
  {
   "cell_type": "code",
   "execution_count": 90,
   "id": "87011606-2826-4656-99b8-ac2a935fcfb1",
   "metadata": {},
   "outputs": [],
   "source": [
    "from sklearn.ensemble import RandomForestClassifier"
   ]
  },
  {
   "cell_type": "code",
   "execution_count": 91,
   "id": "1124c5fe-eae6-48a1-bb94-bb06656f94c8",
   "metadata": {},
   "outputs": [],
   "source": [
    "rf = RandomForestClassifier()"
   ]
  },
  {
   "cell_type": "code",
   "execution_count": 92,
   "id": "718a9f51-1071-47a5-b2c9-148c73fd8a4e",
   "metadata": {},
   "outputs": [
    {
     "name": "stdout",
     "output_type": "stream",
     "text": [
      "CPU times: user 1min 11s, sys: 2.7 s, total: 1min 13s\n",
      "Wall time: 1min 13s\n"
     ]
    }
   ],
   "source": [
    "%%time\n",
    "\n",
    "grid_search_res = GridSearchCV(\n",
    "    estimator=rf,\n",
    "    param_grid={\n",
    "        'max_depth': range(2, 20, 4),\n",
    "        'min_samples_split': range(2, 20, 4)\n",
    "    },\n",
    "    scoring='roc_auc',\n",
    "    cv=10,\n",
    "    return_train_score=True\n",
    ").fit(X, y)"
   ]
  },
  {
   "cell_type": "code",
   "execution_count": 105,
   "id": "7be9f520-9bd8-43b5-b406-968f93f03241",
   "metadata": {},
   "outputs": [],
   "source": [
    "best_max_depth, best_min_samples_split = return_best_params(\n",
    "    grid_search_res.cv_results_, \n",
    "    'max_depth', \n",
    "    'min_samples_split'\n",
    ")\n",
    "\n",
    "rf = RandomForestClassifier(\n",
    "    max_depth=int(best_max_depth),\n",
    "    min_samples_split=int(best_min_samples_split)\n",
    ")"
   ]
  },
  {
   "cell_type": "code",
   "execution_count": 106,
   "id": "b669a584-cfef-45ec-bc4a-5b463a073646",
   "metadata": {},
   "outputs": [
    {
     "name": "stdout",
     "output_type": "stream",
     "text": [
      "CPU times: user 1.19 s, sys: 108 ms, total: 1.3 s\n",
      "Wall time: 1.3 s\n"
     ]
    }
   ],
   "source": [
    "%%time\n",
    "\n",
    "simple_metric_vals.append(\n",
    "    prettify_scores(\n",
    "        scores_dict=cross_validate(\n",
    "            estimator=rf,\n",
    "            X=X,\n",
    "            y=y,\n",
    "            scoring=['precision', 'recall', 'f1', 'roc_auc'],\n",
    "            cv=10\n",
    "        ),\n",
    "        model_name='Случайный лес + BoW'\n",
    "    )\n",
    ")"
   ]
  },
  {
   "cell_type": "code",
   "execution_count": 127,
   "id": "1f7dd72a-9905-43f1-b513-2ecabb53f0b2",
   "metadata": {},
   "outputs": [
    {
     "data": {
      "text/html": [
       "<div>\n",
       "<style scoped>\n",
       "    .dataframe tbody tr th:only-of-type {\n",
       "        vertical-align: middle;\n",
       "    }\n",
       "\n",
       "    .dataframe tbody tr th {\n",
       "        vertical-align: top;\n",
       "    }\n",
       "\n",
       "    .dataframe thead th {\n",
       "        text-align: right;\n",
       "    }\n",
       "</style>\n",
       "<table border=\"1\" class=\"dataframe\">\n",
       "  <thead>\n",
       "    <tr style=\"text-align: right;\">\n",
       "      <th></th>\n",
       "      <th>Precision</th>\n",
       "      <th>Recall</th>\n",
       "      <th>F1</th>\n",
       "      <th>ROC-AUC</th>\n",
       "    </tr>\n",
       "  </thead>\n",
       "  <tbody>\n",
       "    <tr>\n",
       "      <th>Наивный Байес + BoW</th>\n",
       "      <td>0.620196</td>\n",
       "      <td>0.981096</td>\n",
       "      <td>0.759797</td>\n",
       "      <td>0.641602</td>\n",
       "    </tr>\n",
       "    <tr>\n",
       "      <th>kNN + BoW</th>\n",
       "      <td>0.618395</td>\n",
       "      <td>1.000000</td>\n",
       "      <td>0.764207</td>\n",
       "      <td>0.633953</td>\n",
       "    </tr>\n",
       "    <tr>\n",
       "      <th>Логистическая регрессия + BoW</th>\n",
       "      <td>0.622948</td>\n",
       "      <td>0.990414</td>\n",
       "      <td>0.764811</td>\n",
       "      <td>0.618135</td>\n",
       "    </tr>\n",
       "    <tr>\n",
       "      <th>Случайный лес + BoW</th>\n",
       "      <td>0.618395</td>\n",
       "      <td>1.000000</td>\n",
       "      <td>0.764207</td>\n",
       "      <td>0.643349</td>\n",
       "    </tr>\n",
       "    <tr>\n",
       "      <th>CatBoostClassifier + BoW</th>\n",
       "      <td>0.665670</td>\n",
       "      <td>0.820037</td>\n",
       "      <td>0.728973</td>\n",
       "      <td>0.685683</td>\n",
       "    </tr>\n",
       "  </tbody>\n",
       "</table>\n",
       "</div>"
      ],
      "text/plain": [
       "                               Precision    Recall        F1   ROC-AUC\n",
       "Наивный Байес + BoW             0.620196  0.981096  0.759797  0.641602\n",
       "kNN + BoW                       0.618395  1.000000  0.764207  0.633953\n",
       "Логистическая регрессия + BoW   0.622948  0.990414  0.764811  0.618135\n",
       "Случайный лес + BoW             0.618395  1.000000  0.764207  0.643349\n",
       "CatBoostClassifier + BoW        0.665670  0.820037  0.728973  0.685683"
      ]
     },
     "execution_count": 127,
     "metadata": {},
     "output_type": "execute_result"
    }
   ],
   "source": [
    "pd.concat(simple_metric_vals)"
   ]
  },
  {
   "cell_type": "markdown",
   "id": "4b10b527-ada2-48a5-bf7d-49382ce16892",
   "metadata": {},
   "source": [
    "**Бустинг, `xgboost`**"
   ]
  },
  {
   "cell_type": "markdown",
   "id": "7a907675-0851-49dc-9895-5cc901b7e440",
   "metadata": {},
   "source": [
    "TODO. См. ноутбук из `dev`."
   ]
  },
  {
   "cell_type": "markdown",
   "id": "8d93ab8d-dce0-4135-a6a1-8a16721bf62d",
   "metadata": {},
   "source": [
    "**Бустинг, `catboost`**"
   ]
  },
  {
   "cell_type": "markdown",
   "id": "3e9ee5ab-b788-4dfe-ab35-64048b952fde",
   "metadata": {},
   "source": [
    "Продолжим ту же идею для подбора гиперпараметров, но уже с помощью более сложных инструментов, подходящих для перебора большого числа параметров по крупной сeтке."
   ]
  },
  {
   "cell_type": "code",
   "execution_count": 111,
   "id": "5243beb7-5e7f-4233-b5c6-6a0691e33c34",
   "metadata": {},
   "outputs": [],
   "source": [
    "def pr_diff(clf):\n",
    "    train_scores = []\n",
    "    test_scores = []\n",
    "\n",
    "    for i in range(4):\n",
    "        X_train, X_test, y_train, y_test = train_test_split(X, y, test_size=0.7, random_state=0)\n",
    "        clf.fit(X_train, y_train)\n",
    "        \n",
    "        train_score = roc_auc_score(y_train, clf.predict_proba(X_train)[:,1])\n",
    "        test_score = roc_auc_score(y_test, clf.predict_proba(X_test)[:,1])\n",
    "\n",
    "        train_scores.append(train_score)\n",
    "        test_scores.append(test_score)\n",
    "    \n",
    "    return np.abs(np.max(train_scores) - np.min(test_scores))"
   ]
  },
  {
   "cell_type": "code",
   "execution_count": 116,
   "id": "fe230617-2dd8-4684-b7a8-3dbb00e3b927",
   "metadata": {},
   "outputs": [],
   "source": [
    "def objective(trial):\n",
    "    params = {\n",
    "        'num_trees': trial.suggest_int('num_trees', 5, 100),\n",
    "        'max_depth': trial.suggest_int('max_depth', 1, 10),\n",
    "        'min_data_in_leaf': trial.suggest_int('min_data_in_leaf', 1, 100),\n",
    "        'verbose': False\n",
    "    }\n",
    "\n",
    "    model = catboost.CatBoostClassifier(**params)\n",
    "    metrics = [np.mean(cross_val_score(model, X=pd.DataFrame(X), y=y, scoring='roc_auc', cv=10)), pr_diff(model)]\n",
    "\n",
    "    return metrics"
   ]
  },
  {
   "cell_type": "code",
   "execution_count": 117,
   "id": "7be6f9f8-b995-4919-a7a2-5fc151768cf0",
   "metadata": {},
   "outputs": [
    {
     "name": "stderr",
     "output_type": "stream",
     "text": [
      "[I 2024-12-11 14:54:46,215] A new study created in memory with name: no-name-51706545-a103-42b5-beda-63ce53e81d6b\n"
     ]
    }
   ],
   "source": [
    "study = optuna.create_study(\n",
    "    directions=['maximize', 'minimize'],\n",
    "    sampler=optuna.samplers.TPESampler()\n",
    ")"
   ]
  },
  {
   "cell_type": "code",
   "execution_count": 38,
   "id": "bc260bcf-6312-48db-8e09-580fdcf27492",
   "metadata": {},
   "outputs": [
    {
     "name": "stderr",
     "output_type": "stream",
     "text": [
      "553.14s - pydevd: Sending message related to process being replaced timed-out after 5 seconds\n"
     ]
    },
    {
     "name": "stdout",
     "output_type": "stream",
     "text": [
      "catboost           1.2.7\n"
     ]
    }
   ],
   "source": [
    "!pip list | grep -e \"catboost.*\""
   ]
  },
  {
   "cell_type": "code",
   "execution_count": 118,
   "id": "dd19eb06-ca4a-42f0-b6d9-cdf15291a454",
   "metadata": {
    "scrolled": true
   },
   "outputs": [
    {
     "name": "stderr",
     "output_type": "stream",
     "text": [
      "  0%|                                                    | 0/10 [00:00<?, ?it/s]/opt/homebrew/Caskroom/miniconda/base/envs/course-work-venv/lib/python3.11/site-packages/sklearn/utils/_tags.py:322: FutureWarning: Estimator <catboost.core.CatBoostClassifier object at 0x179376a90> has no __sklearn_tags__ attribute, which is defined in `sklearn.base.BaseEstimator`. This will raise an error in scikit-learn 1.8. Please define the __sklearn_tags__ method, or inherit from `sklearn.base.BaseEstimator` and other appropriate mixins such as `sklearn.base.TransformerMixin`, `sklearn.base.ClassifierMixin`, `sklearn.base.RegressorMixin`, and `sklearn.base.ClusterMixin`, and `sklearn.base.OutlierMixin`.\n",
      "  warnings.warn(\n",
      "/opt/homebrew/Caskroom/miniconda/base/envs/course-work-venv/lib/python3.11/site-packages/sklearn/utils/_tags.py:322: FutureWarning: Estimator <catboost.core.CatBoostClassifier object at 0x309ced650> has no __sklearn_tags__ attribute, which is defined in `sklearn.base.BaseEstimator`. This will raise an error in scikit-learn 1.8. Please define the __sklearn_tags__ method, or inherit from `sklearn.base.BaseEstimator` and other appropriate mixins such as `sklearn.base.TransformerMixin`, `sklearn.base.ClassifierMixin`, `sklearn.base.RegressorMixin`, and `sklearn.base.ClusterMixin`, and `sklearn.base.OutlierMixin`.\n",
      "  warnings.warn(\n",
      "/opt/homebrew/Caskroom/miniconda/base/envs/course-work-venv/lib/python3.11/site-packages/sklearn/utils/_tags.py:322: FutureWarning: Estimator <catboost.core.CatBoostClassifier object at 0x3097ed490> has no __sklearn_tags__ attribute, which is defined in `sklearn.base.BaseEstimator`. This will raise an error in scikit-learn 1.8. Please define the __sklearn_tags__ method, or inherit from `sklearn.base.BaseEstimator` and other appropriate mixins such as `sklearn.base.TransformerMixin`, `sklearn.base.ClassifierMixin`, `sklearn.base.RegressorMixin`, and `sklearn.base.ClusterMixin`, and `sklearn.base.OutlierMixin`.\n",
      "  warnings.warn(\n",
      "/opt/homebrew/Caskroom/miniconda/base/envs/course-work-venv/lib/python3.11/site-packages/sklearn/utils/_tags.py:322: FutureWarning: Estimator <catboost.core.CatBoostClassifier object at 0x309395090> has no __sklearn_tags__ attribute, which is defined in `sklearn.base.BaseEstimator`. This will raise an error in scikit-learn 1.8. Please define the __sklearn_tags__ method, or inherit from `sklearn.base.BaseEstimator` and other appropriate mixins such as `sklearn.base.TransformerMixin`, `sklearn.base.ClassifierMixin`, `sklearn.base.RegressorMixin`, and `sklearn.base.ClusterMixin`, and `sklearn.base.OutlierMixin`.\n",
      "  warnings.warn(\n",
      "/opt/homebrew/Caskroom/miniconda/base/envs/course-work-venv/lib/python3.11/site-packages/sklearn/utils/_tags.py:322: FutureWarning: Estimator <catboost.core.CatBoostClassifier object at 0x3097ed490> has no __sklearn_tags__ attribute, which is defined in `sklearn.base.BaseEstimator`. This will raise an error in scikit-learn 1.8. Please define the __sklearn_tags__ method, or inherit from `sklearn.base.BaseEstimator` and other appropriate mixins such as `sklearn.base.TransformerMixin`, `sklearn.base.ClassifierMixin`, `sklearn.base.RegressorMixin`, and `sklearn.base.ClusterMixin`, and `sklearn.base.OutlierMixin`.\n",
      "  warnings.warn(\n",
      "/opt/homebrew/Caskroom/miniconda/base/envs/course-work-venv/lib/python3.11/site-packages/sklearn/utils/_tags.py:322: FutureWarning: Estimator <catboost.core.CatBoostClassifier object at 0x309395090> has no __sklearn_tags__ attribute, which is defined in `sklearn.base.BaseEstimator`. This will raise an error in scikit-learn 1.8. Please define the __sklearn_tags__ method, or inherit from `sklearn.base.BaseEstimator` and other appropriate mixins such as `sklearn.base.TransformerMixin`, `sklearn.base.ClassifierMixin`, `sklearn.base.RegressorMixin`, and `sklearn.base.ClusterMixin`, and `sklearn.base.OutlierMixin`.\n",
      "  warnings.warn(\n",
      "/opt/homebrew/Caskroom/miniconda/base/envs/course-work-venv/lib/python3.11/site-packages/sklearn/utils/_tags.py:322: FutureWarning: Estimator <catboost.core.CatBoostClassifier object at 0x3097ed490> has no __sklearn_tags__ attribute, which is defined in `sklearn.base.BaseEstimator`. This will raise an error in scikit-learn 1.8. Please define the __sklearn_tags__ method, or inherit from `sklearn.base.BaseEstimator` and other appropriate mixins such as `sklearn.base.TransformerMixin`, `sklearn.base.ClassifierMixin`, `sklearn.base.RegressorMixin`, and `sklearn.base.ClusterMixin`, and `sklearn.base.OutlierMixin`.\n",
      "  warnings.warn(\n",
      "/opt/homebrew/Caskroom/miniconda/base/envs/course-work-venv/lib/python3.11/site-packages/sklearn/utils/_tags.py:322: FutureWarning: Estimator <catboost.core.CatBoostClassifier object at 0x309395090> has no __sklearn_tags__ attribute, which is defined in `sklearn.base.BaseEstimator`. This will raise an error in scikit-learn 1.8. Please define the __sklearn_tags__ method, or inherit from `sklearn.base.BaseEstimator` and other appropriate mixins such as `sklearn.base.TransformerMixin`, `sklearn.base.ClassifierMixin`, `sklearn.base.RegressorMixin`, and `sklearn.base.ClusterMixin`, and `sklearn.base.OutlierMixin`.\n",
      "  warnings.warn(\n",
      "/opt/homebrew/Caskroom/miniconda/base/envs/course-work-venv/lib/python3.11/site-packages/sklearn/utils/_tags.py:322: FutureWarning: Estimator <catboost.core.CatBoostClassifier object at 0x3097ed490> has no __sklearn_tags__ attribute, which is defined in `sklearn.base.BaseEstimator`. This will raise an error in scikit-learn 1.8. Please define the __sklearn_tags__ method, or inherit from `sklearn.base.BaseEstimator` and other appropriate mixins such as `sklearn.base.TransformerMixin`, `sklearn.base.ClassifierMixin`, `sklearn.base.RegressorMixin`, and `sklearn.base.ClusterMixin`, and `sklearn.base.OutlierMixin`.\n",
      "  warnings.warn(\n",
      "/opt/homebrew/Caskroom/miniconda/base/envs/course-work-venv/lib/python3.11/site-packages/sklearn/utils/_tags.py:322: FutureWarning: Estimator <catboost.core.CatBoostClassifier object at 0x309395090> has no __sklearn_tags__ attribute, which is defined in `sklearn.base.BaseEstimator`. This will raise an error in scikit-learn 1.8. Please define the __sklearn_tags__ method, or inherit from `sklearn.base.BaseEstimator` and other appropriate mixins such as `sklearn.base.TransformerMixin`, `sklearn.base.ClassifierMixin`, `sklearn.base.RegressorMixin`, and `sklearn.base.ClusterMixin`, and `sklearn.base.OutlierMixin`.\n",
      "  warnings.warn(\n",
      "/opt/homebrew/Caskroom/miniconda/base/envs/course-work-venv/lib/python3.11/site-packages/sklearn/utils/_tags.py:322: FutureWarning: Estimator <catboost.core.CatBoostClassifier object at 0x3097ed490> has no __sklearn_tags__ attribute, which is defined in `sklearn.base.BaseEstimator`. This will raise an error in scikit-learn 1.8. Please define the __sklearn_tags__ method, or inherit from `sklearn.base.BaseEstimator` and other appropriate mixins such as `sklearn.base.TransformerMixin`, `sklearn.base.ClassifierMixin`, `sklearn.base.RegressorMixin`, and `sklearn.base.ClusterMixin`, and `sklearn.base.OutlierMixin`.\n",
      "  warnings.warn(\n",
      " 10%|██▌                       | 1/10 [00:02<00:25,  2.85s/it, 2.85/600 seconds]/opt/homebrew/Caskroom/miniconda/base/envs/course-work-venv/lib/python3.11/site-packages/sklearn/utils/_tags.py:322: FutureWarning: Estimator <catboost.core.CatBoostClassifier object at 0x3088ebd90> has no __sklearn_tags__ attribute, which is defined in `sklearn.base.BaseEstimator`. This will raise an error in scikit-learn 1.8. Please define the __sklearn_tags__ method, or inherit from `sklearn.base.BaseEstimator` and other appropriate mixins such as `sklearn.base.TransformerMixin`, `sklearn.base.ClassifierMixin`, `sklearn.base.RegressorMixin`, and `sklearn.base.ClusterMixin`, and `sklearn.base.OutlierMixin`.\n",
      "  warnings.warn(\n",
      "/opt/homebrew/Caskroom/miniconda/base/envs/course-work-venv/lib/python3.11/site-packages/sklearn/utils/_tags.py:322: FutureWarning: Estimator <catboost.core.CatBoostClassifier object at 0x179d0b6d0> has no __sklearn_tags__ attribute, which is defined in `sklearn.base.BaseEstimator`. This will raise an error in scikit-learn 1.8. Please define the __sklearn_tags__ method, or inherit from `sklearn.base.BaseEstimator` and other appropriate mixins such as `sklearn.base.TransformerMixin`, `sklearn.base.ClassifierMixin`, `sklearn.base.RegressorMixin`, and `sklearn.base.ClusterMixin`, and `sklearn.base.OutlierMixin`.\n",
      "  warnings.warn(\n"
     ]
    },
    {
     "name": "stdout",
     "output_type": "stream",
     "text": [
      "[I 2024-12-11 14:54:53,041] Trial 0 finished with values: [0.6717285212691234, 0.16568773376911183] and parameters: {'num_trees': 74, 'max_depth': 5, 'min_data_in_leaf': 33}.\n"
     ]
    },
    {
     "name": "stderr",
     "output_type": "stream",
     "text": [
      "/opt/homebrew/Caskroom/miniconda/base/envs/course-work-venv/lib/python3.11/site-packages/sklearn/utils/_tags.py:322: FutureWarning: Estimator <catboost.core.CatBoostClassifier object at 0x30977c490> has no __sklearn_tags__ attribute, which is defined in `sklearn.base.BaseEstimator`. This will raise an error in scikit-learn 1.8. Please define the __sklearn_tags__ method, or inherit from `sklearn.base.BaseEstimator` and other appropriate mixins such as `sklearn.base.TransformerMixin`, `sklearn.base.ClassifierMixin`, `sklearn.base.RegressorMixin`, and `sklearn.base.ClusterMixin`, and `sklearn.base.OutlierMixin`.\n",
      "  warnings.warn(\n",
      "/opt/homebrew/Caskroom/miniconda/base/envs/course-work-venv/lib/python3.11/site-packages/sklearn/utils/_tags.py:322: FutureWarning: Estimator <catboost.core.CatBoostClassifier object at 0x30977e550> has no __sklearn_tags__ attribute, which is defined in `sklearn.base.BaseEstimator`. This will raise an error in scikit-learn 1.8. Please define the __sklearn_tags__ method, or inherit from `sklearn.base.BaseEstimator` and other appropriate mixins such as `sklearn.base.TransformerMixin`, `sklearn.base.ClassifierMixin`, `sklearn.base.RegressorMixin`, and `sklearn.base.ClusterMixin`, and `sklearn.base.OutlierMixin`.\n",
      "  warnings.warn(\n",
      "/opt/homebrew/Caskroom/miniconda/base/envs/course-work-venv/lib/python3.11/site-packages/sklearn/utils/_tags.py:322: FutureWarning: Estimator <catboost.core.CatBoostClassifier object at 0x17a78f4d0> has no __sklearn_tags__ attribute, which is defined in `sklearn.base.BaseEstimator`. This will raise an error in scikit-learn 1.8. Please define the __sklearn_tags__ method, or inherit from `sklearn.base.BaseEstimator` and other appropriate mixins such as `sklearn.base.TransformerMixin`, `sklearn.base.ClassifierMixin`, `sklearn.base.RegressorMixin`, and `sklearn.base.ClusterMixin`, and `sklearn.base.OutlierMixin`.\n",
      "  warnings.warn(\n",
      "/opt/homebrew/Caskroom/miniconda/base/envs/course-work-venv/lib/python3.11/site-packages/sklearn/utils/_tags.py:322: FutureWarning: Estimator <catboost.core.CatBoostClassifier object at 0x30887d510> has no __sklearn_tags__ attribute, which is defined in `sklearn.base.BaseEstimator`. This will raise an error in scikit-learn 1.8. Please define the __sklearn_tags__ method, or inherit from `sklearn.base.BaseEstimator` and other appropriate mixins such as `sklearn.base.TransformerMixin`, `sklearn.base.ClassifierMixin`, `sklearn.base.RegressorMixin`, and `sklearn.base.ClusterMixin`, and `sklearn.base.OutlierMixin`.\n",
      "  warnings.warn(\n",
      "/opt/homebrew/Caskroom/miniconda/base/envs/course-work-venv/lib/python3.11/site-packages/sklearn/utils/_tags.py:322: FutureWarning: Estimator <catboost.core.CatBoostClassifier object at 0x17a74a510> has no __sklearn_tags__ attribute, which is defined in `sklearn.base.BaseEstimator`. This will raise an error in scikit-learn 1.8. Please define the __sklearn_tags__ method, or inherit from `sklearn.base.BaseEstimator` and other appropriate mixins such as `sklearn.base.TransformerMixin`, `sklearn.base.ClassifierMixin`, `sklearn.base.RegressorMixin`, and `sklearn.base.ClusterMixin`, and `sklearn.base.OutlierMixin`.\n",
      "  warnings.warn(\n",
      "/opt/homebrew/Caskroom/miniconda/base/envs/course-work-venv/lib/python3.11/site-packages/sklearn/utils/_tags.py:322: FutureWarning: Estimator <catboost.core.CatBoostClassifier object at 0x17a791910> has no __sklearn_tags__ attribute, which is defined in `sklearn.base.BaseEstimator`. This will raise an error in scikit-learn 1.8. Please define the __sklearn_tags__ method, or inherit from `sklearn.base.BaseEstimator` and other appropriate mixins such as `sklearn.base.TransformerMixin`, `sklearn.base.ClassifierMixin`, `sklearn.base.RegressorMixin`, and `sklearn.base.ClusterMixin`, and `sklearn.base.OutlierMixin`.\n",
      "  warnings.warn(\n",
      "/opt/homebrew/Caskroom/miniconda/base/envs/course-work-venv/lib/python3.11/site-packages/sklearn/utils/_tags.py:322: FutureWarning: Estimator <catboost.core.CatBoostClassifier object at 0x17a7aa210> has no __sklearn_tags__ attribute, which is defined in `sklearn.base.BaseEstimator`. This will raise an error in scikit-learn 1.8. Please define the __sklearn_tags__ method, or inherit from `sklearn.base.BaseEstimator` and other appropriate mixins such as `sklearn.base.TransformerMixin`, `sklearn.base.ClassifierMixin`, `sklearn.base.RegressorMixin`, and `sklearn.base.ClusterMixin`, and `sklearn.base.OutlierMixin`.\n",
      "  warnings.warn(\n",
      "/opt/homebrew/Caskroom/miniconda/base/envs/course-work-venv/lib/python3.11/site-packages/sklearn/utils/_tags.py:322: FutureWarning: Estimator <catboost.core.CatBoostClassifier object at 0x17a6d98d0> has no __sklearn_tags__ attribute, which is defined in `sklearn.base.BaseEstimator`. This will raise an error in scikit-learn 1.8. Please define the __sklearn_tags__ method, or inherit from `sklearn.base.BaseEstimator` and other appropriate mixins such as `sklearn.base.TransformerMixin`, `sklearn.base.ClassifierMixin`, `sklearn.base.RegressorMixin`, and `sklearn.base.ClusterMixin`, and `sklearn.base.OutlierMixin`.\n",
      "  warnings.warn(\n",
      "/opt/homebrew/Caskroom/miniconda/base/envs/course-work-venv/lib/python3.11/site-packages/sklearn/utils/_tags.py:322: FutureWarning: Estimator <catboost.core.CatBoostClassifier object at 0x309bc9e50> has no __sklearn_tags__ attribute, which is defined in `sklearn.base.BaseEstimator`. This will raise an error in scikit-learn 1.8. Please define the __sklearn_tags__ method, or inherit from `sklearn.base.BaseEstimator` and other appropriate mixins such as `sklearn.base.TransformerMixin`, `sklearn.base.ClassifierMixin`, `sklearn.base.RegressorMixin`, and `sklearn.base.ClusterMixin`, and `sklearn.base.OutlierMixin`.\n",
      "  warnings.warn(\n",
      " 20%|█████▏                    | 2/10 [00:07<00:30,  3.75s/it, 7.23/600 seconds]/opt/homebrew/Caskroom/miniconda/base/envs/course-work-venv/lib/python3.11/site-packages/sklearn/utils/_tags.py:322: FutureWarning: Estimator <catboost.core.CatBoostClassifier object at 0x3088cf6d0> has no __sklearn_tags__ attribute, which is defined in `sklearn.base.BaseEstimator`. This will raise an error in scikit-learn 1.8. Please define the __sklearn_tags__ method, or inherit from `sklearn.base.BaseEstimator` and other appropriate mixins such as `sklearn.base.TransformerMixin`, `sklearn.base.ClassifierMixin`, `sklearn.base.RegressorMixin`, and `sklearn.base.ClusterMixin`, and `sklearn.base.OutlierMixin`.\n",
      "  warnings.warn(\n",
      "/opt/homebrew/Caskroom/miniconda/base/envs/course-work-venv/lib/python3.11/site-packages/sklearn/utils/_tags.py:322: FutureWarning: Estimator <catboost.core.CatBoostClassifier object at 0x3088ce610> has no __sklearn_tags__ attribute, which is defined in `sklearn.base.BaseEstimator`. This will raise an error in scikit-learn 1.8. Please define the __sklearn_tags__ method, or inherit from `sklearn.base.BaseEstimator` and other appropriate mixins such as `sklearn.base.TransformerMixin`, `sklearn.base.ClassifierMixin`, `sklearn.base.RegressorMixin`, and `sklearn.base.ClusterMixin`, and `sklearn.base.OutlierMixin`.\n",
      "  warnings.warn(\n"
     ]
    },
    {
     "name": "stdout",
     "output_type": "stream",
     "text": [
      "[I 2024-12-11 14:54:57,420] Trial 1 finished with values: [0.6347415556322515, 0.1928850213100507] and parameters: {'num_trees': 94, 'max_depth': 7, 'min_data_in_leaf': 65}.\n"
     ]
    },
    {
     "name": "stderr",
     "output_type": "stream",
     "text": [
      "/opt/homebrew/Caskroom/miniconda/base/envs/course-work-venv/lib/python3.11/site-packages/sklearn/utils/_tags.py:322: FutureWarning: Estimator <catboost.core.CatBoostClassifier object at 0x30890f190> has no __sklearn_tags__ attribute, which is defined in `sklearn.base.BaseEstimator`. This will raise an error in scikit-learn 1.8. Please define the __sklearn_tags__ method, or inherit from `sklearn.base.BaseEstimator` and other appropriate mixins such as `sklearn.base.TransformerMixin`, `sklearn.base.ClassifierMixin`, `sklearn.base.RegressorMixin`, and `sklearn.base.ClusterMixin`, and `sklearn.base.OutlierMixin`.\n",
      "  warnings.warn(\n",
      "/opt/homebrew/Caskroom/miniconda/base/envs/course-work-venv/lib/python3.11/site-packages/sklearn/utils/_tags.py:322: FutureWarning: Estimator <catboost.core.CatBoostClassifier object at 0x309c34690> has no __sklearn_tags__ attribute, which is defined in `sklearn.base.BaseEstimator`. This will raise an error in scikit-learn 1.8. Please define the __sklearn_tags__ method, or inherit from `sklearn.base.BaseEstimator` and other appropriate mixins such as `sklearn.base.TransformerMixin`, `sklearn.base.ClassifierMixin`, `sklearn.base.RegressorMixin`, and `sklearn.base.ClusterMixin`, and `sklearn.base.OutlierMixin`.\n",
      "  warnings.warn(\n",
      "/opt/homebrew/Caskroom/miniconda/base/envs/course-work-venv/lib/python3.11/site-packages/sklearn/utils/_tags.py:322: FutureWarning: Estimator <catboost.core.CatBoostClassifier object at 0x309c57650> has no __sklearn_tags__ attribute, which is defined in `sklearn.base.BaseEstimator`. This will raise an error in scikit-learn 1.8. Please define the __sklearn_tags__ method, or inherit from `sklearn.base.BaseEstimator` and other appropriate mixins such as `sklearn.base.TransformerMixin`, `sklearn.base.ClassifierMixin`, `sklearn.base.RegressorMixin`, and `sklearn.base.ClusterMixin`, and `sklearn.base.OutlierMixin`.\n",
      "  warnings.warn(\n",
      "/opt/homebrew/Caskroom/miniconda/base/envs/course-work-venv/lib/python3.11/site-packages/sklearn/utils/_tags.py:322: FutureWarning: Estimator <catboost.core.CatBoostClassifier object at 0x308915ed0> has no __sklearn_tags__ attribute, which is defined in `sklearn.base.BaseEstimator`. This will raise an error in scikit-learn 1.8. Please define the __sklearn_tags__ method, or inherit from `sklearn.base.BaseEstimator` and other appropriate mixins such as `sklearn.base.TransformerMixin`, `sklearn.base.ClassifierMixin`, `sklearn.base.RegressorMixin`, and `sklearn.base.ClusterMixin`, and `sklearn.base.OutlierMixin`.\n",
      "  warnings.warn(\n",
      "/opt/homebrew/Caskroom/miniconda/base/envs/course-work-venv/lib/python3.11/site-packages/sklearn/utils/_tags.py:322: FutureWarning: Estimator <catboost.core.CatBoostClassifier object at 0x17a7473d0> has no __sklearn_tags__ attribute, which is defined in `sklearn.base.BaseEstimator`. This will raise an error in scikit-learn 1.8. Please define the __sklearn_tags__ method, or inherit from `sklearn.base.BaseEstimator` and other appropriate mixins such as `sklearn.base.TransformerMixin`, `sklearn.base.ClassifierMixin`, `sklearn.base.RegressorMixin`, and `sklearn.base.ClusterMixin`, and `sklearn.base.OutlierMixin`.\n",
      "  warnings.warn(\n",
      "/opt/homebrew/Caskroom/miniconda/base/envs/course-work-venv/lib/python3.11/site-packages/sklearn/utils/_tags.py:322: FutureWarning: Estimator <catboost.core.CatBoostClassifier object at 0x30883a390> has no __sklearn_tags__ attribute, which is defined in `sklearn.base.BaseEstimator`. This will raise an error in scikit-learn 1.8. Please define the __sklearn_tags__ method, or inherit from `sklearn.base.BaseEstimator` and other appropriate mixins such as `sklearn.base.TransformerMixin`, `sklearn.base.ClassifierMixin`, `sklearn.base.RegressorMixin`, and `sklearn.base.ClusterMixin`, and `sklearn.base.OutlierMixin`.\n",
      "  warnings.warn(\n",
      "/opt/homebrew/Caskroom/miniconda/base/envs/course-work-venv/lib/python3.11/site-packages/sklearn/utils/_tags.py:322: FutureWarning: Estimator <catboost.core.CatBoostClassifier object at 0x17a7a2210> has no __sklearn_tags__ attribute, which is defined in `sklearn.base.BaseEstimator`. This will raise an error in scikit-learn 1.8. Please define the __sklearn_tags__ method, or inherit from `sklearn.base.BaseEstimator` and other appropriate mixins such as `sklearn.base.TransformerMixin`, `sklearn.base.ClassifierMixin`, `sklearn.base.RegressorMixin`, and `sklearn.base.ClusterMixin`, and `sklearn.base.OutlierMixin`.\n",
      "  warnings.warn(\n",
      "/opt/homebrew/Caskroom/miniconda/base/envs/course-work-venv/lib/python3.11/site-packages/sklearn/utils/_tags.py:322: FutureWarning: Estimator <catboost.core.CatBoostClassifier object at 0x3088336d0> has no __sklearn_tags__ attribute, which is defined in `sklearn.base.BaseEstimator`. This will raise an error in scikit-learn 1.8. Please define the __sklearn_tags__ method, or inherit from `sklearn.base.BaseEstimator` and other appropriate mixins such as `sklearn.base.TransformerMixin`, `sklearn.base.ClassifierMixin`, `sklearn.base.RegressorMixin`, and `sklearn.base.ClusterMixin`, and `sklearn.base.OutlierMixin`.\n",
      "  warnings.warn(\n",
      "/opt/homebrew/Caskroom/miniconda/base/envs/course-work-venv/lib/python3.11/site-packages/sklearn/utils/_tags.py:322: FutureWarning: Estimator <catboost.core.CatBoostClassifier object at 0x17a5e6310> has no __sklearn_tags__ attribute, which is defined in `sklearn.base.BaseEstimator`. This will raise an error in scikit-learn 1.8. Please define the __sklearn_tags__ method, or inherit from `sklearn.base.BaseEstimator` and other appropriate mixins such as `sklearn.base.TransformerMixin`, `sklearn.base.ClassifierMixin`, `sklearn.base.RegressorMixin`, and `sklearn.base.ClusterMixin`, and `sklearn.base.OutlierMixin`.\n",
      "  warnings.warn(\n",
      " 30%|███████▊                  | 3/10 [00:09<00:20,  2.96s/it, 9.25/600 seconds]/opt/homebrew/Caskroom/miniconda/base/envs/course-work-venv/lib/python3.11/site-packages/sklearn/utils/_tags.py:322: FutureWarning: Estimator <catboost.core.CatBoostClassifier object at 0x30891fb10> has no __sklearn_tags__ attribute, which is defined in `sklearn.base.BaseEstimator`. This will raise an error in scikit-learn 1.8. Please define the __sklearn_tags__ method, or inherit from `sklearn.base.BaseEstimator` and other appropriate mixins such as `sklearn.base.TransformerMixin`, `sklearn.base.ClassifierMixin`, `sklearn.base.RegressorMixin`, and `sklearn.base.ClusterMixin`, and `sklearn.base.OutlierMixin`.\n",
      "  warnings.warn(\n",
      "/opt/homebrew/Caskroom/miniconda/base/envs/course-work-venv/lib/python3.11/site-packages/sklearn/utils/_tags.py:322: FutureWarning: Estimator <catboost.core.CatBoostClassifier object at 0x30891db50> has no __sklearn_tags__ attribute, which is defined in `sklearn.base.BaseEstimator`. This will raise an error in scikit-learn 1.8. Please define the __sklearn_tags__ method, or inherit from `sklearn.base.BaseEstimator` and other appropriate mixins such as `sklearn.base.TransformerMixin`, `sklearn.base.ClassifierMixin`, `sklearn.base.RegressorMixin`, and `sklearn.base.ClusterMixin`, and `sklearn.base.OutlierMixin`.\n",
      "  warnings.warn(\n"
     ]
    },
    {
     "name": "stdout",
     "output_type": "stream",
     "text": [
      "[I 2024-12-11 14:54:59,445] Trial 2 finished with values: [0.6835402927535585, 0.10186155798745022] and parameters: {'num_trees': 75, 'max_depth': 2, 'min_data_in_leaf': 52}.\n"
     ]
    },
    {
     "name": "stderr",
     "output_type": "stream",
     "text": [
      "/opt/homebrew/Caskroom/miniconda/base/envs/course-work-venv/lib/python3.11/site-packages/sklearn/utils/_tags.py:322: FutureWarning: Estimator <catboost.core.CatBoostClassifier object at 0x3089eafd0> has no __sklearn_tags__ attribute, which is defined in `sklearn.base.BaseEstimator`. This will raise an error in scikit-learn 1.8. Please define the __sklearn_tags__ method, or inherit from `sklearn.base.BaseEstimator` and other appropriate mixins such as `sklearn.base.TransformerMixin`, `sklearn.base.ClassifierMixin`, `sklearn.base.RegressorMixin`, and `sklearn.base.ClusterMixin`, and `sklearn.base.OutlierMixin`.\n",
      "  warnings.warn(\n",
      "/opt/homebrew/Caskroom/miniconda/base/envs/course-work-venv/lib/python3.11/site-packages/sklearn/utils/_tags.py:322: FutureWarning: Estimator <catboost.core.CatBoostClassifier object at 0x309ac8990> has no __sklearn_tags__ attribute, which is defined in `sklearn.base.BaseEstimator`. This will raise an error in scikit-learn 1.8. Please define the __sklearn_tags__ method, or inherit from `sklearn.base.BaseEstimator` and other appropriate mixins such as `sklearn.base.TransformerMixin`, `sklearn.base.ClassifierMixin`, `sklearn.base.RegressorMixin`, and `sklearn.base.ClusterMixin`, and `sklearn.base.OutlierMixin`.\n",
      "  warnings.warn(\n",
      "/opt/homebrew/Caskroom/miniconda/base/envs/course-work-venv/lib/python3.11/site-packages/sklearn/utils/_tags.py:322: FutureWarning: Estimator <catboost.core.CatBoostClassifier object at 0x309fc6750> has no __sklearn_tags__ attribute, which is defined in `sklearn.base.BaseEstimator`. This will raise an error in scikit-learn 1.8. Please define the __sklearn_tags__ method, or inherit from `sklearn.base.BaseEstimator` and other appropriate mixins such as `sklearn.base.TransformerMixin`, `sklearn.base.ClassifierMixin`, `sklearn.base.RegressorMixin`, and `sklearn.base.ClusterMixin`, and `sklearn.base.OutlierMixin`.\n",
      "  warnings.warn(\n",
      "/opt/homebrew/Caskroom/miniconda/base/envs/course-work-venv/lib/python3.11/site-packages/sklearn/utils/_tags.py:322: FutureWarning: Estimator <catboost.core.CatBoostClassifier object at 0x3092fdf10> has no __sklearn_tags__ attribute, which is defined in `sklearn.base.BaseEstimator`. This will raise an error in scikit-learn 1.8. Please define the __sklearn_tags__ method, or inherit from `sklearn.base.BaseEstimator` and other appropriate mixins such as `sklearn.base.TransformerMixin`, `sklearn.base.ClassifierMixin`, `sklearn.base.RegressorMixin`, and `sklearn.base.ClusterMixin`, and `sklearn.base.OutlierMixin`.\n",
      "  warnings.warn(\n",
      "/opt/homebrew/Caskroom/miniconda/base/envs/course-work-venv/lib/python3.11/site-packages/sklearn/utils/_tags.py:322: FutureWarning: Estimator <catboost.core.CatBoostClassifier object at 0x3089bd510> has no __sklearn_tags__ attribute, which is defined in `sklearn.base.BaseEstimator`. This will raise an error in scikit-learn 1.8. Please define the __sklearn_tags__ method, or inherit from `sklearn.base.BaseEstimator` and other appropriate mixins such as `sklearn.base.TransformerMixin`, `sklearn.base.ClassifierMixin`, `sklearn.base.RegressorMixin`, and `sklearn.base.ClusterMixin`, and `sklearn.base.OutlierMixin`.\n",
      "  warnings.warn(\n",
      "/opt/homebrew/Caskroom/miniconda/base/envs/course-work-venv/lib/python3.11/site-packages/sklearn/utils/_tags.py:322: FutureWarning: Estimator <catboost.core.CatBoostClassifier object at 0x3095e64d0> has no __sklearn_tags__ attribute, which is defined in `sklearn.base.BaseEstimator`. This will raise an error in scikit-learn 1.8. Please define the __sklearn_tags__ method, or inherit from `sklearn.base.BaseEstimator` and other appropriate mixins such as `sklearn.base.TransformerMixin`, `sklearn.base.ClassifierMixin`, `sklearn.base.RegressorMixin`, and `sklearn.base.ClusterMixin`, and `sklearn.base.OutlierMixin`.\n",
      "  warnings.warn(\n",
      "/opt/homebrew/Caskroom/miniconda/base/envs/course-work-venv/lib/python3.11/site-packages/sklearn/utils/_tags.py:322: FutureWarning: Estimator <catboost.core.CatBoostClassifier object at 0x3088b3a50> has no __sklearn_tags__ attribute, which is defined in `sklearn.base.BaseEstimator`. This will raise an error in scikit-learn 1.8. Please define the __sklearn_tags__ method, or inherit from `sklearn.base.BaseEstimator` and other appropriate mixins such as `sklearn.base.TransformerMixin`, `sklearn.base.ClassifierMixin`, `sklearn.base.RegressorMixin`, and `sklearn.base.ClusterMixin`, and `sklearn.base.OutlierMixin`.\n",
      "  warnings.warn(\n",
      "/opt/homebrew/Caskroom/miniconda/base/envs/course-work-venv/lib/python3.11/site-packages/sklearn/utils/_tags.py:322: FutureWarning: Estimator <catboost.core.CatBoostClassifier object at 0x308843d50> has no __sklearn_tags__ attribute, which is defined in `sklearn.base.BaseEstimator`. This will raise an error in scikit-learn 1.8. Please define the __sklearn_tags__ method, or inherit from `sklearn.base.BaseEstimator` and other appropriate mixins such as `sklearn.base.TransformerMixin`, `sklearn.base.ClassifierMixin`, `sklearn.base.RegressorMixin`, and `sklearn.base.ClusterMixin`, and `sklearn.base.OutlierMixin`.\n",
      "  warnings.warn(\n",
      "/opt/homebrew/Caskroom/miniconda/base/envs/course-work-venv/lib/python3.11/site-packages/sklearn/utils/_tags.py:322: FutureWarning: Estimator <catboost.core.CatBoostClassifier object at 0x17a609b90> has no __sklearn_tags__ attribute, which is defined in `sklearn.base.BaseEstimator`. This will raise an error in scikit-learn 1.8. Please define the __sklearn_tags__ method, or inherit from `sklearn.base.BaseEstimator` and other appropriate mixins such as `sklearn.base.TransformerMixin`, `sklearn.base.ClassifierMixin`, `sklearn.base.RegressorMixin`, and `sklearn.base.ClusterMixin`, and `sklearn.base.OutlierMixin`.\n",
      "  warnings.warn(\n",
      " 40%|██████████               | 4/10 [00:16<00:28,  4.76s/it, 16.76/600 seconds]/opt/homebrew/Caskroom/miniconda/base/envs/course-work-venv/lib/python3.11/site-packages/sklearn/utils/_tags.py:322: FutureWarning: Estimator <catboost.core.CatBoostClassifier object at 0x309b08710> has no __sklearn_tags__ attribute, which is defined in `sklearn.base.BaseEstimator`. This will raise an error in scikit-learn 1.8. Please define the __sklearn_tags__ method, or inherit from `sklearn.base.BaseEstimator` and other appropriate mixins such as `sklearn.base.TransformerMixin`, `sklearn.base.ClassifierMixin`, `sklearn.base.RegressorMixin`, and `sklearn.base.ClusterMixin`, and `sklearn.base.OutlierMixin`.\n",
      "  warnings.warn(\n",
      "/opt/homebrew/Caskroom/miniconda/base/envs/course-work-venv/lib/python3.11/site-packages/sklearn/utils/_tags.py:322: FutureWarning: Estimator <catboost.core.CatBoostClassifier object at 0x17a661050> has no __sklearn_tags__ attribute, which is defined in `sklearn.base.BaseEstimator`. This will raise an error in scikit-learn 1.8. Please define the __sklearn_tags__ method, or inherit from `sklearn.base.BaseEstimator` and other appropriate mixins such as `sklearn.base.TransformerMixin`, `sklearn.base.ClassifierMixin`, `sklearn.base.RegressorMixin`, and `sklearn.base.ClusterMixin`, and `sklearn.base.OutlierMixin`.\n",
      "  warnings.warn(\n"
     ]
    },
    {
     "name": "stdout",
     "output_type": "stream",
     "text": [
      "[I 2024-12-11 14:55:06,952] Trial 3 finished with values: [0.6228874165608784, 0.20284233996045364] and parameters: {'num_trees': 82, 'max_depth': 9, 'min_data_in_leaf': 6}.\n"
     ]
    },
    {
     "name": "stderr",
     "output_type": "stream",
     "text": [
      "/opt/homebrew/Caskroom/miniconda/base/envs/course-work-venv/lib/python3.11/site-packages/sklearn/utils/_tags.py:322: FutureWarning: Estimator <catboost.core.CatBoostClassifier object at 0x308906550> has no __sklearn_tags__ attribute, which is defined in `sklearn.base.BaseEstimator`. This will raise an error in scikit-learn 1.8. Please define the __sklearn_tags__ method, or inherit from `sklearn.base.BaseEstimator` and other appropriate mixins such as `sklearn.base.TransformerMixin`, `sklearn.base.ClassifierMixin`, `sklearn.base.RegressorMixin`, and `sklearn.base.ClusterMixin`, and `sklearn.base.OutlierMixin`.\n",
      "  warnings.warn(\n",
      "/opt/homebrew/Caskroom/miniconda/base/envs/course-work-venv/lib/python3.11/site-packages/sklearn/utils/_tags.py:322: FutureWarning: Estimator <catboost.core.CatBoostClassifier object at 0x17a661050> has no __sklearn_tags__ attribute, which is defined in `sklearn.base.BaseEstimator`. This will raise an error in scikit-learn 1.8. Please define the __sklearn_tags__ method, or inherit from `sklearn.base.BaseEstimator` and other appropriate mixins such as `sklearn.base.TransformerMixin`, `sklearn.base.ClassifierMixin`, `sklearn.base.RegressorMixin`, and `sklearn.base.ClusterMixin`, and `sklearn.base.OutlierMixin`.\n",
      "  warnings.warn(\n",
      "/opt/homebrew/Caskroom/miniconda/base/envs/course-work-venv/lib/python3.11/site-packages/sklearn/utils/_tags.py:322: FutureWarning: Estimator <catboost.core.CatBoostClassifier object at 0x17a6e3bd0> has no __sklearn_tags__ attribute, which is defined in `sklearn.base.BaseEstimator`. This will raise an error in scikit-learn 1.8. Please define the __sklearn_tags__ method, or inherit from `sklearn.base.BaseEstimator` and other appropriate mixins such as `sklearn.base.TransformerMixin`, `sklearn.base.ClassifierMixin`, `sklearn.base.RegressorMixin`, and `sklearn.base.ClusterMixin`, and `sklearn.base.OutlierMixin`.\n",
      "  warnings.warn(\n",
      "/opt/homebrew/Caskroom/miniconda/base/envs/course-work-venv/lib/python3.11/site-packages/sklearn/utils/_tags.py:322: FutureWarning: Estimator <catboost.core.CatBoostClassifier object at 0x17a661050> has no __sklearn_tags__ attribute, which is defined in `sklearn.base.BaseEstimator`. This will raise an error in scikit-learn 1.8. Please define the __sklearn_tags__ method, or inherit from `sklearn.base.BaseEstimator` and other appropriate mixins such as `sklearn.base.TransformerMixin`, `sklearn.base.ClassifierMixin`, `sklearn.base.RegressorMixin`, and `sklearn.base.ClusterMixin`, and `sklearn.base.OutlierMixin`.\n",
      "  warnings.warn(\n",
      "/opt/homebrew/Caskroom/miniconda/base/envs/course-work-venv/lib/python3.11/site-packages/sklearn/utils/_tags.py:322: FutureWarning: Estimator <catboost.core.CatBoostClassifier object at 0x30889f5d0> has no __sklearn_tags__ attribute, which is defined in `sklearn.base.BaseEstimator`. This will raise an error in scikit-learn 1.8. Please define the __sklearn_tags__ method, or inherit from `sklearn.base.BaseEstimator` and other appropriate mixins such as `sklearn.base.TransformerMixin`, `sklearn.base.ClassifierMixin`, `sklearn.base.RegressorMixin`, and `sklearn.base.ClusterMixin`, and `sklearn.base.OutlierMixin`.\n",
      "  warnings.warn(\n",
      "/opt/homebrew/Caskroom/miniconda/base/envs/course-work-venv/lib/python3.11/site-packages/sklearn/utils/_tags.py:322: FutureWarning: Estimator <catboost.core.CatBoostClassifier object at 0x17a661050> has no __sklearn_tags__ attribute, which is defined in `sklearn.base.BaseEstimator`. This will raise an error in scikit-learn 1.8. Please define the __sklearn_tags__ method, or inherit from `sklearn.base.BaseEstimator` and other appropriate mixins such as `sklearn.base.TransformerMixin`, `sklearn.base.ClassifierMixin`, `sklearn.base.RegressorMixin`, and `sklearn.base.ClusterMixin`, and `sklearn.base.OutlierMixin`.\n",
      "  warnings.warn(\n",
      "/opt/homebrew/Caskroom/miniconda/base/envs/course-work-venv/lib/python3.11/site-packages/sklearn/utils/_tags.py:322: FutureWarning: Estimator <catboost.core.CatBoostClassifier object at 0x17a72db90> has no __sklearn_tags__ attribute, which is defined in `sklearn.base.BaseEstimator`. This will raise an error in scikit-learn 1.8. Please define the __sklearn_tags__ method, or inherit from `sklearn.base.BaseEstimator` and other appropriate mixins such as `sklearn.base.TransformerMixin`, `sklearn.base.ClassifierMixin`, `sklearn.base.RegressorMixin`, and `sklearn.base.ClusterMixin`, and `sklearn.base.OutlierMixin`.\n",
      "  warnings.warn(\n",
      "/opt/homebrew/Caskroom/miniconda/base/envs/course-work-venv/lib/python3.11/site-packages/sklearn/utils/_tags.py:322: FutureWarning: Estimator <catboost.core.CatBoostClassifier object at 0x17a661050> has no __sklearn_tags__ attribute, which is defined in `sklearn.base.BaseEstimator`. This will raise an error in scikit-learn 1.8. Please define the __sklearn_tags__ method, or inherit from `sklearn.base.BaseEstimator` and other appropriate mixins such as `sklearn.base.TransformerMixin`, `sklearn.base.ClassifierMixin`, `sklearn.base.RegressorMixin`, and `sklearn.base.ClusterMixin`, and `sklearn.base.OutlierMixin`.\n",
      "  warnings.warn(\n",
      "/opt/homebrew/Caskroom/miniconda/base/envs/course-work-venv/lib/python3.11/site-packages/sklearn/utils/_tags.py:322: FutureWarning: Estimator <catboost.core.CatBoostClassifier object at 0x17a6e2a10> has no __sklearn_tags__ attribute, which is defined in `sklearn.base.BaseEstimator`. This will raise an error in scikit-learn 1.8. Please define the __sklearn_tags__ method, or inherit from `sklearn.base.BaseEstimator` and other appropriate mixins such as `sklearn.base.TransformerMixin`, `sklearn.base.ClassifierMixin`, `sklearn.base.RegressorMixin`, and `sklearn.base.ClusterMixin`, and `sklearn.base.OutlierMixin`.\n",
      "  warnings.warn(\n",
      " 50%|████████████▌            | 5/10 [00:21<00:23,  4.71s/it, 21.38/600 seconds]/opt/homebrew/Caskroom/miniconda/base/envs/course-work-venv/lib/python3.11/site-packages/sklearn/utils/_tags.py:322: FutureWarning: Estimator <catboost.core.CatBoostClassifier object at 0x30891f310> has no __sklearn_tags__ attribute, which is defined in `sklearn.base.BaseEstimator`. This will raise an error in scikit-learn 1.8. Please define the __sklearn_tags__ method, or inherit from `sklearn.base.BaseEstimator` and other appropriate mixins such as `sklearn.base.TransformerMixin`, `sklearn.base.ClassifierMixin`, `sklearn.base.RegressorMixin`, and `sklearn.base.ClusterMixin`, and `sklearn.base.OutlierMixin`.\n",
      "  warnings.warn(\n",
      "/opt/homebrew/Caskroom/miniconda/base/envs/course-work-venv/lib/python3.11/site-packages/sklearn/utils/_tags.py:322: FutureWarning: Estimator <catboost.core.CatBoostClassifier object at 0x30899e710> has no __sklearn_tags__ attribute, which is defined in `sklearn.base.BaseEstimator`. This will raise an error in scikit-learn 1.8. Please define the __sklearn_tags__ method, or inherit from `sklearn.base.BaseEstimator` and other appropriate mixins such as `sklearn.base.TransformerMixin`, `sklearn.base.ClassifierMixin`, `sklearn.base.RegressorMixin`, and `sklearn.base.ClusterMixin`, and `sklearn.base.OutlierMixin`.\n",
      "  warnings.warn(\n"
     ]
    },
    {
     "name": "stdout",
     "output_type": "stream",
     "text": [
      "[I 2024-12-11 14:55:11,573] Trial 4 finished with values: [0.6300608756904021, 0.20863147050292008] and parameters: {'num_trees': 72, 'max_depth': 8, 'min_data_in_leaf': 71}.\n"
     ]
    },
    {
     "name": "stderr",
     "output_type": "stream",
     "text": [
      "/opt/homebrew/Caskroom/miniconda/base/envs/course-work-venv/lib/python3.11/site-packages/sklearn/utils/_tags.py:322: FutureWarning: Estimator <catboost.core.CatBoostClassifier object at 0x308a09b10> has no __sklearn_tags__ attribute, which is defined in `sklearn.base.BaseEstimator`. This will raise an error in scikit-learn 1.8. Please define the __sklearn_tags__ method, or inherit from `sklearn.base.BaseEstimator` and other appropriate mixins such as `sklearn.base.TransformerMixin`, `sklearn.base.ClassifierMixin`, `sklearn.base.RegressorMixin`, and `sklearn.base.ClusterMixin`, and `sklearn.base.OutlierMixin`.\n",
      "  warnings.warn(\n",
      "/opt/homebrew/Caskroom/miniconda/base/envs/course-work-venv/lib/python3.11/site-packages/sklearn/utils/_tags.py:322: FutureWarning: Estimator <catboost.core.CatBoostClassifier object at 0x309092210> has no __sklearn_tags__ attribute, which is defined in `sklearn.base.BaseEstimator`. This will raise an error in scikit-learn 1.8. Please define the __sklearn_tags__ method, or inherit from `sklearn.base.BaseEstimator` and other appropriate mixins such as `sklearn.base.TransformerMixin`, `sklearn.base.ClassifierMixin`, `sklearn.base.RegressorMixin`, and `sklearn.base.ClusterMixin`, and `sklearn.base.OutlierMixin`.\n",
      "  warnings.warn(\n",
      "/opt/homebrew/Caskroom/miniconda/base/envs/course-work-venv/lib/python3.11/site-packages/sklearn/utils/_tags.py:322: FutureWarning: Estimator <catboost.core.CatBoostClassifier object at 0x17a6d9e10> has no __sklearn_tags__ attribute, which is defined in `sklearn.base.BaseEstimator`. This will raise an error in scikit-learn 1.8. Please define the __sklearn_tags__ method, or inherit from `sklearn.base.BaseEstimator` and other appropriate mixins such as `sklearn.base.TransformerMixin`, `sklearn.base.ClassifierMixin`, `sklearn.base.RegressorMixin`, and `sklearn.base.ClusterMixin`, and `sklearn.base.OutlierMixin`.\n",
      "  warnings.warn(\n",
      "/opt/homebrew/Caskroom/miniconda/base/envs/course-work-venv/lib/python3.11/site-packages/sklearn/utils/_tags.py:322: FutureWarning: Estimator <catboost.core.CatBoostClassifier object at 0x17a572250> has no __sklearn_tags__ attribute, which is defined in `sklearn.base.BaseEstimator`. This will raise an error in scikit-learn 1.8. Please define the __sklearn_tags__ method, or inherit from `sklearn.base.BaseEstimator` and other appropriate mixins such as `sklearn.base.TransformerMixin`, `sklearn.base.ClassifierMixin`, `sklearn.base.RegressorMixin`, and `sklearn.base.ClusterMixin`, and `sklearn.base.OutlierMixin`.\n",
      "  warnings.warn(\n",
      "/opt/homebrew/Caskroom/miniconda/base/envs/course-work-venv/lib/python3.11/site-packages/sklearn/utils/_tags.py:322: FutureWarning: Estimator <catboost.core.CatBoostClassifier object at 0x3088b89d0> has no __sklearn_tags__ attribute, which is defined in `sklearn.base.BaseEstimator`. This will raise an error in scikit-learn 1.8. Please define the __sklearn_tags__ method, or inherit from `sklearn.base.BaseEstimator` and other appropriate mixins such as `sklearn.base.TransformerMixin`, `sklearn.base.ClassifierMixin`, `sklearn.base.RegressorMixin`, and `sklearn.base.ClusterMixin`, and `sklearn.base.OutlierMixin`.\n",
      "  warnings.warn(\n",
      "/opt/homebrew/Caskroom/miniconda/base/envs/course-work-venv/lib/python3.11/site-packages/sklearn/utils/_tags.py:322: FutureWarning: Estimator <catboost.core.CatBoostClassifier object at 0x17a941f90> has no __sklearn_tags__ attribute, which is defined in `sklearn.base.BaseEstimator`. This will raise an error in scikit-learn 1.8. Please define the __sklearn_tags__ method, or inherit from `sklearn.base.BaseEstimator` and other appropriate mixins such as `sklearn.base.TransformerMixin`, `sklearn.base.ClassifierMixin`, `sklearn.base.RegressorMixin`, and `sklearn.base.ClusterMixin`, and `sklearn.base.OutlierMixin`.\n",
      "  warnings.warn(\n",
      "/opt/homebrew/Caskroom/miniconda/base/envs/course-work-venv/lib/python3.11/site-packages/sklearn/utils/_tags.py:322: FutureWarning: Estimator <catboost.core.CatBoostClassifier object at 0x30a70cbd0> has no __sklearn_tags__ attribute, which is defined in `sklearn.base.BaseEstimator`. This will raise an error in scikit-learn 1.8. Please define the __sklearn_tags__ method, or inherit from `sklearn.base.BaseEstimator` and other appropriate mixins such as `sklearn.base.TransformerMixin`, `sklearn.base.ClassifierMixin`, `sklearn.base.RegressorMixin`, and `sklearn.base.ClusterMixin`, and `sklearn.base.OutlierMixin`.\n",
      "  warnings.warn(\n",
      "/opt/homebrew/Caskroom/miniconda/base/envs/course-work-venv/lib/python3.11/site-packages/sklearn/utils/_tags.py:322: FutureWarning: Estimator <catboost.core.CatBoostClassifier object at 0x30a351990> has no __sklearn_tags__ attribute, which is defined in `sklearn.base.BaseEstimator`. This will raise an error in scikit-learn 1.8. Please define the __sklearn_tags__ method, or inherit from `sklearn.base.BaseEstimator` and other appropriate mixins such as `sklearn.base.TransformerMixin`, `sklearn.base.ClassifierMixin`, `sklearn.base.RegressorMixin`, and `sklearn.base.ClusterMixin`, and `sklearn.base.OutlierMixin`.\n",
      "  warnings.warn(\n",
      "/opt/homebrew/Caskroom/miniconda/base/envs/course-work-venv/lib/python3.11/site-packages/sklearn/utils/_tags.py:322: FutureWarning: Estimator <catboost.core.CatBoostClassifier object at 0x30a70cbd0> has no __sklearn_tags__ attribute, which is defined in `sklearn.base.BaseEstimator`. This will raise an error in scikit-learn 1.8. Please define the __sklearn_tags__ method, or inherit from `sklearn.base.BaseEstimator` and other appropriate mixins such as `sklearn.base.TransformerMixin`, `sklearn.base.ClassifierMixin`, `sklearn.base.RegressorMixin`, and `sklearn.base.ClusterMixin`, and `sklearn.base.OutlierMixin`.\n",
      "  warnings.warn(\n",
      " 60%|███████████████          | 6/10 [00:23<00:15,  3.95s/it, 23.85/600 seconds]/opt/homebrew/Caskroom/miniconda/base/envs/course-work-venv/lib/python3.11/site-packages/sklearn/utils/_tags.py:322: FutureWarning: Estimator <catboost.core.CatBoostClassifier object at 0x308a15010> has no __sklearn_tags__ attribute, which is defined in `sklearn.base.BaseEstimator`. This will raise an error in scikit-learn 1.8. Please define the __sklearn_tags__ method, or inherit from `sklearn.base.BaseEstimator` and other appropriate mixins such as `sklearn.base.TransformerMixin`, `sklearn.base.ClassifierMixin`, `sklearn.base.RegressorMixin`, and `sklearn.base.ClusterMixin`, and `sklearn.base.OutlierMixin`.\n",
      "  warnings.warn(\n",
      "/opt/homebrew/Caskroom/miniconda/base/envs/course-work-venv/lib/python3.11/site-packages/sklearn/utils/_tags.py:322: FutureWarning: Estimator <catboost.core.CatBoostClassifier object at 0x308853810> has no __sklearn_tags__ attribute, which is defined in `sklearn.base.BaseEstimator`. This will raise an error in scikit-learn 1.8. Please define the __sklearn_tags__ method, or inherit from `sklearn.base.BaseEstimator` and other appropriate mixins such as `sklearn.base.TransformerMixin`, `sklearn.base.ClassifierMixin`, `sklearn.base.RegressorMixin`, and `sklearn.base.ClusterMixin`, and `sklearn.base.OutlierMixin`.\n",
      "  warnings.warn(\n"
     ]
    },
    {
     "name": "stdout",
     "output_type": "stream",
     "text": [
      "[I 2024-12-11 14:55:14,042] Trial 5 finished with values: [0.6215499974937625, 0.16491964685644478] and parameters: {'num_trees': 19, 'max_depth': 9, 'min_data_in_leaf': 33}.\n"
     ]
    },
    {
     "name": "stderr",
     "output_type": "stream",
     "text": [
      "/opt/homebrew/Caskroom/miniconda/base/envs/course-work-venv/lib/python3.11/site-packages/sklearn/utils/_tags.py:322: FutureWarning: Estimator <catboost.core.CatBoostClassifier object at 0x3097b04d0> has no __sklearn_tags__ attribute, which is defined in `sklearn.base.BaseEstimator`. This will raise an error in scikit-learn 1.8. Please define the __sklearn_tags__ method, or inherit from `sklearn.base.BaseEstimator` and other appropriate mixins such as `sklearn.base.TransformerMixin`, `sklearn.base.ClassifierMixin`, `sklearn.base.RegressorMixin`, and `sklearn.base.ClusterMixin`, and `sklearn.base.OutlierMixin`.\n",
      "  warnings.warn(\n",
      "/opt/homebrew/Caskroom/miniconda/base/envs/course-work-venv/lib/python3.11/site-packages/sklearn/utils/_tags.py:322: FutureWarning: Estimator <catboost.core.CatBoostClassifier object at 0x308914d90> has no __sklearn_tags__ attribute, which is defined in `sklearn.base.BaseEstimator`. This will raise an error in scikit-learn 1.8. Please define the __sklearn_tags__ method, or inherit from `sklearn.base.BaseEstimator` and other appropriate mixins such as `sklearn.base.TransformerMixin`, `sklearn.base.ClassifierMixin`, `sklearn.base.RegressorMixin`, and `sklearn.base.ClusterMixin`, and `sklearn.base.OutlierMixin`.\n",
      "  warnings.warn(\n",
      "/opt/homebrew/Caskroom/miniconda/base/envs/course-work-venv/lib/python3.11/site-packages/sklearn/utils/_tags.py:322: FutureWarning: Estimator <catboost.core.CatBoostClassifier object at 0x3089e89d0> has no __sklearn_tags__ attribute, which is defined in `sklearn.base.BaseEstimator`. This will raise an error in scikit-learn 1.8. Please define the __sklearn_tags__ method, or inherit from `sklearn.base.BaseEstimator` and other appropriate mixins such as `sklearn.base.TransformerMixin`, `sklearn.base.ClassifierMixin`, `sklearn.base.RegressorMixin`, and `sklearn.base.ClusterMixin`, and `sklearn.base.OutlierMixin`.\n",
      "  warnings.warn(\n",
      "/opt/homebrew/Caskroom/miniconda/base/envs/course-work-venv/lib/python3.11/site-packages/sklearn/utils/_tags.py:322: FutureWarning: Estimator <catboost.core.CatBoostClassifier object at 0x308a39910> has no __sklearn_tags__ attribute, which is defined in `sklearn.base.BaseEstimator`. This will raise an error in scikit-learn 1.8. Please define the __sklearn_tags__ method, or inherit from `sklearn.base.BaseEstimator` and other appropriate mixins such as `sklearn.base.TransformerMixin`, `sklearn.base.ClassifierMixin`, `sklearn.base.RegressorMixin`, and `sklearn.base.ClusterMixin`, and `sklearn.base.OutlierMixin`.\n",
      "  warnings.warn(\n",
      "/opt/homebrew/Caskroom/miniconda/base/envs/course-work-venv/lib/python3.11/site-packages/sklearn/utils/_tags.py:322: FutureWarning: Estimator <catboost.core.CatBoostClassifier object at 0x3097b9ad0> has no __sklearn_tags__ attribute, which is defined in `sklearn.base.BaseEstimator`. This will raise an error in scikit-learn 1.8. Please define the __sklearn_tags__ method, or inherit from `sklearn.base.BaseEstimator` and other appropriate mixins such as `sklearn.base.TransformerMixin`, `sklearn.base.ClassifierMixin`, `sklearn.base.RegressorMixin`, and `sklearn.base.ClusterMixin`, and `sklearn.base.OutlierMixin`.\n",
      "  warnings.warn(\n",
      "/opt/homebrew/Caskroom/miniconda/base/envs/course-work-venv/lib/python3.11/site-packages/sklearn/utils/_tags.py:322: FutureWarning: Estimator <catboost.core.CatBoostClassifier object at 0x3097b9f90> has no __sklearn_tags__ attribute, which is defined in `sklearn.base.BaseEstimator`. This will raise an error in scikit-learn 1.8. Please define the __sklearn_tags__ method, or inherit from `sklearn.base.BaseEstimator` and other appropriate mixins such as `sklearn.base.TransformerMixin`, `sklearn.base.ClassifierMixin`, `sklearn.base.RegressorMixin`, and `sklearn.base.ClusterMixin`, and `sklearn.base.OutlierMixin`.\n",
      "  warnings.warn(\n",
      "/opt/homebrew/Caskroom/miniconda/base/envs/course-work-venv/lib/python3.11/site-packages/sklearn/utils/_tags.py:322: FutureWarning: Estimator <catboost.core.CatBoostClassifier object at 0x3097b9ad0> has no __sklearn_tags__ attribute, which is defined in `sklearn.base.BaseEstimator`. This will raise an error in scikit-learn 1.8. Please define the __sklearn_tags__ method, or inherit from `sklearn.base.BaseEstimator` and other appropriate mixins such as `sklearn.base.TransformerMixin`, `sklearn.base.ClassifierMixin`, `sklearn.base.RegressorMixin`, and `sklearn.base.ClusterMixin`, and `sklearn.base.OutlierMixin`.\n",
      "  warnings.warn(\n",
      "/opt/homebrew/Caskroom/miniconda/base/envs/course-work-venv/lib/python3.11/site-packages/sklearn/utils/_tags.py:322: FutureWarning: Estimator <catboost.core.CatBoostClassifier object at 0x3097b9f90> has no __sklearn_tags__ attribute, which is defined in `sklearn.base.BaseEstimator`. This will raise an error in scikit-learn 1.8. Please define the __sklearn_tags__ method, or inherit from `sklearn.base.BaseEstimator` and other appropriate mixins such as `sklearn.base.TransformerMixin`, `sklearn.base.ClassifierMixin`, `sklearn.base.RegressorMixin`, and `sklearn.base.ClusterMixin`, and `sklearn.base.OutlierMixin`.\n",
      "  warnings.warn(\n",
      "/opt/homebrew/Caskroom/miniconda/base/envs/course-work-venv/lib/python3.11/site-packages/sklearn/utils/_tags.py:322: FutureWarning: Estimator <catboost.core.CatBoostClassifier object at 0x3097b9ad0> has no __sklearn_tags__ attribute, which is defined in `sklearn.base.BaseEstimator`. This will raise an error in scikit-learn 1.8. Please define the __sklearn_tags__ method, or inherit from `sklearn.base.BaseEstimator` and other appropriate mixins such as `sklearn.base.TransformerMixin`, `sklearn.base.ClassifierMixin`, `sklearn.base.RegressorMixin`, and `sklearn.base.ClusterMixin`, and `sklearn.base.OutlierMixin`.\n",
      "  warnings.warn(\n",
      " 70%|█████████████████▌       | 7/10 [00:25<00:10,  3.35s/it, 25.97/600 seconds]/opt/homebrew/Caskroom/miniconda/base/envs/course-work-venv/lib/python3.11/site-packages/sklearn/utils/_tags.py:322: FutureWarning: Estimator <catboost.core.CatBoostClassifier object at 0x30956cfd0> has no __sklearn_tags__ attribute, which is defined in `sklearn.base.BaseEstimator`. This will raise an error in scikit-learn 1.8. Please define the __sklearn_tags__ method, or inherit from `sklearn.base.BaseEstimator` and other appropriate mixins such as `sklearn.base.TransformerMixin`, `sklearn.base.ClassifierMixin`, `sklearn.base.RegressorMixin`, and `sklearn.base.ClusterMixin`, and `sklearn.base.OutlierMixin`.\n",
      "  warnings.warn(\n",
      "/opt/homebrew/Caskroom/miniconda/base/envs/course-work-venv/lib/python3.11/site-packages/sklearn/utils/_tags.py:322: FutureWarning: Estimator <catboost.core.CatBoostClassifier object at 0x309403990> has no __sklearn_tags__ attribute, which is defined in `sklearn.base.BaseEstimator`. This will raise an error in scikit-learn 1.8. Please define the __sklearn_tags__ method, or inherit from `sklearn.base.BaseEstimator` and other appropriate mixins such as `sklearn.base.TransformerMixin`, `sklearn.base.ClassifierMixin`, `sklearn.base.RegressorMixin`, and `sklearn.base.ClusterMixin`, and `sklearn.base.OutlierMixin`.\n",
      "  warnings.warn(\n"
     ]
    },
    {
     "name": "stdout",
     "output_type": "stream",
     "text": [
      "[I 2024-12-11 14:55:16,157] Trial 6 finished with values: [0.6659010801993773, 0.11252800535433105] and parameters: {'num_trees': 68, 'max_depth': 3, 'min_data_in_leaf': 3}.\n"
     ]
    },
    {
     "name": "stderr",
     "output_type": "stream",
     "text": [
      "/opt/homebrew/Caskroom/miniconda/base/envs/course-work-venv/lib/python3.11/site-packages/sklearn/utils/_tags.py:322: FutureWarning: Estimator <catboost.core.CatBoostClassifier object at 0x30895eb50> has no __sklearn_tags__ attribute, which is defined in `sklearn.base.BaseEstimator`. This will raise an error in scikit-learn 1.8. Please define the __sklearn_tags__ method, or inherit from `sklearn.base.BaseEstimator` and other appropriate mixins such as `sklearn.base.TransformerMixin`, `sklearn.base.ClassifierMixin`, `sklearn.base.RegressorMixin`, and `sklearn.base.ClusterMixin`, and `sklearn.base.OutlierMixin`.\n",
      "  warnings.warn(\n",
      "/opt/homebrew/Caskroom/miniconda/base/envs/course-work-venv/lib/python3.11/site-packages/sklearn/utils/_tags.py:322: FutureWarning: Estimator <catboost.core.CatBoostClassifier object at 0x308849d50> has no __sklearn_tags__ attribute, which is defined in `sklearn.base.BaseEstimator`. This will raise an error in scikit-learn 1.8. Please define the __sklearn_tags__ method, or inherit from `sklearn.base.BaseEstimator` and other appropriate mixins such as `sklearn.base.TransformerMixin`, `sklearn.base.ClassifierMixin`, `sklearn.base.RegressorMixin`, and `sklearn.base.ClusterMixin`, and `sklearn.base.OutlierMixin`.\n",
      "  warnings.warn(\n",
      "/opt/homebrew/Caskroom/miniconda/base/envs/course-work-venv/lib/python3.11/site-packages/sklearn/utils/_tags.py:322: FutureWarning: Estimator <catboost.core.CatBoostClassifier object at 0x17a7c3310> has no __sklearn_tags__ attribute, which is defined in `sklearn.base.BaseEstimator`. This will raise an error in scikit-learn 1.8. Please define the __sklearn_tags__ method, or inherit from `sklearn.base.BaseEstimator` and other appropriate mixins such as `sklearn.base.TransformerMixin`, `sklearn.base.ClassifierMixin`, `sklearn.base.RegressorMixin`, and `sklearn.base.ClusterMixin`, and `sklearn.base.OutlierMixin`.\n",
      "  warnings.warn(\n",
      "/opt/homebrew/Caskroom/miniconda/base/envs/course-work-venv/lib/python3.11/site-packages/sklearn/utils/_tags.py:322: FutureWarning: Estimator <catboost.core.CatBoostClassifier object at 0x3096e9910> has no __sklearn_tags__ attribute, which is defined in `sklearn.base.BaseEstimator`. This will raise an error in scikit-learn 1.8. Please define the __sklearn_tags__ method, or inherit from `sklearn.base.BaseEstimator` and other appropriate mixins such as `sklearn.base.TransformerMixin`, `sklearn.base.ClassifierMixin`, `sklearn.base.RegressorMixin`, and `sklearn.base.ClusterMixin`, and `sklearn.base.OutlierMixin`.\n",
      "  warnings.warn(\n",
      "/opt/homebrew/Caskroom/miniconda/base/envs/course-work-venv/lib/python3.11/site-packages/sklearn/utils/_tags.py:322: FutureWarning: Estimator <catboost.core.CatBoostClassifier object at 0x3096ea150> has no __sklearn_tags__ attribute, which is defined in `sklearn.base.BaseEstimator`. This will raise an error in scikit-learn 1.8. Please define the __sklearn_tags__ method, or inherit from `sklearn.base.BaseEstimator` and other appropriate mixins such as `sklearn.base.TransformerMixin`, `sklearn.base.ClassifierMixin`, `sklearn.base.RegressorMixin`, and `sklearn.base.ClusterMixin`, and `sklearn.base.OutlierMixin`.\n",
      "  warnings.warn(\n",
      "/opt/homebrew/Caskroom/miniconda/base/envs/course-work-venv/lib/python3.11/site-packages/sklearn/utils/_tags.py:322: FutureWarning: Estimator <catboost.core.CatBoostClassifier object at 0x3096e9910> has no __sklearn_tags__ attribute, which is defined in `sklearn.base.BaseEstimator`. This will raise an error in scikit-learn 1.8. Please define the __sklearn_tags__ method, or inherit from `sklearn.base.BaseEstimator` and other appropriate mixins such as `sklearn.base.TransformerMixin`, `sklearn.base.ClassifierMixin`, `sklearn.base.RegressorMixin`, and `sklearn.base.ClusterMixin`, and `sklearn.base.OutlierMixin`.\n",
      "  warnings.warn(\n",
      "/opt/homebrew/Caskroom/miniconda/base/envs/course-work-venv/lib/python3.11/site-packages/sklearn/utils/_tags.py:322: FutureWarning: Estimator <catboost.core.CatBoostClassifier object at 0x3096ea150> has no __sklearn_tags__ attribute, which is defined in `sklearn.base.BaseEstimator`. This will raise an error in scikit-learn 1.8. Please define the __sklearn_tags__ method, or inherit from `sklearn.base.BaseEstimator` and other appropriate mixins such as `sklearn.base.TransformerMixin`, `sklearn.base.ClassifierMixin`, `sklearn.base.RegressorMixin`, and `sklearn.base.ClusterMixin`, and `sklearn.base.OutlierMixin`.\n",
      "  warnings.warn(\n",
      "/opt/homebrew/Caskroom/miniconda/base/envs/course-work-venv/lib/python3.11/site-packages/sklearn/utils/_tags.py:322: FutureWarning: Estimator <catboost.core.CatBoostClassifier object at 0x3096e9910> has no __sklearn_tags__ attribute, which is defined in `sklearn.base.BaseEstimator`. This will raise an error in scikit-learn 1.8. Please define the __sklearn_tags__ method, or inherit from `sklearn.base.BaseEstimator` and other appropriate mixins such as `sklearn.base.TransformerMixin`, `sklearn.base.ClassifierMixin`, `sklearn.base.RegressorMixin`, and `sklearn.base.ClusterMixin`, and `sklearn.base.OutlierMixin`.\n",
      "  warnings.warn(\n",
      "/opt/homebrew/Caskroom/miniconda/base/envs/course-work-venv/lib/python3.11/site-packages/sklearn/utils/_tags.py:322: FutureWarning: Estimator <catboost.core.CatBoostClassifier object at 0x3096ea150> has no __sklearn_tags__ attribute, which is defined in `sklearn.base.BaseEstimator`. This will raise an error in scikit-learn 1.8. Please define the __sklearn_tags__ method, or inherit from `sklearn.base.BaseEstimator` and other appropriate mixins such as `sklearn.base.TransformerMixin`, `sklearn.base.ClassifierMixin`, `sklearn.base.RegressorMixin`, and `sklearn.base.ClusterMixin`, and `sklearn.base.OutlierMixin`.\n",
      "  warnings.warn(\n",
      " 80%|████████████████████     | 8/10 [00:28<00:06,  3.07s/it, 28.43/600 seconds]/opt/homebrew/Caskroom/miniconda/base/envs/course-work-venv/lib/python3.11/site-packages/sklearn/utils/_tags.py:322: FutureWarning: Estimator <catboost.core.CatBoostClassifier object at 0x3088f0410> has no __sklearn_tags__ attribute, which is defined in `sklearn.base.BaseEstimator`. This will raise an error in scikit-learn 1.8. Please define the __sklearn_tags__ method, or inherit from `sklearn.base.BaseEstimator` and other appropriate mixins such as `sklearn.base.TransformerMixin`, `sklearn.base.ClassifierMixin`, `sklearn.base.RegressorMixin`, and `sklearn.base.ClusterMixin`, and `sklearn.base.OutlierMixin`.\n",
      "  warnings.warn(\n",
      "/opt/homebrew/Caskroom/miniconda/base/envs/course-work-venv/lib/python3.11/site-packages/sklearn/utils/_tags.py:322: FutureWarning: Estimator <catboost.core.CatBoostClassifier object at 0x3088f2c90> has no __sklearn_tags__ attribute, which is defined in `sklearn.base.BaseEstimator`. This will raise an error in scikit-learn 1.8. Please define the __sklearn_tags__ method, or inherit from `sklearn.base.BaseEstimator` and other appropriate mixins such as `sklearn.base.TransformerMixin`, `sklearn.base.ClassifierMixin`, `sklearn.base.RegressorMixin`, and `sklearn.base.ClusterMixin`, and `sklearn.base.OutlierMixin`.\n",
      "  warnings.warn(\n",
      "/opt/homebrew/Caskroom/miniconda/base/envs/course-work-venv/lib/python3.11/site-packages/sklearn/utils/_tags.py:322: FutureWarning: Estimator <catboost.core.CatBoostClassifier object at 0x17a72fd50> has no __sklearn_tags__ attribute, which is defined in `sklearn.base.BaseEstimator`. This will raise an error in scikit-learn 1.8. Please define the __sklearn_tags__ method, or inherit from `sklearn.base.BaseEstimator` and other appropriate mixins such as `sklearn.base.TransformerMixin`, `sklearn.base.ClassifierMixin`, `sklearn.base.RegressorMixin`, and `sklearn.base.ClusterMixin`, and `sklearn.base.OutlierMixin`.\n",
      "  warnings.warn(\n"
     ]
    },
    {
     "name": "stdout",
     "output_type": "stream",
     "text": [
      "[I 2024-12-11 14:55:18,628] Trial 7 finished with values: [0.6856826186140352, 0.15741188002601514] and parameters: {'num_trees': 63, 'max_depth': 5, 'min_data_in_leaf': 80}.\n"
     ]
    },
    {
     "name": "stderr",
     "output_type": "stream",
     "text": [
      "/opt/homebrew/Caskroom/miniconda/base/envs/course-work-venv/lib/python3.11/site-packages/sklearn/utils/_tags.py:322: FutureWarning: Estimator <catboost.core.CatBoostClassifier object at 0x309d18050> has no __sklearn_tags__ attribute, which is defined in `sklearn.base.BaseEstimator`. This will raise an error in scikit-learn 1.8. Please define the __sklearn_tags__ method, or inherit from `sklearn.base.BaseEstimator` and other appropriate mixins such as `sklearn.base.TransformerMixin`, `sklearn.base.ClassifierMixin`, `sklearn.base.RegressorMixin`, and `sklearn.base.ClusterMixin`, and `sklearn.base.OutlierMixin`.\n",
      "  warnings.warn(\n",
      "/opt/homebrew/Caskroom/miniconda/base/envs/course-work-venv/lib/python3.11/site-packages/sklearn/utils/_tags.py:322: FutureWarning: Estimator <catboost.core.CatBoostClassifier object at 0x30894bb90> has no __sklearn_tags__ attribute, which is defined in `sklearn.base.BaseEstimator`. This will raise an error in scikit-learn 1.8. Please define the __sklearn_tags__ method, or inherit from `sklearn.base.BaseEstimator` and other appropriate mixins such as `sklearn.base.TransformerMixin`, `sklearn.base.ClassifierMixin`, `sklearn.base.RegressorMixin`, and `sklearn.base.ClusterMixin`, and `sklearn.base.OutlierMixin`.\n",
      "  warnings.warn(\n",
      "/opt/homebrew/Caskroom/miniconda/base/envs/course-work-venv/lib/python3.11/site-packages/sklearn/utils/_tags.py:322: FutureWarning: Estimator <catboost.core.CatBoostClassifier object at 0x308915b90> has no __sklearn_tags__ attribute, which is defined in `sklearn.base.BaseEstimator`. This will raise an error in scikit-learn 1.8. Please define the __sklearn_tags__ method, or inherit from `sklearn.base.BaseEstimator` and other appropriate mixins such as `sklearn.base.TransformerMixin`, `sklearn.base.ClassifierMixin`, `sklearn.base.RegressorMixin`, and `sklearn.base.ClusterMixin`, and `sklearn.base.OutlierMixin`.\n",
      "  warnings.warn(\n",
      "/opt/homebrew/Caskroom/miniconda/base/envs/course-work-venv/lib/python3.11/site-packages/sklearn/utils/_tags.py:322: FutureWarning: Estimator <catboost.core.CatBoostClassifier object at 0x308970550> has no __sklearn_tags__ attribute, which is defined in `sklearn.base.BaseEstimator`. This will raise an error in scikit-learn 1.8. Please define the __sklearn_tags__ method, or inherit from `sklearn.base.BaseEstimator` and other appropriate mixins such as `sklearn.base.TransformerMixin`, `sklearn.base.ClassifierMixin`, `sklearn.base.RegressorMixin`, and `sklearn.base.ClusterMixin`, and `sklearn.base.OutlierMixin`.\n",
      "  warnings.warn(\n",
      "/opt/homebrew/Caskroom/miniconda/base/envs/course-work-venv/lib/python3.11/site-packages/sklearn/utils/_tags.py:322: FutureWarning: Estimator <catboost.core.CatBoostClassifier object at 0x3096d1d90> has no __sklearn_tags__ attribute, which is defined in `sklearn.base.BaseEstimator`. This will raise an error in scikit-learn 1.8. Please define the __sklearn_tags__ method, or inherit from `sklearn.base.BaseEstimator` and other appropriate mixins such as `sklearn.base.TransformerMixin`, `sklearn.base.ClassifierMixin`, `sklearn.base.RegressorMixin`, and `sklearn.base.ClusterMixin`, and `sklearn.base.OutlierMixin`.\n",
      "  warnings.warn(\n",
      "/opt/homebrew/Caskroom/miniconda/base/envs/course-work-venv/lib/python3.11/site-packages/sklearn/utils/_tags.py:322: FutureWarning: Estimator <catboost.core.CatBoostClassifier object at 0x3096d0e10> has no __sklearn_tags__ attribute, which is defined in `sklearn.base.BaseEstimator`. This will raise an error in scikit-learn 1.8. Please define the __sklearn_tags__ method, or inherit from `sklearn.base.BaseEstimator` and other appropriate mixins such as `sklearn.base.TransformerMixin`, `sklearn.base.ClassifierMixin`, `sklearn.base.RegressorMixin`, and `sklearn.base.ClusterMixin`, and `sklearn.base.OutlierMixin`.\n",
      "  warnings.warn(\n",
      "/opt/homebrew/Caskroom/miniconda/base/envs/course-work-venv/lib/python3.11/site-packages/sklearn/utils/_tags.py:322: FutureWarning: Estimator <catboost.core.CatBoostClassifier object at 0x3096d1d90> has no __sklearn_tags__ attribute, which is defined in `sklearn.base.BaseEstimator`. This will raise an error in scikit-learn 1.8. Please define the __sklearn_tags__ method, or inherit from `sklearn.base.BaseEstimator` and other appropriate mixins such as `sklearn.base.TransformerMixin`, `sklearn.base.ClassifierMixin`, `sklearn.base.RegressorMixin`, and `sklearn.base.ClusterMixin`, and `sklearn.base.OutlierMixin`.\n",
      "  warnings.warn(\n",
      "/opt/homebrew/Caskroom/miniconda/base/envs/course-work-venv/lib/python3.11/site-packages/sklearn/utils/_tags.py:322: FutureWarning: Estimator <catboost.core.CatBoostClassifier object at 0x3096d0e10> has no __sklearn_tags__ attribute, which is defined in `sklearn.base.BaseEstimator`. This will raise an error in scikit-learn 1.8. Please define the __sklearn_tags__ method, or inherit from `sklearn.base.BaseEstimator` and other appropriate mixins such as `sklearn.base.TransformerMixin`, `sklearn.base.ClassifierMixin`, `sklearn.base.RegressorMixin`, and `sklearn.base.ClusterMixin`, and `sklearn.base.OutlierMixin`.\n",
      "  warnings.warn(\n",
      " 90%|██████████████████████▌  | 9/10 [00:29<00:02,  2.45s/it, 29.54/600 seconds]/opt/homebrew/Caskroom/miniconda/base/envs/course-work-venv/lib/python3.11/site-packages/sklearn/utils/_tags.py:322: FutureWarning: Estimator <catboost.core.CatBoostClassifier object at 0x308a14990> has no __sklearn_tags__ attribute, which is defined in `sklearn.base.BaseEstimator`. This will raise an error in scikit-learn 1.8. Please define the __sklearn_tags__ method, or inherit from `sklearn.base.BaseEstimator` and other appropriate mixins such as `sklearn.base.TransformerMixin`, `sklearn.base.ClassifierMixin`, `sklearn.base.RegressorMixin`, and `sklearn.base.ClusterMixin`, and `sklearn.base.OutlierMixin`.\n",
      "  warnings.warn(\n",
      "/opt/homebrew/Caskroom/miniconda/base/envs/course-work-venv/lib/python3.11/site-packages/sklearn/utils/_tags.py:322: FutureWarning: Estimator <catboost.core.CatBoostClassifier object at 0x3088b19d0> has no __sklearn_tags__ attribute, which is defined in `sklearn.base.BaseEstimator`. This will raise an error in scikit-learn 1.8. Please define the __sklearn_tags__ method, or inherit from `sklearn.base.BaseEstimator` and other appropriate mixins such as `sklearn.base.TransformerMixin`, `sklearn.base.ClassifierMixin`, `sklearn.base.RegressorMixin`, and `sklearn.base.ClusterMixin`, and `sklearn.base.OutlierMixin`.\n",
      "  warnings.warn(\n"
     ]
    },
    {
     "name": "stdout",
     "output_type": "stream",
     "text": [
      "[I 2024-12-11 14:55:19,733] Trial 8 finished with values: [0.6057640051897148, 0.06790246980406855] and parameters: {'num_trees': 13, 'max_depth': 2, 'min_data_in_leaf': 62}.\n"
     ]
    },
    {
     "name": "stderr",
     "output_type": "stream",
     "text": [
      "/opt/homebrew/Caskroom/miniconda/base/envs/course-work-venv/lib/python3.11/site-packages/sklearn/utils/_tags.py:322: FutureWarning: Estimator <catboost.core.CatBoostClassifier object at 0x309429b90> has no __sklearn_tags__ attribute, which is defined in `sklearn.base.BaseEstimator`. This will raise an error in scikit-learn 1.8. Please define the __sklearn_tags__ method, or inherit from `sklearn.base.BaseEstimator` and other appropriate mixins such as `sklearn.base.TransformerMixin`, `sklearn.base.ClassifierMixin`, `sklearn.base.RegressorMixin`, and `sklearn.base.ClusterMixin`, and `sklearn.base.OutlierMixin`.\n",
      "  warnings.warn(\n",
      "/opt/homebrew/Caskroom/miniconda/base/envs/course-work-venv/lib/python3.11/site-packages/sklearn/utils/_tags.py:322: FutureWarning: Estimator <catboost.core.CatBoostClassifier object at 0x17a74fd90> has no __sklearn_tags__ attribute, which is defined in `sklearn.base.BaseEstimator`. This will raise an error in scikit-learn 1.8. Please define the __sklearn_tags__ method, or inherit from `sklearn.base.BaseEstimator` and other appropriate mixins such as `sklearn.base.TransformerMixin`, `sklearn.base.ClassifierMixin`, `sklearn.base.RegressorMixin`, and `sklearn.base.ClusterMixin`, and `sklearn.base.OutlierMixin`.\n",
      "  warnings.warn(\n",
      "/opt/homebrew/Caskroom/miniconda/base/envs/course-work-venv/lib/python3.11/site-packages/sklearn/utils/_tags.py:322: FutureWarning: Estimator <catboost.core.CatBoostClassifier object at 0x30884b8d0> has no __sklearn_tags__ attribute, which is defined in `sklearn.base.BaseEstimator`. This will raise an error in scikit-learn 1.8. Please define the __sklearn_tags__ method, or inherit from `sklearn.base.BaseEstimator` and other appropriate mixins such as `sklearn.base.TransformerMixin`, `sklearn.base.ClassifierMixin`, `sklearn.base.RegressorMixin`, and `sklearn.base.ClusterMixin`, and `sklearn.base.OutlierMixin`.\n",
      "  warnings.warn(\n",
      "/opt/homebrew/Caskroom/miniconda/base/envs/course-work-venv/lib/python3.11/site-packages/sklearn/utils/_tags.py:322: FutureWarning: Estimator <catboost.core.CatBoostClassifier object at 0x308973410> has no __sklearn_tags__ attribute, which is defined in `sklearn.base.BaseEstimator`. This will raise an error in scikit-learn 1.8. Please define the __sklearn_tags__ method, or inherit from `sklearn.base.BaseEstimator` and other appropriate mixins such as `sklearn.base.TransformerMixin`, `sklearn.base.ClassifierMixin`, `sklearn.base.RegressorMixin`, and `sklearn.base.ClusterMixin`, and `sklearn.base.OutlierMixin`.\n",
      "  warnings.warn(\n",
      "/opt/homebrew/Caskroom/miniconda/base/envs/course-work-venv/lib/python3.11/site-packages/sklearn/utils/_tags.py:322: FutureWarning: Estimator <catboost.core.CatBoostClassifier object at 0x17a79f190> has no __sklearn_tags__ attribute, which is defined in `sklearn.base.BaseEstimator`. This will raise an error in scikit-learn 1.8. Please define the __sklearn_tags__ method, or inherit from `sklearn.base.BaseEstimator` and other appropriate mixins such as `sklearn.base.TransformerMixin`, `sklearn.base.ClassifierMixin`, `sklearn.base.RegressorMixin`, and `sklearn.base.ClusterMixin`, and `sklearn.base.OutlierMixin`.\n",
      "  warnings.warn(\n",
      "/opt/homebrew/Caskroom/miniconda/base/envs/course-work-venv/lib/python3.11/site-packages/sklearn/utils/_tags.py:322: FutureWarning: Estimator <catboost.core.CatBoostClassifier object at 0x17a7c5c50> has no __sklearn_tags__ attribute, which is defined in `sklearn.base.BaseEstimator`. This will raise an error in scikit-learn 1.8. Please define the __sklearn_tags__ method, or inherit from `sklearn.base.BaseEstimator` and other appropriate mixins such as `sklearn.base.TransformerMixin`, `sklearn.base.ClassifierMixin`, `sklearn.base.RegressorMixin`, and `sklearn.base.ClusterMixin`, and `sklearn.base.OutlierMixin`.\n",
      "  warnings.warn(\n",
      "/opt/homebrew/Caskroom/miniconda/base/envs/course-work-venv/lib/python3.11/site-packages/sklearn/utils/_tags.py:322: FutureWarning: Estimator <catboost.core.CatBoostClassifier object at 0x3088c6990> has no __sklearn_tags__ attribute, which is defined in `sklearn.base.BaseEstimator`. This will raise an error in scikit-learn 1.8. Please define the __sklearn_tags__ method, or inherit from `sklearn.base.BaseEstimator` and other appropriate mixins such as `sklearn.base.TransformerMixin`, `sklearn.base.ClassifierMixin`, `sklearn.base.RegressorMixin`, and `sklearn.base.ClusterMixin`, and `sklearn.base.OutlierMixin`.\n",
      "  warnings.warn(\n",
      "/opt/homebrew/Caskroom/miniconda/base/envs/course-work-venv/lib/python3.11/site-packages/sklearn/utils/_tags.py:322: FutureWarning: Estimator <catboost.core.CatBoostClassifier object at 0x3089d9e10> has no __sklearn_tags__ attribute, which is defined in `sklearn.base.BaseEstimator`. This will raise an error in scikit-learn 1.8. Please define the __sklearn_tags__ method, or inherit from `sklearn.base.BaseEstimator` and other appropriate mixins such as `sklearn.base.TransformerMixin`, `sklearn.base.ClassifierMixin`, `sklearn.base.RegressorMixin`, and `sklearn.base.ClusterMixin`, and `sklearn.base.OutlierMixin`.\n",
      "  warnings.warn(\n",
      "/opt/homebrew/Caskroom/miniconda/base/envs/course-work-venv/lib/python3.11/site-packages/sklearn/utils/_tags.py:322: FutureWarning: Estimator <catboost.core.CatBoostClassifier object at 0x17a5c9d10> has no __sklearn_tags__ attribute, which is defined in `sklearn.base.BaseEstimator`. This will raise an error in scikit-learn 1.8. Please define the __sklearn_tags__ method, or inherit from `sklearn.base.BaseEstimator` and other appropriate mixins such as `sklearn.base.TransformerMixin`, `sklearn.base.ClassifierMixin`, `sklearn.base.RegressorMixin`, and `sklearn.base.ClusterMixin`, and `sklearn.base.OutlierMixin`.\n",
      "  warnings.warn(\n",
      "100%|████████████████████████| 10/10 [00:33<00:00,  3.32s/it, 33.23/600 seconds]"
     ]
    },
    {
     "name": "stdout",
     "output_type": "stream",
     "text": [
      "[I 2024-12-11 14:55:23,422] Trial 9 finished with values: [0.6170280836969952, 0.20694601238732524] and parameters: {'num_trees': 53, 'max_depth': 8, 'min_data_in_leaf': 69}.\n"
     ]
    },
    {
     "name": "stderr",
     "output_type": "stream",
     "text": [
      "\n"
     ]
    }
   ],
   "source": [
    "study.optimize(\n",
    "    func=objective,\n",
    "    n_trials=10,\n",
    "    timeout=600,\n",
    "    show_progress_bar=True,\n",
    "    gc_after_trial=True\n",
    ")"
   ]
  },
  {
   "cell_type": "code",
   "execution_count": 124,
   "id": "6c73dfa4-d5fb-4004-a101-220e097369be",
   "metadata": {},
   "outputs": [],
   "source": [
    "best_params = study.trials_dataframe().sort_values(\n",
    "    by=['values_0', 'values_1'], \n",
    "    ascending=[False, True]\n",
    ").iloc[0,-4:-1]"
   ]
  },
  {
   "cell_type": "code",
   "execution_count": 125,
   "id": "d78474b6-9608-4134-9222-9393c4c95bef",
   "metadata": {},
   "outputs": [],
   "source": [
    "clf = catboost.CatBoostClassifier(\n",
    "    max_depth=best_params.params_max_depth,\n",
    "    min_data_in_leaf=best_params.params_min_data_in_leaf,\n",
    "    num_trees=best_params.params_num_trees\n",
    ")"
   ]
  },
  {
   "cell_type": "code",
   "execution_count": 126,
   "id": "0859a99b-90ac-41ae-9c4d-3dd7c0b047ae",
   "metadata": {
    "collapsed": true,
    "jupyter": {
     "outputs_hidden": true
    }
   },
   "outputs": [
    {
     "name": "stderr",
     "output_type": "stream",
     "text": [
      "/opt/homebrew/Caskroom/miniconda/base/envs/course-work-venv/lib/python3.11/site-packages/sklearn/utils/_tags.py:322: FutureWarning: Estimator <catboost.core.CatBoostClassifier object at 0x3096eb690> has no __sklearn_tags__ attribute, which is defined in `sklearn.base.BaseEstimator`. This will raise an error in scikit-learn 1.8. Please define the __sklearn_tags__ method, or inherit from `sklearn.base.BaseEstimator` and other appropriate mixins such as `sklearn.base.TransformerMixin`, `sklearn.base.ClassifierMixin`, `sklearn.base.RegressorMixin`, and `sklearn.base.ClusterMixin`, and `sklearn.base.OutlierMixin`.\n",
      "  warnings.warn(\n",
      "/opt/homebrew/Caskroom/miniconda/base/envs/course-work-venv/lib/python3.11/site-packages/sklearn/utils/_tags.py:322: FutureWarning: Estimator <catboost.core.CatBoostClassifier object at 0x309b98150> has no __sklearn_tags__ attribute, which is defined in `sklearn.base.BaseEstimator`. This will raise an error in scikit-learn 1.8. Please define the __sklearn_tags__ method, or inherit from `sklearn.base.BaseEstimator` and other appropriate mixins such as `sklearn.base.TransformerMixin`, `sklearn.base.ClassifierMixin`, `sklearn.base.RegressorMixin`, and `sklearn.base.ClusterMixin`, and `sklearn.base.OutlierMixin`.\n",
      "  warnings.warn(\n"
     ]
    },
    {
     "name": "stdout",
     "output_type": "stream",
     "text": [
      "Learning rate set to 0.265252\n",
      "0:\tlearn: 0.6709255\ttotal: 2.48ms\tremaining: 154ms\n",
      "1:\tlearn: 0.6606977\ttotal: 4.69ms\tremaining: 143ms\n",
      "2:\tlearn: 0.6495082\ttotal: 6.79ms\tremaining: 136ms\n",
      "3:\tlearn: 0.6429773\ttotal: 8.82ms\tremaining: 130ms\n",
      "4:\tlearn: 0.6364207\ttotal: 10.8ms\tremaining: 125ms\n",
      "5:\tlearn: 0.6310108\ttotal: 12.7ms\tremaining: 121ms\n",
      "6:\tlearn: 0.6224481\ttotal: 14.6ms\tremaining: 117ms\n",
      "7:\tlearn: 0.6187068\ttotal: 16.6ms\tremaining: 114ms\n",
      "8:\tlearn: 0.6148154\ttotal: 18.3ms\tremaining: 110ms\n",
      "9:\tlearn: 0.6107604\ttotal: 20ms\tremaining: 106ms\n",
      "10:\tlearn: 0.6083835\ttotal: 21.7ms\tremaining: 103ms\n",
      "11:\tlearn: 0.6046975\ttotal: 23.5ms\tremaining: 99.9ms\n",
      "12:\tlearn: 0.6021614\ttotal: 25.3ms\tremaining: 97.5ms\n",
      "13:\tlearn: 0.5987087\ttotal: 27.1ms\tremaining: 94.8ms\n",
      "14:\tlearn: 0.5945926\ttotal: 28.9ms\tremaining: 92.3ms\n",
      "15:\tlearn: 0.5902784\ttotal: 30.7ms\tremaining: 90.2ms\n",
      "16:\tlearn: 0.5877909\ttotal: 32.5ms\tremaining: 87.8ms\n",
      "17:\tlearn: 0.5846497\ttotal: 34.2ms\tremaining: 85.5ms\n",
      "18:\tlearn: 0.5834104\ttotal: 36ms\tremaining: 83.3ms\n",
      "19:\tlearn: 0.5807892\ttotal: 37.8ms\tremaining: 81.3ms\n",
      "20:\tlearn: 0.5785070\ttotal: 39.6ms\tremaining: 79.1ms\n",
      "21:\tlearn: 0.5766686\ttotal: 41.4ms\tremaining: 77.2ms\n",
      "22:\tlearn: 0.5741320\ttotal: 43.2ms\tremaining: 75.2ms\n",
      "23:\tlearn: 0.5712894\ttotal: 45ms\tremaining: 73.2ms\n",
      "24:\tlearn: 0.5689866\ttotal: 46.7ms\tremaining: 71ms\n",
      "25:\tlearn: 0.5667070\ttotal: 48.5ms\tremaining: 69ms\n",
      "26:\tlearn: 0.5652835\ttotal: 50.6ms\tremaining: 67.4ms\n",
      "27:\tlearn: 0.5630658\ttotal: 52.3ms\tremaining: 65.4ms\n",
      "28:\tlearn: 0.5608210\ttotal: 54ms\tremaining: 63.3ms\n",
      "29:\tlearn: 0.5597017\ttotal: 55.9ms\tremaining: 61.5ms\n",
      "30:\tlearn: 0.5574614\ttotal: 57.8ms\tremaining: 59.6ms\n",
      "31:\tlearn: 0.5557785\ttotal: 59.5ms\tremaining: 57.6ms\n",
      "32:\tlearn: 0.5542464\ttotal: 61.4ms\tremaining: 55.8ms\n",
      "33:\tlearn: 0.5513567\ttotal: 63.5ms\tremaining: 54.1ms\n",
      "34:\tlearn: 0.5495414\ttotal: 65.2ms\tremaining: 52.2ms\n",
      "35:\tlearn: 0.5468622\ttotal: 67.1ms\tremaining: 50.3ms\n",
      "36:\tlearn: 0.5445766\ttotal: 68.9ms\tremaining: 48.4ms\n",
      "37:\tlearn: 0.5423571\ttotal: 70.7ms\tremaining: 46.5ms\n",
      "38:\tlearn: 0.5403787\ttotal: 72.5ms\tremaining: 44.6ms\n",
      "39:\tlearn: 0.5376868\ttotal: 74.6ms\tremaining: 42.9ms\n",
      "40:\tlearn: 0.5357865\ttotal: 76.3ms\tremaining: 41ms\n",
      "41:\tlearn: 0.5340920\ttotal: 78.1ms\tremaining: 39.1ms\n",
      "42:\tlearn: 0.5324405\ttotal: 79.9ms\tremaining: 37.2ms\n",
      "43:\tlearn: 0.5303575\ttotal: 81.7ms\tremaining: 35.3ms\n",
      "44:\tlearn: 0.5272589\ttotal: 83.5ms\tremaining: 33.4ms\n",
      "45:\tlearn: 0.5255795\ttotal: 85.3ms\tremaining: 31.5ms\n",
      "46:\tlearn: 0.5223419\ttotal: 87.3ms\tremaining: 29.7ms\n",
      "47:\tlearn: 0.5205603\ttotal: 89ms\tremaining: 27.8ms\n",
      "48:\tlearn: 0.5181816\ttotal: 90.7ms\tremaining: 25.9ms\n",
      "49:\tlearn: 0.5154135\ttotal: 92.5ms\tremaining: 24ms\n",
      "50:\tlearn: 0.5138125\ttotal: 94.2ms\tremaining: 22.2ms\n",
      "51:\tlearn: 0.5124104\ttotal: 96ms\tremaining: 20.3ms\n",
      "52:\tlearn: 0.5110886\ttotal: 97.8ms\tremaining: 18.4ms\n",
      "53:\tlearn: 0.5086407\ttotal: 100ms\tremaining: 16.7ms\n",
      "54:\tlearn: 0.5071573\ttotal: 102ms\tremaining: 14.9ms\n",
      "55:\tlearn: 0.5055400\ttotal: 104ms\tremaining: 13ms\n",
      "56:\tlearn: 0.5038851\ttotal: 106ms\tremaining: 11.1ms\n",
      "57:\tlearn: 0.5021676\ttotal: 108ms\tremaining: 9.28ms\n",
      "58:\tlearn: 0.5009583\ttotal: 109ms\tremaining: 7.41ms\n",
      "59:\tlearn: 0.4994181\ttotal: 111ms\tremaining: 5.55ms\n",
      "60:\tlearn: 0.4977979\ttotal: 113ms\tremaining: 3.7ms\n",
      "61:\tlearn: 0.4958885\ttotal: 115ms\tremaining: 1.85ms\n",
      "62:\tlearn: 0.4944052\ttotal: 116ms\tremaining: 0us\n",
      "Learning rate set to 0.265252\n",
      "0:\tlearn: 0.6739178\ttotal: 2ms\tremaining: 124ms\n",
      "1:\tlearn: 0.6612588\ttotal: 3.73ms\tremaining: 114ms\n",
      "2:\tlearn: 0.6521422\ttotal: 5.49ms\tremaining: 110ms\n",
      "3:\tlearn: 0.6393746\ttotal: 7.42ms\tremaining: 109ms\n",
      "4:\tlearn: 0.6312654\ttotal: 9.41ms\tremaining: 109ms\n",
      "5:\tlearn: 0.6283547\ttotal: 11.3ms\tremaining: 107ms\n",
      "6:\tlearn: 0.6231394\ttotal: 13.2ms\tremaining: 105ms\n",
      "7:\tlearn: 0.6181622\ttotal: 15.5ms\tremaining: 107ms\n",
      "8:\tlearn: 0.6141933\ttotal: 17.3ms\tremaining: 104ms\n"
     ]
    },
    {
     "name": "stderr",
     "output_type": "stream",
     "text": [
      "/opt/homebrew/Caskroom/miniconda/base/envs/course-work-venv/lib/python3.11/site-packages/sklearn/utils/_tags.py:322: FutureWarning: Estimator <catboost.core.CatBoostClassifier object at 0x309b98150> has no __sklearn_tags__ attribute, which is defined in `sklearn.base.BaseEstimator`. This will raise an error in scikit-learn 1.8. Please define the __sklearn_tags__ method, or inherit from `sklearn.base.BaseEstimator` and other appropriate mixins such as `sklearn.base.TransformerMixin`, `sklearn.base.ClassifierMixin`, `sklearn.base.RegressorMixin`, and `sklearn.base.ClusterMixin`, and `sklearn.base.OutlierMixin`.\n",
      "  warnings.warn(\n",
      "/opt/homebrew/Caskroom/miniconda/base/envs/course-work-venv/lib/python3.11/site-packages/sklearn/utils/_tags.py:322: FutureWarning: Estimator <catboost.core.CatBoostClassifier object at 0x309b98150> has no __sklearn_tags__ attribute, which is defined in `sklearn.base.BaseEstimator`. This will raise an error in scikit-learn 1.8. Please define the __sklearn_tags__ method, or inherit from `sklearn.base.BaseEstimator` and other appropriate mixins such as `sklearn.base.TransformerMixin`, `sklearn.base.ClassifierMixin`, `sklearn.base.RegressorMixin`, and `sklearn.base.ClusterMixin`, and `sklearn.base.OutlierMixin`.\n",
      "  warnings.warn(\n",
      "/opt/homebrew/Caskroom/miniconda/base/envs/course-work-venv/lib/python3.11/site-packages/sklearn/utils/_tags.py:322: FutureWarning: Estimator <catboost.core.CatBoostClassifier object at 0x309b98150> has no __sklearn_tags__ attribute, which is defined in `sklearn.base.BaseEstimator`. This will raise an error in scikit-learn 1.8. Please define the __sklearn_tags__ method, or inherit from `sklearn.base.BaseEstimator` and other appropriate mixins such as `sklearn.base.TransformerMixin`, `sklearn.base.ClassifierMixin`, `sklearn.base.RegressorMixin`, and `sklearn.base.ClusterMixin`, and `sklearn.base.OutlierMixin`.\n",
      "  warnings.warn(\n",
      "/opt/homebrew/Caskroom/miniconda/base/envs/course-work-venv/lib/python3.11/site-packages/sklearn/utils/_tags.py:322: FutureWarning: Estimator <catboost.core.CatBoostClassifier object at 0x17a582310> has no __sklearn_tags__ attribute, which is defined in `sklearn.base.BaseEstimator`. This will raise an error in scikit-learn 1.8. Please define the __sklearn_tags__ method, or inherit from `sklearn.base.BaseEstimator` and other appropriate mixins such as `sklearn.base.TransformerMixin`, `sklearn.base.ClassifierMixin`, `sklearn.base.RegressorMixin`, and `sklearn.base.ClusterMixin`, and `sklearn.base.OutlierMixin`.\n",
      "  warnings.warn(\n",
      "/opt/homebrew/Caskroom/miniconda/base/envs/course-work-venv/lib/python3.11/site-packages/sklearn/utils/_tags.py:322: FutureWarning: Estimator <catboost.core.CatBoostClassifier object at 0x17a582310> has no __sklearn_tags__ attribute, which is defined in `sklearn.base.BaseEstimator`. This will raise an error in scikit-learn 1.8. Please define the __sklearn_tags__ method, or inherit from `sklearn.base.BaseEstimator` and other appropriate mixins such as `sklearn.base.TransformerMixin`, `sklearn.base.ClassifierMixin`, `sklearn.base.RegressorMixin`, and `sklearn.base.ClusterMixin`, and `sklearn.base.OutlierMixin`.\n",
      "  warnings.warn(\n",
      "/opt/homebrew/Caskroom/miniconda/base/envs/course-work-venv/lib/python3.11/site-packages/sklearn/utils/_tags.py:322: FutureWarning: Estimator <catboost.core.CatBoostClassifier object at 0x17a582310> has no __sklearn_tags__ attribute, which is defined in `sklearn.base.BaseEstimator`. This will raise an error in scikit-learn 1.8. Please define the __sklearn_tags__ method, or inherit from `sklearn.base.BaseEstimator` and other appropriate mixins such as `sklearn.base.TransformerMixin`, `sklearn.base.ClassifierMixin`, `sklearn.base.RegressorMixin`, and `sklearn.base.ClusterMixin`, and `sklearn.base.OutlierMixin`.\n",
      "  warnings.warn(\n",
      "/opt/homebrew/Caskroom/miniconda/base/envs/course-work-venv/lib/python3.11/site-packages/sklearn/utils/_tags.py:322: FutureWarning: Estimator <catboost.core.CatBoostClassifier object at 0x17a582310> has no __sklearn_tags__ attribute, which is defined in `sklearn.base.BaseEstimator`. This will raise an error in scikit-learn 1.8. Please define the __sklearn_tags__ method, or inherit from `sklearn.base.BaseEstimator` and other appropriate mixins such as `sklearn.base.TransformerMixin`, `sklearn.base.ClassifierMixin`, `sklearn.base.RegressorMixin`, and `sklearn.base.ClusterMixin`, and `sklearn.base.OutlierMixin`.\n",
      "  warnings.warn(\n",
      "/opt/homebrew/Caskroom/miniconda/base/envs/course-work-venv/lib/python3.11/site-packages/sklearn/utils/_tags.py:322: FutureWarning: Estimator <catboost.core.CatBoostClassifier object at 0x309cf4890> has no __sklearn_tags__ attribute, which is defined in `sklearn.base.BaseEstimator`. This will raise an error in scikit-learn 1.8. Please define the __sklearn_tags__ method, or inherit from `sklearn.base.BaseEstimator` and other appropriate mixins such as `sklearn.base.TransformerMixin`, `sklearn.base.ClassifierMixin`, `sklearn.base.RegressorMixin`, and `sklearn.base.ClusterMixin`, and `sklearn.base.OutlierMixin`.\n",
      "  warnings.warn(\n"
     ]
    },
    {
     "name": "stdout",
     "output_type": "stream",
     "text": [
      "9:\tlearn: 0.6112355\ttotal: 19.4ms\tremaining: 103ms\n",
      "10:\tlearn: 0.6072927\ttotal: 21.3ms\tremaining: 101ms\n",
      "11:\tlearn: 0.6043487\ttotal: 23.2ms\tremaining: 98.4ms\n",
      "12:\tlearn: 0.6016603\ttotal: 25.1ms\tremaining: 96.4ms\n",
      "13:\tlearn: 0.5984025\ttotal: 27ms\tremaining: 94.6ms\n",
      "14:\tlearn: 0.5957701\ttotal: 29.2ms\tremaining: 93.5ms\n",
      "15:\tlearn: 0.5933201\ttotal: 31.7ms\tremaining: 93ms\n",
      "16:\tlearn: 0.5907126\ttotal: 34.2ms\tremaining: 92.6ms\n",
      "17:\tlearn: 0.5885074\ttotal: 36.2ms\tremaining: 90.6ms\n",
      "18:\tlearn: 0.5853905\ttotal: 38.2ms\tremaining: 88.6ms\n",
      "19:\tlearn: 0.5828409\ttotal: 40.3ms\tremaining: 86.6ms\n",
      "20:\tlearn: 0.5813769\ttotal: 42.1ms\tremaining: 84.2ms\n",
      "21:\tlearn: 0.5792226\ttotal: 44.1ms\tremaining: 82.2ms\n",
      "22:\tlearn: 0.5774900\ttotal: 46ms\tremaining: 79.9ms\n",
      "23:\tlearn: 0.5746745\ttotal: 48ms\tremaining: 78.1ms\n",
      "24:\tlearn: 0.5725147\ttotal: 50.1ms\tremaining: 76.1ms\n",
      "25:\tlearn: 0.5700783\ttotal: 51.9ms\tremaining: 73.8ms\n",
      "26:\tlearn: 0.5684962\ttotal: 53.8ms\tremaining: 71.7ms\n",
      "27:\tlearn: 0.5666059\ttotal: 55.8ms\tremaining: 69.8ms\n",
      "28:\tlearn: 0.5646802\ttotal: 57.8ms\tremaining: 67.8ms\n",
      "29:\tlearn: 0.5627627\ttotal: 59.6ms\tremaining: 65.6ms\n",
      "30:\tlearn: 0.5607855\ttotal: 61.7ms\tremaining: 63.6ms\n",
      "31:\tlearn: 0.5584989\ttotal: 63.6ms\tremaining: 61.6ms\n",
      "32:\tlearn: 0.5559242\ttotal: 65.6ms\tremaining: 59.6ms\n",
      "33:\tlearn: 0.5542807\ttotal: 67.4ms\tremaining: 57.5ms\n",
      "34:\tlearn: 0.5525012\ttotal: 69.2ms\tremaining: 55.4ms\n",
      "35:\tlearn: 0.5504837\ttotal: 71.1ms\tremaining: 53.3ms\n",
      "36:\tlearn: 0.5471382\ttotal: 73.1ms\tremaining: 51.3ms\n",
      "37:\tlearn: 0.5448950\ttotal: 74.9ms\tremaining: 49.3ms\n",
      "38:\tlearn: 0.5427073\ttotal: 76.9ms\tremaining: 47.3ms\n",
      "39:\tlearn: 0.5410479\ttotal: 78.9ms\tremaining: 45.4ms\n",
      "40:\tlearn: 0.5387876\ttotal: 80.7ms\tremaining: 43.3ms\n",
      "41:\tlearn: 0.5369825\ttotal: 82.4ms\tremaining: 41.2ms\n",
      "42:\tlearn: 0.5346015\ttotal: 84.3ms\tremaining: 39.2ms\n",
      "43:\tlearn: 0.5316613\ttotal: 86.3ms\tremaining: 37.3ms\n",
      "44:\tlearn: 0.5300668\ttotal: 88.2ms\tremaining: 35.3ms\n",
      "45:\tlearn: 0.5281952\ttotal: 90.1ms\tremaining: 33.3ms\n",
      "46:\tlearn: 0.5260076\ttotal: 92ms\tremaining: 31.3ms\n",
      "47:\tlearn: 0.5245199\ttotal: 93.8ms\tremaining: 29.3ms\n",
      "48:\tlearn: 0.5227405\ttotal: 95.9ms\tremaining: 27.4ms\n",
      "49:\tlearn: 0.5211883\ttotal: 97.7ms\tremaining: 25.4ms\n",
      "50:\tlearn: 0.5195284\ttotal: 99.6ms\tremaining: 23.4ms\n",
      "51:\tlearn: 0.5176437\ttotal: 102ms\tremaining: 21.5ms\n",
      "52:\tlearn: 0.5157982\ttotal: 103ms\tremaining: 19.5ms\n",
      "53:\tlearn: 0.5135833\ttotal: 105ms\tremaining: 17.6ms\n",
      "54:\tlearn: 0.5121563\ttotal: 107ms\tremaining: 15.6ms\n",
      "55:\tlearn: 0.5109697\ttotal: 109ms\tremaining: 13.6ms\n",
      "56:\tlearn: 0.5089737\ttotal: 111ms\tremaining: 11.7ms\n",
      "57:\tlearn: 0.5069115\ttotal: 114ms\tremaining: 9.79ms\n",
      "58:\tlearn: 0.5046186\ttotal: 116ms\tremaining: 7.87ms\n",
      "59:\tlearn: 0.5028932\ttotal: 118ms\tremaining: 5.92ms\n",
      "60:\tlearn: 0.5013893\ttotal: 120ms\tremaining: 3.94ms\n",
      "61:\tlearn: 0.4999863\ttotal: 122ms\tremaining: 1.97ms\n",
      "62:\tlearn: 0.4988096\ttotal: 124ms\tremaining: 0us\n",
      "Learning rate set to 0.265252\n",
      "0:\tlearn: 0.6735618\ttotal: 2.28ms\tremaining: 141ms\n",
      "1:\tlearn: 0.6588947\ttotal: 4.24ms\tremaining: 129ms\n",
      "2:\tlearn: 0.6488640\ttotal: 6.35ms\tremaining: 127ms\n",
      "3:\tlearn: 0.6422330\ttotal: 8.3ms\tremaining: 122ms\n",
      "4:\tlearn: 0.6382730\ttotal: 10.2ms\tremaining: 119ms\n",
      "5:\tlearn: 0.6336998\ttotal: 12ms\tremaining: 114ms\n",
      "6:\tlearn: 0.6303601\ttotal: 13.9ms\tremaining: 111ms\n",
      "7:\tlearn: 0.6251651\ttotal: 16ms\tremaining: 110ms\n",
      "8:\tlearn: 0.6211852\ttotal: 17.9ms\tremaining: 107ms\n",
      "9:\tlearn: 0.6181429\ttotal: 20.1ms\tremaining: 107ms\n",
      "10:\tlearn: 0.6142056\ttotal: 22ms\tremaining: 104ms\n",
      "11:\tlearn: 0.6102013\ttotal: 23.9ms\tremaining: 101ms\n",
      "12:\tlearn: 0.6075410\ttotal: 25.7ms\tremaining: 98.7ms\n",
      "13:\tlearn: 0.6040724\ttotal: 27.7ms\tremaining: 97.1ms\n",
      "14:\tlearn: 0.6000205\ttotal: 29.7ms\tremaining: 95ms\n",
      "15:\tlearn: 0.5970540\ttotal: 31.6ms\tremaining: 92.7ms\n",
      "16:\tlearn: 0.5944115\ttotal: 33.7ms\tremaining: 91.3ms\n",
      "17:\tlearn: 0.5926437\ttotal: 35.9ms\tremaining: 89.7ms\n",
      "18:\tlearn: 0.5902944\ttotal: 38.6ms\tremaining: 89.4ms\n",
      "19:\tlearn: 0.5868154\ttotal: 40.6ms\tremaining: 87.2ms\n",
      "20:\tlearn: 0.5835951\ttotal: 42.5ms\tremaining: 85.1ms\n",
      "21:\tlearn: 0.5815130\ttotal: 44.4ms\tremaining: 82.7ms\n",
      "22:\tlearn: 0.5790532\ttotal: 46.2ms\tremaining: 80.3ms\n",
      "23:\tlearn: 0.5772391\ttotal: 48.3ms\tremaining: 78.4ms\n",
      "24:\tlearn: 0.5758319\ttotal: 50.1ms\tremaining: 76.2ms\n",
      "25:\tlearn: 0.5743191\ttotal: 52ms\tremaining: 73.9ms\n",
      "26:\tlearn: 0.5723721\ttotal: 53.9ms\tremaining: 71.9ms\n",
      "27:\tlearn: 0.5704943\ttotal: 55.8ms\tremaining: 69.7ms\n",
      "28:\tlearn: 0.5680428\ttotal: 57.7ms\tremaining: 67.7ms\n",
      "29:\tlearn: 0.5666980\ttotal: 59.6ms\tremaining: 65.6ms\n",
      "30:\tlearn: 0.5645614\ttotal: 61.5ms\tremaining: 63.4ms\n",
      "31:\tlearn: 0.5629525\ttotal: 63.2ms\tremaining: 61.3ms\n",
      "32:\tlearn: 0.5600874\ttotal: 65.3ms\tremaining: 59.4ms\n",
      "33:\tlearn: 0.5577616\ttotal: 67.5ms\tremaining: 57.6ms\n",
      "34:\tlearn: 0.5558709\ttotal: 69.3ms\tremaining: 55.4ms\n",
      "35:\tlearn: 0.5542916\ttotal: 71.2ms\tremaining: 53.4ms\n",
      "36:\tlearn: 0.5526266\ttotal: 73.1ms\tremaining: 51.4ms\n",
      "37:\tlearn: 0.5505635\ttotal: 75.1ms\tremaining: 49.4ms\n",
      "38:\tlearn: 0.5487931\ttotal: 77.2ms\tremaining: 47.5ms\n",
      "39:\tlearn: 0.5466091\ttotal: 79ms\tremaining: 45.4ms\n",
      "40:\tlearn: 0.5441194\ttotal: 80.7ms\tremaining: 43.3ms\n",
      "41:\tlearn: 0.5412699\ttotal: 83.2ms\tremaining: 41.6ms\n",
      "42:\tlearn: 0.5387415\ttotal: 85.1ms\tremaining: 39.6ms\n",
      "43:\tlearn: 0.5372920\ttotal: 86.9ms\tremaining: 37.5ms\n",
      "44:\tlearn: 0.5353904\ttotal: 88.8ms\tremaining: 35.5ms\n",
      "45:\tlearn: 0.5333523\ttotal: 90.5ms\tremaining: 33.4ms\n",
      "46:\tlearn: 0.5315897\ttotal: 92.3ms\tremaining: 31.4ms\n",
      "47:\tlearn: 0.5298000\ttotal: 94.1ms\tremaining: 29.4ms\n",
      "48:\tlearn: 0.5280614\ttotal: 95.8ms\tremaining: 27.4ms\n",
      "49:\tlearn: 0.5259799\ttotal: 97.7ms\tremaining: 25.4ms\n",
      "50:\tlearn: 0.5243231\ttotal: 99.6ms\tremaining: 23.4ms\n",
      "51:\tlearn: 0.5218066\ttotal: 101ms\tremaining: 21.5ms\n",
      "52:\tlearn: 0.5204945\ttotal: 103ms\tremaining: 19.5ms\n",
      "53:\tlearn: 0.5178706\ttotal: 105ms\tremaining: 17.6ms\n",
      "54:\tlearn: 0.5167109\ttotal: 107ms\tremaining: 15.6ms\n",
      "55:\tlearn: 0.5155033\ttotal: 109ms\tremaining: 13.6ms\n",
      "56:\tlearn: 0.5140355\ttotal: 111ms\tremaining: 11.7ms\n",
      "57:\tlearn: 0.5120960\ttotal: 113ms\tremaining: 9.71ms\n",
      "58:\tlearn: 0.5108785\ttotal: 114ms\tremaining: 7.76ms\n",
      "59:\tlearn: 0.5093499\ttotal: 117ms\tremaining: 5.83ms\n",
      "60:\tlearn: 0.5078512\ttotal: 118ms\tremaining: 3.88ms\n",
      "61:\tlearn: 0.5058895\ttotal: 120ms\tremaining: 1.94ms\n",
      "62:\tlearn: 0.5043332\ttotal: 122ms\tremaining: 0us\n",
      "Learning rate set to 0.265252\n",
      "0:\tlearn: 0.6729490\ttotal: 2.02ms\tremaining: 125ms\n",
      "1:\tlearn: 0.6593254\ttotal: 3.76ms\tremaining: 115ms\n",
      "2:\tlearn: 0.6495058\ttotal: 5.6ms\tremaining: 112ms\n",
      "3:\tlearn: 0.6417423\ttotal: 7.49ms\tremaining: 110ms\n",
      "4:\tlearn: 0.6353349\ttotal: 9.32ms\tremaining: 108ms\n",
      "5:\tlearn: 0.6294876\ttotal: 11.1ms\tremaining: 105ms\n",
      "6:\tlearn: 0.6252698\ttotal: 13.1ms\tremaining: 105ms\n",
      "7:\tlearn: 0.6188949\ttotal: 15.1ms\tremaining: 104ms\n",
      "8:\tlearn: 0.6146548\ttotal: 16.9ms\tremaining: 101ms\n",
      "9:\tlearn: 0.6106566\ttotal: 18.7ms\tremaining: 99.2ms\n",
      "10:\tlearn: 0.6086959\ttotal: 20.4ms\tremaining: 96.3ms\n",
      "11:\tlearn: 0.6056346\ttotal: 22ms\tremaining: 93.7ms\n",
      "12:\tlearn: 0.6026647\ttotal: 23.8ms\tremaining: 91.6ms\n",
      "13:\tlearn: 0.5996546\ttotal: 25.6ms\tremaining: 89.5ms\n",
      "14:\tlearn: 0.5978602\ttotal: 27.3ms\tremaining: 87.4ms\n",
      "15:\tlearn: 0.5937852\ttotal: 29ms\tremaining: 85.2ms\n",
      "16:\tlearn: 0.5921889\ttotal: 30.7ms\tremaining: 83.2ms\n",
      "17:\tlearn: 0.5896350\ttotal: 32.7ms\tremaining: 81.6ms\n",
      "18:\tlearn: 0.5876572\ttotal: 34.5ms\tremaining: 79.9ms\n",
      "19:\tlearn: 0.5851131\ttotal: 36.3ms\tremaining: 78.1ms\n",
      "20:\tlearn: 0.5822197\ttotal: 38ms\tremaining: 76ms\n",
      "21:\tlearn: 0.5791607\ttotal: 39.8ms\tremaining: 74.2ms\n",
      "22:\tlearn: 0.5778918\ttotal: 41.6ms\tremaining: 72.3ms\n"
     ]
    },
    {
     "name": "stderr",
     "output_type": "stream",
     "text": [
      "/opt/homebrew/Caskroom/miniconda/base/envs/course-work-venv/lib/python3.11/site-packages/sklearn/utils/_tags.py:322: FutureWarning: Estimator <catboost.core.CatBoostClassifier object at 0x309cf4890> has no __sklearn_tags__ attribute, which is defined in `sklearn.base.BaseEstimator`. This will raise an error in scikit-learn 1.8. Please define the __sklearn_tags__ method, or inherit from `sklearn.base.BaseEstimator` and other appropriate mixins such as `sklearn.base.TransformerMixin`, `sklearn.base.ClassifierMixin`, `sklearn.base.RegressorMixin`, and `sklearn.base.ClusterMixin`, and `sklearn.base.OutlierMixin`.\n",
      "  warnings.warn(\n",
      "/opt/homebrew/Caskroom/miniconda/base/envs/course-work-venv/lib/python3.11/site-packages/sklearn/utils/_tags.py:322: FutureWarning: Estimator <catboost.core.CatBoostClassifier object at 0x309cf4890> has no __sklearn_tags__ attribute, which is defined in `sklearn.base.BaseEstimator`. This will raise an error in scikit-learn 1.8. Please define the __sklearn_tags__ method, or inherit from `sklearn.base.BaseEstimator` and other appropriate mixins such as `sklearn.base.TransformerMixin`, `sklearn.base.ClassifierMixin`, `sklearn.base.RegressorMixin`, and `sklearn.base.ClusterMixin`, and `sklearn.base.OutlierMixin`.\n",
      "  warnings.warn(\n",
      "/opt/homebrew/Caskroom/miniconda/base/envs/course-work-venv/lib/python3.11/site-packages/sklearn/utils/_tags.py:322: FutureWarning: Estimator <catboost.core.CatBoostClassifier object at 0x309cf4890> has no __sklearn_tags__ attribute, which is defined in `sklearn.base.BaseEstimator`. This will raise an error in scikit-learn 1.8. Please define the __sklearn_tags__ method, or inherit from `sklearn.base.BaseEstimator` and other appropriate mixins such as `sklearn.base.TransformerMixin`, `sklearn.base.ClassifierMixin`, `sklearn.base.RegressorMixin`, and `sklearn.base.ClusterMixin`, and `sklearn.base.OutlierMixin`.\n",
      "  warnings.warn(\n",
      "/opt/homebrew/Caskroom/miniconda/base/envs/course-work-venv/lib/python3.11/site-packages/sklearn/utils/_tags.py:322: FutureWarning: Estimator <catboost.core.CatBoostClassifier object at 0x309b6d550> has no __sklearn_tags__ attribute, which is defined in `sklearn.base.BaseEstimator`. This will raise an error in scikit-learn 1.8. Please define the __sklearn_tags__ method, or inherit from `sklearn.base.BaseEstimator` and other appropriate mixins such as `sklearn.base.TransformerMixin`, `sklearn.base.ClassifierMixin`, `sklearn.base.RegressorMixin`, and `sklearn.base.ClusterMixin`, and `sklearn.base.OutlierMixin`.\n",
      "  warnings.warn(\n",
      "/opt/homebrew/Caskroom/miniconda/base/envs/course-work-venv/lib/python3.11/site-packages/sklearn/utils/_tags.py:322: FutureWarning: Estimator <catboost.core.CatBoostClassifier object at 0x309b6d550> has no __sklearn_tags__ attribute, which is defined in `sklearn.base.BaseEstimator`. This will raise an error in scikit-learn 1.8. Please define the __sklearn_tags__ method, or inherit from `sklearn.base.BaseEstimator` and other appropriate mixins such as `sklearn.base.TransformerMixin`, `sklearn.base.ClassifierMixin`, `sklearn.base.RegressorMixin`, and `sklearn.base.ClusterMixin`, and `sklearn.base.OutlierMixin`.\n",
      "  warnings.warn(\n",
      "/opt/homebrew/Caskroom/miniconda/base/envs/course-work-venv/lib/python3.11/site-packages/sklearn/utils/_tags.py:322: FutureWarning: Estimator <catboost.core.CatBoostClassifier object at 0x309b6d550> has no __sklearn_tags__ attribute, which is defined in `sklearn.base.BaseEstimator`. This will raise an error in scikit-learn 1.8. Please define the __sklearn_tags__ method, or inherit from `sklearn.base.BaseEstimator` and other appropriate mixins such as `sklearn.base.TransformerMixin`, `sklearn.base.ClassifierMixin`, `sklearn.base.RegressorMixin`, and `sklearn.base.ClusterMixin`, and `sklearn.base.OutlierMixin`.\n",
      "  warnings.warn(\n",
      "/opt/homebrew/Caskroom/miniconda/base/envs/course-work-venv/lib/python3.11/site-packages/sklearn/utils/_tags.py:322: FutureWarning: Estimator <catboost.core.CatBoostClassifier object at 0x309b6d550> has no __sklearn_tags__ attribute, which is defined in `sklearn.base.BaseEstimator`. This will raise an error in scikit-learn 1.8. Please define the __sklearn_tags__ method, or inherit from `sklearn.base.BaseEstimator` and other appropriate mixins such as `sklearn.base.TransformerMixin`, `sklearn.base.ClassifierMixin`, `sklearn.base.RegressorMixin`, and `sklearn.base.ClusterMixin`, and `sklearn.base.OutlierMixin`.\n",
      "  warnings.warn(\n",
      "/opt/homebrew/Caskroom/miniconda/base/envs/course-work-venv/lib/python3.11/site-packages/sklearn/utils/_tags.py:322: FutureWarning: Estimator <catboost.core.CatBoostClassifier object at 0x309b5a110> has no __sklearn_tags__ attribute, which is defined in `sklearn.base.BaseEstimator`. This will raise an error in scikit-learn 1.8. Please define the __sklearn_tags__ method, or inherit from `sklearn.base.BaseEstimator` and other appropriate mixins such as `sklearn.base.TransformerMixin`, `sklearn.base.ClassifierMixin`, `sklearn.base.RegressorMixin`, and `sklearn.base.ClusterMixin`, and `sklearn.base.OutlierMixin`.\n",
      "  warnings.warn(\n"
     ]
    },
    {
     "name": "stdout",
     "output_type": "stream",
     "text": [
      "23:\tlearn: 0.5756842\ttotal: 43.3ms\tremaining: 70.4ms\n",
      "24:\tlearn: 0.5732617\ttotal: 45.1ms\tremaining: 68.5ms\n",
      "25:\tlearn: 0.5717969\ttotal: 46.9ms\tremaining: 66.7ms\n",
      "26:\tlearn: 0.5699897\ttotal: 48.6ms\tremaining: 64.8ms\n",
      "27:\tlearn: 0.5687982\ttotal: 50.3ms\tremaining: 62.9ms\n",
      "28:\tlearn: 0.5665991\ttotal: 52.1ms\tremaining: 61.1ms\n",
      "29:\tlearn: 0.5650433\ttotal: 53.9ms\tremaining: 59.3ms\n",
      "30:\tlearn: 0.5630240\ttotal: 55.7ms\tremaining: 57.5ms\n",
      "31:\tlearn: 0.5607553\ttotal: 57.5ms\tremaining: 55.7ms\n",
      "32:\tlearn: 0.5580244\ttotal: 59.3ms\tremaining: 53.9ms\n",
      "33:\tlearn: 0.5559631\ttotal: 61.2ms\tremaining: 52.2ms\n",
      "34:\tlearn: 0.5538217\ttotal: 63.5ms\tremaining: 50.8ms\n",
      "35:\tlearn: 0.5518755\ttotal: 65.6ms\tremaining: 49.2ms\n",
      "36:\tlearn: 0.5501591\ttotal: 67.4ms\tremaining: 47.3ms\n",
      "37:\tlearn: 0.5475445\ttotal: 69.1ms\tremaining: 45.5ms\n",
      "38:\tlearn: 0.5448119\ttotal: 71ms\tremaining: 43.7ms\n",
      "39:\tlearn: 0.5424945\ttotal: 72.9ms\tremaining: 41.9ms\n",
      "40:\tlearn: 0.5407114\ttotal: 74.6ms\tremaining: 40ms\n",
      "41:\tlearn: 0.5384197\ttotal: 76.5ms\tremaining: 38.2ms\n",
      "42:\tlearn: 0.5365509\ttotal: 78.2ms\tremaining: 36.4ms\n",
      "43:\tlearn: 0.5347275\ttotal: 80ms\tremaining: 34.5ms\n",
      "44:\tlearn: 0.5326340\ttotal: 81.8ms\tremaining: 32.7ms\n",
      "45:\tlearn: 0.5311299\ttotal: 83.5ms\tremaining: 30.9ms\n",
      "46:\tlearn: 0.5290191\ttotal: 85.3ms\tremaining: 29ms\n",
      "47:\tlearn: 0.5274563\ttotal: 87.1ms\tremaining: 27.2ms\n",
      "48:\tlearn: 0.5254754\ttotal: 88.9ms\tremaining: 25.4ms\n",
      "49:\tlearn: 0.5240340\ttotal: 90.7ms\tremaining: 23.6ms\n",
      "50:\tlearn: 0.5219609\ttotal: 92.7ms\tremaining: 21.8ms\n",
      "51:\tlearn: 0.5205894\ttotal: 94.4ms\tremaining: 20ms\n",
      "52:\tlearn: 0.5193799\ttotal: 96.4ms\tremaining: 18.2ms\n",
      "53:\tlearn: 0.5174712\ttotal: 98.2ms\tremaining: 16.4ms\n",
      "54:\tlearn: 0.5160025\ttotal: 99.8ms\tremaining: 14.5ms\n",
      "55:\tlearn: 0.5143605\ttotal: 102ms\tremaining: 12.7ms\n",
      "56:\tlearn: 0.5126156\ttotal: 103ms\tremaining: 10.9ms\n",
      "57:\tlearn: 0.5114312\ttotal: 105ms\tremaining: 9.05ms\n",
      "58:\tlearn: 0.5100096\ttotal: 107ms\tremaining: 7.24ms\n",
      "59:\tlearn: 0.5086388\ttotal: 109ms\tremaining: 5.43ms\n",
      "60:\tlearn: 0.5073756\ttotal: 110ms\tremaining: 3.62ms\n",
      "61:\tlearn: 0.5061145\ttotal: 112ms\tremaining: 1.81ms\n",
      "62:\tlearn: 0.5050923\ttotal: 114ms\tremaining: 0us\n",
      "Learning rate set to 0.265273\n",
      "0:\tlearn: 0.6743412\ttotal: 2.09ms\tremaining: 129ms\n",
      "1:\tlearn: 0.6635423\ttotal: 4.04ms\tremaining: 123ms\n",
      "2:\tlearn: 0.6497923\ttotal: 5.98ms\tremaining: 120ms\n",
      "3:\tlearn: 0.6410382\ttotal: 7.86ms\tremaining: 116ms\n",
      "4:\tlearn: 0.6370682\ttotal: 9.77ms\tremaining: 113ms\n",
      "5:\tlearn: 0.6318213\ttotal: 11.9ms\tremaining: 114ms\n",
      "6:\tlearn: 0.6276524\ttotal: 13.8ms\tremaining: 111ms\n",
      "7:\tlearn: 0.6228654\ttotal: 16ms\tremaining: 110ms\n",
      "8:\tlearn: 0.6194306\ttotal: 17.9ms\tremaining: 107ms\n",
      "9:\tlearn: 0.6169523\ttotal: 19.7ms\tremaining: 105ms\n",
      "10:\tlearn: 0.6129391\ttotal: 21.5ms\tremaining: 102ms\n",
      "11:\tlearn: 0.6102512\ttotal: 23.5ms\tremaining: 99.8ms\n",
      "12:\tlearn: 0.6084950\ttotal: 25.4ms\tremaining: 97.5ms\n",
      "13:\tlearn: 0.6066508\ttotal: 27.1ms\tremaining: 94.9ms\n",
      "14:\tlearn: 0.6044443\ttotal: 29ms\tremaining: 92.7ms\n",
      "15:\tlearn: 0.6012895\ttotal: 30.9ms\tremaining: 90.8ms\n",
      "16:\tlearn: 0.5975724\ttotal: 32.8ms\tremaining: 88.7ms\n",
      "17:\tlearn: 0.5936863\ttotal: 35.2ms\tremaining: 87.9ms\n",
      "18:\tlearn: 0.5905760\ttotal: 37.8ms\tremaining: 87.6ms\n",
      "19:\tlearn: 0.5884629\ttotal: 39.8ms\tremaining: 85.5ms\n",
      "20:\tlearn: 0.5867709\ttotal: 41.7ms\tremaining: 83.5ms\n",
      "21:\tlearn: 0.5846156\ttotal: 43.8ms\tremaining: 81.6ms\n",
      "22:\tlearn: 0.5825501\ttotal: 45.8ms\tremaining: 79.6ms\n",
      "23:\tlearn: 0.5805187\ttotal: 47.8ms\tremaining: 77.7ms\n",
      "24:\tlearn: 0.5787587\ttotal: 49.8ms\tremaining: 75.7ms\n",
      "25:\tlearn: 0.5758849\ttotal: 51.7ms\tremaining: 73.5ms\n",
      "26:\tlearn: 0.5737805\ttotal: 53.5ms\tremaining: 71.4ms\n",
      "27:\tlearn: 0.5718963\ttotal: 55.4ms\tremaining: 69.2ms\n",
      "28:\tlearn: 0.5698316\ttotal: 57.2ms\tremaining: 67.1ms\n",
      "29:\tlearn: 0.5682093\ttotal: 59.4ms\tremaining: 65.3ms\n",
      "30:\tlearn: 0.5655775\ttotal: 61.9ms\tremaining: 63.9ms\n",
      "31:\tlearn: 0.5632531\ttotal: 63.8ms\tremaining: 61.8ms\n",
      "32:\tlearn: 0.5608209\ttotal: 65.9ms\tremaining: 59.9ms\n",
      "33:\tlearn: 0.5585025\ttotal: 67.9ms\tremaining: 57.9ms\n",
      "34:\tlearn: 0.5558111\ttotal: 70ms\tremaining: 56ms\n",
      "35:\tlearn: 0.5543034\ttotal: 72ms\tremaining: 54ms\n",
      "36:\tlearn: 0.5516619\ttotal: 73.7ms\tremaining: 51.8ms\n",
      "37:\tlearn: 0.5494516\ttotal: 75.8ms\tremaining: 49.8ms\n",
      "38:\tlearn: 0.5473722\ttotal: 77.7ms\tremaining: 47.8ms\n",
      "39:\tlearn: 0.5451573\ttotal: 80.3ms\tremaining: 46.2ms\n",
      "40:\tlearn: 0.5429949\ttotal: 82.4ms\tremaining: 44.2ms\n",
      "41:\tlearn: 0.5414840\ttotal: 84.4ms\tremaining: 42.2ms\n",
      "42:\tlearn: 0.5395299\ttotal: 86.7ms\tremaining: 40.3ms\n",
      "43:\tlearn: 0.5377185\ttotal: 88.6ms\tremaining: 38.2ms\n",
      "44:\tlearn: 0.5354914\ttotal: 90.5ms\tremaining: 36.2ms\n",
      "45:\tlearn: 0.5339881\ttotal: 92.6ms\tremaining: 34.2ms\n",
      "46:\tlearn: 0.5319396\ttotal: 94.4ms\tremaining: 32.1ms\n",
      "47:\tlearn: 0.5287669\ttotal: 96.5ms\tremaining: 30.1ms\n",
      "48:\tlearn: 0.5268395\ttotal: 98.4ms\tremaining: 28.1ms\n",
      "49:\tlearn: 0.5255329\ttotal: 100ms\tremaining: 26.1ms\n",
      "50:\tlearn: 0.5240668\ttotal: 102ms\tremaining: 24ms\n",
      "51:\tlearn: 0.5217432\ttotal: 104ms\tremaining: 22ms\n",
      "52:\tlearn: 0.5206382\ttotal: 106ms\tremaining: 20ms\n",
      "53:\tlearn: 0.5194451\ttotal: 108ms\tremaining: 18ms\n",
      "54:\tlearn: 0.5178116\ttotal: 110ms\tremaining: 16ms\n",
      "55:\tlearn: 0.5165757\ttotal: 112ms\tremaining: 14ms\n",
      "56:\tlearn: 0.5147195\ttotal: 114ms\tremaining: 12ms\n",
      "57:\tlearn: 0.5131258\ttotal: 116ms\tremaining: 9.97ms\n",
      "58:\tlearn: 0.5112766\ttotal: 118ms\tremaining: 7.97ms\n",
      "59:\tlearn: 0.5096044\ttotal: 120ms\tremaining: 5.98ms\n",
      "60:\tlearn: 0.5075320\ttotal: 122ms\tremaining: 3.99ms\n",
      "61:\tlearn: 0.5061196\ttotal: 123ms\tremaining: 1.99ms\n",
      "62:\tlearn: 0.5042592\ttotal: 125ms\tremaining: 0us\n",
      "Learning rate set to 0.265273\n",
      "0:\tlearn: 0.6734520\ttotal: 1.88ms\tremaining: 117ms\n",
      "1:\tlearn: 0.6602159\ttotal: 3.86ms\tremaining: 118ms\n",
      "2:\tlearn: 0.6496503\ttotal: 5.74ms\tremaining: 115ms\n",
      "3:\tlearn: 0.6421057\ttotal: 7.5ms\tremaining: 111ms\n",
      "4:\tlearn: 0.6354933\ttotal: 9.4ms\tremaining: 109ms\n",
      "5:\tlearn: 0.6314666\ttotal: 11.3ms\tremaining: 108ms\n",
      "6:\tlearn: 0.6274801\ttotal: 13.1ms\tremaining: 105ms\n",
      "7:\tlearn: 0.6247905\ttotal: 15.2ms\tremaining: 105ms\n",
      "8:\tlearn: 0.6194406\ttotal: 17.1ms\tremaining: 102ms\n",
      "9:\tlearn: 0.6147364\ttotal: 19.1ms\tremaining: 101ms\n",
      "10:\tlearn: 0.6109448\ttotal: 21.1ms\tremaining: 99.9ms\n",
      "11:\tlearn: 0.6073668\ttotal: 23.2ms\tremaining: 98.6ms\n",
      "12:\tlearn: 0.6049032\ttotal: 25.1ms\tremaining: 96.6ms\n",
      "13:\tlearn: 0.6018835\ttotal: 27ms\tremaining: 94.5ms\n",
      "14:\tlearn: 0.5985489\ttotal: 28.9ms\tremaining: 92.5ms\n",
      "15:\tlearn: 0.5946733\ttotal: 30.8ms\tremaining: 90.5ms\n",
      "16:\tlearn: 0.5926796\ttotal: 32.7ms\tremaining: 88.4ms\n",
      "17:\tlearn: 0.5905524\ttotal: 34.5ms\tremaining: 86.3ms\n",
      "18:\tlearn: 0.5880649\ttotal: 36.6ms\tremaining: 84.7ms\n",
      "19:\tlearn: 0.5852537\ttotal: 38.5ms\tremaining: 82.8ms\n",
      "20:\tlearn: 0.5832647\ttotal: 40.5ms\tremaining: 80.9ms\n",
      "21:\tlearn: 0.5816302\ttotal: 42.3ms\tremaining: 78.9ms\n",
      "22:\tlearn: 0.5793465\ttotal: 44.6ms\tremaining: 77.6ms\n",
      "23:\tlearn: 0.5776355\ttotal: 46.4ms\tremaining: 75.4ms\n",
      "24:\tlearn: 0.5752085\ttotal: 48.1ms\tremaining: 73.2ms\n",
      "25:\tlearn: 0.5732264\ttotal: 50ms\tremaining: 71.1ms\n",
      "26:\tlearn: 0.5708705\ttotal: 52.1ms\tremaining: 69.5ms\n",
      "27:\tlearn: 0.5692106\ttotal: 54.3ms\tremaining: 67.9ms\n",
      "28:\tlearn: 0.5671547\ttotal: 56.3ms\tremaining: 66ms\n",
      "29:\tlearn: 0.5646836\ttotal: 58.2ms\tremaining: 64.1ms\n",
      "30:\tlearn: 0.5627830\ttotal: 60.1ms\tremaining: 62.1ms\n",
      "31:\tlearn: 0.5604211\ttotal: 62ms\tremaining: 60.1ms\n",
      "32:\tlearn: 0.5579641\ttotal: 64ms\tremaining: 58.2ms\n",
      "33:\tlearn: 0.5552476\ttotal: 65.9ms\tremaining: 56.2ms\n",
      "34:\tlearn: 0.5522917\ttotal: 68ms\tremaining: 54.4ms\n",
      "35:\tlearn: 0.5506416\ttotal: 69.9ms\tremaining: 52.5ms\n",
      "36:\tlearn: 0.5482203\ttotal: 71.7ms\tremaining: 50.4ms\n",
      "37:\tlearn: 0.5458902\ttotal: 73.6ms\tremaining: 48.4ms\n",
      "38:\tlearn: 0.5439058\ttotal: 75.4ms\tremaining: 46.4ms\n"
     ]
    },
    {
     "name": "stderr",
     "output_type": "stream",
     "text": [
      "/opt/homebrew/Caskroom/miniconda/base/envs/course-work-venv/lib/python3.11/site-packages/sklearn/utils/_tags.py:322: FutureWarning: Estimator <catboost.core.CatBoostClassifier object at 0x309b5a110> has no __sklearn_tags__ attribute, which is defined in `sklearn.base.BaseEstimator`. This will raise an error in scikit-learn 1.8. Please define the __sklearn_tags__ method, or inherit from `sklearn.base.BaseEstimator` and other appropriate mixins such as `sklearn.base.TransformerMixin`, `sklearn.base.ClassifierMixin`, `sklearn.base.RegressorMixin`, and `sklearn.base.ClusterMixin`, and `sklearn.base.OutlierMixin`.\n",
      "  warnings.warn(\n",
      "/opt/homebrew/Caskroom/miniconda/base/envs/course-work-venv/lib/python3.11/site-packages/sklearn/utils/_tags.py:322: FutureWarning: Estimator <catboost.core.CatBoostClassifier object at 0x309b5a110> has no __sklearn_tags__ attribute, which is defined in `sklearn.base.BaseEstimator`. This will raise an error in scikit-learn 1.8. Please define the __sklearn_tags__ method, or inherit from `sklearn.base.BaseEstimator` and other appropriate mixins such as `sklearn.base.TransformerMixin`, `sklearn.base.ClassifierMixin`, `sklearn.base.RegressorMixin`, and `sklearn.base.ClusterMixin`, and `sklearn.base.OutlierMixin`.\n",
      "  warnings.warn(\n",
      "/opt/homebrew/Caskroom/miniconda/base/envs/course-work-venv/lib/python3.11/site-packages/sklearn/utils/_tags.py:322: FutureWarning: Estimator <catboost.core.CatBoostClassifier object at 0x309b5a110> has no __sklearn_tags__ attribute, which is defined in `sklearn.base.BaseEstimator`. This will raise an error in scikit-learn 1.8. Please define the __sklearn_tags__ method, or inherit from `sklearn.base.BaseEstimator` and other appropriate mixins such as `sklearn.base.TransformerMixin`, `sklearn.base.ClassifierMixin`, `sklearn.base.RegressorMixin`, and `sklearn.base.ClusterMixin`, and `sklearn.base.OutlierMixin`.\n",
      "  warnings.warn(\n",
      "/opt/homebrew/Caskroom/miniconda/base/envs/course-work-venv/lib/python3.11/site-packages/sklearn/utils/_tags.py:322: FutureWarning: Estimator <catboost.core.CatBoostClassifier object at 0x3088b1c90> has no __sklearn_tags__ attribute, which is defined in `sklearn.base.BaseEstimator`. This will raise an error in scikit-learn 1.8. Please define the __sklearn_tags__ method, or inherit from `sklearn.base.BaseEstimator` and other appropriate mixins such as `sklearn.base.TransformerMixin`, `sklearn.base.ClassifierMixin`, `sklearn.base.RegressorMixin`, and `sklearn.base.ClusterMixin`, and `sklearn.base.OutlierMixin`.\n",
      "  warnings.warn(\n",
      "/opt/homebrew/Caskroom/miniconda/base/envs/course-work-venv/lib/python3.11/site-packages/sklearn/utils/_tags.py:322: FutureWarning: Estimator <catboost.core.CatBoostClassifier object at 0x3088b1c90> has no __sklearn_tags__ attribute, which is defined in `sklearn.base.BaseEstimator`. This will raise an error in scikit-learn 1.8. Please define the __sklearn_tags__ method, or inherit from `sklearn.base.BaseEstimator` and other appropriate mixins such as `sklearn.base.TransformerMixin`, `sklearn.base.ClassifierMixin`, `sklearn.base.RegressorMixin`, and `sklearn.base.ClusterMixin`, and `sklearn.base.OutlierMixin`.\n",
      "  warnings.warn(\n",
      "/opt/homebrew/Caskroom/miniconda/base/envs/course-work-venv/lib/python3.11/site-packages/sklearn/utils/_tags.py:322: FutureWarning: Estimator <catboost.core.CatBoostClassifier object at 0x3088b1c90> has no __sklearn_tags__ attribute, which is defined in `sklearn.base.BaseEstimator`. This will raise an error in scikit-learn 1.8. Please define the __sklearn_tags__ method, or inherit from `sklearn.base.BaseEstimator` and other appropriate mixins such as `sklearn.base.TransformerMixin`, `sklearn.base.ClassifierMixin`, `sklearn.base.RegressorMixin`, and `sklearn.base.ClusterMixin`, and `sklearn.base.OutlierMixin`.\n",
      "  warnings.warn(\n",
      "/opt/homebrew/Caskroom/miniconda/base/envs/course-work-venv/lib/python3.11/site-packages/sklearn/utils/_tags.py:322: FutureWarning: Estimator <catboost.core.CatBoostClassifier object at 0x3088b1c90> has no __sklearn_tags__ attribute, which is defined in `sklearn.base.BaseEstimator`. This will raise an error in scikit-learn 1.8. Please define the __sklearn_tags__ method, or inherit from `sklearn.base.BaseEstimator` and other appropriate mixins such as `sklearn.base.TransformerMixin`, `sklearn.base.ClassifierMixin`, `sklearn.base.RegressorMixin`, and `sklearn.base.ClusterMixin`, and `sklearn.base.OutlierMixin`.\n",
      "  warnings.warn(\n",
      "/opt/homebrew/Caskroom/miniconda/base/envs/course-work-venv/lib/python3.11/site-packages/sklearn/utils/_tags.py:322: FutureWarning: Estimator <catboost.core.CatBoostClassifier object at 0x309b2bb10> has no __sklearn_tags__ attribute, which is defined in `sklearn.base.BaseEstimator`. This will raise an error in scikit-learn 1.8. Please define the __sklearn_tags__ method, or inherit from `sklearn.base.BaseEstimator` and other appropriate mixins such as `sklearn.base.TransformerMixin`, `sklearn.base.ClassifierMixin`, `sklearn.base.RegressorMixin`, and `sklearn.base.ClusterMixin`, and `sklearn.base.OutlierMixin`.\n",
      "  warnings.warn(\n"
     ]
    },
    {
     "name": "stdout",
     "output_type": "stream",
     "text": [
      "39:\tlearn: 0.5423411\ttotal: 77.4ms\tremaining: 44.5ms\n",
      "40:\tlearn: 0.5380421\ttotal: 79.5ms\tremaining: 42.6ms\n",
      "41:\tlearn: 0.5363723\ttotal: 81.4ms\tremaining: 40.7ms\n",
      "42:\tlearn: 0.5349401\ttotal: 83.3ms\tremaining: 38.8ms\n",
      "43:\tlearn: 0.5323844\ttotal: 85.3ms\tremaining: 36.8ms\n",
      "44:\tlearn: 0.5308629\ttotal: 87.2ms\tremaining: 34.9ms\n",
      "45:\tlearn: 0.5289463\ttotal: 89.2ms\tremaining: 33ms\n",
      "46:\tlearn: 0.5269265\ttotal: 91.4ms\tremaining: 31.1ms\n",
      "47:\tlearn: 0.5257739\ttotal: 93.7ms\tremaining: 29.3ms\n",
      "48:\tlearn: 0.5237675\ttotal: 95.7ms\tremaining: 27.3ms\n",
      "49:\tlearn: 0.5224605\ttotal: 97.6ms\tremaining: 25.4ms\n",
      "50:\tlearn: 0.5210176\ttotal: 99.4ms\tremaining: 23.4ms\n",
      "51:\tlearn: 0.5190145\ttotal: 102ms\tremaining: 21.5ms\n",
      "52:\tlearn: 0.5166303\ttotal: 104ms\tremaining: 19.6ms\n",
      "53:\tlearn: 0.5151939\ttotal: 106ms\tremaining: 17.6ms\n",
      "54:\tlearn: 0.5136644\ttotal: 108ms\tremaining: 15.7ms\n",
      "55:\tlearn: 0.5125681\ttotal: 110ms\tremaining: 13.7ms\n",
      "56:\tlearn: 0.5106523\ttotal: 112ms\tremaining: 11.7ms\n",
      "57:\tlearn: 0.5089583\ttotal: 113ms\tremaining: 9.77ms\n",
      "58:\tlearn: 0.5072996\ttotal: 115ms\tremaining: 7.82ms\n",
      "59:\tlearn: 0.5059225\ttotal: 117ms\tremaining: 5.87ms\n",
      "60:\tlearn: 0.5037155\ttotal: 119ms\tremaining: 3.91ms\n",
      "61:\tlearn: 0.5021154\ttotal: 121ms\tremaining: 1.95ms\n",
      "62:\tlearn: 0.5006878\ttotal: 123ms\tremaining: 0us\n",
      "Learning rate set to 0.265273\n",
      "0:\tlearn: 0.6745486\ttotal: 1.92ms\tremaining: 119ms\n",
      "1:\tlearn: 0.6599638\ttotal: 3.77ms\tremaining: 115ms\n",
      "2:\tlearn: 0.6494370\ttotal: 5.78ms\tremaining: 116ms\n",
      "3:\tlearn: 0.6434130\ttotal: 7.88ms\tremaining: 116ms\n",
      "4:\tlearn: 0.6394558\ttotal: 9.8ms\tremaining: 114ms\n",
      "5:\tlearn: 0.6344125\ttotal: 11.7ms\tremaining: 111ms\n",
      "6:\tlearn: 0.6293510\ttotal: 13.6ms\tremaining: 109ms\n",
      "7:\tlearn: 0.6247652\ttotal: 15.5ms\tremaining: 107ms\n",
      "8:\tlearn: 0.6201048\ttotal: 17.4ms\tremaining: 105ms\n",
      "9:\tlearn: 0.6152136\ttotal: 19.4ms\tremaining: 103ms\n",
      "10:\tlearn: 0.6129354\ttotal: 21.5ms\tremaining: 102ms\n",
      "11:\tlearn: 0.6095503\ttotal: 23.9ms\tremaining: 102ms\n",
      "12:\tlearn: 0.6070993\ttotal: 25.8ms\tremaining: 99.4ms\n",
      "13:\tlearn: 0.6028915\ttotal: 28.2ms\tremaining: 98.5ms\n",
      "14:\tlearn: 0.5987942\ttotal: 30.1ms\tremaining: 96.4ms\n",
      "15:\tlearn: 0.5958534\ttotal: 32.1ms\tremaining: 94.4ms\n",
      "16:\tlearn: 0.5929085\ttotal: 34ms\tremaining: 92ms\n",
      "17:\tlearn: 0.5907378\ttotal: 35.8ms\tremaining: 89.6ms\n",
      "18:\tlearn: 0.5852105\ttotal: 37.8ms\tremaining: 87.5ms\n",
      "19:\tlearn: 0.5825789\ttotal: 39.7ms\tremaining: 85.3ms\n",
      "20:\tlearn: 0.5802490\ttotal: 41.6ms\tremaining: 83.2ms\n",
      "21:\tlearn: 0.5774556\ttotal: 43.7ms\tremaining: 81.4ms\n",
      "22:\tlearn: 0.5756564\ttotal: 45.6ms\tremaining: 79.3ms\n",
      "23:\tlearn: 0.5730110\ttotal: 47.5ms\tremaining: 77.2ms\n",
      "24:\tlearn: 0.5703705\ttotal: 49.3ms\tremaining: 74.9ms\n",
      "25:\tlearn: 0.5687417\ttotal: 51.3ms\tremaining: 73ms\n",
      "26:\tlearn: 0.5662963\ttotal: 53.2ms\tremaining: 70.9ms\n",
      "27:\tlearn: 0.5633759\ttotal: 55ms\tremaining: 68.8ms\n",
      "28:\tlearn: 0.5609576\ttotal: 57.4ms\tremaining: 67.2ms\n",
      "29:\tlearn: 0.5586841\ttotal: 59.9ms\tremaining: 65.9ms\n",
      "30:\tlearn: 0.5564584\ttotal: 61.9ms\tremaining: 63.9ms\n",
      "31:\tlearn: 0.5544445\ttotal: 63.8ms\tremaining: 61.8ms\n",
      "32:\tlearn: 0.5522786\ttotal: 65.6ms\tremaining: 59.6ms\n",
      "33:\tlearn: 0.5498370\ttotal: 67.4ms\tremaining: 57.5ms\n",
      "34:\tlearn: 0.5483232\ttotal: 69.1ms\tremaining: 55.3ms\n",
      "35:\tlearn: 0.5460778\ttotal: 71.1ms\tremaining: 53.3ms\n",
      "36:\tlearn: 0.5438813\ttotal: 72.9ms\tremaining: 51.3ms\n",
      "37:\tlearn: 0.5418232\ttotal: 74.7ms\tremaining: 49.1ms\n",
      "38:\tlearn: 0.5399791\ttotal: 76.7ms\tremaining: 47.2ms\n",
      "39:\tlearn: 0.5381999\ttotal: 78.5ms\tremaining: 45.1ms\n",
      "40:\tlearn: 0.5363321\ttotal: 80.5ms\tremaining: 43.2ms\n",
      "41:\tlearn: 0.5343776\ttotal: 82.4ms\tremaining: 41.2ms\n",
      "42:\tlearn: 0.5326489\ttotal: 84.3ms\tremaining: 39.2ms\n",
      "43:\tlearn: 0.5302267\ttotal: 86.3ms\tremaining: 37.3ms\n",
      "44:\tlearn: 0.5281966\ttotal: 88.2ms\tremaining: 35.3ms\n",
      "45:\tlearn: 0.5268343\ttotal: 90.1ms\tremaining: 33.3ms\n",
      "46:\tlearn: 0.5255447\ttotal: 92.2ms\tremaining: 31.4ms\n",
      "47:\tlearn: 0.5238359\ttotal: 94.9ms\tremaining: 29.7ms\n",
      "48:\tlearn: 0.5223715\ttotal: 97.4ms\tremaining: 27.8ms\n",
      "49:\tlearn: 0.5211470\ttotal: 99.3ms\tremaining: 25.8ms\n",
      "50:\tlearn: 0.5182883\ttotal: 101ms\tremaining: 23.8ms\n",
      "51:\tlearn: 0.5162681\ttotal: 104ms\tremaining: 21.9ms\n",
      "52:\tlearn: 0.5149257\ttotal: 106ms\tremaining: 19.9ms\n",
      "53:\tlearn: 0.5136031\ttotal: 107ms\tremaining: 17.9ms\n",
      "54:\tlearn: 0.5122374\ttotal: 109ms\tremaining: 15.9ms\n",
      "55:\tlearn: 0.5099681\ttotal: 112ms\tremaining: 13.9ms\n",
      "56:\tlearn: 0.5085519\ttotal: 113ms\tremaining: 11.9ms\n",
      "57:\tlearn: 0.5064502\ttotal: 116ms\tremaining: 9.96ms\n",
      "58:\tlearn: 0.5041801\ttotal: 118ms\tremaining: 7.97ms\n",
      "59:\tlearn: 0.5026471\ttotal: 119ms\tremaining: 5.97ms\n",
      "60:\tlearn: 0.5015761\ttotal: 122ms\tremaining: 3.99ms\n",
      "61:\tlearn: 0.5002432\ttotal: 124ms\tremaining: 2ms\n",
      "62:\tlearn: 0.4989941\ttotal: 126ms\tremaining: 0us\n",
      "Learning rate set to 0.265273\n",
      "0:\tlearn: 0.6670108\ttotal: 2.03ms\tremaining: 126ms\n",
      "1:\tlearn: 0.6507113\ttotal: 3.96ms\tremaining: 121ms\n",
      "2:\tlearn: 0.6428788\ttotal: 5.73ms\tremaining: 115ms\n",
      "3:\tlearn: 0.6326164\ttotal: 7.57ms\tremaining: 112ms\n",
      "4:\tlearn: 0.6240263\ttotal: 10.1ms\tremaining: 117ms\n",
      "5:\tlearn: 0.6169004\ttotal: 12ms\tremaining: 114ms\n",
      "6:\tlearn: 0.6124818\ttotal: 13.8ms\tremaining: 110ms\n",
      "7:\tlearn: 0.6078782\ttotal: 16.1ms\tremaining: 110ms\n",
      "8:\tlearn: 0.6038202\ttotal: 18.1ms\tremaining: 109ms\n",
      "9:\tlearn: 0.6009202\ttotal: 19.9ms\tremaining: 105ms\n",
      "10:\tlearn: 0.5977225\ttotal: 21.6ms\tremaining: 102ms\n",
      "11:\tlearn: 0.5947045\ttotal: 23.4ms\tremaining: 99.5ms\n",
      "12:\tlearn: 0.5923565\ttotal: 25.2ms\tremaining: 97ms\n",
      "13:\tlearn: 0.5895598\ttotal: 27.3ms\tremaining: 95.7ms\n",
      "14:\tlearn: 0.5862423\ttotal: 29.1ms\tremaining: 93ms\n",
      "15:\tlearn: 0.5827933\ttotal: 31ms\tremaining: 91ms\n",
      "16:\tlearn: 0.5811098\ttotal: 32.7ms\tremaining: 88.5ms\n",
      "17:\tlearn: 0.5791983\ttotal: 34.3ms\tremaining: 85.8ms\n",
      "18:\tlearn: 0.5757695\ttotal: 36.1ms\tremaining: 83.6ms\n",
      "19:\tlearn: 0.5733908\ttotal: 37.9ms\tremaining: 81.5ms\n",
      "20:\tlearn: 0.5710756\ttotal: 39.9ms\tremaining: 79.8ms\n",
      "21:\tlearn: 0.5689245\ttotal: 41.5ms\tremaining: 77.4ms\n",
      "22:\tlearn: 0.5662904\ttotal: 43.3ms\tremaining: 75.3ms\n",
      "23:\tlearn: 0.5641374\ttotal: 45ms\tremaining: 73.2ms\n",
      "24:\tlearn: 0.5615828\ttotal: 46.8ms\tremaining: 71.2ms\n",
      "25:\tlearn: 0.5598215\ttotal: 48.6ms\tremaining: 69.1ms\n",
      "26:\tlearn: 0.5582060\ttotal: 50.3ms\tremaining: 67ms\n",
      "27:\tlearn: 0.5566392\ttotal: 52.1ms\tremaining: 65.2ms\n",
      "28:\tlearn: 0.5544426\ttotal: 53.9ms\tremaining: 63.2ms\n",
      "29:\tlearn: 0.5528667\ttotal: 55.6ms\tremaining: 61.2ms\n",
      "30:\tlearn: 0.5505782\ttotal: 57.4ms\tremaining: 59.3ms\n",
      "31:\tlearn: 0.5484051\ttotal: 59.4ms\tremaining: 57.5ms\n",
      "32:\tlearn: 0.5459643\ttotal: 61.2ms\tremaining: 55.6ms\n",
      "33:\tlearn: 0.5441546\ttotal: 62.9ms\tremaining: 53.7ms\n",
      "34:\tlearn: 0.5420206\ttotal: 64.7ms\tremaining: 51.8ms\n",
      "35:\tlearn: 0.5398220\ttotal: 66.4ms\tremaining: 49.8ms\n",
      "36:\tlearn: 0.5377278\ttotal: 68.2ms\tremaining: 47.9ms\n",
      "37:\tlearn: 0.5354029\ttotal: 70.1ms\tremaining: 46.1ms\n",
      "38:\tlearn: 0.5338291\ttotal: 71.9ms\tremaining: 44.2ms\n",
      "39:\tlearn: 0.5313354\ttotal: 73.6ms\tremaining: 42.3ms\n",
      "40:\tlearn: 0.5291956\ttotal: 75.4ms\tremaining: 40.4ms\n",
      "41:\tlearn: 0.5271781\ttotal: 77.1ms\tremaining: 38.6ms\n",
      "42:\tlearn: 0.5247919\ttotal: 78.8ms\tremaining: 36.7ms\n",
      "43:\tlearn: 0.5228696\ttotal: 80.5ms\tremaining: 34.8ms\n",
      "44:\tlearn: 0.5211832\ttotal: 82.2ms\tremaining: 32.9ms\n",
      "45:\tlearn: 0.5198661\ttotal: 84ms\tremaining: 31ms\n",
      "46:\tlearn: 0.5180233\ttotal: 85.6ms\tremaining: 29.1ms\n",
      "47:\tlearn: 0.5163506\ttotal: 87.5ms\tremaining: 27.3ms\n",
      "48:\tlearn: 0.5149302\ttotal: 89.2ms\tremaining: 25.5ms\n"
     ]
    },
    {
     "name": "stderr",
     "output_type": "stream",
     "text": [
      "/opt/homebrew/Caskroom/miniconda/base/envs/course-work-venv/lib/python3.11/site-packages/sklearn/utils/_tags.py:322: FutureWarning: Estimator <catboost.core.CatBoostClassifier object at 0x309b2bb10> has no __sklearn_tags__ attribute, which is defined in `sklearn.base.BaseEstimator`. This will raise an error in scikit-learn 1.8. Please define the __sklearn_tags__ method, or inherit from `sklearn.base.BaseEstimator` and other appropriate mixins such as `sklearn.base.TransformerMixin`, `sklearn.base.ClassifierMixin`, `sklearn.base.RegressorMixin`, and `sklearn.base.ClusterMixin`, and `sklearn.base.OutlierMixin`.\n",
      "  warnings.warn(\n",
      "/opt/homebrew/Caskroom/miniconda/base/envs/course-work-venv/lib/python3.11/site-packages/sklearn/utils/_tags.py:322: FutureWarning: Estimator <catboost.core.CatBoostClassifier object at 0x309b2bb10> has no __sklearn_tags__ attribute, which is defined in `sklearn.base.BaseEstimator`. This will raise an error in scikit-learn 1.8. Please define the __sklearn_tags__ method, or inherit from `sklearn.base.BaseEstimator` and other appropriate mixins such as `sklearn.base.TransformerMixin`, `sklearn.base.ClassifierMixin`, `sklearn.base.RegressorMixin`, and `sklearn.base.ClusterMixin`, and `sklearn.base.OutlierMixin`.\n",
      "  warnings.warn(\n",
      "/opt/homebrew/Caskroom/miniconda/base/envs/course-work-venv/lib/python3.11/site-packages/sklearn/utils/_tags.py:322: FutureWarning: Estimator <catboost.core.CatBoostClassifier object at 0x309b2bb10> has no __sklearn_tags__ attribute, which is defined in `sklearn.base.BaseEstimator`. This will raise an error in scikit-learn 1.8. Please define the __sklearn_tags__ method, or inherit from `sklearn.base.BaseEstimator` and other appropriate mixins such as `sklearn.base.TransformerMixin`, `sklearn.base.ClassifierMixin`, `sklearn.base.RegressorMixin`, and `sklearn.base.ClusterMixin`, and `sklearn.base.OutlierMixin`.\n",
      "  warnings.warn(\n",
      "/opt/homebrew/Caskroom/miniconda/base/envs/course-work-venv/lib/python3.11/site-packages/sklearn/utils/_tags.py:322: FutureWarning: Estimator <catboost.core.CatBoostClassifier object at 0x17a6e1910> has no __sklearn_tags__ attribute, which is defined in `sklearn.base.BaseEstimator`. This will raise an error in scikit-learn 1.8. Please define the __sklearn_tags__ method, or inherit from `sklearn.base.BaseEstimator` and other appropriate mixins such as `sklearn.base.TransformerMixin`, `sklearn.base.ClassifierMixin`, `sklearn.base.RegressorMixin`, and `sklearn.base.ClusterMixin`, and `sklearn.base.OutlierMixin`.\n",
      "  warnings.warn(\n",
      "/opt/homebrew/Caskroom/miniconda/base/envs/course-work-venv/lib/python3.11/site-packages/sklearn/utils/_tags.py:322: FutureWarning: Estimator <catboost.core.CatBoostClassifier object at 0x17a6e1910> has no __sklearn_tags__ attribute, which is defined in `sklearn.base.BaseEstimator`. This will raise an error in scikit-learn 1.8. Please define the __sklearn_tags__ method, or inherit from `sklearn.base.BaseEstimator` and other appropriate mixins such as `sklearn.base.TransformerMixin`, `sklearn.base.ClassifierMixin`, `sklearn.base.RegressorMixin`, and `sklearn.base.ClusterMixin`, and `sklearn.base.OutlierMixin`.\n",
      "  warnings.warn(\n",
      "/opt/homebrew/Caskroom/miniconda/base/envs/course-work-venv/lib/python3.11/site-packages/sklearn/utils/_tags.py:322: FutureWarning: Estimator <catboost.core.CatBoostClassifier object at 0x17a6e1910> has no __sklearn_tags__ attribute, which is defined in `sklearn.base.BaseEstimator`. This will raise an error in scikit-learn 1.8. Please define the __sklearn_tags__ method, or inherit from `sklearn.base.BaseEstimator` and other appropriate mixins such as `sklearn.base.TransformerMixin`, `sklearn.base.ClassifierMixin`, `sklearn.base.RegressorMixin`, and `sklearn.base.ClusterMixin`, and `sklearn.base.OutlierMixin`.\n",
      "  warnings.warn(\n",
      "/opt/homebrew/Caskroom/miniconda/base/envs/course-work-venv/lib/python3.11/site-packages/sklearn/utils/_tags.py:322: FutureWarning: Estimator <catboost.core.CatBoostClassifier object at 0x17a6e1910> has no __sklearn_tags__ attribute, which is defined in `sklearn.base.BaseEstimator`. This will raise an error in scikit-learn 1.8. Please define the __sklearn_tags__ method, or inherit from `sklearn.base.BaseEstimator` and other appropriate mixins such as `sklearn.base.TransformerMixin`, `sklearn.base.ClassifierMixin`, `sklearn.base.RegressorMixin`, and `sklearn.base.ClusterMixin`, and `sklearn.base.OutlierMixin`.\n",
      "  warnings.warn(\n",
      "/opt/homebrew/Caskroom/miniconda/base/envs/course-work-venv/lib/python3.11/site-packages/sklearn/utils/_tags.py:322: FutureWarning: Estimator <catboost.core.CatBoostClassifier object at 0x30a6d4590> has no __sklearn_tags__ attribute, which is defined in `sklearn.base.BaseEstimator`. This will raise an error in scikit-learn 1.8. Please define the __sklearn_tags__ method, or inherit from `sklearn.base.BaseEstimator` and other appropriate mixins such as `sklearn.base.TransformerMixin`, `sklearn.base.ClassifierMixin`, `sklearn.base.RegressorMixin`, and `sklearn.base.ClusterMixin`, and `sklearn.base.OutlierMixin`.\n",
      "  warnings.warn(\n"
     ]
    },
    {
     "name": "stdout",
     "output_type": "stream",
     "text": [
      "49:\tlearn: 0.5135330\ttotal: 91.1ms\tremaining: 23.7ms\n",
      "50:\tlearn: 0.5114627\ttotal: 92.9ms\tremaining: 21.9ms\n",
      "51:\tlearn: 0.5100422\ttotal: 94.6ms\tremaining: 20ms\n",
      "52:\tlearn: 0.5086446\ttotal: 96.4ms\tremaining: 18.2ms\n",
      "53:\tlearn: 0.5070521\ttotal: 98.1ms\tremaining: 16.4ms\n",
      "54:\tlearn: 0.5045762\ttotal: 100ms\tremaining: 14.6ms\n",
      "55:\tlearn: 0.5033773\ttotal: 102ms\tremaining: 12.8ms\n",
      "56:\tlearn: 0.5019562\ttotal: 104ms\tremaining: 11ms\n",
      "57:\tlearn: 0.4997889\ttotal: 106ms\tremaining: 9.16ms\n",
      "58:\tlearn: 0.4983811\ttotal: 109ms\tremaining: 7.36ms\n",
      "59:\tlearn: 0.4966864\ttotal: 111ms\tremaining: 5.56ms\n",
      "60:\tlearn: 0.4884306\ttotal: 113ms\tremaining: 3.71ms\n",
      "61:\tlearn: 0.4867499\ttotal: 115ms\tremaining: 1.85ms\n",
      "62:\tlearn: 0.4842729\ttotal: 117ms\tremaining: 0us\n",
      "Learning rate set to 0.265273\n",
      "0:\tlearn: 0.6723616\ttotal: 2.4ms\tremaining: 149ms\n",
      "1:\tlearn: 0.6580386\ttotal: 4.25ms\tremaining: 130ms\n",
      "2:\tlearn: 0.6444297\ttotal: 6.16ms\tremaining: 123ms\n",
      "3:\tlearn: 0.6390720\ttotal: 8.11ms\tremaining: 120ms\n",
      "4:\tlearn: 0.6341224\ttotal: 9.96ms\tremaining: 115ms\n",
      "5:\tlearn: 0.6279862\ttotal: 12ms\tremaining: 114ms\n",
      "6:\tlearn: 0.6224904\ttotal: 14.1ms\tremaining: 112ms\n",
      "7:\tlearn: 0.6182728\ttotal: 16.2ms\tremaining: 111ms\n",
      "8:\tlearn: 0.6152623\ttotal: 18.1ms\tremaining: 108ms\n",
      "9:\tlearn: 0.6110672\ttotal: 20.1ms\tremaining: 106ms\n",
      "10:\tlearn: 0.6081611\ttotal: 21.9ms\tremaining: 103ms\n",
      "11:\tlearn: 0.6060743\ttotal: 23.8ms\tremaining: 101ms\n",
      "12:\tlearn: 0.6014979\ttotal: 25.7ms\tremaining: 98.7ms\n",
      "13:\tlearn: 0.5982206\ttotal: 27.4ms\tremaining: 96ms\n",
      "14:\tlearn: 0.5946256\ttotal: 29.5ms\tremaining: 94.4ms\n",
      "15:\tlearn: 0.5917912\ttotal: 31.5ms\tremaining: 92.5ms\n",
      "16:\tlearn: 0.5890645\ttotal: 33.5ms\tremaining: 90.6ms\n",
      "17:\tlearn: 0.5863063\ttotal: 35.4ms\tremaining: 88.5ms\n",
      "18:\tlearn: 0.5832079\ttotal: 37.4ms\tremaining: 86.7ms\n",
      "19:\tlearn: 0.5806112\ttotal: 39.3ms\tremaining: 84.5ms\n",
      "20:\tlearn: 0.5788872\ttotal: 41.3ms\tremaining: 82.5ms\n",
      "21:\tlearn: 0.5764920\ttotal: 43.2ms\tremaining: 80.5ms\n",
      "22:\tlearn: 0.5746490\ttotal: 45ms\tremaining: 78.3ms\n",
      "23:\tlearn: 0.5721899\ttotal: 46.9ms\tremaining: 76.1ms\n",
      "24:\tlearn: 0.5700377\ttotal: 48.8ms\tremaining: 74.2ms\n",
      "25:\tlearn: 0.5686349\ttotal: 50.6ms\tremaining: 72ms\n",
      "26:\tlearn: 0.5666392\ttotal: 52.4ms\tremaining: 69.9ms\n",
      "27:\tlearn: 0.5652397\ttotal: 54.3ms\tremaining: 67.9ms\n",
      "28:\tlearn: 0.5596068\ttotal: 56.3ms\tremaining: 66ms\n",
      "29:\tlearn: 0.5584649\ttotal: 58.2ms\tremaining: 64ms\n",
      "30:\tlearn: 0.5557888\ttotal: 60.1ms\tremaining: 62ms\n",
      "31:\tlearn: 0.5528381\ttotal: 61.9ms\tremaining: 59.9ms\n",
      "32:\tlearn: 0.5511679\ttotal: 63.7ms\tremaining: 57.9ms\n",
      "33:\tlearn: 0.5490578\ttotal: 65.7ms\tremaining: 56ms\n",
      "34:\tlearn: 0.5471750\ttotal: 67.6ms\tremaining: 54.1ms\n",
      "35:\tlearn: 0.5451808\ttotal: 69.5ms\tremaining: 52.1ms\n",
      "36:\tlearn: 0.5429755\ttotal: 71.4ms\tremaining: 50.2ms\n",
      "37:\tlearn: 0.5397288\ttotal: 73.3ms\tremaining: 48.3ms\n",
      "38:\tlearn: 0.5381630\ttotal: 75.5ms\tremaining: 46.5ms\n",
      "39:\tlearn: 0.5359244\ttotal: 77.3ms\tremaining: 44.4ms\n",
      "40:\tlearn: 0.5336649\ttotal: 79.1ms\tremaining: 42.5ms\n",
      "41:\tlearn: 0.5320267\ttotal: 81ms\tremaining: 40.5ms\n",
      "42:\tlearn: 0.5298038\ttotal: 82.9ms\tremaining: 38.6ms\n",
      "43:\tlearn: 0.5284680\ttotal: 84.8ms\tremaining: 36.6ms\n",
      "44:\tlearn: 0.5266216\ttotal: 86.7ms\tremaining: 34.7ms\n",
      "45:\tlearn: 0.5250603\ttotal: 88.5ms\tremaining: 32.7ms\n",
      "46:\tlearn: 0.5227484\ttotal: 90.6ms\tremaining: 30.8ms\n",
      "47:\tlearn: 0.5210255\ttotal: 92.4ms\tremaining: 28.9ms\n",
      "48:\tlearn: 0.5190509\ttotal: 94.2ms\tremaining: 26.9ms\n",
      "49:\tlearn: 0.5174575\ttotal: 96.2ms\tremaining: 25ms\n",
      "50:\tlearn: 0.5162983\ttotal: 98.2ms\tremaining: 23.1ms\n",
      "51:\tlearn: 0.5140739\ttotal: 100ms\tremaining: 21.2ms\n",
      "52:\tlearn: 0.5120740\ttotal: 102ms\tremaining: 19.2ms\n",
      "53:\tlearn: 0.5108227\ttotal: 104ms\tremaining: 17.3ms\n",
      "54:\tlearn: 0.5093025\ttotal: 106ms\tremaining: 15.4ms\n",
      "55:\tlearn: 0.5075896\ttotal: 108ms\tremaining: 13.4ms\n",
      "56:\tlearn: 0.5059467\ttotal: 109ms\tremaining: 11.5ms\n",
      "57:\tlearn: 0.5042632\ttotal: 111ms\tremaining: 9.6ms\n",
      "58:\tlearn: 0.5029012\ttotal: 113ms\tremaining: 7.68ms\n",
      "59:\tlearn: 0.5012612\ttotal: 115ms\tremaining: 5.76ms\n",
      "60:\tlearn: 0.4999039\ttotal: 117ms\tremaining: 3.84ms\n",
      "61:\tlearn: 0.4978982\ttotal: 119ms\tremaining: 1.92ms\n",
      "62:\tlearn: 0.4963426\ttotal: 121ms\tremaining: 0us\n",
      "Learning rate set to 0.265273\n",
      "0:\tlearn: 0.6701351\ttotal: 2.01ms\tremaining: 125ms\n",
      "1:\tlearn: 0.6596271\ttotal: 3.92ms\tremaining: 120ms\n",
      "2:\tlearn: 0.6473784\ttotal: 6.13ms\tremaining: 123ms\n",
      "3:\tlearn: 0.6373698\ttotal: 7.99ms\tremaining: 118ms\n",
      "4:\tlearn: 0.6325251\ttotal: 9.92ms\tremaining: 115ms\n",
      "5:\tlearn: 0.6276041\ttotal: 11.8ms\tremaining: 112ms\n",
      "6:\tlearn: 0.6237665\ttotal: 13.7ms\tremaining: 110ms\n",
      "7:\tlearn: 0.6201231\ttotal: 15.6ms\tremaining: 108ms\n",
      "8:\tlearn: 0.6149449\ttotal: 17.6ms\tremaining: 106ms\n",
      "9:\tlearn: 0.6123306\ttotal: 19.5ms\tremaining: 103ms\n",
      "10:\tlearn: 0.6096584\ttotal: 21.5ms\tremaining: 102ms\n",
      "11:\tlearn: 0.6079422\ttotal: 23.5ms\tremaining: 99.8ms\n",
      "12:\tlearn: 0.6050001\ttotal: 25.4ms\tremaining: 97.7ms\n",
      "13:\tlearn: 0.6018738\ttotal: 27.4ms\tremaining: 95.9ms\n",
      "14:\tlearn: 0.5980492\ttotal: 29.4ms\tremaining: 94.2ms\n",
      "15:\tlearn: 0.5962433\ttotal: 31.3ms\tremaining: 91.9ms\n",
      "16:\tlearn: 0.5949846\ttotal: 33.6ms\tremaining: 90.9ms\n",
      "17:\tlearn: 0.5925320\ttotal: 35.6ms\tremaining: 89ms\n",
      "18:\tlearn: 0.5890339\ttotal: 37.5ms\tremaining: 86.7ms\n",
      "19:\tlearn: 0.5862346\ttotal: 39.4ms\tremaining: 84.7ms\n",
      "20:\tlearn: 0.5835432\ttotal: 41.2ms\tremaining: 82.5ms\n",
      "21:\tlearn: 0.5805124\ttotal: 43.3ms\tremaining: 80.7ms\n",
      "22:\tlearn: 0.5783708\ttotal: 45.3ms\tremaining: 78.9ms\n",
      "23:\tlearn: 0.5761623\ttotal: 47.2ms\tremaining: 76.6ms\n",
      "24:\tlearn: 0.5742679\ttotal: 49ms\tremaining: 74.5ms\n",
      "25:\tlearn: 0.5725510\ttotal: 50.9ms\tremaining: 72.4ms\n",
      "26:\tlearn: 0.5708092\ttotal: 52.7ms\tremaining: 70.3ms\n",
      "27:\tlearn: 0.5690153\ttotal: 54.6ms\tremaining: 68.3ms\n",
      "28:\tlearn: 0.5674039\ttotal: 56.6ms\tremaining: 66.3ms\n",
      "29:\tlearn: 0.5654530\ttotal: 58.5ms\tremaining: 64.3ms\n",
      "30:\tlearn: 0.5634504\ttotal: 60.5ms\tremaining: 62.4ms\n",
      "31:\tlearn: 0.5615407\ttotal: 62.4ms\tremaining: 60.4ms\n",
      "32:\tlearn: 0.5595495\ttotal: 64.2ms\tremaining: 58.3ms\n",
      "33:\tlearn: 0.5576906\ttotal: 66.1ms\tremaining: 56.4ms\n",
      "34:\tlearn: 0.5556391\ttotal: 67.9ms\tremaining: 54.3ms\n",
      "35:\tlearn: 0.5535025\ttotal: 69.7ms\tremaining: 52.3ms\n",
      "36:\tlearn: 0.5517076\ttotal: 71.6ms\tremaining: 50.3ms\n",
      "37:\tlearn: 0.5490664\ttotal: 73.4ms\tremaining: 48.3ms\n",
      "38:\tlearn: 0.5469452\ttotal: 75.3ms\tremaining: 46.3ms\n",
      "39:\tlearn: 0.5445277\ttotal: 77.1ms\tremaining: 44.3ms\n",
      "40:\tlearn: 0.5421764\ttotal: 78.9ms\tremaining: 42.4ms\n",
      "41:\tlearn: 0.5400121\ttotal: 80.7ms\tremaining: 40.4ms\n",
      "42:\tlearn: 0.5377749\ttotal: 82.9ms\tremaining: 38.6ms\n",
      "43:\tlearn: 0.5359319\ttotal: 85ms\tremaining: 36.7ms\n",
      "44:\tlearn: 0.5343951\ttotal: 87.1ms\tremaining: 34.9ms\n",
      "45:\tlearn: 0.5323490\ttotal: 89ms\tremaining: 32.9ms\n",
      "46:\tlearn: 0.5302334\ttotal: 90.9ms\tremaining: 31ms\n",
      "47:\tlearn: 0.5285898\ttotal: 92.9ms\tremaining: 29ms\n",
      "48:\tlearn: 0.5258238\ttotal: 94.7ms\tremaining: 27.1ms\n",
      "49:\tlearn: 0.5246116\ttotal: 96.5ms\tremaining: 25.1ms\n",
      "50:\tlearn: 0.5226328\ttotal: 98.4ms\tremaining: 23.2ms\n",
      "51:\tlearn: 0.5212097\ttotal: 100ms\tremaining: 21.3ms\n",
      "52:\tlearn: 0.5198621\ttotal: 102ms\tremaining: 19.3ms\n",
      "53:\tlearn: 0.5180149\ttotal: 104ms\tremaining: 17.4ms\n",
      "54:\tlearn: 0.5162019\ttotal: 106ms\tremaining: 15.4ms\n",
      "55:\tlearn: 0.5146457\ttotal: 108ms\tremaining: 13.5ms\n",
      "56:\tlearn: 0.5133435\ttotal: 110ms\tremaining: 11.6ms\n",
      "57:\tlearn: 0.5121817\ttotal: 112ms\tremaining: 9.64ms\n",
      "58:\tlearn: 0.5107389\ttotal: 114ms\tremaining: 7.71ms\n",
      "59:\tlearn: 0.5093533\ttotal: 116ms\tremaining: 5.78ms\n",
      "60:\tlearn: 0.5070571\ttotal: 118ms\tremaining: 3.85ms\n",
      "61:\tlearn: 0.5058510\ttotal: 120ms\tremaining: 1.93ms\n",
      "62:\tlearn: 0.5046846\ttotal: 122ms\tremaining: 0us\n",
      "CPU times: user 4.44 s, sys: 1.54 s, total: 5.98 s\n",
      "Wall time: 1.95 s\n"
     ]
    },
    {
     "name": "stderr",
     "output_type": "stream",
     "text": [
      "/opt/homebrew/Caskroom/miniconda/base/envs/course-work-venv/lib/python3.11/site-packages/sklearn/utils/_tags.py:322: FutureWarning: Estimator <catboost.core.CatBoostClassifier object at 0x30a6d4590> has no __sklearn_tags__ attribute, which is defined in `sklearn.base.BaseEstimator`. This will raise an error in scikit-learn 1.8. Please define the __sklearn_tags__ method, or inherit from `sklearn.base.BaseEstimator` and other appropriate mixins such as `sklearn.base.TransformerMixin`, `sklearn.base.ClassifierMixin`, `sklearn.base.RegressorMixin`, and `sklearn.base.ClusterMixin`, and `sklearn.base.OutlierMixin`.\n",
      "  warnings.warn(\n",
      "/opt/homebrew/Caskroom/miniconda/base/envs/course-work-venv/lib/python3.11/site-packages/sklearn/utils/_tags.py:322: FutureWarning: Estimator <catboost.core.CatBoostClassifier object at 0x30a6d4590> has no __sklearn_tags__ attribute, which is defined in `sklearn.base.BaseEstimator`. This will raise an error in scikit-learn 1.8. Please define the __sklearn_tags__ method, or inherit from `sklearn.base.BaseEstimator` and other appropriate mixins such as `sklearn.base.TransformerMixin`, `sklearn.base.ClassifierMixin`, `sklearn.base.RegressorMixin`, and `sklearn.base.ClusterMixin`, and `sklearn.base.OutlierMixin`.\n",
      "  warnings.warn(\n",
      "/opt/homebrew/Caskroom/miniconda/base/envs/course-work-venv/lib/python3.11/site-packages/sklearn/utils/_tags.py:322: FutureWarning: Estimator <catboost.core.CatBoostClassifier object at 0x30a6d4590> has no __sklearn_tags__ attribute, which is defined in `sklearn.base.BaseEstimator`. This will raise an error in scikit-learn 1.8. Please define the __sklearn_tags__ method, or inherit from `sklearn.base.BaseEstimator` and other appropriate mixins such as `sklearn.base.TransformerMixin`, `sklearn.base.ClassifierMixin`, `sklearn.base.RegressorMixin`, and `sklearn.base.ClusterMixin`, and `sklearn.base.OutlierMixin`.\n",
      "  warnings.warn(\n",
      "/opt/homebrew/Caskroom/miniconda/base/envs/course-work-venv/lib/python3.11/site-packages/sklearn/utils/_tags.py:322: FutureWarning: Estimator <catboost.core.CatBoostClassifier object at 0x17a5b5150> has no __sklearn_tags__ attribute, which is defined in `sklearn.base.BaseEstimator`. This will raise an error in scikit-learn 1.8. Please define the __sklearn_tags__ method, or inherit from `sklearn.base.BaseEstimator` and other appropriate mixins such as `sklearn.base.TransformerMixin`, `sklearn.base.ClassifierMixin`, `sklearn.base.RegressorMixin`, and `sklearn.base.ClusterMixin`, and `sklearn.base.OutlierMixin`.\n",
      "  warnings.warn(\n",
      "/opt/homebrew/Caskroom/miniconda/base/envs/course-work-venv/lib/python3.11/site-packages/sklearn/utils/_tags.py:322: FutureWarning: Estimator <catboost.core.CatBoostClassifier object at 0x17a5b5150> has no __sklearn_tags__ attribute, which is defined in `sklearn.base.BaseEstimator`. This will raise an error in scikit-learn 1.8. Please define the __sklearn_tags__ method, or inherit from `sklearn.base.BaseEstimator` and other appropriate mixins such as `sklearn.base.TransformerMixin`, `sklearn.base.ClassifierMixin`, `sklearn.base.RegressorMixin`, and `sklearn.base.ClusterMixin`, and `sklearn.base.OutlierMixin`.\n",
      "  warnings.warn(\n",
      "/opt/homebrew/Caskroom/miniconda/base/envs/course-work-venv/lib/python3.11/site-packages/sklearn/utils/_tags.py:322: FutureWarning: Estimator <catboost.core.CatBoostClassifier object at 0x17a5b5150> has no __sklearn_tags__ attribute, which is defined in `sklearn.base.BaseEstimator`. This will raise an error in scikit-learn 1.8. Please define the __sklearn_tags__ method, or inherit from `sklearn.base.BaseEstimator` and other appropriate mixins such as `sklearn.base.TransformerMixin`, `sklearn.base.ClassifierMixin`, `sklearn.base.RegressorMixin`, and `sklearn.base.ClusterMixin`, and `sklearn.base.OutlierMixin`.\n",
      "  warnings.warn(\n",
      "/opt/homebrew/Caskroom/miniconda/base/envs/course-work-venv/lib/python3.11/site-packages/sklearn/utils/_tags.py:322: FutureWarning: Estimator <catboost.core.CatBoostClassifier object at 0x17a5b5150> has no __sklearn_tags__ attribute, which is defined in `sklearn.base.BaseEstimator`. This will raise an error in scikit-learn 1.8. Please define the __sklearn_tags__ method, or inherit from `sklearn.base.BaseEstimator` and other appropriate mixins such as `sklearn.base.TransformerMixin`, `sklearn.base.ClassifierMixin`, `sklearn.base.RegressorMixin`, and `sklearn.base.ClusterMixin`, and `sklearn.base.OutlierMixin`.\n",
      "  warnings.warn(\n"
     ]
    }
   ],
   "source": [
    "%%time\n",
    "\n",
    "simple_metric_vals.append(\n",
    "    prettify_scores(\n",
    "        scores_dict=cross_validate(\n",
    "            estimator=clf,\n",
    "            X=X,\n",
    "            y=y,\n",
    "            scoring=['precision', 'recall', 'f1', 'roc_auc'],\n",
    "            cv=10\n",
    "        ),\n",
    "        model_name='CatBoostClassifier + BoW'\n",
    "    )\n",
    ")"
   ]
  },
  {
   "cell_type": "markdown",
   "id": "3dc12556-fc2b-405e-bbf9-1e975692ca80",
   "metadata": {},
   "source": [
    "### Простые модели, tf-IDF"
   ]
  },
  {
   "cell_type": "code",
   "execution_count": null,
   "id": "0a610da3-198c-40fc-a7b3-72ab4c8bc346",
   "metadata": {},
   "outputs": [],
   "source": [
    "pass"
   ]
  },
  {
   "cell_type": "code",
   "execution_count": null,
   "id": "7aeedd04-3c40-429a-b8d6-f9900b8e0ace",
   "metadata": {},
   "outputs": [],
   "source": [
    "for max_features in range(3000, 50):\n",
    "    tfidf_vectorizer = TfidfVectorizer(max_features=100)\n",
    "    X = tfidf_vectorizer.fit_transform(X).toarray()"
   ]
  },
  {
   "cell_type": "code",
   "execution_count": null,
   "id": "99f055dc-003f-4154-85b4-d38e4e8da6de",
   "metadata": {},
   "outputs": [],
   "source": [
    "for max_features in range(0, 3000, 50):\n",
    "    tfidf_vectorizer = TfidfVectorizer(max_features=100)\n",
    "    X = tfidf_vectorizer.fit_transform(X).toarray()"
   ]
  },
  {
   "cell_type": "markdown",
   "id": "d944c808-2c62-4e58-8b45-e06d52874f15",
   "metadata": {},
   "source": [
    "### Модели на основе деревьев, tf-IDF"
   ]
  }
 ],
 "metadata": {
  "kernelspec": {
   "display_name": "Python, course work",
   "language": "python",
   "name": "course-work-venv"
  },
  "language_info": {
   "codemirror_mode": {
    "name": "ipython",
    "version": 3
   },
   "file_extension": ".py",
   "mimetype": "text/x-python",
   "name": "python",
   "nbconvert_exporter": "python",
   "pygments_lexer": "ipython3",
   "version": "3.11.10"
  }
 },
 "nbformat": 4,
 "nbformat_minor": 5
}
