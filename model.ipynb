{
 "cells": [
  {
   "cell_type": "markdown",
   "id": "24c7c2c7-7d0d-4984-9d69-0bf6a64aac7c",
   "metadata": {},
   "source": [
    "## Эксперименты с моделями"
   ]
  },
  {
   "cell_type": "markdown",
   "id": "8d047602-aaa4-4fbf-b397-560c871a332f",
   "metadata": {},
   "source": [
    "### Импорт зависимостей"
   ]
  },
  {
   "cell_type": "markdown",
   "id": "8a7bdacb-6a54-4560-bad8-3d7bede677bf",
   "metadata": {},
   "source": [
    "**Загрузка библиотек**"
   ]
  },
  {
   "cell_type": "code",
   "execution_count": 24,
   "id": "7d7dd467-7996-44a4-b195-5d6f189ac39c",
   "metadata": {},
   "outputs": [],
   "source": [
    "import pandas as pd\n",
    "from sklearn.feature_extraction.text import TfidfVectorizer\n",
    "from sklearn.model_selection import train_test_split"
   ]
  },
  {
   "cell_type": "code",
   "execution_count": 29,
   "id": "31960d5f-6f49-4a39-832d-501c250acafa",
   "metadata": {},
   "outputs": [],
   "source": [
    "import numpy as np"
   ]
  },
  {
   "cell_type": "code",
   "execution_count": 26,
   "id": "e6586ffe-99ef-48c7-9362-51d4f336c9d4",
   "metadata": {},
   "outputs": [],
   "source": [
    "from sklearn.naive_bayes import GaussianNB"
   ]
  },
  {
   "cell_type": "markdown",
   "id": "636976cf-8475-45a7-97fc-0a3ce0e1558a",
   "metadata": {},
   "source": [
    "**Зарузка данных**"
   ]
  },
  {
   "cell_type": "code",
   "execution_count": 8,
   "id": "a8394fec-2bce-43eb-a2b8-0f37fb449c7c",
   "metadata": {},
   "outputs": [],
   "source": [
    "df = pd.read_parquet('df.parquet')  # Формируется в ноутбуке preprocessing\n",
    "X = df.cleaned_tweet  # Еще нужно достать оттуда какое-то векторное представление\n",
    "y = df.feeling  # Куда делся df.lemmatized??"
   ]
  },
  {
   "cell_type": "markdown",
   "id": "7769d68a-d95c-4cf0-b533-2cdf4191fa85",
   "metadata": {},
   "source": [
    "### Простые правила"
   ]
  },
  {
   "cell_type": "code",
   "execution_count": 35,
   "id": "4aba52ce-40f2-4205-af9e-42ce4bf1729b",
   "metadata": {},
   "outputs": [
    {
     "name": "stdout",
     "output_type": "stream",
     "text": [
      "Number of mislabeled points out of a total 74993 points : 37489\n"
     ]
    }
   ],
   "source": [
    "X_train, X_test, y_train, y_test = train_test_split(X, y, test_size=0.5, random_state=0)\n",
    "y_pred = np.random.randint(low=0, high=1, size=y_test.shape[0])\n",
    "print(\"Number of mislabeled points out of a total %d points : %d\"\n",
    "      % (X_test.shape[0], (y_test != y_pred).sum()))"
   ]
  },
  {
   "cell_type": "markdown",
   "id": "e12b9981-ba3a-4ca7-8f21-0ec9baf9c33f",
   "metadata": {},
   "source": [
    "### Простые модели, BoW"
   ]
  },
  {
   "cell_type": "markdown",
   "id": "454005bc-0e4f-4a3b-ab1f-ea41b60b0229",
   "metadata": {},
   "source": [
    "**Preprocessing**"
   ]
  },
  {
   "cell_type": "code",
   "execution_count": 23,
   "id": "612b10fb-43b1-43d5-905b-ac991d06de8b",
   "metadata": {},
   "outputs": [],
   "source": [
    "tfidf_vectorizer = TfidfVectorizer(max_features=100)\n",
    "X = tfidf_vectorizer.fit_transform(X).toarray()"
   ]
  },
  {
   "cell_type": "markdown",
   "id": "257766ad-27ed-4562-af1c-f02ccb60b8c1",
   "metadata": {},
   "source": [
    "**BoW + Наивный Байес**"
   ]
  },
  {
   "cell_type": "markdown",
   "id": "9f5695a3-ce0a-4375-a126-138a6b2041f0",
   "metadata": {},
   "source": [
    "[Описание](https://scikit-learn.org/1.5/modules/naive_bayes.html)"
   ]
  },
  {
   "cell_type": "code",
   "execution_count": 27,
   "id": "bd57f21b-fd7f-44ef-85d3-be84c394b64b",
   "metadata": {},
   "outputs": [
    {
     "name": "stdout",
     "output_type": "stream",
     "text": [
      "Number of mislabeled points out of a total 74993 points : 26428\n"
     ]
    }
   ],
   "source": [
    "X_train, X_test, y_train, y_test = train_test_split(X, y, test_size=0.5, random_state=0)\n",
    "gnb = GaussianNB()\n",
    "y_pred = gnb.fit(X_train, y_train).predict(X_test)\n",
    "print(\"Number of mislabeled points out of a total %d points : %d\"\n",
    "      % (X_test.shape[0], (y_test != y_pred).sum()))"
   ]
  },
  {
   "cell_type": "markdown",
   "id": "f9029edc-d4d4-49b4-88d5-1fde8e2575e3",
   "metadata": {},
   "source": [
    "**BoW + $k$ ближайших соседей**"
   ]
  },
  {
   "cell_type": "markdown",
   "id": "5ad3c289-aa44-4ef2-bf5a-2b6268593ff4",
   "metadata": {},
   "source": [
    "[Описание](https://scikit-learn.org/1.5/modules/naive_bayes.html)"
   ]
  },
  {
   "cell_type": "markdown",
   "id": "9d1d0b6d-a5bc-4a73-bb8b-1ec96879ad55",
   "metadata": {},
   "source": [
    "**BoW + Логистическая регрессия**"
   ]
  },
  {
   "cell_type": "markdown",
   "id": "111e0c24-a566-4431-91b2-5a2040b919dd",
   "metadata": {},
   "source": [
    "[Описание](https://scikit-learn.org/1.5/modules/naive_bayes.html)"
   ]
  }
 ],
 "metadata": {
  "kernelspec": {
   "display_name": "Python, course work",
   "language": "python",
   "name": "course-work-venv"
  },
  "language_info": {
   "codemirror_mode": {
    "name": "ipython",
    "version": 3
   },
   "file_extension": ".py",
   "mimetype": "text/x-python",
   "name": "python",
   "nbconvert_exporter": "python",
   "pygments_lexer": "ipython3",
   "version": "3.11.10"
  }
 },
 "nbformat": 4,
 "nbformat_minor": 5
}
