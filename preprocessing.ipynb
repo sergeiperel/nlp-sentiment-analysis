{
 "cells": [
  {
   "cell_type": "markdown",
   "id": "00e6483b-c1ca-4795-bd7d-bfce6b211b7d",
   "metadata": {},
   "source": [
    "### Предобработка данных"
   ]
  },
  {
   "cell_type": "markdown",
   "id": "26205f57-a375-4e49-9014-425d39a53cb2",
   "metadata": {},
   "source": [
    "**Импорт зависимостей**"
   ]
  },
  {
   "cell_type": "code",
   "execution_count": 1,
   "id": "b4635209-a277-443d-851e-1a33d4fe9894",
   "metadata": {},
   "outputs": [
    {
     "name": "stderr",
     "output_type": "stream",
     "text": [
      "/opt/homebrew/Caskroom/miniconda/base/envs/course-work-venv/lib/python3.11/site-packages/tqdm/auto.py:21: TqdmWarning: IProgress not found. Please update jupyter and ipywidgets. See https://ipywidgets.readthedocs.io/en/stable/user_install.html\n",
      "  from .autonotebook import tqdm as notebook_tqdm\n"
     ]
    }
   ],
   "source": [
    "import optuna\n",
    "import pandas as pd\n",
    "import numpy as np\n",
    "\n",
    "from optuna.samplers import TPESampler\n",
    "from sklearn.feature_extraction.text import CountVectorizer\n",
    "from sklearn.preprocessing import StandardScaler\n",
    "from sklearn.linear_model import LogisticRegression\n",
    "from scipy.sparse import hstack"
   ]
  },
  {
   "cell_type": "code",
   "execution_count": 13,
   "id": "47690753-e2c2-4914-b310-2c93891ca860",
   "metadata": {},
   "outputs": [],
   "source": [
    "from sklearn.preprocessing import OneHotEncoder"
   ]
  },
  {
   "cell_type": "code",
   "execution_count": 20,
   "id": "cda668d5-6379-4bea-8c54-a3c6dfff7e85",
   "metadata": {},
   "outputs": [],
   "source": [
    "import pickle"
   ]
  },
  {
   "cell_type": "markdown",
   "id": "ccecf3ea-85ad-42e5-80bb-df876f7224b0",
   "metadata": {},
   "source": [
    "**Как мы получаем `elon_musk_tweets_after_eda.csv`**"
   ]
  },
  {
   "cell_type": "markdown",
   "id": "d9eded93-8d72-4966-95c6-6217d65658a5",
   "metadata": {},
   "source": [
    "TODO."
   ]
  },
  {
   "cell_type": "markdown",
   "id": "73200d1f-9a54-41fc-9dfa-f04186d504d4",
   "metadata": {},
   "source": [
    "**Что мы делаем с `elon_musk_tweets_after_eda.csv`**"
   ]
  },
  {
   "cell_type": "code",
   "execution_count": 2,
   "id": "af984a72-cdb3-478e-b2c0-e7d23256459c",
   "metadata": {},
   "outputs": [],
   "source": [
    "def transform_date(df):\n",
    "    df['date'] = pd.to_datetime(df['date'])\n",
    "    return df.sort_values(by='date')"
   ]
  },
  {
   "cell_type": "code",
   "execution_count": 3,
   "id": "d0703969-7708-4ed0-bc23-00e2baea05c3",
   "metadata": {},
   "outputs": [],
   "source": [
    "def df_fillna(df):\n",
    "    cols_to_fill = ['user_location', 'user_description', 'emojis']\n",
    "    df.loc[:, cols_to_fill] = df.loc[:, cols_to_fill].fillna('None')\n",
    "    return df"
   ]
  },
  {
   "cell_type": "code",
   "execution_count": 4,
   "id": "6856246e-7bc2-42fd-accc-f7c7bbc9d46e",
   "metadata": {},
   "outputs": [],
   "source": [
    "def drop_useless_cols(df):\n",
    "    useless_cols = [\n",
    "        'lemmatized_pronouns', \n",
    "        'tweet', \n",
    "        'cleaned_tweet', \n",
    "        'tokens', \n",
    "        'cleaned_tokens',\n",
    "        'word_count', \n",
    "        'char_count', \n",
    "        'emojis',\n",
    "        'word_count_cleaned', \n",
    "        'spacy_lemmatized', \n",
    "        'pos_tags', \n",
    "        'lemmatized', \n",
    "        'email_count', \n",
    "        'hashtag_count',\n",
    "        'month', \n",
    "        'year', \n",
    "        'hour'\n",
    "    ]\n",
    "    return df.drop(columns=useless_cols)"
   ]
  },
  {
   "cell_type": "markdown",
   "id": "bc2f6564-07a4-43a3-988b-6af0a866a5c2",
   "metadata": {},
   "source": [
    "Читаем данные и делаем базовые преобразования:"
   ]
  },
  {
   "cell_type": "code",
   "execution_count": 6,
   "id": "760c270e-46e2-4d23-a93a-b00544f2e51d",
   "metadata": {},
   "outputs": [],
   "source": [
    "df = pd.read_csv('lisa_files/elon_musk_tweets_after_eda.csv', encoding='utf-8')"
   ]
  },
  {
   "cell_type": "code",
   "execution_count": 7,
   "id": "e05cf88f-7ddf-457a-8d08-9db36f7268ce",
   "metadata": {},
   "outputs": [],
   "source": [
    "df = transform_date(df)"
   ]
  },
  {
   "cell_type": "code",
   "execution_count": 8,
   "id": "47d0e28d-000f-493a-9a85-9fd29c48406b",
   "metadata": {},
   "outputs": [],
   "source": [
    "df = df_fillna(df)"
   ]
  },
  {
   "cell_type": "code",
   "execution_count": 9,
   "id": "5c641d41-5f0e-4c49-853b-2a5672cba693",
   "metadata": {},
   "outputs": [],
   "source": [
    "df = drop_useless_cols(df)"
   ]
  },
  {
   "cell_type": "code",
   "execution_count": 10,
   "id": "b7eaf73a-8e91-4cad-aed4-77ab8a4fbf39",
   "metadata": {},
   "outputs": [],
   "source": [
    "# df_encoded = pd.get_dummies(df, columns=['user_location', 'user_description'], drop_first=False)\n",
    "\n",
    "# encoder = OneHotEncoder(sparse_output=False, handle_unknown='ignore')\n",
    "# encoder.fit(df.loc[:, ['user_location', 'user_description']])"
   ]
  },
  {
   "cell_type": "markdown",
   "id": "a3a479ae-b5fa-4edf-b78a-61fa16f194cf",
   "metadata": {},
   "source": [
    "Кодируем категориальные:"
   ]
  },
  {
   "cell_type": "code",
   "execution_count": 28,
   "id": "a38ddaef-f518-4adb-b156-a0150422a132",
   "metadata": {},
   "outputs": [],
   "source": [
    "def encode_categoric(df):\n",
    "    with open('encoder.pkl', 'rb') as f:\n",
    "        encoder = pickle.load(f)\n",
    "\n",
    "    return pd.DataFrame(\n",
    "        data=encoder.transform(df.loc[:, ['user_location', 'user_description']]),  # Обучены именно на этих двух колонках\n",
    "        index=df.index,\n",
    "        columns=encoder.get_feature_names_out()\n",
    "    )"
   ]
  },
  {
   "cell_type": "code",
   "execution_count": 29,
   "id": "50dfee9d-d924-4d20-94ba-aefbc8058f8d",
   "metadata": {},
   "outputs": [],
   "source": [
    "df_encoded = pd.concat([df.drop(columns=['user_location', 'user_description']), encode_categoric(df)], axis=1)"
   ]
  },
  {
   "cell_type": "markdown",
   "id": "10c20918-1376-4a23-a600-c51834c4801a",
   "metadata": {},
   "source": [
    "Разбиваем на `train/val/test`:"
   ]
  },
  {
   "cell_type": "code",
   "execution_count": 31,
   "id": "778906f7-02b6-4c17-b086-2f98410d2fd9",
   "metadata": {},
   "outputs": [],
   "source": [
    "train_cutoff = df_encoded['date'].quantile(0.6)  # Дата, отсекающая 60% наблюдений\n",
    "val_cutoff = df_encoded['date'].quantile(0.8)\n",
    "\n",
    "# Получаем три датафрейма\n",
    "train_df = df_encoded[df_encoded['date'] <= train_cutoff]\n",
    "val_df = df_encoded[(df_encoded['date'] > train_cutoff) & (df['date'] <= val_cutoff)]\n",
    "test_df = df_encoded[df_encoded['date'] > val_cutoff]"
   ]
  },
  {
   "cell_type": "code",
   "execution_count": 32,
   "id": "c001bec3-4285-461e-94f6-ef763456dd4a",
   "metadata": {},
   "outputs": [],
   "source": [
    "X_train = train_df.drop(columns=['feeling', 'date'])\n",
    "y_train = train_df['feeling']\n",
    "\n",
    "X_val = val_df.drop(columns=['feeling', 'date'])\n",
    "y_val = val_df['feeling']\n",
    "\n",
    "X_test = test_df.drop(columns=['feeling', 'date'])\n",
    "y_test = test_df['feeling']"
   ]
  },
  {
   "cell_type": "markdown",
   "id": "67ec2f8b-6cca-470c-bd3c-f17cf98967fe",
   "metadata": {},
   "source": [
    "Векторизуем твиты:"
   ]
  },
  {
   "cell_type": "code",
   "execution_count": 36,
   "id": "6b5b92d9-b6e9-4dbc-b7a8-2bd5078f1e75",
   "metadata": {},
   "outputs": [],
   "source": [
    "# vectorizer = CountVectorizer()\n",
    "# vectorizer.fit(X_train['lemmatized_str'])"
   ]
  },
  {
   "cell_type": "code",
   "execution_count": 37,
   "id": "622c28a4-fc51-4e14-b8bc-05f09945cd0f",
   "metadata": {},
   "outputs": [],
   "source": [
    "with open('vectorizer.pkl', 'rb') as f:\n",
    "    vectorizer = pickle.load(f)"
   ]
  },
  {
   "cell_type": "code",
   "execution_count": 38,
   "id": "2bb5a683-c10e-4551-9a98-5f5cda215182",
   "metadata": {},
   "outputs": [],
   "source": [
    "X_train_lemmatized = vectorizer.transform(X_train['lemmatized_str'])\n",
    "X_val_lemmatized = vectorizer.transform(X_val['lemmatized_str'])\n",
    "X_test_lemmatized = vectorizer.transform(X_test['lemmatized_str'])"
   ]
  },
  {
   "cell_type": "markdown",
   "id": "7b833b55-d85b-4331-bc70-9f5533ee0051",
   "metadata": {},
   "source": [
    "Приводим все числовые фичи к единой шкале:"
   ]
  },
  {
   "cell_type": "code",
   "execution_count": 46,
   "id": "73b36a0e-a1fb-45e4-9b67-cce024211f4b",
   "metadata": {},
   "outputs": [],
   "source": [
    "numerical_features = X_train.select_dtypes(include=[np.number]).columns.tolist()"
   ]
  },
  {
   "cell_type": "code",
   "execution_count": 47,
   "id": "925ab28b-154f-4f59-83c9-6c02ce4e7d99",
   "metadata": {},
   "outputs": [],
   "source": [
    "# scaler = StandardScaler()\n",
    "# scaler.fit(X_train[numerical_features])"
   ]
  },
  {
   "cell_type": "code",
   "execution_count": 48,
   "id": "b8211931-3a32-4e25-a5e8-5cb7b45fe262",
   "metadata": {},
   "outputs": [],
   "source": [
    "with open('scaler.pkl', 'rb') as f:\n",
    "    scaler = pickle.load(f)"
   ]
  },
  {
   "cell_type": "code",
   "execution_count": 49,
   "id": "372d8616-a816-4c40-bacc-7d4a80a1422c",
   "metadata": {},
   "outputs": [],
   "source": [
    "# Масштабируем числовые признаки\n",
    "X_train_numerical = scaler.transform(X_train[numerical_features])\n",
    "X_val_numerical = scaler.transform(X_val[numerical_features])\n",
    "X_test_numerical = scaler.transform(X_test[numerical_features])"
   ]
  },
  {
   "cell_type": "code",
   "execution_count": 50,
   "id": "d2e9df82-7c21-476c-a09a-278d7060c195",
   "metadata": {},
   "outputs": [],
   "source": [
    "X_train_combined = hstack([X_train_lemmatized, X_train_numerical])\n",
    "X_val_combined = hstack([X_val_lemmatized, X_val_numerical])\n",
    "X_test_combined = hstack([X_test_lemmatized, X_test_numerical])"
   ]
  },
  {
   "cell_type": "markdown",
   "id": "ed361082-0d1c-44ca-87bd-74ccc8e5d5f1",
   "metadata": {},
   "source": [
    "**Сериализация для тестирования**"
   ]
  },
  {
   "cell_type": "code",
   "execution_count": 17,
   "id": "97e57ec4-cccd-4885-8c42-077a3646907f",
   "metadata": {},
   "outputs": [],
   "source": [
    "import pickle"
   ]
  },
  {
   "cell_type": "code",
   "execution_count": 18,
   "id": "ca45686a-044b-4f51-a679-9f0f3bffb9ac",
   "metadata": {},
   "outputs": [],
   "source": [
    "with open('X.pkl', 'wb') as f:\n",
    "    pickle.dump(X_train_combined, f)"
   ]
  },
  {
   "cell_type": "code",
   "execution_count": 19,
   "id": "10ecf2db-2d47-4830-af8a-075d7533b3a6",
   "metadata": {},
   "outputs": [],
   "source": [
    "with open('y.pkl', 'wb') as f:\n",
    "    pickle.dump(y_train, f)"
   ]
  },
  {
   "cell_type": "code",
   "execution_count": 20,
   "id": "b64192c6-af4a-481d-8ca0-10d290e01f34",
   "metadata": {},
   "outputs": [],
   "source": [
    "with open('dt.pkl', 'rb') as f:\n",
    "    dt = pickle.load(f)"
   ]
  },
  {
   "cell_type": "code",
   "execution_count": 21,
   "id": "abd3717b-161a-4c5f-8a18-8ddcc8004883",
   "metadata": {},
   "outputs": [
    {
     "data": {
      "text/plain": [
       "array([0, 0, 1, ..., 1, 0, 1])"
      ]
     },
     "execution_count": 21,
     "metadata": {},
     "output_type": "execute_result"
    }
   ],
   "source": [
    "dt.predict(X_train_combined)"
   ]
  }
 ],
 "metadata": {
  "kernelspec": {
   "display_name": "Python, course work",
   "language": "python",
   "name": "course-work-venv"
  },
  "language_info": {
   "codemirror_mode": {
    "name": "ipython",
    "version": 3
   },
   "file_extension": ".py",
   "mimetype": "text/x-python",
   "name": "python",
   "nbconvert_exporter": "python",
   "pygments_lexer": "ipython3",
   "version": "3.11.10"
  }
 },
 "nbformat": 4,
 "nbformat_minor": 5
}
