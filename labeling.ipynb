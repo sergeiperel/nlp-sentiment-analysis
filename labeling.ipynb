{
 "cells": [
  {
   "cell_type": "markdown",
   "id": "b12fcd2b-4d38-4905-815b-7e528ff712eb",
   "metadata": {},
   "source": [
    "### [Разметка](https://www.kaggle.com/discussions/questions-and-answers/206813) твитов Илона Маска"
   ]
  },
  {
   "cell_type": "code",
   "execution_count": 1,
   "id": "623ec4a1-0d40-4d57-b6bc-b8c0b12040a2",
   "metadata": {},
   "outputs": [],
   "source": [
    "# !pip install textblob\n",
    "from textblob import TextBlob\n",
    "import pandas as pd"
   ]
  },
  {
   "cell_type": "code",
   "execution_count": 2,
   "id": "8f383ed7-729a-4f47-9874-f4c3094194c1",
   "metadata": {},
   "outputs": [],
   "source": [
    "from textblob.sentiments import NaiveBayesAnalyzer"
   ]
  },
  {
   "cell_type": "code",
   "execution_count": 3,
   "id": "296e69c4-8f9f-4c4f-9e28-7b3ce28b3722",
   "metadata": {},
   "outputs": [],
   "source": [
    "from vaderSentiment.vaderSentiment import SentimentIntensityAnalyzer"
   ]
  },
  {
   "cell_type": "markdown",
   "id": "a42eeb6a-0c84-4baa-8634-9aac500fbd62",
   "metadata": {},
   "source": [
    "Тестируем"
   ]
  },
  {
   "cell_type": "code",
   "execution_count": 4,
   "id": "f3937ddc-447f-4ccc-ac0f-817c644dae48",
   "metadata": {},
   "outputs": [],
   "source": [
    "df = pd.read_parquet('df.parquet')"
   ]
  },
  {
   "cell_type": "markdown",
   "id": "56b59680-5471-4ec5-9424-457ddc34ab02",
   "metadata": {},
   "source": [
    "1"
   ]
  },
  {
   "cell_type": "code",
   "execution_count": 5,
   "id": "6fe0aaac-0377-41c6-a388-669b60d38d7e",
   "metadata": {},
   "outputs": [],
   "source": [
    "analyzer = SentimentIntensityAnalyzer()"
   ]
  },
  {
   "cell_type": "code",
   "execution_count": 6,
   "id": "424e74a1-f566-417b-9664-238a37c61208",
   "metadata": {},
   "outputs": [],
   "source": [
    "def return_label(sent):\n",
    "    scores = analyzer.polarity_scores(sent)\n",
    "    pos, neg = scores.get('pos'), scores.get('neg')\n",
    "    if pos > neg:\n",
    "        return 1\n",
    "    else:\n",
    "        return 0"
   ]
  },
  {
   "cell_type": "code",
   "execution_count": 7,
   "id": "1a2591a9-8cce-44a0-8586-809f83bdd444",
   "metadata": {},
   "outputs": [
    {
     "name": "stdout",
     "output_type": "stream",
     "text": [
      "CPU times: user 3.3 s, sys: 13.1 ms, total: 3.32 s\n",
      "Wall time: 3.32 s\n"
     ]
    }
   ],
   "source": [
    "%%time\n",
    "df['feeling_auto'] = df['cleaned_tweet'].apply(lambda x : return_label(x))"
   ]
  },
  {
   "cell_type": "markdown",
   "id": "09ee0d25-dd79-4096-b458-19395a875031",
   "metadata": {},
   "source": [
    "По итогу 30% текста оказалось размечено иначе:"
   ]
  },
  {
   "cell_type": "code",
   "execution_count": 8,
   "id": "2be37a41-14c2-46b3-8ebf-732ee6ea4cf4",
   "metadata": {},
   "outputs": [
    {
     "data": {
      "text/plain": [
       "0.34744141080774743"
      ]
     },
     "execution_count": 8,
     "metadata": {},
     "output_type": "execute_result"
    }
   ],
   "source": [
    "(df.feeling != df.feeling_auto).mean()"
   ]
  },
  {
   "cell_type": "markdown",
   "id": "73f5c03a-696c-4abe-bf17-1cff360fcd3e",
   "metadata": {},
   "source": [
    "2"
   ]
  },
  {
   "cell_type": "code",
   "execution_count": 9,
   "id": "0bedd21b-bd67-4bbb-a05a-2f8f7c8d18fa",
   "metadata": {},
   "outputs": [
    {
     "name": "stdout",
     "output_type": "stream",
     "text": [
      "CPU times: user 7.16 s, sys: 48.4 ms, total: 7.2 s\n",
      "Wall time: 7.21 s\n"
     ]
    }
   ],
   "source": [
    "%%time\n",
    "df['feeling_auto'] = df['cleaned_tweet'].apply(lambda x : TextBlob(x).sentiment.polarity)"
   ]
  },
  {
   "cell_type": "code",
   "execution_count": 10,
   "id": "ffa5ed95-5b0e-48e3-8ceb-e218c3922257",
   "metadata": {},
   "outputs": [],
   "source": [
    "df.feeling_auto = df.feeling_auto.apply(lambda x : 0 if x < 0 else 1)"
   ]
  },
  {
   "cell_type": "markdown",
   "id": "342f5e64-6949-4bfd-8564-6bbee1db425d",
   "metadata": {},
   "source": [
    "По итогу 40% текста оказалось размечено иначе:"
   ]
  },
  {
   "cell_type": "code",
   "execution_count": 11,
   "id": "e9c1dcbb-89d4-46f3-bdc6-a27907d00650",
   "metadata": {},
   "outputs": [
    {
     "data": {
      "text/plain": [
       "0.3929126245957929"
      ]
     },
     "execution_count": 11,
     "metadata": {},
     "output_type": "execute_result"
    }
   ],
   "source": [
    "(df.feeling != df.feeling_auto).mean()"
   ]
  }
 ],
 "metadata": {
  "kernelspec": {
   "display_name": "Python, course work",
   "language": "python",
   "name": "course-work-venv"
  },
  "language_info": {
   "codemirror_mode": {
    "name": "ipython",
    "version": 3
   },
   "file_extension": ".py",
   "mimetype": "text/x-python",
   "name": "python",
   "nbconvert_exporter": "python",
   "pygments_lexer": "ipython3",
   "version": "3.11.10"
  }
 },
 "nbformat": 4,
 "nbformat_minor": 5
}
