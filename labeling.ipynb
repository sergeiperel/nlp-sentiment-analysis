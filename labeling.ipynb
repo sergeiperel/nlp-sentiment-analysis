{
 "cells": [
  {
   "cell_type": "markdown",
   "id": "b12fcd2b-4d38-4905-815b-7e528ff712eb",
   "metadata": {},
   "source": [
    "### Разметка твитов Илона Маска"
   ]
  },
  {
   "cell_type": "markdown",
   "id": "1b395c69-d451-4c8f-a0cf-58cbf1135409",
   "metadata": {},
   "source": [
    "Ссылки\n",
    "\n",
    "https://www.kaggle.com/code/buyuknacar/comparing-sentiment-classifiers-txblob-vader-bert\n",
    "\n",
    "https://www.kaggle.com/discussions/questions-and-answers/206813\n",
    "\n",
    "https://huggingface.co/search/full-text?q=sentiment+twitter+analysis+english&type=model\n",
    "\n",
    "some models\n",
    "\n",
    "https://huggingface.co/agentlans/deberta-v3-xsmall-tweet-sentiment\n",
    "\n",
    "https://huggingface.co/Manas2708/bert-base-sentiment-analysis\n",
    "\n",
    "https://huggingface.co/siebert/sentiment-roberta-large-english\n",
    "\n",
    "https://huggingface.co/j-hartmann/emotion-english-distilroberta-base\n",
    "\n",
    "https://huggingface.co/michellejieli/emotion_text_classifier\n",
    "\n",
    "https://huggingface.co/Linna/emotion-english-distilroberta-melinna\n",
    "\n",
    "https://huggingface.co/mrhacker7599/emotion-english-distilroberta-base\n",
    "\n",
    "https://huggingface.co/MicahB/emotion_text_classifier\n",
    "\n",
    "https://huggingface.co/pysentimiento/robertuito-sentiment-analysis\n",
    "\n",
    "https://huggingface.co/pysentimiento/bertweet-pt-sentiment\n",
    "\n",
    "https://huggingface.co/pysentimiento/robertuito-emotion-analysis"
   ]
  },
  {
   "cell_type": "code",
   "execution_count": 1,
   "id": "623ec4a1-0d40-4d57-b6bc-b8c0b12040a2",
   "metadata": {},
   "outputs": [],
   "source": [
    "# !pip install textblob\n",
    "from textblob import TextBlob\n",
    "import pandas as pd"
   ]
  },
  {
   "cell_type": "code",
   "execution_count": 2,
   "id": "8f383ed7-729a-4f47-9874-f4c3094194c1",
   "metadata": {},
   "outputs": [],
   "source": [
    "from textblob.sentiments import NaiveBayesAnalyzer"
   ]
  },
  {
   "cell_type": "code",
   "execution_count": 3,
   "id": "296e69c4-8f9f-4c4f-9e28-7b3ce28b3722",
   "metadata": {},
   "outputs": [],
   "source": [
    "from vaderSentiment.vaderSentiment import SentimentIntensityAnalyzer"
   ]
  },
  {
   "cell_type": "markdown",
   "id": "a42eeb6a-0c84-4baa-8634-9aac500fbd62",
   "metadata": {},
   "source": [
    "Тестируем"
   ]
  },
  {
   "cell_type": "code",
   "execution_count": 4,
   "id": "f3937ddc-447f-4ccc-ac0f-817c644dae48",
   "metadata": {},
   "outputs": [],
   "source": [
    "df = pd.read_parquet('df.parquet')"
   ]
  },
  {
   "cell_type": "markdown",
   "id": "56b59680-5471-4ec5-9424-457ddc34ab02",
   "metadata": {},
   "source": [
    "1"
   ]
  },
  {
   "cell_type": "code",
   "execution_count": 5,
   "id": "6fe0aaac-0377-41c6-a388-669b60d38d7e",
   "metadata": {},
   "outputs": [],
   "source": [
    "analyzer = SentimentIntensityAnalyzer()"
   ]
  },
  {
   "cell_type": "code",
   "execution_count": 6,
   "id": "424e74a1-f566-417b-9664-238a37c61208",
   "metadata": {},
   "outputs": [],
   "source": [
    "def return_label(sent):\n",
    "    scores = analyzer.polarity_scores(sent)\n",
    "    pos, neg = scores.get('pos'), scores.get('neg')\n",
    "    if pos > neg:\n",
    "        return 1\n",
    "    else:\n",
    "        return 0"
   ]
  },
  {
   "cell_type": "code",
   "execution_count": 7,
   "id": "1a2591a9-8cce-44a0-8586-809f83bdd444",
   "metadata": {},
   "outputs": [
    {
     "name": "stdout",
     "output_type": "stream",
     "text": [
      "CPU times: user 3.3 s, sys: 13.1 ms, total: 3.32 s\n",
      "Wall time: 3.32 s\n"
     ]
    }
   ],
   "source": [
    "%%time\n",
    "df['feeling_auto'] = df['cleaned_tweet'].apply(lambda x : return_label(x))"
   ]
  },
  {
   "cell_type": "markdown",
   "id": "09ee0d25-dd79-4096-b458-19395a875031",
   "metadata": {},
   "source": [
    "По итогу 30% текста оказалось размечено иначе:"
   ]
  },
  {
   "cell_type": "code",
   "execution_count": 8,
   "id": "2be37a41-14c2-46b3-8ebf-732ee6ea4cf4",
   "metadata": {},
   "outputs": [
    {
     "data": {
      "text/plain": [
       "0.34744141080774743"
      ]
     },
     "execution_count": 8,
     "metadata": {},
     "output_type": "execute_result"
    }
   ],
   "source": [
    "(df.feeling != df.feeling_auto).mean()"
   ]
  },
  {
   "cell_type": "markdown",
   "id": "73f5c03a-696c-4abe-bf17-1cff360fcd3e",
   "metadata": {},
   "source": [
    "2"
   ]
  },
  {
   "cell_type": "code",
   "execution_count": 9,
   "id": "0bedd21b-bd67-4bbb-a05a-2f8f7c8d18fa",
   "metadata": {},
   "outputs": [
    {
     "name": "stdout",
     "output_type": "stream",
     "text": [
      "CPU times: user 7.16 s, sys: 48.4 ms, total: 7.2 s\n",
      "Wall time: 7.21 s\n"
     ]
    }
   ],
   "source": [
    "%%time\n",
    "df['feeling_auto'] = df['cleaned_tweet'].apply(lambda x : TextBlob(x).sentiment.polarity)"
   ]
  },
  {
   "cell_type": "code",
   "execution_count": 10,
   "id": "ffa5ed95-5b0e-48e3-8ceb-e218c3922257",
   "metadata": {},
   "outputs": [],
   "source": [
    "df.feeling_auto = df.feeling_auto.apply(lambda x : 0 if x < 0 else 1)"
   ]
  },
  {
   "cell_type": "markdown",
   "id": "342f5e64-6949-4bfd-8564-6bbee1db425d",
   "metadata": {},
   "source": [
    "По итогу 40% текста оказалось размечено иначе:"
   ]
  },
  {
   "cell_type": "code",
   "execution_count": 11,
   "id": "e9c1dcbb-89d4-46f3-bdc6-a27907d00650",
   "metadata": {},
   "outputs": [
    {
     "data": {
      "text/plain": [
       "0.3929126245957929"
      ]
     },
     "execution_count": 11,
     "metadata": {},
     "output_type": "execute_result"
    }
   ],
   "source": [
    "(df.feeling != df.feeling_auto).mean()"
   ]
  },
  {
   "cell_type": "markdown",
   "id": "b269a1fe-987b-423e-b07f-9d3404d4eb56",
   "metadata": {},
   "source": [
    "3"
   ]
  },
  {
   "cell_type": "code",
   "execution_count": 8,
   "id": "62f0519d-ac1d-4ca8-9073-4db7c838cadc",
   "metadata": {},
   "outputs": [],
   "source": [
    "from transformers import AutoTokenizer, AutoModelForSequenceClassification\n",
    "import torch\n",
    "import re"
   ]
  },
  {
   "cell_type": "code",
   "execution_count": 10,
   "id": "5ace683a-4585-46d8-93c0-c85be627aef9",
   "metadata": {},
   "outputs": [
    {
     "name": "stderr",
     "output_type": "stream",
     "text": [
      "Error while downloading from https://cdn-lfs.hf.co/nlptown/bert-base-multilingual-uncased-sentiment/e72c9084bf53cee1f722b1acc6f7439cce27e9beabddce447653a1af45405183?response-content-disposition=inline%3B+filename*%3DUTF-8%27%27pytorch_model.bin%3B+filename%3D%22pytorch_model.bin%22%3B&response-content-type=application%2Foctet-stream&Expires=1733439397&Policy=eyJTdGF0ZW1lbnQiOlt7IkNvbmRpdGlvbiI6eyJEYXRlTGVzc1RoYW4iOnsiQVdTOkVwb2NoVGltZSI6MTczMzQzOTM5N319LCJSZXNvdXJjZSI6Imh0dHBzOi8vY2RuLWxmcy5oZi5jby9ubHB0b3duL2JlcnQtYmFzZS1tdWx0aWxpbmd1YWwtdW5jYXNlZC1zZW50aW1lbnQvZTcyYzkwODRiZjUzY2VlMWY3MjJiMWFjYzZmNzQzOWNjZTI3ZTliZWFiZGRjZTQ0NzY1M2ExYWY0NTQwNTE4Mz9yZXNwb25zZS1jb250ZW50LWRpc3Bvc2l0aW9uPSomcmVzcG9uc2UtY29udGVudC10eXBlPSoifV19&Signature=he2V%7E4-60mIrWUoOveo6GDL-hurzK54ogBtDQmLw9h8r0Wytr8g3jbZCWIuJ3UAH9x2GYNsy0CVp1%7ELiCTGI4KOSIkyNAJry2FmP1HSbAzNq1s06Xc9qaiX%7EFcmcg9mhrE6gVklvn%7E-oqvTI4oJhJixu44Ahn1cBvpqvmfXQroQB4aRTyDm12HpnmvF9dGH%7E8o2TrFKJMYuzAdqDvkwbxP1pYBe6Wdd1rKNWsNbHlJBUoYAESoiB%7EulPw6OsUiQ89bdN3zAJ-syU1q%7EmPwRXPSQCAp7OyLeeIJbHH1sqYrtjui8voB58r0zobCkzbczGWwTUarUf6AKA9f8Aj1-8YA__&Key-Pair-Id=K3RPWS32NSSJCE: HTTPSConnectionPool(host='cdn-lfs.hf.co', port=443): Read timed out.\n",
      "Trying to resume download...\n"
     ]
    },
    {
     "name": "stdout",
     "output_type": "stream",
     "text": [
      "CPU times: user 1.54 s, sys: 3.12 s, total: 4.66 s\n",
      "Wall time: 7min 5s\n"
     ]
    }
   ],
   "source": [
    "%%time\n",
    "\n",
    "tokenizer = AutoTokenizer.from_pretrained('nlptown/bert-base-multilingual-uncased-sentiment')\n",
    "\n",
    "model = AutoModelForSequenceClassification.from_pretrained('nlptown/bert-base-multilingual-uncased-sentiment')"
   ]
  },
  {
   "cell_type": "code",
   "execution_count": 13,
   "id": "70dae3fa-9c22-4ab9-9bfe-1ee27868a6ed",
   "metadata": {},
   "outputs": [],
   "source": [
    "def sentiment_score(review):\n",
    "    tokens = tokenizer.encode(review, return_tensors='pt')\n",
    "    result = model(tokens)\n",
    "    return int(torch.argmax(result.logits))+1"
   ]
  },
  {
   "cell_type": "code",
   "execution_count": 27,
   "id": "853fbd2f-e6c0-4f95-b88e-39868a80f967",
   "metadata": {},
   "outputs": [
    {
     "name": "stdout",
     "output_type": "stream",
     "text": [
      "CPU times: user 6h 36min 25s, sys: 55min 53s, total: 7h 32min 18s\n",
      "Wall time: 1h 54min 1s\n"
     ]
    }
   ],
   "source": [
    "%%time\n",
    "df['feeling_auto'] = df.cleaned_tweet.apply(lambda x : sentiment_score(x) >= 3)"
   ]
  },
  {
   "cell_type": "code",
   "execution_count": 29,
   "id": "3c11f4ea-f041-4a18-b044-462b1f4b1ad1",
   "metadata": {},
   "outputs": [
    {
     "data": {
      "text/plain": [
       "0.3145514551455145"
      ]
     },
     "execution_count": 29,
     "metadata": {},
     "output_type": "execute_result"
    }
   ],
   "source": [
    "(df.feeling != df.feeling_auto).mean()"
   ]
  },
  {
   "cell_type": "markdown",
   "id": "84f826a2-89d4-4581-a937-618a5a8cd645",
   "metadata": {},
   "source": [
    "4"
   ]
  },
  {
   "cell_type": "code",
   "execution_count": 32,
   "id": "ec153f54-0065-4058-b671-eba6c00dd6f0",
   "metadata": {},
   "outputs": [],
   "source": [
    "from transformers import pipeline"
   ]
  },
  {
   "cell_type": "code",
   "execution_count": 33,
   "id": "001b6f1a-213e-48b0-b3c6-189badd16e1c",
   "metadata": {},
   "outputs": [
    {
     "name": "stderr",
     "output_type": "stream",
     "text": [
      "Hardware accelerator e.g. GPU is available in the environment, but no `device` argument is passed to the `Pipeline` object. Model will be on CPU.\n"
     ]
    },
    {
     "name": "stdout",
     "output_type": "stream",
     "text": [
      "[{'label': 'POSITIVE', 'score': 0.9988656044006348}]\n"
     ]
    }
   ],
   "source": [
    "sentiment_analysis = pipeline(\"sentiment-analysis\", model=\"siebert/sentiment-roberta-large-english\")\n",
    "print(sentiment_analysis(\"I love this!\"))"
   ]
  },
  {
   "cell_type": "code",
   "execution_count": 44,
   "id": "40b2becb-6447-4c4c-963e-b73dedd64acf",
   "metadata": {},
   "outputs": [
    {
     "name": "stdout",
     "output_type": "stream",
     "text": [
      "CPU times: user 20h 5min 58s, sys: 1h 50min 35s, total: 21h 56min 33s\n",
      "Wall time: 5h 30min 59s\n"
     ]
    }
   ],
   "source": [
    "%%time\n",
    "df['feeling_auto'] = df.cleaned_tweet.apply(lambda x : 1 if sentiment_analysis(x)[0].get('label') == 'POSITIVE' else 0)"
   ]
  },
  {
   "cell_type": "code",
   "execution_count": 45,
   "id": "95216b2f-61db-4fec-adc7-5f6526e4b2f5",
   "metadata": {},
   "outputs": [
    {
     "data": {
      "text/plain": [
       "0.24835150181684834"
      ]
     },
     "execution_count": 45,
     "metadata": {},
     "output_type": "execute_result"
    }
   ],
   "source": [
    "(df.feeling != df.feeling_auto).mean()"
   ]
  },
  {
   "cell_type": "code",
   "execution_count": 47,
   "id": "90391c49-745f-471f-872a-83d5306ed17c",
   "metadata": {},
   "outputs": [],
   "source": [
    "df.to_parquet('df_feeling_auto.parquet')"
   ]
  },
  {
   "cell_type": "code",
   "execution_count": 52,
   "id": "5196dc62-315b-46bb-b510-6614bc927574",
   "metadata": {},
   "outputs": [
    {
     "data": {
      "text/plain": [
       "'get over it jk im going to miss you'"
      ]
     },
     "execution_count": 52,
     "metadata": {},
     "output_type": "execute_result"
    }
   ],
   "source": [
    "df.loc[df.feeling != df.feeling_auto, ['cleaned_tweet', 'feeling', 'feeling_auto']].cleaned_tweet.values[5]"
   ]
  },
  {
   "cell_type": "code",
   "execution_count": 65,
   "id": "df6fa53f-355e-47d0-9dda-ff16c26ed3c3",
   "metadata": {},
   "outputs": [
    {
     "data": {
      "text/plain": [
       "cleaned_tweet    so happy cuz u talked with my bff gosh i misse...\n",
       "feeling                                                          0\n",
       "feeling_auto                                                     1\n",
       "Name: 187, dtype: object"
      ]
     },
     "execution_count": 65,
     "metadata": {},
     "output_type": "execute_result"
    }
   ],
   "source": [
    "df.loc[df.feeling != df.feeling_auto, ['cleaned_tweet', 'feeling', 'feeling_auto']].iloc[51]"
   ]
  },
  {
   "cell_type": "code",
   "execution_count": 60,
   "id": "7ae05eb6-8ed6-4d8b-9abf-29f755d79597",
   "metadata": {},
   "outputs": [
    {
     "data": {
      "text/plain": [
       "cleaned_tweet    why\n",
       "feeling            0\n",
       "feeling_auto       1\n",
       "Name: 155, dtype: object"
      ]
     },
     "execution_count": 60,
     "metadata": {},
     "output_type": "execute_result"
    }
   ],
   "source": [
    "df.loc[df.feeling != df.feeling_auto, ['cleaned_tweet', 'feeling', 'feeling_auto']].iloc[45]"
   ]
  },
  {
   "cell_type": "code",
   "execution_count": 67,
   "id": "29ec6d33-1c0e-453a-8538-c92d374da2cc",
   "metadata": {},
   "outputs": [
    {
     "data": {
      "text/plain": [
       "cleaned_tweet    nothing i was doing my biologys work and now i...\n",
       "feeling                                                          1\n",
       "feeling_auto                                                     0\n",
       "Name: 299, dtype: object"
      ]
     },
     "execution_count": 67,
     "metadata": {},
     "output_type": "execute_result"
    }
   ],
   "source": [
    "df.loc[df.feeling != df.feeling_auto, ['cleaned_tweet', 'feeling', 'feeling_auto']].iloc[87]"
   ]
  },
  {
   "cell_type": "code",
   "execution_count": 71,
   "id": "2c21f9f3-4a23-4d3f-a74c-18ee1c0da789",
   "metadata": {},
   "outputs": [
    {
     "data": {
      "text/plain": [
       "cleaned_tweet    sorry to miss your textlooks like your evening...\n",
       "feeling                                                          1\n",
       "feeling_auto                                                     0\n",
       "Name: 346, dtype: object"
      ]
     },
     "execution_count": 71,
     "metadata": {},
     "output_type": "execute_result"
    }
   ],
   "source": [
    "df.loc[df.feeling != df.feeling_auto, ['cleaned_tweet', 'feeling', 'feeling_auto']].iloc[99]"
   ]
  },
  {
   "cell_type": "code",
   "execution_count": 74,
   "id": "34dbef5c-8c88-4c5b-877d-b123111343ff",
   "metadata": {},
   "outputs": [
    {
     "data": {
      "text/plain": [
       "cleaned_tweet    playing wit my cuzs i just started waling on m...\n",
       "feeling                                                          1\n",
       "feeling_auto                                                     0\n",
       "Name: 6164, dtype: object"
      ]
     },
     "execution_count": 74,
     "metadata": {},
     "output_type": "execute_result"
    }
   ],
   "source": [
    "df.loc[df.feeling != df.feeling_auto, ['cleaned_tweet', 'feeling', 'feeling_auto']].iloc[1555]"
   ]
  },
  {
   "cell_type": "markdown",
   "id": "6e84e7e4-343a-4af6-965b-481d68f48e4c",
   "metadata": {},
   "source": [
    "**Валидируем без выбросов**"
   ]
  },
  {
   "cell_type": "code",
   "execution_count": 1,
   "id": "445b3553-9156-4ef4-8905-06da72754ba4",
   "metadata": {},
   "outputs": [],
   "source": [
    "# !pip install textblob\n",
    "from textblob import TextBlob\n",
    "import pandas as pd"
   ]
  },
  {
   "cell_type": "code",
   "execution_count": 20,
   "id": "a71c07d8-754b-4719-a2c7-d82eed8fc5e3",
   "metadata": {},
   "outputs": [],
   "source": [
    "df = pd.read_parquet('df_feeling_auto.parquet').loc[:, ['cleaned_tweet', 'feeling_auto', 'feeling']]"
   ]
  },
  {
   "cell_type": "code",
   "execution_count": 21,
   "id": "59c597ce-8112-4402-a061-b50fa9304745",
   "metadata": {},
   "outputs": [
    {
     "data": {
      "text/html": [
       "<div>\n",
       "<style scoped>\n",
       "    .dataframe tbody tr th:only-of-type {\n",
       "        vertical-align: middle;\n",
       "    }\n",
       "\n",
       "    .dataframe tbody tr th {\n",
       "        vertical-align: top;\n",
       "    }\n",
       "\n",
       "    .dataframe thead th {\n",
       "        text-align: right;\n",
       "    }\n",
       "</style>\n",
       "<table border=\"1\" class=\"dataframe\">\n",
       "  <thead>\n",
       "    <tr style=\"text-align: right;\">\n",
       "      <th></th>\n",
       "      <th>cleaned_tweet</th>\n",
       "      <th>feeling_auto</th>\n",
       "      <th>feeling</th>\n",
       "    </tr>\n",
       "  </thead>\n",
       "  <tbody>\n",
       "    <tr>\n",
       "      <th>0</th>\n",
       "      <td>starting back at work today looks like itll be...</td>\n",
       "      <td>0</td>\n",
       "      <td>0</td>\n",
       "    </tr>\n",
       "    <tr>\n",
       "      <th>1</th>\n",
       "      <td>sugar levels dropping munchies setting in luck...</td>\n",
       "      <td>1</td>\n",
       "      <td>1</td>\n",
       "    </tr>\n",
       "    <tr>\n",
       "      <th>2</th>\n",
       "      <td>yeah have a great summer break</td>\n",
       "      <td>1</td>\n",
       "      <td>1</td>\n",
       "    </tr>\n",
       "    <tr>\n",
       "      <th>3</th>\n",
       "      <td>hannah montana was very good now going to read...</td>\n",
       "      <td>1</td>\n",
       "      <td>1</td>\n",
       "    </tr>\n",
       "    <tr>\n",
       "      <th>4</th>\n",
       "      <td>aww have fun i just had my d last week</td>\n",
       "      <td>1</td>\n",
       "      <td>1</td>\n",
       "    </tr>\n",
       "    <tr>\n",
       "      <th>...</th>\n",
       "      <td>...</td>\n",
       "      <td>...</td>\n",
       "      <td>...</td>\n",
       "    </tr>\n",
       "    <tr>\n",
       "      <th>149980</th>\n",
       "      <td>had a great night at tabs but now im missing c...</td>\n",
       "      <td>0</td>\n",
       "      <td>0</td>\n",
       "    </tr>\n",
       "    <tr>\n",
       "      <th>149981</th>\n",
       "      <td>what a night at work church in the morning</td>\n",
       "      <td>1</td>\n",
       "      <td>1</td>\n",
       "    </tr>\n",
       "    <tr>\n",
       "      <th>149982</th>\n",
       "      <td>this book is terrible im used reading all make...</td>\n",
       "      <td>0</td>\n",
       "      <td>0</td>\n",
       "    </tr>\n",
       "    <tr>\n",
       "      <th>149983</th>\n",
       "      <td>updates any i miss your updates guys</td>\n",
       "      <td>1</td>\n",
       "      <td>0</td>\n",
       "    </tr>\n",
       "    <tr>\n",
       "      <th>149984</th>\n",
       "      <td>i agree</td>\n",
       "      <td>1</td>\n",
       "      <td>1</td>\n",
       "    </tr>\n",
       "  </tbody>\n",
       "</table>\n",
       "<p>149985 rows × 3 columns</p>\n",
       "</div>"
      ],
      "text/plain": [
       "                                            cleaned_tweet  feeling_auto  \\\n",
       "0       starting back at work today looks like itll be...             0   \n",
       "1       sugar levels dropping munchies setting in luck...             1   \n",
       "2                          yeah have a great summer break             1   \n",
       "3       hannah montana was very good now going to read...             1   \n",
       "4                  aww have fun i just had my d last week             1   \n",
       "...                                                   ...           ...   \n",
       "149980  had a great night at tabs but now im missing c...             0   \n",
       "149981         what a night at work church in the morning             1   \n",
       "149982  this book is terrible im used reading all make...             0   \n",
       "149983               updates any i miss your updates guys             1   \n",
       "149984                                            i agree             1   \n",
       "\n",
       "        feeling  \n",
       "0             0  \n",
       "1             1  \n",
       "2             1  \n",
       "3             1  \n",
       "4             1  \n",
       "...         ...  \n",
       "149980        0  \n",
       "149981        1  \n",
       "149982        0  \n",
       "149983        0  \n",
       "149984        1  \n",
       "\n",
       "[149985 rows x 3 columns]"
      ]
     },
     "execution_count": 21,
     "metadata": {},
     "output_type": "execute_result"
    }
   ],
   "source": [
    "df"
   ]
  },
  {
   "cell_type": "code",
   "execution_count": 4,
   "id": "82348814-ebb4-45e1-a8fe-d16d159a128e",
   "metadata": {},
   "outputs": [],
   "source": [
    "from sklearn.feature_extraction.text import TfidfVectorizer"
   ]
  },
  {
   "cell_type": "code",
   "execution_count": 5,
   "id": "0f886aad-c7f7-45db-bcf7-f65f7052e99f",
   "metadata": {},
   "outputs": [],
   "source": [
    "tfidf_vectorizer = TfidfVectorizer(max_features=100)"
   ]
  },
  {
   "cell_type": "code",
   "execution_count": 6,
   "id": "d986b354-bfa8-4a73-b2bc-fb40e0de2fd9",
   "metadata": {},
   "outputs": [],
   "source": [
    "tfidf_matrix = tfidf_vectorizer.fit_transform(df.cleaned_tweet).toarray()"
   ]
  },
  {
   "cell_type": "code",
   "execution_count": 7,
   "id": "c00a6fd2-c277-40ab-93fe-31e99586f174",
   "metadata": {},
   "outputs": [],
   "source": [
    "from sklearn.manifold import TSNE"
   ]
  },
  {
   "cell_type": "code",
   "execution_count": 8,
   "id": "ff48a779-2dab-4813-807c-5b5bc48adf39",
   "metadata": {},
   "outputs": [
    {
     "name": "stdout",
     "output_type": "stream",
     "text": [
      "CPU times: user 33min 21s, sys: 1min 57s, total: 35min 19s\n",
      "Wall time: 4min 35s\n"
     ]
    }
   ],
   "source": [
    "%%time\n",
    "tsne = TSNE(n_components=2, random_state=42, perplexity=30, max_iter=300)\n",
    "tsne_result_tfidf = tsne.fit_transform(tfidf_matrix)"
   ]
  },
  {
   "cell_type": "code",
   "execution_count": 41,
   "id": "8c4ef738-1be2-4f4d-b3ab-1a13ab409386",
   "metadata": {},
   "outputs": [
    {
     "data": {
      "text/html": [
       "<div>\n",
       "<style scoped>\n",
       "    .dataframe tbody tr th:only-of-type {\n",
       "        vertical-align: middle;\n",
       "    }\n",
       "\n",
       "    .dataframe tbody tr th {\n",
       "        vertical-align: top;\n",
       "    }\n",
       "\n",
       "    .dataframe thead th {\n",
       "        text-align: right;\n",
       "    }\n",
       "</style>\n",
       "<table border=\"1\" class=\"dataframe\">\n",
       "  <thead>\n",
       "    <tr style=\"text-align: right;\">\n",
       "      <th></th>\n",
       "      <th>Component 1</th>\n",
       "      <th>Component 2</th>\n",
       "    </tr>\n",
       "  </thead>\n",
       "  <tbody>\n",
       "    <tr>\n",
       "      <th>0</th>\n",
       "      <td>5.640377</td>\n",
       "      <td>4.015611</td>\n",
       "    </tr>\n",
       "    <tr>\n",
       "      <th>1</th>\n",
       "      <td>-5.851907</td>\n",
       "      <td>3.167936</td>\n",
       "    </tr>\n",
       "    <tr>\n",
       "      <th>2</th>\n",
       "      <td>-0.190767</td>\n",
       "      <td>-0.220425</td>\n",
       "    </tr>\n",
       "    <tr>\n",
       "      <th>3</th>\n",
       "      <td>3.871474</td>\n",
       "      <td>2.504313</td>\n",
       "    </tr>\n",
       "    <tr>\n",
       "      <th>4</th>\n",
       "      <td>8.264714</td>\n",
       "      <td>1.663213</td>\n",
       "    </tr>\n",
       "    <tr>\n",
       "      <th>...</th>\n",
       "      <td>...</td>\n",
       "      <td>...</td>\n",
       "    </tr>\n",
       "    <tr>\n",
       "      <th>149980</th>\n",
       "      <td>7.838943</td>\n",
       "      <td>2.908100</td>\n",
       "    </tr>\n",
       "    <tr>\n",
       "      <th>149981</th>\n",
       "      <td>9.353568</td>\n",
       "      <td>2.400236</td>\n",
       "    </tr>\n",
       "    <tr>\n",
       "      <th>149982</th>\n",
       "      <td>-2.539329</td>\n",
       "      <td>-1.242003</td>\n",
       "    </tr>\n",
       "    <tr>\n",
       "      <th>149983</th>\n",
       "      <td>3.201050</td>\n",
       "      <td>-9.481975</td>\n",
       "    </tr>\n",
       "    <tr>\n",
       "      <th>149984</th>\n",
       "      <td>0.024497</td>\n",
       "      <td>9.948757</td>\n",
       "    </tr>\n",
       "  </tbody>\n",
       "</table>\n",
       "<p>149985 rows × 2 columns</p>\n",
       "</div>"
      ],
      "text/plain": [
       "        Component 1  Component 2\n",
       "0          5.640377     4.015611\n",
       "1         -5.851907     3.167936\n",
       "2         -0.190767    -0.220425\n",
       "3          3.871474     2.504313\n",
       "4          8.264714     1.663213\n",
       "...             ...          ...\n",
       "149980     7.838943     2.908100\n",
       "149981     9.353568     2.400236\n",
       "149982    -2.539329    -1.242003\n",
       "149983     3.201050    -9.481975\n",
       "149984     0.024497     9.948757\n",
       "\n",
       "[149985 rows x 2 columns]"
      ]
     },
     "execution_count": 41,
     "metadata": {},
     "output_type": "execute_result"
    }
   ],
   "source": [
    "tsne_df = pd.DataFrame(tsne_result_tfidf, columns=['Component 1', 'Component 2'])\n",
    "tsne_df"
   ]
  },
  {
   "cell_type": "code",
   "execution_count": 42,
   "id": "591b5f46-03f0-465c-b8a8-1686bb64ae03",
   "metadata": {},
   "outputs": [],
   "source": [
    "import numpy as np"
   ]
  },
  {
   "cell_type": "code",
   "execution_count": 43,
   "id": "1e9d5229-3ecf-456a-b556-35bb62677df3",
   "metadata": {},
   "outputs": [],
   "source": [
    "outliers_condition1 = (tsne_df['Component 1'] <= tsne_df['Component 1'].quantile(0.97))\n",
    "outliers_condition2 = (tsne_df['Component 1'] >= tsne_df['Component 1'].quantile(0.01))\n",
    "outliers_condition3 = (tsne_df['Component 2'] <= tsne_df['Component 2'].quantile(0.99))\n",
    "outliers_condition4 = (tsne_df['Component 2'] >= tsne_df['Component 2'].quantile(0.01))\n",
    "not_outliers = np.all([outliers_condition1, outliers_condition2, outliers_condition3, outliers_condition4], axis=0)\n",
    "tsne_df = tsne_df.loc[not_outliers, :]"
   ]
  },
  {
   "cell_type": "code",
   "execution_count": 48,
   "id": "0971dd22-05e4-4884-886a-0f6619050cea",
   "metadata": {},
   "outputs": [],
   "source": [
    "df2 = pd.concat([tsne_df, df.loc[not_outliers, ['feeling_auto', 'feeling', 'cleaned_tweet']]], axis=1)"
   ]
  },
  {
   "cell_type": "code",
   "execution_count": 76,
   "id": "00c56511-1b6d-4969-9f67-a85b17cd3bdb",
   "metadata": {},
   "outputs": [],
   "source": [
    "df3 = df2.loc[(df2.feeling != df2.feeling_auto)].iloc[:,2:].sample(50)"
   ]
  },
  {
   "cell_type": "code",
   "execution_count": 110,
   "id": "3fac57a4-7b1e-4230-8038-1fcb2f98d0f2",
   "metadata": {},
   "outputs": [
    {
     "data": {
      "text/plain": [
       "(Index(['feeling_auto', 'feeling', 'cleaned_tweet'], dtype='object'),\n",
       " array([0, 1, 'grrrr i hate subo cmon hollie'], dtype=object))"
      ]
     },
     "execution_count": 110,
     "metadata": {},
     "output_type": "execute_result"
    }
   ],
   "source": [
    "df3.columns, df3.iloc[-15].values"
   ]
  },
  {
   "cell_type": "markdown",
   "id": "343b19db-4b35-409d-87a2-1f1feec581c1",
   "metadata": {},
   "source": [
    "**Разметка Илона Маска**"
   ]
  },
  {
   "cell_type": "code",
   "execution_count": 111,
   "id": "e636d355-3dd1-4a77-89ed-0afdba5de229",
   "metadata": {},
   "outputs": [],
   "source": [
    "df = pd.read_csv('elon_musk_tweets.csv')"
   ]
  },
  {
   "cell_type": "code",
   "execution_count": 113,
   "id": "529d6dfb-d42c-4efc-8c93-af382d922fd7",
   "metadata": {},
   "outputs": [
    {
     "data": {
      "text/plain": [
       "0       @BillyM2k I find the gold toe sock – inevitabl...\n",
       "1                      Sock Con, the conference for socks\n",
       "2       Always something new for the magazine cover an...\n",
       "3                        @ExplainThisBob This guy gets it\n",
       "4       Sock tech is so advanced that you can get pret...\n",
       "                              ...                        \n",
       "5899                       @JonErlichman He’s not wrong …\n",
       "5900    @alifarhat79 Guys, I think I maybe took too mu...\n",
       "5901                                        @sriramk Cool\n",
       "5902                 @cb_doge Time to complete the circle\n",
       "5903           @Jason Late stage civilization complacency\n",
       "Name: text, Length: 5904, dtype: object"
      ]
     },
     "execution_count": 113,
     "metadata": {},
     "output_type": "execute_result"
    }
   ],
   "source": [
    "df.text"
   ]
  },
  {
   "cell_type": "code",
   "execution_count": 114,
   "id": "0c09c1db-5709-4c15-8efd-536740855dfc",
   "metadata": {},
   "outputs": [
    {
     "name": "stderr",
     "output_type": "stream",
     "text": [
      "/opt/homebrew/Caskroom/miniconda/base/envs/course-work-venv/lib/python3.11/site-packages/tqdm/auto.py:21: TqdmWarning: IProgress not found. Please update jupyter and ipywidgets. See https://ipywidgets.readthedocs.io/en/stable/user_install.html\n",
      "  from .autonotebook import tqdm as notebook_tqdm\n"
     ]
    }
   ],
   "source": [
    "from transformers import pipeline"
   ]
  },
  {
   "cell_type": "code",
   "execution_count": 115,
   "id": "9e8a95c3-5ab8-49f5-927e-5f9198b757b6",
   "metadata": {},
   "outputs": [
    {
     "name": "stderr",
     "output_type": "stream",
     "text": [
      "Hardware accelerator e.g. GPU is available in the environment, but no `device` argument is passed to the `Pipeline` object. Model will be on CPU.\n"
     ]
    },
    {
     "name": "stdout",
     "output_type": "stream",
     "text": [
      "[{'label': 'POSITIVE', 'score': 0.9988656044006348}]\n"
     ]
    }
   ],
   "source": [
    "sentiment_analysis = pipeline(\"sentiment-analysis\", model=\"siebert/sentiment-roberta-large-english\")\n",
    "print(sentiment_analysis(\"I love this!\"))"
   ]
  },
  {
   "cell_type": "code",
   "execution_count": 116,
   "id": "9fb3a38d-8672-408a-b650-659d527c7133",
   "metadata": {},
   "outputs": [
    {
     "name": "stdout",
     "output_type": "stream",
     "text": [
      "CPU times: user 46min 7s, sys: 4min 39s, total: 50min 46s\n",
      "Wall time: 12min 44s\n"
     ]
    }
   ],
   "source": [
    "%%time\n",
    "df['feeling_auto'] = df.text.apply(lambda x : 1 if sentiment_analysis(x)[0].get('label') == 'POSITIVE' else 0)"
   ]
  },
  {
   "cell_type": "code",
   "execution_count": 118,
   "id": "31a2e359-8f7c-4aef-8401-7f62670939cb",
   "metadata": {},
   "outputs": [],
   "source": [
    "df.to_parquet('elon_musk_tweets_labeled.parquet')"
   ]
  },
  {
   "cell_type": "markdown",
   "id": "e1a2ffe7-dfb7-44e9-ae9d-c7af5cf0e1c5",
   "metadata": {},
   "source": [
    "**csv**"
   ]
  },
  {
   "cell_type": "code",
   "execution_count": 1,
   "id": "ab82d1b2-2b1f-49a0-817c-a8211cfac129",
   "metadata": {},
   "outputs": [],
   "source": [
    "import pandas as pd"
   ]
  }
 ],
 "metadata": {
  "kernelspec": {
   "display_name": "Python, course work",
   "language": "python",
   "name": "course-work-venv"
  },
  "language_info": {
   "codemirror_mode": {
    "name": "ipython",
    "version": 3
   },
   "file_extension": ".py",
   "mimetype": "text/x-python",
   "name": "python",
   "nbconvert_exporter": "python",
   "pygments_lexer": "ipython3",
   "version": "3.11.10"
  }
 },
 "nbformat": 4,
 "nbformat_minor": 5
}
